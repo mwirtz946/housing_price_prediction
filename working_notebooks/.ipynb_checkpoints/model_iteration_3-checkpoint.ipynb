{
 "cells": [
  {
   "cell_type": "markdown",
   "metadata": {},
   "source": [
    "# IMPORTING"
   ]
  },
  {
   "cell_type": "code",
   "execution_count": 99,
   "metadata": {},
   "outputs": [
    {
     "data": {
      "text/html": [
       "<div>\n",
       "<style scoped>\n",
       "    .dataframe tbody tr th:only-of-type {\n",
       "        vertical-align: middle;\n",
       "    }\n",
       "\n",
       "    .dataframe tbody tr th {\n",
       "        vertical-align: top;\n",
       "    }\n",
       "\n",
       "    .dataframe thead th {\n",
       "        text-align: right;\n",
       "    }\n",
       "</style>\n",
       "<table border=\"1\" class=\"dataframe\">\n",
       "  <thead>\n",
       "    <tr style=\"text-align: right;\">\n",
       "      <th></th>\n",
       "      <th>Unnamed: 0</th>\n",
       "      <th>id</th>\n",
       "      <th>date</th>\n",
       "      <th>price</th>\n",
       "      <th>bedrooms</th>\n",
       "      <th>bathrooms</th>\n",
       "      <th>sqft_living</th>\n",
       "      <th>sqft_lot</th>\n",
       "      <th>floors</th>\n",
       "      <th>waterfront</th>\n",
       "      <th>...</th>\n",
       "      <th>grade</th>\n",
       "      <th>sqft_above</th>\n",
       "      <th>sqft_basement</th>\n",
       "      <th>yr_built</th>\n",
       "      <th>yr_renovated</th>\n",
       "      <th>zipcode</th>\n",
       "      <th>lat</th>\n",
       "      <th>long</th>\n",
       "      <th>sqft_living15</th>\n",
       "      <th>sqft_lot15</th>\n",
       "    </tr>\n",
       "  </thead>\n",
       "  <tbody>\n",
       "    <tr>\n",
       "      <th>0</th>\n",
       "      <td>0</td>\n",
       "      <td>2591820310</td>\n",
       "      <td>20141006T000000</td>\n",
       "      <td>365000.0</td>\n",
       "      <td>4</td>\n",
       "      <td>2.25</td>\n",
       "      <td>2070</td>\n",
       "      <td>8893</td>\n",
       "      <td>2.0</td>\n",
       "      <td>0</td>\n",
       "      <td>...</td>\n",
       "      <td>8</td>\n",
       "      <td>2070</td>\n",
       "      <td>0</td>\n",
       "      <td>1986</td>\n",
       "      <td>0</td>\n",
       "      <td>98058</td>\n",
       "      <td>47.4388</td>\n",
       "      <td>-122.162</td>\n",
       "      <td>2390</td>\n",
       "      <td>7700</td>\n",
       "    </tr>\n",
       "    <tr>\n",
       "      <th>1</th>\n",
       "      <td>1</td>\n",
       "      <td>7974200820</td>\n",
       "      <td>20140821T000000</td>\n",
       "      <td>865000.0</td>\n",
       "      <td>5</td>\n",
       "      <td>3.00</td>\n",
       "      <td>2900</td>\n",
       "      <td>6730</td>\n",
       "      <td>1.0</td>\n",
       "      <td>0</td>\n",
       "      <td>...</td>\n",
       "      <td>8</td>\n",
       "      <td>1830</td>\n",
       "      <td>1070</td>\n",
       "      <td>1977</td>\n",
       "      <td>0</td>\n",
       "      <td>98115</td>\n",
       "      <td>47.6784</td>\n",
       "      <td>-122.285</td>\n",
       "      <td>2370</td>\n",
       "      <td>6283</td>\n",
       "    </tr>\n",
       "  </tbody>\n",
       "</table>\n",
       "<p>2 rows × 22 columns</p>\n",
       "</div>"
      ],
      "text/plain": [
       "   Unnamed: 0          id             date     price  bedrooms  bathrooms  \\\n",
       "0           0  2591820310  20141006T000000  365000.0         4       2.25   \n",
       "1           1  7974200820  20140821T000000  865000.0         5       3.00   \n",
       "\n",
       "   sqft_living  sqft_lot  floors  waterfront  ...  grade  sqft_above  \\\n",
       "0         2070      8893     2.0           0  ...      8        2070   \n",
       "1         2900      6730     1.0           0  ...      8        1830   \n",
       "\n",
       "   sqft_basement  yr_built  yr_renovated  zipcode      lat     long  \\\n",
       "0              0      1986             0    98058  47.4388 -122.162   \n",
       "1           1070      1977             0    98115  47.6784 -122.285   \n",
       "\n",
       "   sqft_living15  sqft_lot15  \n",
       "0           2390        7700  \n",
       "1           2370        6283  \n",
       "\n",
       "[2 rows x 22 columns]"
      ]
     },
     "execution_count": 99,
     "metadata": {},
     "output_type": "execute_result"
    }
   ],
   "source": [
    "import pandas as pd\n",
    "import numpy as np\n",
    "import os\n",
    "from sklearn.model_selection import train_test_split\n",
    "from sklearn.model_selection import StratifiedShuffleSplit\n",
    "from sklearn.preprocessing import OrdinalEncoder\n",
    "from sklearn.preprocessing import OneHotEncoder\n",
    "from sklearn.dummy import DummyRegressor\n",
    "from sklearn.metrics import mean_squared_error\n",
    "from sklearn.linear_model import LinearRegression\n",
    "%matplotlib inline\n",
    "import matplotlib.pyplot as plt\n",
    "import seaborn as sns\n",
    "from statsmodels.formula.api import ols\n",
    "from sklearn.preprocessing import MinMaxScaler\n",
    "from scipy import stats \n",
    "from sklearn.preprocessing import StandardScaler\n",
    "\n",
    "data = pd.read_csv('../kc_house_data_train.csv')\n",
    "data.head(2)"
   ]
  },
  {
   "cell_type": "code",
   "execution_count": 100,
   "metadata": {},
   "outputs": [
    {
     "name": "stdout",
     "output_type": "stream",
     "text": [
      "13832 train + 3458 test\n"
     ]
    }
   ],
   "source": [
    "train_set, test_set = train_test_split(data, test_size=0.2, random_state=42)\n",
    "print(len(train_set), \"train +\", len(test_set), \"test\")"
   ]
  },
  {
   "cell_type": "markdown",
   "metadata": {},
   "source": [
    "# PREPARE DATA FOR MACHINE LEARNING"
   ]
  },
  {
   "cell_type": "markdown",
   "metadata": {},
   "source": [
    "## Data Alterations\n",
    "\n",
    "Dropped Columns: 'Unnamed: 0'; 'id'; 'sqft_lot15'; 'sqft_above'; 'sqft_living15'\n",
    "\n",
    "Date Column: made into three separate columns (date_year, date_month, date_day)\n",
    "\n",
    "Bedroom Column: made into three bins (1: x<q1 2: q1<x<q3 3: x>q3)\n",
    "\n",
    "Bathroom Column: made into three bins (1: x<q1 2: q1<x<q3 3: x>q3)\n",
    "\n",
    "New Columns: \n",
    " - sqft_above_to_living15 = sqft_above / sqft_living15\n",
    " - sqft_lot_bigger = 1 if sqft_lot > sqft_lot15 else 0\n"
   ]
  },
  {
   "cell_type": "code",
   "execution_count": 101,
   "metadata": {},
   "outputs": [],
   "source": [
    "x_train = train_set.drop('price', axis=1)\n",
    "y_train = train_set['price'].copy()"
   ]
  },
  {
   "cell_type": "markdown",
   "metadata": {},
   "source": [
    "#### Column Modification"
   ]
  },
  {
   "cell_type": "code",
   "execution_count": 102,
   "metadata": {},
   "outputs": [
    {
     "data": {
      "text/html": [
       "<div>\n",
       "<style scoped>\n",
       "    .dataframe tbody tr th:only-of-type {\n",
       "        vertical-align: middle;\n",
       "    }\n",
       "\n",
       "    .dataframe tbody tr th {\n",
       "        vertical-align: top;\n",
       "    }\n",
       "\n",
       "    .dataframe thead th {\n",
       "        text-align: right;\n",
       "    }\n",
       "</style>\n",
       "<table border=\"1\" class=\"dataframe\">\n",
       "  <thead>\n",
       "    <tr style=\"text-align: right;\">\n",
       "      <th></th>\n",
       "      <th>Unnamed: 0</th>\n",
       "      <th>id</th>\n",
       "      <th>bedrooms</th>\n",
       "      <th>bathrooms</th>\n",
       "      <th>sqft_living</th>\n",
       "      <th>sqft_lot</th>\n",
       "      <th>floors</th>\n",
       "      <th>waterfront</th>\n",
       "      <th>view</th>\n",
       "      <th>condition</th>\n",
       "      <th>...</th>\n",
       "      <th>zipcode</th>\n",
       "      <th>lat</th>\n",
       "      <th>long</th>\n",
       "      <th>sqft_living15</th>\n",
       "      <th>sqft_lot15</th>\n",
       "      <th>date_year</th>\n",
       "      <th>date_month</th>\n",
       "      <th>date_day</th>\n",
       "      <th>sqft_above_to_living15</th>\n",
       "      <th>sqft_lot_bigger</th>\n",
       "    </tr>\n",
       "  </thead>\n",
       "  <tbody>\n",
       "    <tr>\n",
       "      <th>2498</th>\n",
       "      <td>2498</td>\n",
       "      <td>1776460190</td>\n",
       "      <td>3</td>\n",
       "      <td>2.5</td>\n",
       "      <td>2370</td>\n",
       "      <td>5353</td>\n",
       "      <td>2.0</td>\n",
       "      <td>0</td>\n",
       "      <td>0</td>\n",
       "      <td>3</td>\n",
       "      <td>...</td>\n",
       "      <td>98019</td>\n",
       "      <td>47.7333</td>\n",
       "      <td>-121.975</td>\n",
       "      <td>2130</td>\n",
       "      <td>6850</td>\n",
       "      <td>2014</td>\n",
       "      <td>6</td>\n",
       "      <td>26</td>\n",
       "      <td>1.112676</td>\n",
       "      <td>0</td>\n",
       "    </tr>\n",
       "  </tbody>\n",
       "</table>\n",
       "<p>1 rows × 25 columns</p>\n",
       "</div>"
      ],
      "text/plain": [
       "      Unnamed: 0          id  bedrooms  bathrooms  sqft_living  sqft_lot  \\\n",
       "2498        2498  1776460190         3        2.5         2370      5353   \n",
       "\n",
       "      floors  waterfront  view  condition  ...  zipcode      lat     long  \\\n",
       "2498     2.0           0     0          3  ...    98019  47.7333 -121.975   \n",
       "\n",
       "      sqft_living15  sqft_lot15  date_year  date_month  date_day  \\\n",
       "2498           2130        6850       2014           6        26   \n",
       "\n",
       "      sqft_above_to_living15  sqft_lot_bigger  \n",
       "2498                1.112676                0  \n",
       "\n",
       "[1 rows x 25 columns]"
      ]
     },
     "execution_count": 102,
     "metadata": {},
     "output_type": "execute_result"
    }
   ],
   "source": [
    "prep_x = x_train\n",
    "\n",
    "prep_x['date_year'] = prep_x.date.apply(lambda x: int(x[:4]))\n",
    "prep_x['date_month'] = prep_x.date.apply(lambda x: int(x[4:6]))\n",
    "prep_x['date_day'] = prep_x.date.apply(lambda x: int(x[6:8]))\n",
    "prep_x.drop('date',axis=1, inplace=True)\n",
    "\n",
    "prep_x['sqft_above_to_living15'] = prep_x.sqft_above / prep_x.sqft_living15\n",
    "prep_x['sqft_lot_bigger'] = prep_x.sqft_lot > prep_x.sqft_lot15\n",
    "prep_x['sqft_lot_bigger'] = prep_x['sqft_lot_bigger'].apply(lambda x: int(x))\n",
    "\n",
    "prep_x.head(1)"
   ]
  },
  {
   "cell_type": "code",
   "execution_count": 103,
   "metadata": {},
   "outputs": [],
   "source": [
    "prep_x.bedrooms = prep_x.bedrooms.apply(lambda x: 6 if x>6 else x)"
   ]
  },
  {
   "cell_type": "code",
   "execution_count": 104,
   "metadata": {},
   "outputs": [
    {
     "data": {
      "text/plain": [
       "3    6244\n",
       "4    4388\n",
       "2    1788\n",
       "5    1036\n",
       "6     236\n",
       "1     133\n",
       "0       7\n",
       "Name: bedrooms, dtype: int64"
      ]
     },
     "execution_count": 104,
     "metadata": {},
     "output_type": "execute_result"
    }
   ],
   "source": [
    "prep_x.bedrooms.value_counts()"
   ]
  },
  {
   "cell_type": "code",
   "execution_count": 105,
   "metadata": {},
   "outputs": [
    {
     "data": {
      "text/html": [
       "<div>\n",
       "<style scoped>\n",
       "    .dataframe tbody tr th:only-of-type {\n",
       "        vertical-align: middle;\n",
       "    }\n",
       "\n",
       "    .dataframe tbody tr th {\n",
       "        vertical-align: top;\n",
       "    }\n",
       "\n",
       "    .dataframe thead th {\n",
       "        text-align: right;\n",
       "    }\n",
       "</style>\n",
       "<table border=\"1\" class=\"dataframe\">\n",
       "  <thead>\n",
       "    <tr style=\"text-align: right;\">\n",
       "      <th></th>\n",
       "      <th>Unnamed: 0</th>\n",
       "      <th>id</th>\n",
       "      <th>bedrooms</th>\n",
       "      <th>bathrooms</th>\n",
       "      <th>sqft_living</th>\n",
       "      <th>sqft_lot</th>\n",
       "      <th>floors</th>\n",
       "      <th>waterfront</th>\n",
       "      <th>view</th>\n",
       "      <th>condition</th>\n",
       "      <th>...</th>\n",
       "      <th>zipcode</th>\n",
       "      <th>lat</th>\n",
       "      <th>long</th>\n",
       "      <th>sqft_living15</th>\n",
       "      <th>sqft_lot15</th>\n",
       "      <th>date_year</th>\n",
       "      <th>date_month</th>\n",
       "      <th>date_day</th>\n",
       "      <th>sqft_above_to_living15</th>\n",
       "      <th>sqft_lot_bigger</th>\n",
       "    </tr>\n",
       "  </thead>\n",
       "  <tbody>\n",
       "    <tr>\n",
       "      <th>2498</th>\n",
       "      <td>2498</td>\n",
       "      <td>1776460190</td>\n",
       "      <td>3</td>\n",
       "      <td>2.50</td>\n",
       "      <td>2370</td>\n",
       "      <td>5353</td>\n",
       "      <td>2.0</td>\n",
       "      <td>0</td>\n",
       "      <td>0</td>\n",
       "      <td>3</td>\n",
       "      <td>...</td>\n",
       "      <td>98019</td>\n",
       "      <td>47.7333</td>\n",
       "      <td>-121.975</td>\n",
       "      <td>2130</td>\n",
       "      <td>6850</td>\n",
       "      <td>2014</td>\n",
       "      <td>6</td>\n",
       "      <td>26</td>\n",
       "      <td>1.112676</td>\n",
       "      <td>0</td>\n",
       "    </tr>\n",
       "    <tr>\n",
       "      <th>10932</th>\n",
       "      <td>10932</td>\n",
       "      <td>2144800215</td>\n",
       "      <td>4</td>\n",
       "      <td>1.75</td>\n",
       "      <td>2080</td>\n",
       "      <td>13629</td>\n",
       "      <td>1.0</td>\n",
       "      <td>0</td>\n",
       "      <td>0</td>\n",
       "      <td>4</td>\n",
       "      <td>...</td>\n",
       "      <td>98178</td>\n",
       "      <td>47.4866</td>\n",
       "      <td>-122.232</td>\n",
       "      <td>1780</td>\n",
       "      <td>14659</td>\n",
       "      <td>2014</td>\n",
       "      <td>5</td>\n",
       "      <td>19</td>\n",
       "      <td>0.584270</td>\n",
       "      <td>0</td>\n",
       "    </tr>\n",
       "  </tbody>\n",
       "</table>\n",
       "<p>2 rows × 25 columns</p>\n",
       "</div>"
      ],
      "text/plain": [
       "       Unnamed: 0          id  bedrooms  bathrooms  sqft_living  sqft_lot  \\\n",
       "2498         2498  1776460190         3       2.50         2370      5353   \n",
       "10932       10932  2144800215         4       1.75         2080     13629   \n",
       "\n",
       "       floors  waterfront  view  condition  ...  zipcode      lat     long  \\\n",
       "2498      2.0           0     0          3  ...    98019  47.7333 -121.975   \n",
       "10932     1.0           0     0          4  ...    98178  47.4866 -122.232   \n",
       "\n",
       "       sqft_living15  sqft_lot15  date_year  date_month  date_day  \\\n",
       "2498            2130        6850       2014           6        26   \n",
       "10932           1780       14659       2014           5        19   \n",
       "\n",
       "       sqft_above_to_living15  sqft_lot_bigger  \n",
       "2498                 1.112676                0  \n",
       "10932                0.584270                0  \n",
       "\n",
       "[2 rows x 25 columns]"
      ]
     },
     "execution_count": 105,
     "metadata": {},
     "output_type": "execute_result"
    }
   ],
   "source": [
    "prep_x.head(2)"
   ]
  },
  {
   "cell_type": "code",
   "execution_count": 106,
   "metadata": {},
   "outputs": [],
   "source": [
    "def series_quartile(x):\n",
    "    if x <= 1.5:\n",
    "        return 0\n",
    "    elif x > 1.5 and x <= 2.5:\n",
    "        return 1\n",
    "    else:\n",
    "        return 2\n",
    "\n",
    "prep_x['bathrooms'] = prep_x.bathrooms.apply(lambda x: series_quartile(x))"
   ]
  },
  {
   "cell_type": "code",
   "execution_count": 107,
   "metadata": {},
   "outputs": [
    {
     "data": {
      "text/html": [
       "<div>\n",
       "<style scoped>\n",
       "    .dataframe tbody tr th:only-of-type {\n",
       "        vertical-align: middle;\n",
       "    }\n",
       "\n",
       "    .dataframe tbody tr th {\n",
       "        vertical-align: top;\n",
       "    }\n",
       "\n",
       "    .dataframe thead th {\n",
       "        text-align: right;\n",
       "    }\n",
       "</style>\n",
       "<table border=\"1\" class=\"dataframe\">\n",
       "  <thead>\n",
       "    <tr style=\"text-align: right;\">\n",
       "      <th></th>\n",
       "      <th>Unnamed: 0</th>\n",
       "      <th>id</th>\n",
       "      <th>bedrooms</th>\n",
       "      <th>bathrooms</th>\n",
       "      <th>sqft_living</th>\n",
       "      <th>sqft_lot</th>\n",
       "      <th>floors</th>\n",
       "      <th>waterfront</th>\n",
       "      <th>view</th>\n",
       "      <th>condition</th>\n",
       "      <th>...</th>\n",
       "      <th>zipcode</th>\n",
       "      <th>lat</th>\n",
       "      <th>long</th>\n",
       "      <th>sqft_living15</th>\n",
       "      <th>sqft_lot15</th>\n",
       "      <th>date_year</th>\n",
       "      <th>date_month</th>\n",
       "      <th>date_day</th>\n",
       "      <th>sqft_above_to_living15</th>\n",
       "      <th>sqft_lot_bigger</th>\n",
       "    </tr>\n",
       "  </thead>\n",
       "  <tbody>\n",
       "    <tr>\n",
       "      <th>2498</th>\n",
       "      <td>2498</td>\n",
       "      <td>1776460190</td>\n",
       "      <td>3</td>\n",
       "      <td>1</td>\n",
       "      <td>2370</td>\n",
       "      <td>5353</td>\n",
       "      <td>2.0</td>\n",
       "      <td>0</td>\n",
       "      <td>0</td>\n",
       "      <td>3</td>\n",
       "      <td>...</td>\n",
       "      <td>98019</td>\n",
       "      <td>47.7333</td>\n",
       "      <td>-121.975</td>\n",
       "      <td>2130</td>\n",
       "      <td>6850</td>\n",
       "      <td>2014</td>\n",
       "      <td>6</td>\n",
       "      <td>26</td>\n",
       "      <td>1.112676</td>\n",
       "      <td>0</td>\n",
       "    </tr>\n",
       "    <tr>\n",
       "      <th>10932</th>\n",
       "      <td>10932</td>\n",
       "      <td>2144800215</td>\n",
       "      <td>4</td>\n",
       "      <td>1</td>\n",
       "      <td>2080</td>\n",
       "      <td>13629</td>\n",
       "      <td>1.0</td>\n",
       "      <td>0</td>\n",
       "      <td>0</td>\n",
       "      <td>4</td>\n",
       "      <td>...</td>\n",
       "      <td>98178</td>\n",
       "      <td>47.4866</td>\n",
       "      <td>-122.232</td>\n",
       "      <td>1780</td>\n",
       "      <td>14659</td>\n",
       "      <td>2014</td>\n",
       "      <td>5</td>\n",
       "      <td>19</td>\n",
       "      <td>0.584270</td>\n",
       "      <td>0</td>\n",
       "    </tr>\n",
       "  </tbody>\n",
       "</table>\n",
       "<p>2 rows × 25 columns</p>\n",
       "</div>"
      ],
      "text/plain": [
       "       Unnamed: 0          id  bedrooms  bathrooms  sqft_living  sqft_lot  \\\n",
       "2498         2498  1776460190         3          1         2370      5353   \n",
       "10932       10932  2144800215         4          1         2080     13629   \n",
       "\n",
       "       floors  waterfront  view  condition  ...  zipcode      lat     long  \\\n",
       "2498      2.0           0     0          3  ...    98019  47.7333 -121.975   \n",
       "10932     1.0           0     0          4  ...    98178  47.4866 -122.232   \n",
       "\n",
       "       sqft_living15  sqft_lot15  date_year  date_month  date_day  \\\n",
       "2498            2130        6850       2014           6        26   \n",
       "10932           1780       14659       2014           5        19   \n",
       "\n",
       "       sqft_above_to_living15  sqft_lot_bigger  \n",
       "2498                 1.112676                0  \n",
       "10932                0.584270                0  \n",
       "\n",
       "[2 rows x 25 columns]"
      ]
     },
     "execution_count": 107,
     "metadata": {},
     "output_type": "execute_result"
    }
   ],
   "source": [
    "prep_x.head(2)"
   ]
  },
  {
   "cell_type": "markdown",
   "metadata": {},
   "source": [
    "#### Dropping Columns"
   ]
  },
  {
   "cell_type": "code",
   "execution_count": 108,
   "metadata": {},
   "outputs": [
    {
     "data": {
      "text/html": [
       "<div>\n",
       "<style scoped>\n",
       "    .dataframe tbody tr th:only-of-type {\n",
       "        vertical-align: middle;\n",
       "    }\n",
       "\n",
       "    .dataframe tbody tr th {\n",
       "        vertical-align: top;\n",
       "    }\n",
       "\n",
       "    .dataframe thead th {\n",
       "        text-align: right;\n",
       "    }\n",
       "</style>\n",
       "<table border=\"1\" class=\"dataframe\">\n",
       "  <thead>\n",
       "    <tr style=\"text-align: right;\">\n",
       "      <th></th>\n",
       "      <th>bedrooms</th>\n",
       "      <th>bathrooms</th>\n",
       "      <th>sqft_living</th>\n",
       "      <th>sqft_lot</th>\n",
       "      <th>floors</th>\n",
       "      <th>waterfront</th>\n",
       "      <th>view</th>\n",
       "      <th>condition</th>\n",
       "      <th>grade</th>\n",
       "      <th>sqft_basement</th>\n",
       "      <th>yr_built</th>\n",
       "      <th>yr_renovated</th>\n",
       "      <th>zipcode</th>\n",
       "      <th>lat</th>\n",
       "      <th>long</th>\n",
       "      <th>date_year</th>\n",
       "      <th>date_month</th>\n",
       "      <th>date_day</th>\n",
       "      <th>sqft_above_to_living15</th>\n",
       "      <th>sqft_lot_bigger</th>\n",
       "    </tr>\n",
       "  </thead>\n",
       "  <tbody>\n",
       "    <tr>\n",
       "      <th>2498</th>\n",
       "      <td>3</td>\n",
       "      <td>1</td>\n",
       "      <td>2370</td>\n",
       "      <td>5353</td>\n",
       "      <td>2.0</td>\n",
       "      <td>0</td>\n",
       "      <td>0</td>\n",
       "      <td>3</td>\n",
       "      <td>8</td>\n",
       "      <td>0</td>\n",
       "      <td>2009</td>\n",
       "      <td>0</td>\n",
       "      <td>98019</td>\n",
       "      <td>47.7333</td>\n",
       "      <td>-121.975</td>\n",
       "      <td>2014</td>\n",
       "      <td>6</td>\n",
       "      <td>26</td>\n",
       "      <td>1.112676</td>\n",
       "      <td>0</td>\n",
       "    </tr>\n",
       "    <tr>\n",
       "      <th>10932</th>\n",
       "      <td>4</td>\n",
       "      <td>1</td>\n",
       "      <td>2080</td>\n",
       "      <td>13629</td>\n",
       "      <td>1.0</td>\n",
       "      <td>0</td>\n",
       "      <td>0</td>\n",
       "      <td>4</td>\n",
       "      <td>7</td>\n",
       "      <td>1040</td>\n",
       "      <td>1955</td>\n",
       "      <td>0</td>\n",
       "      <td>98178</td>\n",
       "      <td>47.4866</td>\n",
       "      <td>-122.232</td>\n",
       "      <td>2014</td>\n",
       "      <td>5</td>\n",
       "      <td>19</td>\n",
       "      <td>0.584270</td>\n",
       "      <td>0</td>\n",
       "    </tr>\n",
       "  </tbody>\n",
       "</table>\n",
       "</div>"
      ],
      "text/plain": [
       "       bedrooms  bathrooms  sqft_living  sqft_lot  floors  waterfront  view  \\\n",
       "2498          3          1         2370      5353     2.0           0     0   \n",
       "10932         4          1         2080     13629     1.0           0     0   \n",
       "\n",
       "       condition  grade  sqft_basement  yr_built  yr_renovated  zipcode  \\\n",
       "2498           3      8              0      2009             0    98019   \n",
       "10932          4      7           1040      1955             0    98178   \n",
       "\n",
       "           lat     long  date_year  date_month  date_day  \\\n",
       "2498   47.7333 -121.975       2014           6        26   \n",
       "10932  47.4866 -122.232       2014           5        19   \n",
       "\n",
       "       sqft_above_to_living15  sqft_lot_bigger  \n",
       "2498                 1.112676                0  \n",
       "10932                0.584270                0  "
      ]
     },
     "execution_count": 108,
     "metadata": {},
     "output_type": "execute_result"
    }
   ],
   "source": [
    "prep_x = prep_x.drop(columns = ['Unnamed: 0','id','sqft_lot15','sqft_above','sqft_living15'])\n",
    "\n",
    "prep_x.head(2)"
   ]
  },
  {
   "cell_type": "markdown",
   "metadata": {},
   "source": [
    "# LINEAR REGRESSION"
   ]
  },
  {
   "cell_type": "code",
   "execution_count": 109,
   "metadata": {},
   "outputs": [
    {
     "data": {
      "text/plain": [
       "LinearRegression(copy_X=True, fit_intercept=True, n_jobs=None, normalize=False)"
      ]
     },
     "execution_count": 109,
     "metadata": {},
     "output_type": "execute_result"
    }
   ],
   "source": [
    "x_train = prep_x\n",
    "\n",
    "lr = LinearRegression()\n",
    "\n",
    "lr.fit(x_train, y_train)"
   ]
  },
  {
   "cell_type": "code",
   "execution_count": 110,
   "metadata": {},
   "outputs": [],
   "source": [
    "def array_to_dict(labels,coeffs):\n",
    "    '''\n",
    "    This function takes two arrays as arguments and turns those \n",
    "    arrays into a dictionary so that it is easier to interpret the \n",
    "    coefficients from the sklearn analysis\n",
    "    '''\n",
    "    one_list = list(labels)\n",
    "    two_list = list(coeffs)\n",
    "    res = {} \n",
    "    for key in two_list: \n",
    "        for name in one_list: \n",
    "            res[key] = name \n",
    "            one_list.remove(name) \n",
    "            break \n",
    "    return res"
   ]
  },
  {
   "cell_type": "code",
   "execution_count": 111,
   "metadata": {},
   "outputs": [
    {
     "data": {
      "text/plain": [
       "{'bedrooms': -34745.68215351098,\n",
       " 'bathrooms': 165.2894263320794,\n",
       " 'sqft_living': 233.14180573915888,\n",
       " 'sqft_lot': -0.022219952180359128,\n",
       " 'floors': 20707.54814120738,\n",
       " 'waterfront': 579726.5906951467,\n",
       " 'view': 52059.1406737313,\n",
       " 'condition': 32499.502969490943,\n",
       " 'grade': 94945.61272968407,\n",
       " 'sqft_basement': -53.57831344349128,\n",
       " 'yr_built': -2309.457689280643,\n",
       " 'yr_renovated': 26.53692431641653,\n",
       " 'zipcode': -576.0557833368589,\n",
       " 'lat': 604047.255586731,\n",
       " 'long': -235894.88745034905,\n",
       " 'date_year': 38989.84302137165,\n",
       " 'date_month': 1468.1906833189703,\n",
       " 'date_day': -222.84618818824805,\n",
       " 'sqft_above_to_living15': -67177.00331504074,\n",
       " 'sqft_lot_bigger': -10098.966345031637}"
      ]
     },
     "execution_count": 111,
     "metadata": {},
     "output_type": "execute_result"
    }
   ],
   "source": [
    "coefficients = lr.coef_\n",
    "variables = np.array(prep_x.columns)\n",
    "\n",
    "array_to_dict(coefficients, variables)"
   ]
  },
  {
   "cell_type": "code",
   "execution_count": 112,
   "metadata": {},
   "outputs": [
    {
     "data": {
      "text/plain": [
       "-75687739.13135213"
      ]
     },
     "execution_count": 112,
     "metadata": {},
     "output_type": "execute_result"
    }
   ],
   "source": [
    "lr.intercept_"
   ]
  },
  {
   "cell_type": "code",
   "execution_count": 113,
   "metadata": {},
   "outputs": [],
   "source": [
    "y_pred = lr.predict(x_train)"
   ]
  },
  {
   "cell_type": "code",
   "execution_count": 114,
   "metadata": {},
   "outputs": [
    {
     "data": {
      "text/plain": [
       "0.6980168325109959"
      ]
     },
     "execution_count": 114,
     "metadata": {},
     "output_type": "execute_result"
    }
   ],
   "source": [
    "lr.score(x_train, y_train)"
   ]
  },
  {
   "cell_type": "code",
   "execution_count": 115,
   "metadata": {},
   "outputs": [
    {
     "data": {
      "text/plain": [
       "'$206,287.28'"
      ]
     },
     "execution_count": 115,
     "metadata": {},
     "output_type": "execute_result"
    }
   ],
   "source": [
    "lr_rsme = mean_squared_error(y_train, y_pred)\n",
    "lr_rmse = np.sqrt(lr_rsme)\n",
    "\n",
    "rmse_dollars = '${:,.2f}'.format(lr_rmse)\n",
    "rmse_dollars"
   ]
  },
  {
   "cell_type": "code",
   "execution_count": null,
   "metadata": {},
   "outputs": [],
   "source": []
  }
 ],
 "metadata": {
  "kernelspec": {
   "display_name": "learn-env",
   "language": "python",
   "name": "learn-env"
  },
  "language_info": {
   "codemirror_mode": {
    "name": "ipython",
    "version": 3
   },
   "file_extension": ".py",
   "mimetype": "text/x-python",
   "name": "python",
   "nbconvert_exporter": "python",
   "pygments_lexer": "ipython3",
   "version": "3.6.9"
  }
 },
 "nbformat": 4,
 "nbformat_minor": 4
}
