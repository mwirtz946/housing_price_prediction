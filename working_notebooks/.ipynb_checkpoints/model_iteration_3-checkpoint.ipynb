{
 "cells": [
  {
   "cell_type": "markdown",
   "metadata": {},
   "source": [
    "# IMPORTING"
   ]
  },
  {
   "cell_type": "code",
   "execution_count": 248,
   "metadata": {},
   "outputs": [],
   "source": [
    "import pandas as pd\n",
    "import numpy as np\n",
    "import os\n",
    "\n",
    "from sklearn.model_selection import train_test_split\n",
    "from sklearn.model_selection import StratifiedShuffleSplit\n",
    "from sklearn.preprocessing import OrdinalEncoder\n",
    "from sklearn.preprocessing import OneHotEncoder\n",
    "from sklearn.dummy import DummyRegressor\n",
    "from sklearn.metrics import mean_squared_error\n",
    "from sklearn.linear_model import LinearRegression\n",
    "from sklearn.preprocessing import StandardScaler\n",
    "\n",
    "%matplotlib inline\n",
    "import matplotlib.pyplot as plt\n",
    "import seaborn as sns\n",
    "\n",
    "from scipy import stats\n",
    "\n",
    "import statsmodels.api as sm\n",
    "from statsmodels.stats import diagnostic as diag\n",
    "from statsmodels.stats.outliers_influence import variance_inflation_factor\n",
    "from statsmodels.formula.api import ols"
   ]
  },
  {
   "cell_type": "code",
   "execution_count": 249,
   "metadata": {},
   "outputs": [],
   "source": [
    "%store -r data_2"
   ]
  },
  {
   "cell_type": "markdown",
   "metadata": {},
   "source": [
    "# Alterations: Engineered"
   ]
  },
  {
   "cell_type": "code",
   "execution_count": 253,
   "metadata": {},
   "outputs": [],
   "source": [
    "data_3 = data_2"
   ]
  },
  {
   "cell_type": "code",
   "execution_count": 254,
   "metadata": {},
   "outputs": [],
   "source": [
    "data_3['binary_reno'] = data_2.yr_renovated"
   ]
  },
  {
   "cell_type": "code",
   "execution_count": 255,
   "metadata": {},
   "outputs": [],
   "source": [
    "#Whether or not the house has been renovated, regardless of year\n",
    "data_3.binary_reno = data_2.binary_reno.apply(lambda x: 1 if x != 0 else 0)"
   ]
  },
  {
   "cell_type": "code",
   "execution_count": 256,
   "metadata": {},
   "outputs": [
    {
     "data": {
      "text/plain": [
       "array([0, 1])"
      ]
     },
     "execution_count": 256,
     "metadata": {},
     "output_type": "execute_result"
    }
   ],
   "source": [
    "data_3.binary_reno.unique()"
   ]
  },
  {
   "cell_type": "code",
   "execution_count": 257,
   "metadata": {},
   "outputs": [],
   "source": [
    "#Combining renovation and number of floors as sqft_living multiplier\n",
    "data_3['floor_reno_mult'] = ((data_3.binary_reno + 1) * (data_3.floors)) * data_3.sqft_living"
   ]
  },
  {
   "cell_type": "code",
   "execution_count": 258,
   "metadata": {},
   "outputs": [],
   "source": [
    "data_3 = data_3.drop(columns = 'binary_reno')"
   ]
  },
  {
   "cell_type": "markdown",
   "metadata": {},
   "source": [
    "# Scaling"
   ]
  },
  {
   "cell_type": "code",
   "execution_count": 289,
   "metadata": {},
   "outputs": [],
   "source": [
    "scale_data_3 = data_3"
   ]
  },
  {
   "cell_type": "code",
   "execution_count": 290,
   "metadata": {},
   "outputs": [],
   "source": [
    "ss = StandardScaler()"
   ]
  },
  {
   "cell_type": "code",
   "execution_count": 291,
   "metadata": {},
   "outputs": [],
   "source": [
    "x_columns = list(scale_data_3.columns)\n",
    "X=scale_data_3[x_columns]"
   ]
  },
  {
   "cell_type": "code",
   "execution_count": 292,
   "metadata": {},
   "outputs": [],
   "source": [
    "X_scaled = ss.fit_transform(X)"
   ]
  },
  {
   "cell_type": "code",
   "execution_count": 293,
   "metadata": {},
   "outputs": [
    {
     "data": {
      "text/plain": [
       "Index(['price', 'bedrooms', 'bathrooms', 'sqft_living', 'sqft_lot', 'floors',\n",
       "       'waterfront', 'view', 'condition', 'grade', 'sqft_above',\n",
       "       'sqft_basement', 'yr_built', 'yr_renovated', 'zipcode', 'lat', 'long',\n",
       "       'sqft_living15', 'sqft_lot15', 'date_year', 'date_month', 'date_day',\n",
       "       'rel_to_neighbors', 'size_quality', 'property_score',\n",
       "       'floor_reno_mult'],\n",
       "      dtype='object')"
      ]
     },
     "execution_count": 293,
     "metadata": {},
     "output_type": "execute_result"
    }
   ],
   "source": [
    "scale_data_3.columns"
   ]
  },
  {
   "cell_type": "code",
   "execution_count": 294,
   "metadata": {},
   "outputs": [],
   "source": [
    "scale_data_3['scaled_price'] = X_scaled[:, 0]\n",
    "scale_data_3['scaled_bedrooms'] = X_scaled[:, 1]\n",
    "scale_data_3['scaled_bathrooms'] = X_scaled[:, 2]\n",
    "scale_data_3['scaled_sqft_living'] = X_scaled[:, 3]\n",
    "scale_data_3['scaled_sqft_lot'] = X_scaled[:, 4]\n",
    "scale_data_3['scaled_floors'] = X_scaled[:, 5]\n",
    "scale_data_3['scaled_waterfront'] = X_scaled[:, 6]\n",
    "scale_data_3['scaled_view'] = X_scaled[:, 7]\n",
    "scale_data_3['scaled_condition'] = X_scaled[:, 8]\n",
    "scale_data_3['scaled_grade'] = X_scaled[:, 9]\n",
    "scale_data_3['scaled_sqft_above'] = X_scaled[:, 10]\n",
    "scale_data_3['scaled_sqft_living15'] = X_scaled[:, 11]\n",
    "scale_data_3['scaled_sqft_lot15'] = X_scaled[:, 12]\n",
    "scale_data_3['scaled_date_year'] = X_scaled[:, 13]\n",
    "scale_data_3['scaled_date_month'] = X_scaled[:, 14]\n",
    "scale_data_3['scaled_date_day'] = X_scaled[:, 15]\n",
    "scale_data_3['scaled_rel_to_neighbors'] = X_scaled[:, 16]\n",
    "scale_data_3['scaled_size_quality'] = X_scaled[:, 17]\n",
    "scale_data_3['scaled_property_score'] = X_scaled[:, 18]\n",
    "scale_data_3['scaled_floor_reno_mult'] = X_scaled[:, 19]"
   ]
  },
  {
   "cell_type": "code",
   "execution_count": 295,
   "metadata": {
    "scrolled": true
   },
   "outputs": [
    {
     "data": {
      "text/plain": [
       "Index(['price', 'bedrooms', 'bathrooms', 'sqft_living', 'sqft_lot', 'floors',\n",
       "       'waterfront', 'view', 'condition', 'grade', 'sqft_above',\n",
       "       'sqft_basement', 'yr_built', 'yr_renovated', 'zipcode', 'lat', 'long',\n",
       "       'sqft_living15', 'sqft_lot15', 'date_year', 'date_month', 'date_day',\n",
       "       'rel_to_neighbors', 'size_quality', 'property_score', 'floor_reno_mult',\n",
       "       'scaled_price', 'scaled_bedrooms', 'scaled_bathrooms',\n",
       "       'scaled_sqft_living', 'scaled_sqft_lot', 'scaled_floors',\n",
       "       'scaled_waterfront', 'scaled_view', 'scaled_condition', 'scaled_grade',\n",
       "       'scaled_sqft_above', 'scaled_sqft_living15', 'scaled_sqft_lot15',\n",
       "       'scaled_date_year', 'scaled_date_month', 'scaled_date_day',\n",
       "       'scaled_rel_to_neighbors', 'scaled_size_quality',\n",
       "       'scaled_property_score', 'scaled_floor_reno_mult'],\n",
       "      dtype='object')"
      ]
     },
     "execution_count": 295,
     "metadata": {},
     "output_type": "execute_result"
    }
   ],
   "source": [
    "data_3.columns #WHYYYYY"
   ]
  },
  {
   "cell_type": "code",
   "execution_count": 296,
   "metadata": {},
   "outputs": [],
   "source": [
    "lr_scaled = ols(formula='price~scaled_bedrooms+scaled_bathrooms+scaled_sqft_living+scaled_sqft_lot+scaled_floors+scaled_waterfront+scaled_view+scaled_condition+scaled_grade+scaled_sqft_above+scaled_sqft_living15+scaled_sqft_lot15+scaled_date_year+scaled_date_month+scaled_date_day+scaled_rel_to_neighbors+scaled_size_quality+scaled_property_score+scaled_floor_reno_mult', data=scale_data_3).fit()"
   ]
  },
  {
   "cell_type": "code",
   "execution_count": 297,
   "metadata": {},
   "outputs": [
    {
     "data": {
      "text/html": [
       "<table class=\"simpletable\">\n",
       "<caption>OLS Regression Results</caption>\n",
       "<tr>\n",
       "  <th>Dep. Variable:</th>          <td>price</td>      <th>  R-squared:         </th>  <td>   0.696</td>  \n",
       "</tr>\n",
       "<tr>\n",
       "  <th>Model:</th>                   <td>OLS</td>       <th>  Adj. R-squared:    </th>  <td>   0.696</td>  \n",
       "</tr>\n",
       "<tr>\n",
       "  <th>Method:</th>             <td>Least Squares</td>  <th>  F-statistic:       </th>  <td>   2329.</td>  \n",
       "</tr>\n",
       "<tr>\n",
       "  <th>Date:</th>             <td>Mon, 19 Oct 2020</td> <th>  Prob (F-statistic):</th>   <td>  0.00</td>   \n",
       "</tr>\n",
       "<tr>\n",
       "  <th>Time:</th>                 <td>22:07:39</td>     <th>  Log-Likelihood:    </th> <td>-2.3605e+05</td>\n",
       "</tr>\n",
       "<tr>\n",
       "  <th>No. Observations:</th>      <td> 17289</td>      <th>  AIC:               </th>  <td>4.721e+05</td> \n",
       "</tr>\n",
       "<tr>\n",
       "  <th>Df Residuals:</th>          <td> 17271</td>      <th>  BIC:               </th>  <td>4.723e+05</td> \n",
       "</tr>\n",
       "<tr>\n",
       "  <th>Df Model:</th>              <td>    17</td>      <th>                     </th>      <td> </td>     \n",
       "</tr>\n",
       "<tr>\n",
       "  <th>Covariance Type:</th>      <td>nonrobust</td>    <th>                     </th>      <td> </td>     \n",
       "</tr>\n",
       "</table>\n",
       "<table class=\"simpletable\">\n",
       "<tr>\n",
       "             <td></td>                <th>coef</th>     <th>std err</th>      <th>t</th>      <th>P>|t|</th>  <th>[0.025</th>    <th>0.975]</th>  \n",
       "</tr>\n",
       "<tr>\n",
       "  <th>Intercept</th>               <td> 5.408e+05</td> <td> 1565.472</td> <td>  345.431</td> <td> 0.000</td> <td> 5.38e+05</td> <td> 5.44e+05</td>\n",
       "</tr>\n",
       "<tr>\n",
       "  <th>scaled_bedrooms</th>         <td>-3.536e+04</td> <td> 2031.832</td> <td>  -17.404</td> <td> 0.000</td> <td>-3.93e+04</td> <td>-3.14e+04</td>\n",
       "</tr>\n",
       "<tr>\n",
       "  <th>scaled_bathrooms</th>        <td> 3.365e+04</td> <td> 2864.631</td> <td>   11.745</td> <td> 0.000</td> <td>  2.8e+04</td> <td> 3.93e+04</td>\n",
       "</tr>\n",
       "<tr>\n",
       "  <th>scaled_sqft_living</th>      <td> 8.495e+04</td> <td> 1824.057</td> <td>   46.575</td> <td> 0.000</td> <td> 8.14e+04</td> <td> 8.85e+04</td>\n",
       "</tr>\n",
       "<tr>\n",
       "  <th>scaled_sqft_lot</th>         <td> 4117.9338</td> <td> 2216.874</td> <td>    1.858</td> <td> 0.063</td> <td> -227.363</td> <td> 8463.231</td>\n",
       "</tr>\n",
       "<tr>\n",
       "  <th>scaled_floors</th>           <td>  -89.7262</td> <td> 2203.600</td> <td>   -0.041</td> <td> 0.968</td> <td>-4409.006</td> <td> 4229.553</td>\n",
       "</tr>\n",
       "<tr>\n",
       "  <th>scaled_waterfront</th>       <td> 5.314e+04</td> <td> 1723.623</td> <td>   30.828</td> <td> 0.000</td> <td> 4.98e+04</td> <td> 5.65e+04</td>\n",
       "</tr>\n",
       "<tr>\n",
       "  <th>scaled_view</th>             <td> 3.748e+04</td> <td> 1870.929</td> <td>   20.031</td> <td> 0.000</td> <td> 3.38e+04</td> <td> 4.11e+04</td>\n",
       "</tr>\n",
       "<tr>\n",
       "  <th>scaled_condition</th>        <td> 2.089e+04</td> <td> 1736.295</td> <td>   12.033</td> <td> 0.000</td> <td> 1.75e+04</td> <td> 2.43e+04</td>\n",
       "</tr>\n",
       "<tr>\n",
       "  <th>scaled_grade</th>            <td> 1.136e+05</td> <td> 2900.846</td> <td>   39.154</td> <td> 0.000</td> <td> 1.08e+05</td> <td> 1.19e+05</td>\n",
       "</tr>\n",
       "<tr>\n",
       "  <th>scaled_sqft_above</th>       <td>  7.96e+04</td> <td> 1953.706</td> <td>   40.745</td> <td> 0.000</td> <td> 7.58e+04</td> <td> 8.34e+04</td>\n",
       "</tr>\n",
       "<tr>\n",
       "  <th>scaled_sqft_living15</th>    <td> 2.741e+04</td> <td> 1781.311</td> <td>   15.385</td> <td> 0.000</td> <td> 2.39e+04</td> <td> 3.09e+04</td>\n",
       "</tr>\n",
       "<tr>\n",
       "  <th>scaled_sqft_lot15</th>       <td>-7.359e+04</td> <td> 2410.786</td> <td>  -30.524</td> <td> 0.000</td> <td>-7.83e+04</td> <td>-6.89e+04</td>\n",
       "</tr>\n",
       "<tr>\n",
       "  <th>scaled_date_year</th>        <td> 7773.7419</td> <td> 1676.646</td> <td>    4.636</td> <td> 0.000</td> <td> 4487.347</td> <td> 1.11e+04</td>\n",
       "</tr>\n",
       "<tr>\n",
       "  <th>scaled_date_month</th>       <td>-1.703e-11</td> <td> 9.09e-13</td> <td>  -18.732</td> <td> 0.000</td> <td>-1.88e-11</td> <td>-1.52e-11</td>\n",
       "</tr>\n",
       "<tr>\n",
       "  <th>scaled_date_day</th>         <td> 7.772e+04</td> <td> 1656.849</td> <td>   46.910</td> <td> 0.000</td> <td> 7.45e+04</td> <td>  8.1e+04</td>\n",
       "</tr>\n",
       "<tr>\n",
       "  <th>scaled_rel_to_neighbors</th> <td>-1.774e+04</td> <td> 1905.959</td> <td>   -9.309</td> <td> 0.000</td> <td>-2.15e+04</td> <td> -1.4e+04</td>\n",
       "</tr>\n",
       "<tr>\n",
       "  <th>scaled_size_quality</th>     <td> 1.872e+04</td> <td> 2688.372</td> <td>    6.964</td> <td> 0.000</td> <td> 1.35e+04</td> <td>  2.4e+04</td>\n",
       "</tr>\n",
       "<tr>\n",
       "  <th>scaled_property_score</th>   <td>-9068.3568</td> <td> 2237.083</td> <td>   -4.054</td> <td> 0.000</td> <td>-1.35e+04</td> <td>-4683.448</td>\n",
       "</tr>\n",
       "<tr>\n",
       "  <th>scaled_floor_reno_mult</th>  <td> 1.362e+04</td> <td> 1570.151</td> <td>    8.677</td> <td> 0.000</td> <td> 1.05e+04</td> <td> 1.67e+04</td>\n",
       "</tr>\n",
       "</table>\n",
       "<table class=\"simpletable\">\n",
       "<tr>\n",
       "  <th>Omnibus:</th>       <td>15386.622</td> <th>  Durbin-Watson:     </th>  <td>   1.999</td>  \n",
       "</tr>\n",
       "<tr>\n",
       "  <th>Prob(Omnibus):</th>  <td> 0.000</td>   <th>  Jarque-Bera (JB):  </th> <td>1749257.343</td>\n",
       "</tr>\n",
       "<tr>\n",
       "  <th>Skew:</th>           <td> 3.809</td>   <th>  Prob(JB):          </th>  <td>    0.00</td>  \n",
       "</tr>\n",
       "<tr>\n",
       "  <th>Kurtosis:</th>       <td>51.685</td>   <th>  Cond. No.          </th>  <td>1.69e+17</td>  \n",
       "</tr>\n",
       "</table><br/><br/>Warnings:<br/>[1] Standard Errors assume that the covariance matrix of the errors is correctly specified.<br/>[2] The smallest eigenvalue is 3.11e-30. This might indicate that there are<br/>strong multicollinearity problems or that the design matrix is singular."
      ],
      "text/plain": [
       "<class 'statsmodels.iolib.summary.Summary'>\n",
       "\"\"\"\n",
       "                            OLS Regression Results                            \n",
       "==============================================================================\n",
       "Dep. Variable:                  price   R-squared:                       0.696\n",
       "Model:                            OLS   Adj. R-squared:                  0.696\n",
       "Method:                 Least Squares   F-statistic:                     2329.\n",
       "Date:                Mon, 19 Oct 2020   Prob (F-statistic):               0.00\n",
       "Time:                        22:07:39   Log-Likelihood:            -2.3605e+05\n",
       "No. Observations:               17289   AIC:                         4.721e+05\n",
       "Df Residuals:                   17271   BIC:                         4.723e+05\n",
       "Df Model:                          17                                         \n",
       "Covariance Type:            nonrobust                                         \n",
       "===========================================================================================\n",
       "                              coef    std err          t      P>|t|      [0.025      0.975]\n",
       "-------------------------------------------------------------------------------------------\n",
       "Intercept                5.408e+05   1565.472    345.431      0.000    5.38e+05    5.44e+05\n",
       "scaled_bedrooms         -3.536e+04   2031.832    -17.404      0.000   -3.93e+04   -3.14e+04\n",
       "scaled_bathrooms         3.365e+04   2864.631     11.745      0.000     2.8e+04    3.93e+04\n",
       "scaled_sqft_living       8.495e+04   1824.057     46.575      0.000    8.14e+04    8.85e+04\n",
       "scaled_sqft_lot          4117.9338   2216.874      1.858      0.063    -227.363    8463.231\n",
       "scaled_floors             -89.7262   2203.600     -0.041      0.968   -4409.006    4229.553\n",
       "scaled_waterfront        5.314e+04   1723.623     30.828      0.000    4.98e+04    5.65e+04\n",
       "scaled_view              3.748e+04   1870.929     20.031      0.000    3.38e+04    4.11e+04\n",
       "scaled_condition         2.089e+04   1736.295     12.033      0.000    1.75e+04    2.43e+04\n",
       "scaled_grade             1.136e+05   2900.846     39.154      0.000    1.08e+05    1.19e+05\n",
       "scaled_sqft_above         7.96e+04   1953.706     40.745      0.000    7.58e+04    8.34e+04\n",
       "scaled_sqft_living15     2.741e+04   1781.311     15.385      0.000    2.39e+04    3.09e+04\n",
       "scaled_sqft_lot15       -7.359e+04   2410.786    -30.524      0.000   -7.83e+04   -6.89e+04\n",
       "scaled_date_year         7773.7419   1676.646      4.636      0.000    4487.347    1.11e+04\n",
       "scaled_date_month       -1.703e-11   9.09e-13    -18.732      0.000   -1.88e-11   -1.52e-11\n",
       "scaled_date_day          7.772e+04   1656.849     46.910      0.000    7.45e+04     8.1e+04\n",
       "scaled_rel_to_neighbors -1.774e+04   1905.959     -9.309      0.000   -2.15e+04    -1.4e+04\n",
       "scaled_size_quality      1.872e+04   2688.372      6.964      0.000    1.35e+04     2.4e+04\n",
       "scaled_property_score   -9068.3568   2237.083     -4.054      0.000   -1.35e+04   -4683.448\n",
       "scaled_floor_reno_mult   1.362e+04   1570.151      8.677      0.000    1.05e+04    1.67e+04\n",
       "==============================================================================\n",
       "Omnibus:                    15386.622   Durbin-Watson:                   1.999\n",
       "Prob(Omnibus):                  0.000   Jarque-Bera (JB):          1749257.343\n",
       "Skew:                           3.809   Prob(JB):                         0.00\n",
       "Kurtosis:                      51.685   Cond. No.                     1.69e+17\n",
       "==============================================================================\n",
       "\n",
       "Warnings:\n",
       "[1] Standard Errors assume that the covariance matrix of the errors is correctly specified.\n",
       "[2] The smallest eigenvalue is 3.11e-30. This might indicate that there are\n",
       "strong multicollinearity problems or that the design matrix is singular.\n",
       "\"\"\""
      ]
     },
     "execution_count": 297,
     "metadata": {},
     "output_type": "execute_result"
    }
   ],
   "source": [
    "lr_scaled.summary()"
   ]
  },
  {
   "cell_type": "markdown",
   "metadata": {},
   "source": [
    "# Scaling Adjustments"
   ]
  },
  {
   "cell_type": "code",
   "execution_count": 268,
   "metadata": {},
   "outputs": [
    {
     "data": {
      "text/plain": [
       "7     0.415442\n",
       "8     0.280393\n",
       "9     0.121400\n",
       "6     0.095315\n",
       "10    0.051648\n",
       "11    0.018450\n",
       "5     0.011105\n",
       "12    0.004164\n",
       "4     0.001272\n",
       "13    0.000636\n",
       "3     0.000116\n",
       "1     0.000058\n",
       "Name: grade, dtype: float64"
      ]
     },
     "execution_count": 268,
     "metadata": {},
     "output_type": "execute_result"
    }
   ],
   "source": [
    "data_3.grade.value_counts() / len(data_3)"
   ]
  },
  {
   "cell_type": "code",
   "execution_count": 269,
   "metadata": {},
   "outputs": [],
   "source": [
    "# Remove single row with grade=1 because can't use for Stratified Shuffle Split\n",
    "data_3 = data_3[data_3.grade != 1]"
   ]
  },
  {
   "cell_type": "markdown",
   "metadata": {},
   "source": [
    "# New Dataframe"
   ]
  },
  {
   "cell_type": "code",
   "execution_count": 279,
   "metadata": {},
   "outputs": [
    {
     "name": "stdout",
     "output_type": "stream",
     "text": [
      "Stored 'data_3' (DataFrame)\n"
     ]
    }
   ],
   "source": [
    "%store data_3"
   ]
  },
  {
   "cell_type": "markdown",
   "metadata": {},
   "source": [
    "# Stratified Split"
   ]
  },
  {
   "cell_type": "code",
   "execution_count": 280,
   "metadata": {},
   "outputs": [
    {
     "data": {
      "text/plain": [
       "7     0.410931\n",
       "8     0.285714\n",
       "9     0.117698\n",
       "6     0.094853\n",
       "10    0.052342\n",
       "11    0.020821\n",
       "5     0.011278\n",
       "12    0.004338\n",
       "4     0.001446\n",
       "13    0.000578\n",
       "Name: grade, dtype: float64"
      ]
     },
     "execution_count": 280,
     "metadata": {},
     "output_type": "execute_result"
    }
   ],
   "source": [
    "split = StratifiedShuffleSplit(n_splits=1, test_size=0.2, random_state=42)\n",
    "for train_index, test_index in split.split(data_3, data_3['grade']):\n",
    "    strat_train_set = data_3.loc[data_3.index.intersection(train_index)]\n",
    "    strat_test_set = data_3.loc[data_3.index.intersection(test_index)]\n",
    "    \n",
    "strat_test_set.grade.value_counts()/len(test_set)"
   ]
  },
  {
   "cell_type": "markdown",
   "metadata": {},
   "source": [
    "# PREPARE DATA FOR MACHINE LEARNING"
   ]
  },
  {
   "cell_type": "code",
   "execution_count": 281,
   "metadata": {},
   "outputs": [],
   "source": [
    "x_train = strat_train_set.drop('price', axis=1)\n",
    "y_train = strat_train_set['price'].copy()"
   ]
  },
  {
   "cell_type": "markdown",
   "metadata": {},
   "source": [
    "# LINEAR REGRESSION"
   ]
  },
  {
   "cell_type": "code",
   "execution_count": 282,
   "metadata": {},
   "outputs": [
    {
     "data": {
      "text/plain": [
       "LinearRegression(copy_X=True, fit_intercept=True, n_jobs=None, normalize=False)"
      ]
     },
     "execution_count": 282,
     "metadata": {},
     "output_type": "execute_result"
    }
   ],
   "source": [
    "lr = LinearRegression()\n",
    "\n",
    "lr.fit(x_train, y_train)"
   ]
  },
  {
   "cell_type": "code",
   "execution_count": 283,
   "metadata": {},
   "outputs": [],
   "source": [
    "def array_to_dict(labels,coeffs):\n",
    "    '''\n",
    "    This function takes two arrays as arguments and turns those \n",
    "    arrays into a dictionary so that it is easier to interpret the \n",
    "    coefficients from the sklearn analysis\n",
    "    '''\n",
    "    one_list = list(labels)\n",
    "    two_list = list(coeffs)\n",
    "    res = {} \n",
    "    for key in two_list: \n",
    "        for name in one_list: \n",
    "            res[key] = name \n",
    "            one_list.remove(name) \n",
    "            break \n",
    "    return res"
   ]
  },
  {
   "cell_type": "code",
   "execution_count": 284,
   "metadata": {},
   "outputs": [
    {
     "data": {
      "text/plain": [
       "{'bedrooms': -8187.600601551763,\n",
       " 'bathrooms': 46115.14988892311,\n",
       " 'sqft_living': -327.60478300570577,\n",
       " 'sqft_lot': 0.2655875792963581,\n",
       " 'floors': -22465.384191415207,\n",
       " 'waterfront': 582294.9992287525,\n",
       " 'view': 43432.01017335208,\n",
       " 'condition': -53504.89790096939,\n",
       " 'grade': -15438.071512805,\n",
       " 'sqft_above': -167.68574621488884,\n",
       " 'sqft_basement': -159.91904000166687,\n",
       " 'yr_built': -1672.9433230542488,\n",
       " 'yr_renovated': 4.937101544089688,\n",
       " 'zipcode': -4.2928149923682213e-10,\n",
       " 'lat': 568841.6001286057,\n",
       " 'long': -99930.97894533983,\n",
       " 'sqft_living15': 39.28538445986151,\n",
       " 'sqft_lot15': -0.41364626574034247,\n",
       " 'date_year': 39544.72548543969,\n",
       " 'date_month': 2073.0586789909416,\n",
       " 'date_day': -209.3975401959822,\n",
       " 'rel_to_neighbors': -10331.856366412152,\n",
       " 'size_quality': 49.716058472947225,\n",
       " 'property_score': -0.3099806184906121,\n",
       " 'floor_reno_mult': 21.99287815738803}"
      ]
     },
     "execution_count": 284,
     "metadata": {},
     "output_type": "execute_result"
    }
   ],
   "source": [
    "coefficients = lr.coef_\n",
    "variables = np.array(x_train.columns)\n",
    "\n",
    "array_to_dict(coefficients, variables)"
   ]
  },
  {
   "cell_type": "code",
   "execution_count": 285,
   "metadata": {},
   "outputs": [
    {
     "data": {
      "text/plain": [
       "-115143522.8619153"
      ]
     },
     "execution_count": 285,
     "metadata": {},
     "output_type": "execute_result"
    }
   ],
   "source": [
    "lr.intercept_"
   ]
  },
  {
   "cell_type": "code",
   "execution_count": 286,
   "metadata": {},
   "outputs": [],
   "source": [
    "y_pred = lr.predict(x_train)"
   ]
  },
  {
   "cell_type": "code",
   "execution_count": 287,
   "metadata": {},
   "outputs": [
    {
     "data": {
      "text/plain": [
       "0.7460906397297324"
      ]
     },
     "execution_count": 287,
     "metadata": {},
     "output_type": "execute_result"
    }
   ],
   "source": [
    "lr.score(x_train, y_train)"
   ]
  },
  {
   "cell_type": "code",
   "execution_count": 288,
   "metadata": {},
   "outputs": [
    {
     "data": {
      "text/plain": [
       "'$187,233.61'"
      ]
     },
     "execution_count": 288,
     "metadata": {},
     "output_type": "execute_result"
    }
   ],
   "source": [
    "lr_rsme = mean_squared_error(y_train, y_pred)\n",
    "lr_rmse = np.sqrt(lr_rsme)\n",
    "\n",
    "rmse_dollars = '${:,.2f}'.format(lr_rmse)\n",
    "rmse_dollars"
   ]
  }
 ],
 "metadata": {
  "kernelspec": {
   "display_name": "learn-env",
   "language": "python",
   "name": "learn-env"
  },
  "language_info": {
   "codemirror_mode": {
    "name": "ipython",
    "version": 3
   },
   "file_extension": ".py",
   "mimetype": "text/x-python",
   "name": "python",
   "nbconvert_exporter": "python",
   "pygments_lexer": "ipython3",
   "version": "3.6.9"
  }
 },
 "nbformat": 4,
 "nbformat_minor": 4
}
