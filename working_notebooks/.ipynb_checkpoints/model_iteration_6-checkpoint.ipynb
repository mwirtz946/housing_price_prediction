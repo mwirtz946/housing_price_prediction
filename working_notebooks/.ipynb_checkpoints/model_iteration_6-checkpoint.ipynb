{
 "cells": [
  {
   "cell_type": "markdown",
   "metadata": {},
   "source": [
    "# IMPORTING"
   ]
  },
  {
   "cell_type": "code",
   "execution_count": 296,
   "metadata": {},
   "outputs": [],
   "source": [
    "import pandas as pd\n",
    "import numpy as np\n",
    "import os\n",
    "\n",
    "from sklearn.model_selection import train_test_split\n",
    "from sklearn.model_selection import StratifiedShuffleSplit\n",
    "from sklearn.preprocessing import OrdinalEncoder\n",
    "from sklearn.preprocessing import OneHotEncoder\n",
    "from sklearn.dummy import DummyRegressor\n",
    "from sklearn.metrics import mean_squared_error\n",
    "from sklearn.linear_model import LinearRegression\n",
    "from sklearn.preprocessing import StandardScaler\n",
    "\n",
    "%matplotlib inline\n",
    "import matplotlib.pyplot as plt\n",
    "import seaborn as sns\n",
    "\n",
    "from scipy import stats\n",
    "\n",
    "import statsmodels.api as sm\n",
    "from statsmodels.stats import diagnostic as diag\n",
    "from statsmodels.stats.outliers_influence import variance_inflation_factor\n",
    "from statsmodels.formula.api import ols"
   ]
  },
  {
   "cell_type": "code",
   "execution_count": 297,
   "metadata": {},
   "outputs": [],
   "source": [
    "%store -r data_5"
   ]
  },
  {
   "cell_type": "markdown",
   "metadata": {},
   "source": [
    "# Alterations: Engineered"
   ]
  },
  {
   "cell_type": "code",
   "execution_count": 298,
   "metadata": {},
   "outputs": [],
   "source": [
    "data_6 = data_5"
   ]
  },
  {
   "cell_type": "markdown",
   "metadata": {},
   "source": [
    "### Zip codes"
   ]
  },
  {
   "cell_type": "code",
   "execution_count": 299,
   "metadata": {},
   "outputs": [],
   "source": [
    "zipcode_dummies = pd.get_dummies(data_6.zipcode)"
   ]
  },
  {
   "cell_type": "code",
   "execution_count": 300,
   "metadata": {},
   "outputs": [],
   "source": [
    "merged = pd.concat([data_6,zipcode_dummies], axis='columns')"
   ]
  },
  {
   "cell_type": "code",
   "execution_count": 301,
   "metadata": {},
   "outputs": [
    {
     "data": {
      "text/plain": [
       "(17289, 98)"
      ]
     },
     "execution_count": 301,
     "metadata": {},
     "output_type": "execute_result"
    }
   ],
   "source": [
    "merged.shape"
   ]
  },
  {
   "cell_type": "code",
   "execution_count": 302,
   "metadata": {},
   "outputs": [],
   "source": [
    "data_6 = merged.drop(columns=['zipcode',98155])"
   ]
  },
  {
   "cell_type": "markdown",
   "metadata": {},
   "source": [
    "### Grade"
   ]
  },
  {
   "cell_type": "code",
   "execution_count": 303,
   "metadata": {},
   "outputs": [],
   "source": [
    "grade_dummies = pd.get_dummies(data_6.grade)"
   ]
  },
  {
   "cell_type": "code",
   "execution_count": 304,
   "metadata": {},
   "outputs": [
    {
     "data": {
      "text/html": [
       "<div>\n",
       "<style scoped>\n",
       "    .dataframe tbody tr th:only-of-type {\n",
       "        vertical-align: middle;\n",
       "    }\n",
       "\n",
       "    .dataframe tbody tr th {\n",
       "        vertical-align: top;\n",
       "    }\n",
       "\n",
       "    .dataframe thead th {\n",
       "        text-align: right;\n",
       "    }\n",
       "</style>\n",
       "<table border=\"1\" class=\"dataframe\">\n",
       "  <thead>\n",
       "    <tr style=\"text-align: right;\">\n",
       "      <th></th>\n",
       "      <th>price</th>\n",
       "      <th>bedrooms</th>\n",
       "      <th>bathrooms</th>\n",
       "      <th>sqft_living</th>\n",
       "      <th>sqft_lot</th>\n",
       "      <th>floors</th>\n",
       "      <th>waterfront</th>\n",
       "      <th>view</th>\n",
       "      <th>condition</th>\n",
       "      <th>grade</th>\n",
       "      <th>...</th>\n",
       "      <th>4</th>\n",
       "      <th>5</th>\n",
       "      <th>6</th>\n",
       "      <th>7</th>\n",
       "      <th>8</th>\n",
       "      <th>9</th>\n",
       "      <th>10</th>\n",
       "      <th>11</th>\n",
       "      <th>12</th>\n",
       "      <th>13</th>\n",
       "    </tr>\n",
       "  </thead>\n",
       "  <tbody>\n",
       "    <tr>\n",
       "      <th>0</th>\n",
       "      <td>365000.0</td>\n",
       "      <td>4.0</td>\n",
       "      <td>2.25</td>\n",
       "      <td>2070</td>\n",
       "      <td>9.093020</td>\n",
       "      <td>2.0</td>\n",
       "      <td>0</td>\n",
       "      <td>0</td>\n",
       "      <td>4</td>\n",
       "      <td>8</td>\n",
       "      <td>...</td>\n",
       "      <td>0</td>\n",
       "      <td>0</td>\n",
       "      <td>0</td>\n",
       "      <td>0</td>\n",
       "      <td>1</td>\n",
       "      <td>0</td>\n",
       "      <td>0</td>\n",
       "      <td>0</td>\n",
       "      <td>0</td>\n",
       "      <td>0</td>\n",
       "    </tr>\n",
       "    <tr>\n",
       "      <th>1</th>\n",
       "      <td>865000.0</td>\n",
       "      <td>5.0</td>\n",
       "      <td>3.00</td>\n",
       "      <td>2900</td>\n",
       "      <td>8.814330</td>\n",
       "      <td>1.0</td>\n",
       "      <td>0</td>\n",
       "      <td>0</td>\n",
       "      <td>5</td>\n",
       "      <td>8</td>\n",
       "      <td>...</td>\n",
       "      <td>0</td>\n",
       "      <td>0</td>\n",
       "      <td>0</td>\n",
       "      <td>0</td>\n",
       "      <td>1</td>\n",
       "      <td>0</td>\n",
       "      <td>0</td>\n",
       "      <td>0</td>\n",
       "      <td>0</td>\n",
       "      <td>0</td>\n",
       "    </tr>\n",
       "    <tr>\n",
       "      <th>2</th>\n",
       "      <td>1038000.0</td>\n",
       "      <td>4.0</td>\n",
       "      <td>2.50</td>\n",
       "      <td>3770</td>\n",
       "      <td>9.295876</td>\n",
       "      <td>2.0</td>\n",
       "      <td>0</td>\n",
       "      <td>2</td>\n",
       "      <td>3</td>\n",
       "      <td>11</td>\n",
       "      <td>...</td>\n",
       "      <td>0</td>\n",
       "      <td>0</td>\n",
       "      <td>0</td>\n",
       "      <td>0</td>\n",
       "      <td>0</td>\n",
       "      <td>0</td>\n",
       "      <td>0</td>\n",
       "      <td>1</td>\n",
       "      <td>0</td>\n",
       "      <td>0</td>\n",
       "    </tr>\n",
       "    <tr>\n",
       "      <th>3</th>\n",
       "      <td>1490000.0</td>\n",
       "      <td>3.0</td>\n",
       "      <td>3.50</td>\n",
       "      <td>4560</td>\n",
       "      <td>9.589325</td>\n",
       "      <td>2.0</td>\n",
       "      <td>0</td>\n",
       "      <td>2</td>\n",
       "      <td>3</td>\n",
       "      <td>12</td>\n",
       "      <td>...</td>\n",
       "      <td>0</td>\n",
       "      <td>0</td>\n",
       "      <td>0</td>\n",
       "      <td>0</td>\n",
       "      <td>0</td>\n",
       "      <td>0</td>\n",
       "      <td>0</td>\n",
       "      <td>0</td>\n",
       "      <td>1</td>\n",
       "      <td>0</td>\n",
       "    </tr>\n",
       "    <tr>\n",
       "      <th>4</th>\n",
       "      <td>711000.0</td>\n",
       "      <td>3.0</td>\n",
       "      <td>2.50</td>\n",
       "      <td>2550</td>\n",
       "      <td>8.589700</td>\n",
       "      <td>2.0</td>\n",
       "      <td>0</td>\n",
       "      <td>0</td>\n",
       "      <td>3</td>\n",
       "      <td>9</td>\n",
       "      <td>...</td>\n",
       "      <td>0</td>\n",
       "      <td>0</td>\n",
       "      <td>0</td>\n",
       "      <td>0</td>\n",
       "      <td>0</td>\n",
       "      <td>1</td>\n",
       "      <td>0</td>\n",
       "      <td>0</td>\n",
       "      <td>0</td>\n",
       "      <td>0</td>\n",
       "    </tr>\n",
       "  </tbody>\n",
       "</table>\n",
       "<p>5 rows × 107 columns</p>\n",
       "</div>"
      ],
      "text/plain": [
       "       price  bedrooms  bathrooms  sqft_living  sqft_lot  floors  waterfront  \\\n",
       "0   365000.0       4.0       2.25         2070  9.093020     2.0           0   \n",
       "1   865000.0       5.0       3.00         2900  8.814330     1.0           0   \n",
       "2  1038000.0       4.0       2.50         3770  9.295876     2.0           0   \n",
       "3  1490000.0       3.0       3.50         4560  9.589325     2.0           0   \n",
       "4   711000.0       3.0       2.50         2550  8.589700     2.0           0   \n",
       "\n",
       "   view  condition  grade  ...  4  5  6  7  8  9  10  11  12  13  \n",
       "0     0          4      8  ...  0  0  0  0  1  0   0   0   0   0  \n",
       "1     0          5      8  ...  0  0  0  0  1  0   0   0   0   0  \n",
       "2     2          3     11  ...  0  0  0  0  0  0   0   1   0   0  \n",
       "3     2          3     12  ...  0  0  0  0  0  0   0   0   1   0  \n",
       "4     0          3      9  ...  0  0  0  0  0  1   0   0   0   0  \n",
       "\n",
       "[5 rows x 107 columns]"
      ]
     },
     "execution_count": 304,
     "metadata": {},
     "output_type": "execute_result"
    }
   ],
   "source": [
    "merged = pd.concat([data_6,grade_dummies],axis='columns')\n",
    "merged.head()"
   ]
  },
  {
   "cell_type": "code",
   "execution_count": 305,
   "metadata": {},
   "outputs": [
    {
     "data": {
      "text/plain": [
       "(17289, 107)"
      ]
     },
     "execution_count": 305,
     "metadata": {},
     "output_type": "execute_result"
    }
   ],
   "source": [
    "merged.shape"
   ]
  },
  {
   "cell_type": "code",
   "execution_count": 306,
   "metadata": {},
   "outputs": [],
   "source": [
    "data_6 = merged.drop(columns=['grade',13])"
   ]
  },
  {
   "cell_type": "markdown",
   "metadata": {},
   "source": [
    "### Yr_Built"
   ]
  },
  {
   "cell_type": "code",
   "execution_count": 307,
   "metadata": {},
   "outputs": [
    {
     "data": {
      "text/plain": [
       "array([1986, 1977, 1997, 1990, 2004, 1970, 1987, 2005, 1909, 1930, 1963,\n",
       "       1968, 2003, 1910, 2001, 1954, 1993, 1969, 1976, 2007, 1983, 1955,\n",
       "       1981, 1972, 1904, 1942, 1973, 1918, 1961, 1962, 2000, 2013, 2014,\n",
       "       2009, 1953, 1960, 1994, 1900, 1999, 1949, 1980, 1944, 1921, 1998,\n",
       "       1925, 1950, 1985, 1974, 1926, 1967, 1975, 1912, 1966, 2006, 1991,\n",
       "       1959, 1984, 1979, 1964, 1920, 1957, 1995, 1951, 1982, 1988, 1914,\n",
       "       1917, 1908, 1947, 1971, 2015, 1937, 1958, 2002, 1956, 1938, 1948,\n",
       "       2008, 2010, 1936, 1907, 2012, 1978, 1941, 1965, 1992, 1927, 1929,\n",
       "       1903, 1928, 1915, 1923, 1946, 1911, 1996, 1952, 1940, 1916, 1945,\n",
       "       1943, 1989, 1913, 1906, 1924, 1931, 1922, 1932, 1901, 1905, 2011,\n",
       "       1939, 1919, 1933, 1935, 1902, 1934])"
      ]
     },
     "execution_count": 307,
     "metadata": {},
     "output_type": "execute_result"
    }
   ],
   "source": [
    "data_6.yr_built.unique()"
   ]
  },
  {
   "cell_type": "code",
   "execution_count": 308,
   "metadata": {},
   "outputs": [],
   "source": [
    "built_dummies = pd.get_dummies(data_6.yr_built)"
   ]
  },
  {
   "cell_type": "code",
   "execution_count": 309,
   "metadata": {},
   "outputs": [
    {
     "data": {
      "text/plain": [
       "(17289, 221)"
      ]
     },
     "execution_count": 309,
     "metadata": {},
     "output_type": "execute_result"
    }
   ],
   "source": [
    "merged = pd.concat([data_6,built_dummies],axis='columns')\n",
    "merged.shape"
   ]
  },
  {
   "cell_type": "code",
   "execution_count": 310,
   "metadata": {},
   "outputs": [],
   "source": [
    "data_6 = merged.drop(columns=['yr_built',1951])"
   ]
  },
  {
   "cell_type": "markdown",
   "metadata": {},
   "source": [
    "# New Dataframe"
   ]
  },
  {
   "cell_type": "code",
   "execution_count": 311,
   "metadata": {
    "scrolled": true
   },
   "outputs": [
    {
     "name": "stdout",
     "output_type": "stream",
     "text": [
      "Stored 'data_6' (DataFrame)\n"
     ]
    }
   ],
   "source": [
    "%store data_6"
   ]
  },
  {
   "cell_type": "markdown",
   "metadata": {},
   "source": [
    "# Train-Test Split"
   ]
  },
  {
   "cell_type": "code",
   "execution_count": 312,
   "metadata": {},
   "outputs": [
    {
     "name": "stdout",
     "output_type": "stream",
     "text": [
      "13831 train + 3458 test\n"
     ]
    }
   ],
   "source": [
    "train_set, test_set = train_test_split(data_6, test_size=0.2, random_state=42)\n",
    "print(len(train_set), \"train +\", len(test_set), \"test\")"
   ]
  },
  {
   "cell_type": "markdown",
   "metadata": {},
   "source": [
    "# PREPARE DATA FOR MACHINE LEARNING"
   ]
  },
  {
   "cell_type": "code",
   "execution_count": 313,
   "metadata": {},
   "outputs": [],
   "source": [
    "x_train = train_set.drop('price', axis=1)\n",
    "y_train = train_set['price'].copy()"
   ]
  },
  {
   "cell_type": "markdown",
   "metadata": {},
   "source": [
    "# LINEAR REGRESSION"
   ]
  },
  {
   "cell_type": "code",
   "execution_count": 314,
   "metadata": {},
   "outputs": [
    {
     "data": {
      "text/plain": [
       "LinearRegression(copy_X=True, fit_intercept=True, n_jobs=None, normalize=False)"
      ]
     },
     "execution_count": 314,
     "metadata": {},
     "output_type": "execute_result"
    }
   ],
   "source": [
    "lr = LinearRegression()\n",
    "\n",
    "lr.fit(x_train, y_train)"
   ]
  },
  {
   "cell_type": "code",
   "execution_count": 315,
   "metadata": {},
   "outputs": [],
   "source": [
    "def array_to_dict(labels,coeffs):\n",
    "    '''\n",
    "    This function takes two arrays as arguments and turns those \n",
    "    arrays into a dictionary so that it is easier to interpret the \n",
    "    coefficients from the sklearn analysis\n",
    "    '''\n",
    "    one_list = list(labels)\n",
    "    two_list = list(coeffs)\n",
    "    res = {} \n",
    "    for key in two_list: \n",
    "        for name in one_list: \n",
    "            res[key] = name \n",
    "            one_list.remove(name) \n",
    "            break \n",
    "    return res"
   ]
  },
  {
   "cell_type": "code",
   "execution_count": 316,
   "metadata": {},
   "outputs": [
    {
     "data": {
      "text/plain": [
       "{'bedrooms': -4381.293656422312,\n",
       " 'bathrooms': 25874.232199669594,\n",
       " 'sqft_living': -429.6284800792167,\n",
       " 'sqft_lot': 39813.780088249034,\n",
       " 'floors': -92028.0882147824,\n",
       " 'waterfront': 629903.9042262799,\n",
       " 'view': -27064.851572409276,\n",
       " 'condition': -28192.217530420196,\n",
       " 'sqft_above': 189352.44989315874,\n",
       " 'sqft_basement': 50.69920800822729,\n",
       " 'yr_renovated': -16.876947170792846,\n",
       " 'lat': 12778536.634622756,\n",
       " 'long': -271477.82557356096,\n",
       " 'sqft_living15': 25.39069549800479,\n",
       " 'sqft_lot15': -10523.628342440228,\n",
       " 'date_year': 39564.248879379724,\n",
       " 'date_month': 1613.3141834754038,\n",
       " 'date_day': -102.3555252221156,\n",
       " 'rel_to_neighbors': -3367.3530716590926,\n",
       " 'size_quality': 13.823471309784509,\n",
       " 'property_score': -0.26016674397396855,\n",
       " 'floor_reno_mult': 28.368731428636238,\n",
       " 'grade_sqft_living': 14.213809225388104,\n",
       " 'categorical_proportions': 106.28501000883989,\n",
       " 98001: -35791.36415089585,\n",
       " 98002: -2781.1421355873354,\n",
       " 98003: -52633.40492949772,\n",
       " 98004: 680121.8610721886,\n",
       " 98005: 242846.6521427796,\n",
       " 98006: 181802.87283441308,\n",
       " 98007: 195920.97969189278,\n",
       " 98008: 203991.2250508371,\n",
       " 98010: 75638.75180924685,\n",
       " 98011: 18323.910063283096,\n",
       " 98014: 77896.3699238722,\n",
       " 98019: 27128.010514102407,\n",
       " 98022: 68382.09463925706,\n",
       " 98023: -79064.24549459438,\n",
       " 98024: 153862.32958680188,\n",
       " 98027: 135278.83638557134,\n",
       " 98028: -5074.487859226294,\n",
       " 98029: 208018.37856763127,\n",
       " 98030: -30327.159625569675,\n",
       " 98031: -19678.565979587267,\n",
       " 98032: -37113.60855337734,\n",
       " 98033: 254546.4634288633,\n",
       " 98034: 84181.3935460608,\n",
       " 98038: 43064.7680899887,\n",
       " 98039: 1099186.4258626534,\n",
       " 98040: 392411.8363504856,\n",
       " 98042: -3727.5173933892847,\n",
       " 98045: 157553.36083155507,\n",
       " 98052: 166319.8636721596,\n",
       " 98053: 131491.46111235142,\n",
       " 98055: -4321.929359117139,\n",
       " 98056: 44306.936611511446,\n",
       " 98058: 5264.220033552082,\n",
       " 98059: 42369.750969144494,\n",
       " 98065: 107196.96756839377,\n",
       " 98070: -98077.9992425539,\n",
       " 98072: 48949.49516281246,\n",
       " 98074: 150172.3819998622,\n",
       " 98075: 143808.99310768346,\n",
       " 98077: 18064.176550706172,\n",
       " 98092: -29841.698708998196,\n",
       " 98102: 399831.4072764262,\n",
       " 98103: 227236.97843861324,\n",
       " 98105: 359859.04877894383,\n",
       " 98106: 26441.65290125994,\n",
       " 98107: 233387.56598256557,\n",
       " 98108: 35709.75441900851,\n",
       " 98109: 385223.3690973989,\n",
       " 98112: 516763.7559907402,\n",
       " 98115: 215124.72241611642,\n",
       " 98116: 189756.73208272475,\n",
       " 98117: 183202.66459788237,\n",
       " 98118: 93123.32821193845,\n",
       " 98119: 378155.09416398645,\n",
       " 98122: 260350.023032832,\n",
       " 98125: 64529.5574382171,\n",
       " 98126: 93252.76315886935,\n",
       " 98133: 10792.561499074274,\n",
       " 98136: 164576.39899602137,\n",
       " 98144: 194524.71488787045,\n",
       " 98146: -7487.23305040226,\n",
       " 98148: -16176.407163432536,\n",
       " 98166: -31186.693960079967,\n",
       " 98168: -35524.32474257182,\n",
       " 98177: 72402.00642788011,\n",
       " 98178: -19364.36337546485,\n",
       " 98188: -20584.059687853856,\n",
       " 98198: -44344.73385619485,\n",
       " 98199: 241988.50456695072,\n",
       " 3: -474807.3023422568,\n",
       " 4: -456044.0515033654,\n",
       " 5: -507985.93225500995,\n",
       " 6: -530744.925192425,\n",
       " 7: -556190.0490733454,\n",
       " 8: -592935.9269845213,\n",
       " 9: -620801.5909807878,\n",
       " 10: -625685.6131641223,\n",
       " 11: -626137.3834300429,\n",
       " 12: -568360.907725799,\n",
       " 1900: 17058.932517425066,\n",
       " 1901: -50118.853265772836,\n",
       " 1902: -38704.13669668481,\n",
       " 1903: -5075.025280199558,\n",
       " 1904: 1459.1060484725574,\n",
       " 1905: 42750.75170001734,\n",
       " 1906: -5759.373305019521,\n",
       " 1907: 48991.36648499823,\n",
       " 1908: -15960.700596280763,\n",
       " 1909: 36011.832496870644,\n",
       " 1910: 41904.37934523301,\n",
       " 1911: 9993.867974723746,\n",
       " 1912: 32169.65928140237,\n",
       " 1913: 35562.91821334928,\n",
       " 1914: 18080.42053240907,\n",
       " 1915: 20828.171699986535,\n",
       " 1916: 34661.76682747226,\n",
       " 1917: 3764.1664572389964,\n",
       " 1918: -8106.052291737192,\n",
       " 1919: 22788.199689338635,\n",
       " 1920: 32285.363908250958,\n",
       " 1921: 49577.72211236168,\n",
       " 1922: 42463.0570372034,\n",
       " 1923: 27453.268507647677,\n",
       " 1924: 15599.56738641095,\n",
       " 1925: 24183.714857879157,\n",
       " 1926: 55143.44257420725,\n",
       " 1927: 50625.91545839332,\n",
       " 1928: 39464.85555193369,\n",
       " 1929: 12577.957525479198,\n",
       " 1930: 4124.027338842785,\n",
       " 1931: 12614.41634233241,\n",
       " 1932: 54667.923051227845,\n",
       " 1933: 5403.930169842568,\n",
       " 1934: 32397.28865719048,\n",
       " 1935: 20599.532956712304,\n",
       " 1936: 11286.837717090151,\n",
       " 1937: 22723.187903237766,\n",
       " 1938: 42280.91204932602,\n",
       " 1939: 76853.4943248508,\n",
       " 1940: 50432.20853942505,\n",
       " 1941: 41801.55076716875,\n",
       " 1942: 7937.382545161047,\n",
       " 1943: -3848.70247269952,\n",
       " 1944: 15673.178091734413,\n",
       " 1945: 36299.93877900988,\n",
       " 1946: 3443.3399634391103,\n",
       " 1947: 4571.3678424626505,\n",
       " 1948: 2249.603951780711,\n",
       " 1949: 7094.16928883348,\n",
       " 1950: 6973.943117672149,\n",
       " 1952: -12992.264370197143,\n",
       " 1953: -20511.62499180682,\n",
       " 1954: -4271.172430475209,\n",
       " 1955: -24831.369157369238,\n",
       " 1956: 3862.715161475268,\n",
       " 1957: -6762.1848865200645,\n",
       " 1958: 7522.99898971173,\n",
       " 1959: -3599.9336270244357,\n",
       " 1960: -7679.281265471102,\n",
       " 1961: -10531.935404662416,\n",
       " 1962: -1355.3270928499355,\n",
       " 1963: -2066.03955367108,\n",
       " 1964: -22506.100619039615,\n",
       " 1965: -31839.601408515147,\n",
       " 1966: -22429.24484732338,\n",
       " 1967: -10489.982606521422,\n",
       " 1968: 1221.6212395657503,\n",
       " 1969: 24242.028220658474,\n",
       " 1970: -16462.046962525976,\n",
       " 1971: -5556.77165060482,\n",
       " 1972: -2009.3720833617667,\n",
       " 1973: 760.8898155168174,\n",
       " 1974: -10962.614866348107,\n",
       " 1975: -3025.9696019814646,\n",
       " 1976: 2752.3999317198536,\n",
       " 1977: -15586.95405618603,\n",
       " 1978: -8803.556569773786,\n",
       " 1979: -16314.328241984926,\n",
       " 1980: 3553.5951517992453,\n",
       " 1981: 25774.50133886533,\n",
       " 1982: -5902.992692035294,\n",
       " 1983: 18714.164517288817,\n",
       " 1984: 10560.986687878292,\n",
       " 1985: 8305.877917771742,\n",
       " 1986: -2727.264111673446,\n",
       " 1987: -298.89501971043114,\n",
       " 1988: -6390.706188240878,\n",
       " 1989: 2285.493552610733,\n",
       " 1990: -18623.85321907362,\n",
       " 1991: -5815.966385054777,\n",
       " 1992: -2433.066314041561,\n",
       " 1993: 25900.159002786422,\n",
       " 1994: 13888.980033259868,\n",
       " 1995: 11645.689952619095,\n",
       " 1996: 15167.528569391843,\n",
       " 1997: 9327.40690251025,\n",
       " 1998: 2438.6777792852517,\n",
       " 1999: 26666.296755908206,\n",
       " 2000: 33669.44100051857,\n",
       " 2001: 28582.342768673992,\n",
       " 2002: 30390.24418667315,\n",
       " 2003: 43600.04867066245,\n",
       " 2004: 40777.01056158497,\n",
       " 2005: 16828.071570053788,\n",
       " 2006: 29229.037594583235,\n",
       " 2007: 34562.561392833915,\n",
       " 2008: 62165.69659988999,\n",
       " 2009: 57965.631482927405,\n",
       " 2010: 77537.87429347774,\n",
       " 2011: 64202.77794512238,\n",
       " 2012: 57717.88082486955,\n",
       " 2013: 101436.30197019034,\n",
       " 2014: 96307.68082419883,\n",
       " 2015: 71074.08007855722}"
      ]
     },
     "execution_count": 316,
     "metadata": {},
     "output_type": "execute_result"
    }
   ],
   "source": [
    "coefficients = lr.coef_\n",
    "variables = np.array(x_train.columns)\n",
    "\n",
    "array_to_dict(coefficients, variables)"
   ]
  },
  {
   "cell_type": "code",
   "execution_count": 317,
   "metadata": {},
   "outputs": [
    {
     "data": {
      "text/plain": [
       "-162850432.3139968"
      ]
     },
     "execution_count": 317,
     "metadata": {},
     "output_type": "execute_result"
    }
   ],
   "source": [
    "lr.intercept_"
   ]
  },
  {
   "cell_type": "code",
   "execution_count": 318,
   "metadata": {},
   "outputs": [
    {
     "data": {
      "text/plain": [
       "0.8585814372325556"
      ]
     },
     "execution_count": 318,
     "metadata": {},
     "output_type": "execute_result"
    }
   ],
   "source": [
    "y_pred = lr.predict(x_train)\n",
    "lr.score(x_train, y_train)"
   ]
  },
  {
   "cell_type": "code",
   "execution_count": 319,
   "metadata": {},
   "outputs": [
    {
     "data": {
      "text/plain": [
       "'$140,647.18'"
      ]
     },
     "execution_count": 319,
     "metadata": {},
     "output_type": "execute_result"
    }
   ],
   "source": [
    "lr_rsme = mean_squared_error(y_train, y_pred)\n",
    "lr_rmse = np.sqrt(lr_rsme)\n",
    "\n",
    "rmse_dollars = '${:,.2f}'.format(lr_rmse)\n",
    "rmse_dollars"
   ]
  }
 ],
 "metadata": {
  "kernelspec": {
   "display_name": "learn-env",
   "language": "python",
   "name": "learn-env"
  },
  "language_info": {
   "codemirror_mode": {
    "name": "ipython",
    "version": 3
   },
   "file_extension": ".py",
   "mimetype": "text/x-python",
   "name": "python",
   "nbconvert_exporter": "python",
   "pygments_lexer": "ipython3",
   "version": "3.6.9"
  }
 },
 "nbformat": 4,
 "nbformat_minor": 4
}
