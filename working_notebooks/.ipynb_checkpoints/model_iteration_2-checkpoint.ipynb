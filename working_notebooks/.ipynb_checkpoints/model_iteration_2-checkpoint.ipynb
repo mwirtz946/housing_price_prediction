{
 "cells": [
  {
   "cell_type": "markdown",
   "metadata": {},
   "source": [
    "# IMPORTING"
   ]
  },
  {
   "cell_type": "code",
   "execution_count": 276,
   "metadata": {},
   "outputs": [],
   "source": [
    "import pandas as pd\n",
    "import numpy as np\n",
    "import os\n",
    "\n",
    "from sklearn.model_selection import train_test_split\n",
    "from sklearn.model_selection import StratifiedShuffleSplit\n",
    "from sklearn.preprocessing import OrdinalEncoder\n",
    "from sklearn.preprocessing import OneHotEncoder\n",
    "from sklearn.dummy import DummyRegressor\n",
    "from sklearn.metrics import mean_squared_error\n",
    "from sklearn.linear_model import LinearRegression\n",
    "\n",
    "%matplotlib inline\n",
    "import matplotlib.pyplot as plt\n",
    "import seaborn as sns\n",
    "\n",
    "from scipy import stats\n",
    "\n",
    "import statsmodels.api as sm\n",
    "from statsmodels.stats import diagnostic as diag\n",
    "from statsmodels.stats.outliers_influence import variance_inflation_factor"
   ]
  },
  {
   "cell_type": "code",
   "execution_count": 277,
   "metadata": {},
   "outputs": [],
   "source": [
    "%store -r data"
   ]
  },
  {
   "cell_type": "markdown",
   "metadata": {},
   "source": [
    "# ALTERATIONS: ENGINEERED"
   ]
  },
  {
   "cell_type": "code",
   "execution_count": 278,
   "metadata": {},
   "outputs": [],
   "source": [
    "data_2 = data"
   ]
  },
  {
   "cell_type": "code",
   "execution_count": 262,
   "metadata": {},
   "outputs": [],
   "source": [
    "#Helps to establish how the sqft_living and sqft_lot compares to neightbors\n",
    "data_2['rel_to_neighbors'] = ((data_2.sqft_living/data_2.sqft_living15) + (data_2.sqft_lot/data_2.sqft_lot15))/2"
   ]
  },
  {
   "cell_type": "code",
   "execution_count": 263,
   "metadata": {},
   "outputs": [],
   "source": [
    "#Using conditon and grade as multiplier for sqft_living\n",
    "data_2['size_quality'] = (data_2.condition + data_2.grade) * data.sqft_living"
   ]
  },
  {
   "cell_type": "code",
   "execution_count": 279,
   "metadata": {},
   "outputs": [],
   "source": [
    "#Assessing entire property using multiplier for sqft_lot\n",
    "data_2['property_score'] = (data_2.view / 4)*(data_2.waterfront + 1) * data_2.sqft_lot"
   ]
  },
  {
   "cell_type": "markdown",
   "metadata": {},
   "source": [
    "# New Dataframe"
   ]
  },
  {
   "cell_type": "code",
   "execution_count": 280,
   "metadata": {},
   "outputs": [
    {
     "name": "stdout",
     "output_type": "stream",
     "text": [
      "Stored 'data_2' (DataFrame)\n"
     ]
    }
   ],
   "source": [
    "%store data_2"
   ]
  },
  {
   "cell_type": "markdown",
   "metadata": {},
   "source": [
    "# TRAIN-TEST SPLIT"
   ]
  },
  {
   "cell_type": "code",
   "execution_count": 281,
   "metadata": {},
   "outputs": [
    {
     "name": "stdout",
     "output_type": "stream",
     "text": [
      "13832 train + 3458 test\n"
     ]
    }
   ],
   "source": [
    "train_set, test_set = train_test_split(data_2, test_size=0.2, random_state=42)\n",
    "print(len(train_set), \"train +\", len(test_set), \"test\")"
   ]
  },
  {
   "cell_type": "markdown",
   "metadata": {},
   "source": [
    "# PREPARE DATA FOR MACHINE LEARNING"
   ]
  },
  {
   "cell_type": "code",
   "execution_count": 282,
   "metadata": {},
   "outputs": [],
   "source": [
    "x_train = train_set.drop('price', axis=1)\n",
    "y_train = train_set['price'].copy()"
   ]
  },
  {
   "cell_type": "markdown",
   "metadata": {},
   "source": [
    "# LINEAR REGRESSION"
   ]
  },
  {
   "cell_type": "code",
   "execution_count": 283,
   "metadata": {},
   "outputs": [
    {
     "data": {
      "text/plain": [
       "LinearRegression(copy_X=True, fit_intercept=True, n_jobs=None, normalize=False)"
      ]
     },
     "execution_count": 283,
     "metadata": {},
     "output_type": "execute_result"
    }
   ],
   "source": [
    "lr = LinearRegression()\n",
    "\n",
    "lr.fit(x_train, y_train)"
   ]
  },
  {
   "cell_type": "code",
   "execution_count": 284,
   "metadata": {},
   "outputs": [],
   "source": [
    "def array_to_dict(labels,coeffs):\n",
    "    '''\n",
    "    This function takes two arrays as arguments and turns those \n",
    "    arrays into a dictionary so that it is easier to interpret the \n",
    "    coefficients from the sklearn analysis\n",
    "    '''\n",
    "    one_list = list(labels)\n",
    "    two_list = list(coeffs)\n",
    "    res = {} \n",
    "    for key in two_list: \n",
    "        for name in one_list: \n",
    "            res[key] = name \n",
    "            one_list.remove(name) \n",
    "            break \n",
    "    return res"
   ]
  },
  {
   "cell_type": "code",
   "execution_count": 285,
   "metadata": {},
   "outputs": [
    {
     "data": {
      "text/plain": [
       "{'bedrooms': -7351.875710535611,\n",
       " 'bathrooms': 50077.72555127944,\n",
       " 'sqft_living': -329.66042830759926,\n",
       " 'sqft_lot': 0.28483242115045715,\n",
       " 'floors': 19859.552404435723,\n",
       " 'waterfront': 571149.0116614584,\n",
       " 'view': 42246.568272724435,\n",
       " 'condition': -60057.69114822505,\n",
       " 'grade': -23282.93630350926,\n",
       " 'sqft_above': -160.53559862584106,\n",
       " 'sqft_basement': -169.1248291953024,\n",
       " 'yr_built': -1783.8406358729208,\n",
       " 'yr_renovated': 39.65176364088505,\n",
       " 'zipcode': 1.8917489796876907e-10,\n",
       " 'lat': 570191.5467505864,\n",
       " 'long': -98447.63063613555,\n",
       " 'sqft_living15': 33.05871610626503,\n",
       " 'sqft_lot15': -0.4489345552116629,\n",
       " 'date_year': 41130.13920026216,\n",
       " 'date_month': 2047.999824991405,\n",
       " 'date_day': -205.1566296059238,\n",
       " 'rel_to_neighbors': -11068.906543457408,\n",
       " 'size_quality': 53.1426622207279,\n",
       " 'property_score': -0.2946456737457666}"
      ]
     },
     "execution_count": 285,
     "metadata": {},
     "output_type": "execute_result"
    }
   ],
   "source": [
    "coefficients = lr.coef_\n",
    "variables = np.array(x_train.columns)\n",
    "array_to_dict(coefficients, variables)"
   ]
  },
  {
   "cell_type": "code",
   "execution_count": 286,
   "metadata": {},
   "outputs": [
    {
     "data": {
      "text/plain": [
       "-117993748.58028573"
      ]
     },
     "execution_count": 286,
     "metadata": {},
     "output_type": "execute_result"
    }
   ],
   "source": [
    "lr.intercept_"
   ]
  },
  {
   "cell_type": "code",
   "execution_count": 287,
   "metadata": {},
   "outputs": [],
   "source": [
    "y_pred = lr.predict(x_train)"
   ]
  },
  {
   "cell_type": "code",
   "execution_count": 288,
   "metadata": {},
   "outputs": [
    {
     "data": {
      "text/plain": [
       "0.7451961594318894"
      ]
     },
     "execution_count": 288,
     "metadata": {},
     "output_type": "execute_result"
    }
   ],
   "source": [
    "lr.score(x_train, y_train)"
   ]
  },
  {
   "cell_type": "code",
   "execution_count": 289,
   "metadata": {},
   "outputs": [],
   "source": [
    "lr_rsme = mean_squared_error(y_train, y_pred)\n",
    "lr_rmse = np.sqrt(lr_rsme)"
   ]
  },
  {
   "cell_type": "code",
   "execution_count": 290,
   "metadata": {},
   "outputs": [
    {
     "data": {
      "text/plain": [
       "'$189,489.02'"
      ]
     },
     "execution_count": 290,
     "metadata": {},
     "output_type": "execute_result"
    }
   ],
   "source": [
    "rmse_dollars = '${:,.2f}'.format(lr_rmse)\n",
    "rmse_dollars"
   ]
  }
 ],
 "metadata": {
  "kernelspec": {
   "display_name": "learn-env",
   "language": "python",
   "name": "learn-env"
  },
  "language_info": {
   "codemirror_mode": {
    "name": "ipython",
    "version": 3
   },
   "file_extension": ".py",
   "mimetype": "text/x-python",
   "name": "python",
   "nbconvert_exporter": "python",
   "pygments_lexer": "ipython3",
   "version": "3.6.9"
  }
 },
 "nbformat": 4,
 "nbformat_minor": 4
}
