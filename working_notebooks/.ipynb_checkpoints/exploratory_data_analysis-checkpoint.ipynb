{
 "cells": [
  {
   "cell_type": "code",
   "execution_count": 65,
   "metadata": {},
   "outputs": [],
   "source": [
    "import pandas as pd\n",
    "import numpy as np\n",
    "import os\n",
    "import seaborn as sns\n",
    "import matplotlib.pyplot as plt\n",
    "from statsmodels.formula.api import ols\n",
    "%matplotlib inline"
   ]
  },
  {
   "cell_type": "markdown",
   "metadata": {},
   "source": [
    "# DATAFRAME"
   ]
  },
  {
   "cell_type": "code",
   "execution_count": 66,
   "metadata": {},
   "outputs": [],
   "source": [
    "data = pd.read_csv('../kc_house_data_train.csv')"
   ]
  },
  {
   "cell_type": "code",
   "execution_count": 67,
   "metadata": {},
   "outputs": [
    {
     "data": {
      "text/plain": [
       "(17290, 22)"
      ]
     },
     "execution_count": 67,
     "metadata": {},
     "output_type": "execute_result"
    }
   ],
   "source": [
    "data.shape"
   ]
  },
  {
   "cell_type": "code",
   "execution_count": 68,
   "metadata": {},
   "outputs": [
    {
     "name": "stdout",
     "output_type": "stream",
     "text": [
      "<class 'pandas.core.frame.DataFrame'>\n",
      "RangeIndex: 17290 entries, 0 to 17289\n",
      "Data columns (total 22 columns):\n",
      "Unnamed: 0       17290 non-null int64\n",
      "id               17290 non-null int64\n",
      "date             17290 non-null object\n",
      "price            17290 non-null float64\n",
      "bedrooms         17290 non-null int64\n",
      "bathrooms        17290 non-null float64\n",
      "sqft_living      17290 non-null int64\n",
      "sqft_lot         17290 non-null int64\n",
      "floors           17290 non-null float64\n",
      "waterfront       17290 non-null int64\n",
      "view             17290 non-null int64\n",
      "condition        17290 non-null int64\n",
      "grade            17290 non-null int64\n",
      "sqft_above       17290 non-null int64\n",
      "sqft_basement    17290 non-null int64\n",
      "yr_built         17290 non-null int64\n",
      "yr_renovated     17290 non-null int64\n",
      "zipcode          17290 non-null int64\n",
      "lat              17290 non-null float64\n",
      "long             17290 non-null float64\n",
      "sqft_living15    17290 non-null int64\n",
      "sqft_lot15       17290 non-null int64\n",
      "dtypes: float64(5), int64(16), object(1)\n",
      "memory usage: 2.9+ MB\n"
     ]
    }
   ],
   "source": [
    "data.info()"
   ]
  },
  {
   "cell_type": "code",
   "execution_count": 69,
   "metadata": {},
   "outputs": [
    {
     "data": {
      "text/html": [
       "<div>\n",
       "<style scoped>\n",
       "    .dataframe tbody tr th:only-of-type {\n",
       "        vertical-align: middle;\n",
       "    }\n",
       "\n",
       "    .dataframe tbody tr th {\n",
       "        vertical-align: top;\n",
       "    }\n",
       "\n",
       "    .dataframe thead th {\n",
       "        text-align: right;\n",
       "    }\n",
       "</style>\n",
       "<table border=\"1\" class=\"dataframe\">\n",
       "  <thead>\n",
       "    <tr style=\"text-align: right;\">\n",
       "      <th></th>\n",
       "      <th>Unnamed: 0</th>\n",
       "      <th>id</th>\n",
       "      <th>date</th>\n",
       "      <th>price</th>\n",
       "      <th>bedrooms</th>\n",
       "      <th>bathrooms</th>\n",
       "      <th>sqft_living</th>\n",
       "      <th>sqft_lot</th>\n",
       "      <th>floors</th>\n",
       "      <th>waterfront</th>\n",
       "      <th>...</th>\n",
       "      <th>grade</th>\n",
       "      <th>sqft_above</th>\n",
       "      <th>sqft_basement</th>\n",
       "      <th>yr_built</th>\n",
       "      <th>yr_renovated</th>\n",
       "      <th>zipcode</th>\n",
       "      <th>lat</th>\n",
       "      <th>long</th>\n",
       "      <th>sqft_living15</th>\n",
       "      <th>sqft_lot15</th>\n",
       "    </tr>\n",
       "  </thead>\n",
       "  <tbody>\n",
       "    <tr>\n",
       "      <th>0</th>\n",
       "      <td>0</td>\n",
       "      <td>2591820310</td>\n",
       "      <td>20141006T000000</td>\n",
       "      <td>365000.0</td>\n",
       "      <td>4</td>\n",
       "      <td>2.25</td>\n",
       "      <td>2070</td>\n",
       "      <td>8893</td>\n",
       "      <td>2.0</td>\n",
       "      <td>0</td>\n",
       "      <td>...</td>\n",
       "      <td>8</td>\n",
       "      <td>2070</td>\n",
       "      <td>0</td>\n",
       "      <td>1986</td>\n",
       "      <td>0</td>\n",
       "      <td>98058</td>\n",
       "      <td>47.4388</td>\n",
       "      <td>-122.162</td>\n",
       "      <td>2390</td>\n",
       "      <td>7700</td>\n",
       "    </tr>\n",
       "    <tr>\n",
       "      <th>1</th>\n",
       "      <td>1</td>\n",
       "      <td>7974200820</td>\n",
       "      <td>20140821T000000</td>\n",
       "      <td>865000.0</td>\n",
       "      <td>5</td>\n",
       "      <td>3.00</td>\n",
       "      <td>2900</td>\n",
       "      <td>6730</td>\n",
       "      <td>1.0</td>\n",
       "      <td>0</td>\n",
       "      <td>...</td>\n",
       "      <td>8</td>\n",
       "      <td>1830</td>\n",
       "      <td>1070</td>\n",
       "      <td>1977</td>\n",
       "      <td>0</td>\n",
       "      <td>98115</td>\n",
       "      <td>47.6784</td>\n",
       "      <td>-122.285</td>\n",
       "      <td>2370</td>\n",
       "      <td>6283</td>\n",
       "    </tr>\n",
       "    <tr>\n",
       "      <th>2</th>\n",
       "      <td>2</td>\n",
       "      <td>7701450110</td>\n",
       "      <td>20140815T000000</td>\n",
       "      <td>1038000.0</td>\n",
       "      <td>4</td>\n",
       "      <td>2.50</td>\n",
       "      <td>3770</td>\n",
       "      <td>10893</td>\n",
       "      <td>2.0</td>\n",
       "      <td>0</td>\n",
       "      <td>...</td>\n",
       "      <td>11</td>\n",
       "      <td>3770</td>\n",
       "      <td>0</td>\n",
       "      <td>1997</td>\n",
       "      <td>0</td>\n",
       "      <td>98006</td>\n",
       "      <td>47.5646</td>\n",
       "      <td>-122.129</td>\n",
       "      <td>3710</td>\n",
       "      <td>9685</td>\n",
       "    </tr>\n",
       "    <tr>\n",
       "      <th>3</th>\n",
       "      <td>3</td>\n",
       "      <td>9522300010</td>\n",
       "      <td>20150331T000000</td>\n",
       "      <td>1490000.0</td>\n",
       "      <td>3</td>\n",
       "      <td>3.50</td>\n",
       "      <td>4560</td>\n",
       "      <td>14608</td>\n",
       "      <td>2.0</td>\n",
       "      <td>0</td>\n",
       "      <td>...</td>\n",
       "      <td>12</td>\n",
       "      <td>4560</td>\n",
       "      <td>0</td>\n",
       "      <td>1990</td>\n",
       "      <td>0</td>\n",
       "      <td>98034</td>\n",
       "      <td>47.6995</td>\n",
       "      <td>-122.228</td>\n",
       "      <td>4050</td>\n",
       "      <td>14226</td>\n",
       "    </tr>\n",
       "    <tr>\n",
       "      <th>4</th>\n",
       "      <td>4</td>\n",
       "      <td>9510861140</td>\n",
       "      <td>20140714T000000</td>\n",
       "      <td>711000.0</td>\n",
       "      <td>3</td>\n",
       "      <td>2.50</td>\n",
       "      <td>2550</td>\n",
       "      <td>5376</td>\n",
       "      <td>2.0</td>\n",
       "      <td>0</td>\n",
       "      <td>...</td>\n",
       "      <td>9</td>\n",
       "      <td>2550</td>\n",
       "      <td>0</td>\n",
       "      <td>2004</td>\n",
       "      <td>0</td>\n",
       "      <td>98052</td>\n",
       "      <td>47.6647</td>\n",
       "      <td>-122.083</td>\n",
       "      <td>2250</td>\n",
       "      <td>4050</td>\n",
       "    </tr>\n",
       "  </tbody>\n",
       "</table>\n",
       "<p>5 rows × 22 columns</p>\n",
       "</div>"
      ],
      "text/plain": [
       "   Unnamed: 0          id             date      price  bedrooms  bathrooms  \\\n",
       "0           0  2591820310  20141006T000000   365000.0         4       2.25   \n",
       "1           1  7974200820  20140821T000000   865000.0         5       3.00   \n",
       "2           2  7701450110  20140815T000000  1038000.0         4       2.50   \n",
       "3           3  9522300010  20150331T000000  1490000.0         3       3.50   \n",
       "4           4  9510861140  20140714T000000   711000.0         3       2.50   \n",
       "\n",
       "   sqft_living  sqft_lot  floors  waterfront  ...  grade  sqft_above  \\\n",
       "0         2070      8893     2.0           0  ...      8        2070   \n",
       "1         2900      6730     1.0           0  ...      8        1830   \n",
       "2         3770     10893     2.0           0  ...     11        3770   \n",
       "3         4560     14608     2.0           0  ...     12        4560   \n",
       "4         2550      5376     2.0           0  ...      9        2550   \n",
       "\n",
       "   sqft_basement  yr_built  yr_renovated  zipcode      lat     long  \\\n",
       "0              0      1986             0    98058  47.4388 -122.162   \n",
       "1           1070      1977             0    98115  47.6784 -122.285   \n",
       "2              0      1997             0    98006  47.5646 -122.129   \n",
       "3              0      1990             0    98034  47.6995 -122.228   \n",
       "4              0      2004             0    98052  47.6647 -122.083   \n",
       "\n",
       "   sqft_living15  sqft_lot15  \n",
       "0           2390        7700  \n",
       "1           2370        6283  \n",
       "2           3710        9685  \n",
       "3           4050       14226  \n",
       "4           2250        4050  \n",
       "\n",
       "[5 rows x 22 columns]"
      ]
     },
     "execution_count": 69,
     "metadata": {},
     "output_type": "execute_result"
    }
   ],
   "source": [
    "data.head()"
   ]
  },
  {
   "cell_type": "code",
   "execution_count": 70,
   "metadata": {},
   "outputs": [
    {
     "data": {
      "text/html": [
       "<div>\n",
       "<style scoped>\n",
       "    .dataframe tbody tr th:only-of-type {\n",
       "        vertical-align: middle;\n",
       "    }\n",
       "\n",
       "    .dataframe tbody tr th {\n",
       "        vertical-align: top;\n",
       "    }\n",
       "\n",
       "    .dataframe thead th {\n",
       "        text-align: right;\n",
       "    }\n",
       "</style>\n",
       "<table border=\"1\" class=\"dataframe\">\n",
       "  <thead>\n",
       "    <tr style=\"text-align: right;\">\n",
       "      <th></th>\n",
       "      <th>Unnamed: 0</th>\n",
       "      <th>id</th>\n",
       "      <th>date</th>\n",
       "      <th>price</th>\n",
       "      <th>bedrooms</th>\n",
       "      <th>bathrooms</th>\n",
       "      <th>sqft_living</th>\n",
       "      <th>sqft_lot</th>\n",
       "      <th>floors</th>\n",
       "      <th>waterfront</th>\n",
       "      <th>...</th>\n",
       "      <th>grade</th>\n",
       "      <th>sqft_above</th>\n",
       "      <th>sqft_basement</th>\n",
       "      <th>yr_built</th>\n",
       "      <th>yr_renovated</th>\n",
       "      <th>zipcode</th>\n",
       "      <th>lat</th>\n",
       "      <th>long</th>\n",
       "      <th>sqft_living15</th>\n",
       "      <th>sqft_lot15</th>\n",
       "    </tr>\n",
       "  </thead>\n",
       "  <tbody>\n",
       "    <tr>\n",
       "      <th>17285</th>\n",
       "      <td>17285</td>\n",
       "      <td>627300195</td>\n",
       "      <td>20150303T000000</td>\n",
       "      <td>750000.0</td>\n",
       "      <td>5</td>\n",
       "      <td>2.50</td>\n",
       "      <td>3240</td>\n",
       "      <td>9960</td>\n",
       "      <td>1.0</td>\n",
       "      <td>0</td>\n",
       "      <td>...</td>\n",
       "      <td>8</td>\n",
       "      <td>2020</td>\n",
       "      <td>1220</td>\n",
       "      <td>1958</td>\n",
       "      <td>0</td>\n",
       "      <td>98008</td>\n",
       "      <td>47.5858</td>\n",
       "      <td>-122.112</td>\n",
       "      <td>2730</td>\n",
       "      <td>10400</td>\n",
       "    </tr>\n",
       "    <tr>\n",
       "      <th>17286</th>\n",
       "      <td>17286</td>\n",
       "      <td>8819900270</td>\n",
       "      <td>20140520T000000</td>\n",
       "      <td>440000.0</td>\n",
       "      <td>2</td>\n",
       "      <td>1.75</td>\n",
       "      <td>1300</td>\n",
       "      <td>4000</td>\n",
       "      <td>2.0</td>\n",
       "      <td>0</td>\n",
       "      <td>...</td>\n",
       "      <td>7</td>\n",
       "      <td>1300</td>\n",
       "      <td>0</td>\n",
       "      <td>1948</td>\n",
       "      <td>0</td>\n",
       "      <td>98105</td>\n",
       "      <td>47.6687</td>\n",
       "      <td>-122.288</td>\n",
       "      <td>1350</td>\n",
       "      <td>4013</td>\n",
       "    </tr>\n",
       "    <tr>\n",
       "      <th>17287</th>\n",
       "      <td>17287</td>\n",
       "      <td>3816300095</td>\n",
       "      <td>20140514T000000</td>\n",
       "      <td>310000.0</td>\n",
       "      <td>3</td>\n",
       "      <td>1.00</td>\n",
       "      <td>1050</td>\n",
       "      <td>9876</td>\n",
       "      <td>1.0</td>\n",
       "      <td>0</td>\n",
       "      <td>...</td>\n",
       "      <td>7</td>\n",
       "      <td>1050</td>\n",
       "      <td>0</td>\n",
       "      <td>1953</td>\n",
       "      <td>0</td>\n",
       "      <td>98028</td>\n",
       "      <td>47.7635</td>\n",
       "      <td>-122.262</td>\n",
       "      <td>1760</td>\n",
       "      <td>9403</td>\n",
       "    </tr>\n",
       "    <tr>\n",
       "      <th>17288</th>\n",
       "      <td>17288</td>\n",
       "      <td>122069107</td>\n",
       "      <td>20141204T000000</td>\n",
       "      <td>427500.0</td>\n",
       "      <td>3</td>\n",
       "      <td>1.50</td>\n",
       "      <td>1900</td>\n",
       "      <td>43186</td>\n",
       "      <td>1.5</td>\n",
       "      <td>0</td>\n",
       "      <td>...</td>\n",
       "      <td>7</td>\n",
       "      <td>1300</td>\n",
       "      <td>600</td>\n",
       "      <td>1971</td>\n",
       "      <td>0</td>\n",
       "      <td>98038</td>\n",
       "      <td>47.4199</td>\n",
       "      <td>-121.990</td>\n",
       "      <td>2080</td>\n",
       "      <td>108028</td>\n",
       "    </tr>\n",
       "    <tr>\n",
       "      <th>17289</th>\n",
       "      <td>17289</td>\n",
       "      <td>6703100135</td>\n",
       "      <td>20150116T000000</td>\n",
       "      <td>348000.0</td>\n",
       "      <td>3</td>\n",
       "      <td>1.50</td>\n",
       "      <td>1330</td>\n",
       "      <td>6768</td>\n",
       "      <td>1.0</td>\n",
       "      <td>0</td>\n",
       "      <td>...</td>\n",
       "      <td>7</td>\n",
       "      <td>1330</td>\n",
       "      <td>0</td>\n",
       "      <td>1952</td>\n",
       "      <td>0</td>\n",
       "      <td>98155</td>\n",
       "      <td>47.7366</td>\n",
       "      <td>-122.319</td>\n",
       "      <td>1320</td>\n",
       "      <td>6910</td>\n",
       "    </tr>\n",
       "  </tbody>\n",
       "</table>\n",
       "<p>5 rows × 22 columns</p>\n",
       "</div>"
      ],
      "text/plain": [
       "       Unnamed: 0          id             date     price  bedrooms  bathrooms  \\\n",
       "17285       17285   627300195  20150303T000000  750000.0         5       2.50   \n",
       "17286       17286  8819900270  20140520T000000  440000.0         2       1.75   \n",
       "17287       17287  3816300095  20140514T000000  310000.0         3       1.00   \n",
       "17288       17288   122069107  20141204T000000  427500.0         3       1.50   \n",
       "17289       17289  6703100135  20150116T000000  348000.0         3       1.50   \n",
       "\n",
       "       sqft_living  sqft_lot  floors  waterfront  ...  grade  sqft_above  \\\n",
       "17285         3240      9960     1.0           0  ...      8        2020   \n",
       "17286         1300      4000     2.0           0  ...      7        1300   \n",
       "17287         1050      9876     1.0           0  ...      7        1050   \n",
       "17288         1900     43186     1.5           0  ...      7        1300   \n",
       "17289         1330      6768     1.0           0  ...      7        1330   \n",
       "\n",
       "       sqft_basement  yr_built  yr_renovated  zipcode      lat     long  \\\n",
       "17285           1220      1958             0    98008  47.5858 -122.112   \n",
       "17286              0      1948             0    98105  47.6687 -122.288   \n",
       "17287              0      1953             0    98028  47.7635 -122.262   \n",
       "17288            600      1971             0    98038  47.4199 -121.990   \n",
       "17289              0      1952             0    98155  47.7366 -122.319   \n",
       "\n",
       "       sqft_living15  sqft_lot15  \n",
       "17285           2730       10400  \n",
       "17286           1350        4013  \n",
       "17287           1760        9403  \n",
       "17288           2080      108028  \n",
       "17289           1320        6910  \n",
       "\n",
       "[5 rows x 22 columns]"
      ]
     },
     "execution_count": 70,
     "metadata": {},
     "output_type": "execute_result"
    }
   ],
   "source": [
    "data.tail()"
   ]
  },
  {
   "cell_type": "code",
   "execution_count": 71,
   "metadata": {},
   "outputs": [
    {
     "data": {
      "text/html": [
       "<div>\n",
       "<style scoped>\n",
       "    .dataframe tbody tr th:only-of-type {\n",
       "        vertical-align: middle;\n",
       "    }\n",
       "\n",
       "    .dataframe tbody tr th {\n",
       "        vertical-align: top;\n",
       "    }\n",
       "\n",
       "    .dataframe thead th {\n",
       "        text-align: right;\n",
       "    }\n",
       "</style>\n",
       "<table border=\"1\" class=\"dataframe\">\n",
       "  <thead>\n",
       "    <tr style=\"text-align: right;\">\n",
       "      <th></th>\n",
       "      <th>Unnamed: 0</th>\n",
       "      <th>id</th>\n",
       "      <th>price</th>\n",
       "      <th>bedrooms</th>\n",
       "      <th>bathrooms</th>\n",
       "      <th>sqft_living</th>\n",
       "      <th>sqft_lot</th>\n",
       "      <th>floors</th>\n",
       "      <th>waterfront</th>\n",
       "      <th>view</th>\n",
       "      <th>...</th>\n",
       "      <th>grade</th>\n",
       "      <th>sqft_above</th>\n",
       "      <th>sqft_basement</th>\n",
       "      <th>yr_built</th>\n",
       "      <th>yr_renovated</th>\n",
       "      <th>zipcode</th>\n",
       "      <th>lat</th>\n",
       "      <th>long</th>\n",
       "      <th>sqft_living15</th>\n",
       "      <th>sqft_lot15</th>\n",
       "    </tr>\n",
       "  </thead>\n",
       "  <tbody>\n",
       "    <tr>\n",
       "      <th>count</th>\n",
       "      <td>17290.000000</td>\n",
       "      <td>1.729000e+04</td>\n",
       "      <td>1.729000e+04</td>\n",
       "      <td>17290.000000</td>\n",
       "      <td>17290.000000</td>\n",
       "      <td>17290.000000</td>\n",
       "      <td>1.729000e+04</td>\n",
       "      <td>17290.000000</td>\n",
       "      <td>17290.000000</td>\n",
       "      <td>17290.000000</td>\n",
       "      <td>...</td>\n",
       "      <td>17290.000000</td>\n",
       "      <td>17290.000000</td>\n",
       "      <td>17290.000000</td>\n",
       "      <td>17290.000000</td>\n",
       "      <td>17290.000000</td>\n",
       "      <td>17290.000000</td>\n",
       "      <td>17290.000000</td>\n",
       "      <td>17290.000000</td>\n",
       "      <td>17290.000000</td>\n",
       "      <td>17290.000000</td>\n",
       "    </tr>\n",
       "    <tr>\n",
       "      <th>mean</th>\n",
       "      <td>8644.500000</td>\n",
       "      <td>4.565502e+09</td>\n",
       "      <td>5.407395e+05</td>\n",
       "      <td>3.372470</td>\n",
       "      <td>2.111943</td>\n",
       "      <td>2081.464604</td>\n",
       "      <td>1.524340e+04</td>\n",
       "      <td>1.490312</td>\n",
       "      <td>0.007981</td>\n",
       "      <td>0.238519</td>\n",
       "      <td>...</td>\n",
       "      <td>7.654425</td>\n",
       "      <td>1789.306015</td>\n",
       "      <td>292.158589</td>\n",
       "      <td>1970.792019</td>\n",
       "      <td>83.806304</td>\n",
       "      <td>98078.193175</td>\n",
       "      <td>47.560058</td>\n",
       "      <td>-122.214258</td>\n",
       "      <td>1987.986698</td>\n",
       "      <td>12873.475824</td>\n",
       "    </tr>\n",
       "    <tr>\n",
       "      <th>std</th>\n",
       "      <td>4991.337413</td>\n",
       "      <td>2.874656e+09</td>\n",
       "      <td>3.733190e+05</td>\n",
       "      <td>0.939346</td>\n",
       "      <td>0.770476</td>\n",
       "      <td>920.018539</td>\n",
       "      <td>4.230462e+04</td>\n",
       "      <td>0.538909</td>\n",
       "      <td>0.088985</td>\n",
       "      <td>0.775229</td>\n",
       "      <td>...</td>\n",
       "      <td>1.174718</td>\n",
       "      <td>829.265107</td>\n",
       "      <td>443.151874</td>\n",
       "      <td>29.343516</td>\n",
       "      <td>400.329376</td>\n",
       "      <td>53.607949</td>\n",
       "      <td>0.138412</td>\n",
       "      <td>0.140857</td>\n",
       "      <td>684.802635</td>\n",
       "      <td>27227.437583</td>\n",
       "    </tr>\n",
       "    <tr>\n",
       "      <th>min</th>\n",
       "      <td>0.000000</td>\n",
       "      <td>1.000102e+06</td>\n",
       "      <td>7.500000e+04</td>\n",
       "      <td>0.000000</td>\n",
       "      <td>0.000000</td>\n",
       "      <td>290.000000</td>\n",
       "      <td>5.720000e+02</td>\n",
       "      <td>1.000000</td>\n",
       "      <td>0.000000</td>\n",
       "      <td>0.000000</td>\n",
       "      <td>...</td>\n",
       "      <td>1.000000</td>\n",
       "      <td>290.000000</td>\n",
       "      <td>0.000000</td>\n",
       "      <td>1900.000000</td>\n",
       "      <td>0.000000</td>\n",
       "      <td>98001.000000</td>\n",
       "      <td>47.155900</td>\n",
       "      <td>-122.519000</td>\n",
       "      <td>399.000000</td>\n",
       "      <td>659.000000</td>\n",
       "    </tr>\n",
       "    <tr>\n",
       "      <th>25%</th>\n",
       "      <td>4322.250000</td>\n",
       "      <td>2.114701e+09</td>\n",
       "      <td>3.210000e+05</td>\n",
       "      <td>3.000000</td>\n",
       "      <td>1.500000</td>\n",
       "      <td>1430.000000</td>\n",
       "      <td>5.081250e+03</td>\n",
       "      <td>1.000000</td>\n",
       "      <td>0.000000</td>\n",
       "      <td>0.000000</td>\n",
       "      <td>...</td>\n",
       "      <td>7.000000</td>\n",
       "      <td>1200.000000</td>\n",
       "      <td>0.000000</td>\n",
       "      <td>1951.000000</td>\n",
       "      <td>0.000000</td>\n",
       "      <td>98033.000000</td>\n",
       "      <td>47.471200</td>\n",
       "      <td>-122.329000</td>\n",
       "      <td>1490.000000</td>\n",
       "      <td>5111.250000</td>\n",
       "    </tr>\n",
       "    <tr>\n",
       "      <th>50%</th>\n",
       "      <td>8644.500000</td>\n",
       "      <td>3.903650e+09</td>\n",
       "      <td>4.500000e+05</td>\n",
       "      <td>3.000000</td>\n",
       "      <td>2.250000</td>\n",
       "      <td>1920.000000</td>\n",
       "      <td>7.642000e+03</td>\n",
       "      <td>1.500000</td>\n",
       "      <td>0.000000</td>\n",
       "      <td>0.000000</td>\n",
       "      <td>...</td>\n",
       "      <td>7.000000</td>\n",
       "      <td>1560.000000</td>\n",
       "      <td>0.000000</td>\n",
       "      <td>1974.000000</td>\n",
       "      <td>0.000000</td>\n",
       "      <td>98065.000000</td>\n",
       "      <td>47.571600</td>\n",
       "      <td>-122.230000</td>\n",
       "      <td>1840.000000</td>\n",
       "      <td>7622.500000</td>\n",
       "    </tr>\n",
       "    <tr>\n",
       "      <th>75%</th>\n",
       "      <td>12966.750000</td>\n",
       "      <td>7.301150e+09</td>\n",
       "      <td>6.450000e+05</td>\n",
       "      <td>4.000000</td>\n",
       "      <td>2.500000</td>\n",
       "      <td>2550.000000</td>\n",
       "      <td>1.072575e+04</td>\n",
       "      <td>2.000000</td>\n",
       "      <td>0.000000</td>\n",
       "      <td>0.000000</td>\n",
       "      <td>...</td>\n",
       "      <td>8.000000</td>\n",
       "      <td>2214.500000</td>\n",
       "      <td>560.000000</td>\n",
       "      <td>1996.000000</td>\n",
       "      <td>0.000000</td>\n",
       "      <td>98118.000000</td>\n",
       "      <td>47.677900</td>\n",
       "      <td>-122.126000</td>\n",
       "      <td>2360.000000</td>\n",
       "      <td>10101.750000</td>\n",
       "    </tr>\n",
       "    <tr>\n",
       "      <th>max</th>\n",
       "      <td>17289.000000</td>\n",
       "      <td>9.900000e+09</td>\n",
       "      <td>7.700000e+06</td>\n",
       "      <td>33.000000</td>\n",
       "      <td>8.000000</td>\n",
       "      <td>13540.000000</td>\n",
       "      <td>1.651359e+06</td>\n",
       "      <td>3.500000</td>\n",
       "      <td>1.000000</td>\n",
       "      <td>4.000000</td>\n",
       "      <td>...</td>\n",
       "      <td>13.000000</td>\n",
       "      <td>9410.000000</td>\n",
       "      <td>4820.000000</td>\n",
       "      <td>2015.000000</td>\n",
       "      <td>2015.000000</td>\n",
       "      <td>98199.000000</td>\n",
       "      <td>47.777600</td>\n",
       "      <td>-121.315000</td>\n",
       "      <td>6210.000000</td>\n",
       "      <td>858132.000000</td>\n",
       "    </tr>\n",
       "  </tbody>\n",
       "</table>\n",
       "<p>8 rows × 21 columns</p>\n",
       "</div>"
      ],
      "text/plain": [
       "         Unnamed: 0            id         price      bedrooms     bathrooms  \\\n",
       "count  17290.000000  1.729000e+04  1.729000e+04  17290.000000  17290.000000   \n",
       "mean    8644.500000  4.565502e+09  5.407395e+05      3.372470      2.111943   \n",
       "std     4991.337413  2.874656e+09  3.733190e+05      0.939346      0.770476   \n",
       "min        0.000000  1.000102e+06  7.500000e+04      0.000000      0.000000   \n",
       "25%     4322.250000  2.114701e+09  3.210000e+05      3.000000      1.500000   \n",
       "50%     8644.500000  3.903650e+09  4.500000e+05      3.000000      2.250000   \n",
       "75%    12966.750000  7.301150e+09  6.450000e+05      4.000000      2.500000   \n",
       "max    17289.000000  9.900000e+09  7.700000e+06     33.000000      8.000000   \n",
       "\n",
       "        sqft_living      sqft_lot        floors    waterfront          view  \\\n",
       "count  17290.000000  1.729000e+04  17290.000000  17290.000000  17290.000000   \n",
       "mean    2081.464604  1.524340e+04      1.490312      0.007981      0.238519   \n",
       "std      920.018539  4.230462e+04      0.538909      0.088985      0.775229   \n",
       "min      290.000000  5.720000e+02      1.000000      0.000000      0.000000   \n",
       "25%     1430.000000  5.081250e+03      1.000000      0.000000      0.000000   \n",
       "50%     1920.000000  7.642000e+03      1.500000      0.000000      0.000000   \n",
       "75%     2550.000000  1.072575e+04      2.000000      0.000000      0.000000   \n",
       "max    13540.000000  1.651359e+06      3.500000      1.000000      4.000000   \n",
       "\n",
       "       ...         grade    sqft_above  sqft_basement      yr_built  \\\n",
       "count  ...  17290.000000  17290.000000   17290.000000  17290.000000   \n",
       "mean   ...      7.654425   1789.306015     292.158589   1970.792019   \n",
       "std    ...      1.174718    829.265107     443.151874     29.343516   \n",
       "min    ...      1.000000    290.000000       0.000000   1900.000000   \n",
       "25%    ...      7.000000   1200.000000       0.000000   1951.000000   \n",
       "50%    ...      7.000000   1560.000000       0.000000   1974.000000   \n",
       "75%    ...      8.000000   2214.500000     560.000000   1996.000000   \n",
       "max    ...     13.000000   9410.000000    4820.000000   2015.000000   \n",
       "\n",
       "       yr_renovated       zipcode           lat          long  sqft_living15  \\\n",
       "count  17290.000000  17290.000000  17290.000000  17290.000000   17290.000000   \n",
       "mean      83.806304  98078.193175     47.560058   -122.214258    1987.986698   \n",
       "std      400.329376     53.607949      0.138412      0.140857     684.802635   \n",
       "min        0.000000  98001.000000     47.155900   -122.519000     399.000000   \n",
       "25%        0.000000  98033.000000     47.471200   -122.329000    1490.000000   \n",
       "50%        0.000000  98065.000000     47.571600   -122.230000    1840.000000   \n",
       "75%        0.000000  98118.000000     47.677900   -122.126000    2360.000000   \n",
       "max     2015.000000  98199.000000     47.777600   -121.315000    6210.000000   \n",
       "\n",
       "          sqft_lot15  \n",
       "count   17290.000000  \n",
       "mean    12873.475824  \n",
       "std     27227.437583  \n",
       "min       659.000000  \n",
       "25%      5111.250000  \n",
       "50%      7622.500000  \n",
       "75%     10101.750000  \n",
       "max    858132.000000  \n",
       "\n",
       "[8 rows x 21 columns]"
      ]
     },
     "execution_count": 71,
     "metadata": {},
     "output_type": "execute_result"
    }
   ],
   "source": [
    "data.describe()"
   ]
  },
  {
   "cell_type": "code",
   "execution_count": 72,
   "metadata": {},
   "outputs": [
    {
     "data": {
      "text/html": [
       "<div>\n",
       "<style scoped>\n",
       "    .dataframe tbody tr th:only-of-type {\n",
       "        vertical-align: middle;\n",
       "    }\n",
       "\n",
       "    .dataframe tbody tr th {\n",
       "        vertical-align: top;\n",
       "    }\n",
       "\n",
       "    .dataframe thead th {\n",
       "        text-align: right;\n",
       "    }\n",
       "</style>\n",
       "<table border=\"1\" class=\"dataframe\">\n",
       "  <thead>\n",
       "    <tr style=\"text-align: right;\">\n",
       "      <th></th>\n",
       "      <th>Unnamed: 0</th>\n",
       "      <th>id</th>\n",
       "      <th>price</th>\n",
       "      <th>bedrooms</th>\n",
       "      <th>bathrooms</th>\n",
       "      <th>sqft_living</th>\n",
       "      <th>sqft_lot</th>\n",
       "      <th>floors</th>\n",
       "      <th>waterfront</th>\n",
       "      <th>view</th>\n",
       "      <th>...</th>\n",
       "      <th>grade</th>\n",
       "      <th>sqft_above</th>\n",
       "      <th>sqft_basement</th>\n",
       "      <th>yr_built</th>\n",
       "      <th>yr_renovated</th>\n",
       "      <th>zipcode</th>\n",
       "      <th>lat</th>\n",
       "      <th>long</th>\n",
       "      <th>sqft_living15</th>\n",
       "      <th>sqft_lot15</th>\n",
       "    </tr>\n",
       "  </thead>\n",
       "  <tbody>\n",
       "    <tr>\n",
       "      <th>Unnamed: 0</th>\n",
       "      <td>1.000000e+00</td>\n",
       "      <td>-0.006139</td>\n",
       "      <td>-0.012306</td>\n",
       "      <td>-0.010271</td>\n",
       "      <td>-0.004940</td>\n",
       "      <td>-0.008900</td>\n",
       "      <td>-0.003500</td>\n",
       "      <td>0.010599</td>\n",
       "      <td>-0.008845</td>\n",
       "      <td>-6.278161e-07</td>\n",
       "      <td>...</td>\n",
       "      <td>-0.005015</td>\n",
       "      <td>-0.003406</td>\n",
       "      <td>-0.012104</td>\n",
       "      <td>0.007496</td>\n",
       "      <td>-0.003423</td>\n",
       "      <td>0.006218</td>\n",
       "      <td>0.002470</td>\n",
       "      <td>-0.006992</td>\n",
       "      <td>-0.008961</td>\n",
       "      <td>0.000463</td>\n",
       "    </tr>\n",
       "    <tr>\n",
       "      <th>id</th>\n",
       "      <td>-6.138777e-03</td>\n",
       "      <td>1.000000</td>\n",
       "      <td>-0.015644</td>\n",
       "      <td>-0.001529</td>\n",
       "      <td>0.003833</td>\n",
       "      <td>-0.014251</td>\n",
       "      <td>-0.129837</td>\n",
       "      <td>0.017126</td>\n",
       "      <td>0.000101</td>\n",
       "      <td>1.259374e-02</td>\n",
       "      <td>...</td>\n",
       "      <td>0.003163</td>\n",
       "      <td>-0.013932</td>\n",
       "      <td>-0.003516</td>\n",
       "      <td>0.013697</td>\n",
       "      <td>-0.019560</td>\n",
       "      <td>-0.008166</td>\n",
       "      <td>-0.001865</td>\n",
       "      <td>0.017388</td>\n",
       "      <td>-0.007494</td>\n",
       "      <td>-0.139605</td>\n",
       "    </tr>\n",
       "    <tr>\n",
       "      <th>price</th>\n",
       "      <td>-1.230630e-02</td>\n",
       "      <td>-0.015644</td>\n",
       "      <td>1.000000</td>\n",
       "      <td>0.305106</td>\n",
       "      <td>0.524335</td>\n",
       "      <td>0.703540</td>\n",
       "      <td>0.086803</td>\n",
       "      <td>0.256985</td>\n",
       "      <td>0.275779</td>\n",
       "      <td>3.954851e-01</td>\n",
       "      <td>...</td>\n",
       "      <td>0.666215</td>\n",
       "      <td>0.607760</td>\n",
       "      <td>0.323312</td>\n",
       "      <td>0.056450</td>\n",
       "      <td>0.117770</td>\n",
       "      <td>-0.048958</td>\n",
       "      <td>0.302394</td>\n",
       "      <td>0.019327</td>\n",
       "      <td>0.585567</td>\n",
       "      <td>0.081423</td>\n",
       "    </tr>\n",
       "    <tr>\n",
       "      <th>bedrooms</th>\n",
       "      <td>-1.027127e-02</td>\n",
       "      <td>-0.001529</td>\n",
       "      <td>0.305106</td>\n",
       "      <td>1.000000</td>\n",
       "      <td>0.507867</td>\n",
       "      <td>0.570428</td>\n",
       "      <td>0.029375</td>\n",
       "      <td>0.172975</td>\n",
       "      <td>-0.008581</td>\n",
       "      <td>7.974076e-02</td>\n",
       "      <td>...</td>\n",
       "      <td>0.354679</td>\n",
       "      <td>0.472492</td>\n",
       "      <td>0.300085</td>\n",
       "      <td>0.153769</td>\n",
       "      <td>0.013679</td>\n",
       "      <td>-0.147515</td>\n",
       "      <td>-0.002170</td>\n",
       "      <td>0.124279</td>\n",
       "      <td>0.387589</td>\n",
       "      <td>0.026665</td>\n",
       "    </tr>\n",
       "    <tr>\n",
       "      <th>bathrooms</th>\n",
       "      <td>-4.939574e-03</td>\n",
       "      <td>0.003833</td>\n",
       "      <td>0.524335</td>\n",
       "      <td>0.507867</td>\n",
       "      <td>1.000000</td>\n",
       "      <td>0.755270</td>\n",
       "      <td>0.085470</td>\n",
       "      <td>0.497967</td>\n",
       "      <td>0.065848</td>\n",
       "      <td>1.888170e-01</td>\n",
       "      <td>...</td>\n",
       "      <td>0.664191</td>\n",
       "      <td>0.686853</td>\n",
       "      <td>0.282700</td>\n",
       "      <td>0.507761</td>\n",
       "      <td>0.048140</td>\n",
       "      <td>-0.201527</td>\n",
       "      <td>0.023074</td>\n",
       "      <td>0.221308</td>\n",
       "      <td>0.568080</td>\n",
       "      <td>0.086499</td>\n",
       "    </tr>\n",
       "    <tr>\n",
       "      <th>sqft_living</th>\n",
       "      <td>-8.900440e-03</td>\n",
       "      <td>-0.014251</td>\n",
       "      <td>0.703540</td>\n",
       "      <td>0.570428</td>\n",
       "      <td>0.755270</td>\n",
       "      <td>1.000000</td>\n",
       "      <td>0.166810</td>\n",
       "      <td>0.357169</td>\n",
       "      <td>0.109738</td>\n",
       "      <td>2.833358e-01</td>\n",
       "      <td>...</td>\n",
       "      <td>0.762929</td>\n",
       "      <td>0.876696</td>\n",
       "      <td>0.435529</td>\n",
       "      <td>0.319397</td>\n",
       "      <td>0.051448</td>\n",
       "      <td>-0.195893</td>\n",
       "      <td>0.052646</td>\n",
       "      <td>0.234453</td>\n",
       "      <td>0.755066</td>\n",
       "      <td>0.179570</td>\n",
       "    </tr>\n",
       "    <tr>\n",
       "      <th>sqft_lot</th>\n",
       "      <td>-3.500101e-03</td>\n",
       "      <td>-0.129837</td>\n",
       "      <td>0.086803</td>\n",
       "      <td>0.029375</td>\n",
       "      <td>0.085470</td>\n",
       "      <td>0.166810</td>\n",
       "      <td>1.000000</td>\n",
       "      <td>-0.002205</td>\n",
       "      <td>0.015356</td>\n",
       "      <td>7.305841e-02</td>\n",
       "      <td>...</td>\n",
       "      <td>0.110320</td>\n",
       "      <td>0.180755</td>\n",
       "      <td>0.008065</td>\n",
       "      <td>0.054228</td>\n",
       "      <td>0.004520</td>\n",
       "      <td>-0.126590</td>\n",
       "      <td>-0.082029</td>\n",
       "      <td>0.226190</td>\n",
       "      <td>0.136959</td>\n",
       "      <td>0.701875</td>\n",
       "    </tr>\n",
       "    <tr>\n",
       "      <th>floors</th>\n",
       "      <td>1.059874e-02</td>\n",
       "      <td>0.017126</td>\n",
       "      <td>0.256985</td>\n",
       "      <td>0.172975</td>\n",
       "      <td>0.497967</td>\n",
       "      <td>0.357169</td>\n",
       "      <td>-0.002205</td>\n",
       "      <td>1.000000</td>\n",
       "      <td>0.025132</td>\n",
       "      <td>2.588299e-02</td>\n",
       "      <td>...</td>\n",
       "      <td>0.458984</td>\n",
       "      <td>0.528509</td>\n",
       "      <td>-0.247481</td>\n",
       "      <td>0.483657</td>\n",
       "      <td>0.005985</td>\n",
       "      <td>-0.060560</td>\n",
       "      <td>0.048227</td>\n",
       "      <td>0.128795</td>\n",
       "      <td>0.283933</td>\n",
       "      <td>-0.008170</td>\n",
       "    </tr>\n",
       "    <tr>\n",
       "      <th>waterfront</th>\n",
       "      <td>-8.844970e-03</td>\n",
       "      <td>0.000101</td>\n",
       "      <td>0.275779</td>\n",
       "      <td>-0.008581</td>\n",
       "      <td>0.065848</td>\n",
       "      <td>0.109738</td>\n",
       "      <td>0.015356</td>\n",
       "      <td>0.025132</td>\n",
       "      <td>1.000000</td>\n",
       "      <td>4.075653e-01</td>\n",
       "      <td>...</td>\n",
       "      <td>0.092234</td>\n",
       "      <td>0.077162</td>\n",
       "      <td>0.083433</td>\n",
       "      <td>-0.021981</td>\n",
       "      <td>0.094268</td>\n",
       "      <td>0.034282</td>\n",
       "      <td>-0.013331</td>\n",
       "      <td>-0.042728</td>\n",
       "      <td>0.091090</td>\n",
       "      <td>0.026895</td>\n",
       "    </tr>\n",
       "    <tr>\n",
       "      <th>view</th>\n",
       "      <td>-6.278161e-07</td>\n",
       "      <td>0.012594</td>\n",
       "      <td>0.395485</td>\n",
       "      <td>0.079741</td>\n",
       "      <td>0.188817</td>\n",
       "      <td>0.283336</td>\n",
       "      <td>0.073058</td>\n",
       "      <td>0.025883</td>\n",
       "      <td>0.407565</td>\n",
       "      <td>1.000000e+00</td>\n",
       "      <td>...</td>\n",
       "      <td>0.249554</td>\n",
       "      <td>0.164747</td>\n",
       "      <td>0.279939</td>\n",
       "      <td>-0.049593</td>\n",
       "      <td>0.091291</td>\n",
       "      <td>0.089475</td>\n",
       "      <td>0.003820</td>\n",
       "      <td>-0.077572</td>\n",
       "      <td>0.279999</td>\n",
       "      <td>0.073185</td>\n",
       "    </tr>\n",
       "    <tr>\n",
       "      <th>condition</th>\n",
       "      <td>-1.780728e-03</td>\n",
       "      <td>-0.014272</td>\n",
       "      <td>0.036099</td>\n",
       "      <td>0.025266</td>\n",
       "      <td>-0.122976</td>\n",
       "      <td>-0.061530</td>\n",
       "      <td>-0.013715</td>\n",
       "      <td>-0.259230</td>\n",
       "      <td>0.009608</td>\n",
       "      <td>4.505961e-02</td>\n",
       "      <td>...</td>\n",
       "      <td>-0.142066</td>\n",
       "      <td>-0.157466</td>\n",
       "      <td>0.166923</td>\n",
       "      <td>-0.358921</td>\n",
       "      <td>-0.060969</td>\n",
       "      <td>0.007068</td>\n",
       "      <td>-0.009927</td>\n",
       "      <td>-0.109200</td>\n",
       "      <td>-0.094307</td>\n",
       "      <td>-0.007125</td>\n",
       "    </tr>\n",
       "    <tr>\n",
       "      <th>grade</th>\n",
       "      <td>-5.014634e-03</td>\n",
       "      <td>0.003163</td>\n",
       "      <td>0.666215</td>\n",
       "      <td>0.354679</td>\n",
       "      <td>0.664191</td>\n",
       "      <td>0.762929</td>\n",
       "      <td>0.110320</td>\n",
       "      <td>0.458984</td>\n",
       "      <td>0.092234</td>\n",
       "      <td>2.495544e-01</td>\n",
       "      <td>...</td>\n",
       "      <td>1.000000</td>\n",
       "      <td>0.758247</td>\n",
       "      <td>0.165003</td>\n",
       "      <td>0.448003</td>\n",
       "      <td>0.007988</td>\n",
       "      <td>-0.184946</td>\n",
       "      <td>0.116196</td>\n",
       "      <td>0.198369</td>\n",
       "      <td>0.715745</td>\n",
       "      <td>0.116062</td>\n",
       "    </tr>\n",
       "    <tr>\n",
       "      <th>sqft_above</th>\n",
       "      <td>-3.406218e-03</td>\n",
       "      <td>-0.013932</td>\n",
       "      <td>0.607760</td>\n",
       "      <td>0.472492</td>\n",
       "      <td>0.686853</td>\n",
       "      <td>0.876696</td>\n",
       "      <td>0.180755</td>\n",
       "      <td>0.528509</td>\n",
       "      <td>0.077162</td>\n",
       "      <td>1.647470e-01</td>\n",
       "      <td>...</td>\n",
       "      <td>0.758247</td>\n",
       "      <td>1.000000</td>\n",
       "      <td>-0.051199</td>\n",
       "      <td>0.424328</td>\n",
       "      <td>0.020413</td>\n",
       "      <td>-0.259745</td>\n",
       "      <td>0.001374</td>\n",
       "      <td>0.338192</td>\n",
       "      <td>0.731077</td>\n",
       "      <td>0.193874</td>\n",
       "    </tr>\n",
       "    <tr>\n",
       "      <th>sqft_basement</th>\n",
       "      <td>-1.210401e-02</td>\n",
       "      <td>-0.003516</td>\n",
       "      <td>0.323312</td>\n",
       "      <td>0.300085</td>\n",
       "      <td>0.282700</td>\n",
       "      <td>0.435529</td>\n",
       "      <td>0.008065</td>\n",
       "      <td>-0.247481</td>\n",
       "      <td>0.083433</td>\n",
       "      <td>2.799385e-01</td>\n",
       "      <td>...</td>\n",
       "      <td>0.165003</td>\n",
       "      <td>-0.051199</td>\n",
       "      <td>1.000000</td>\n",
       "      <td>-0.130948</td>\n",
       "      <td>0.068611</td>\n",
       "      <td>0.079368</td>\n",
       "      <td>0.106727</td>\n",
       "      <td>-0.146112</td>\n",
       "      <td>0.199521</td>\n",
       "      <td>0.010007</td>\n",
       "    </tr>\n",
       "    <tr>\n",
       "      <th>yr_built</th>\n",
       "      <td>7.495925e-03</td>\n",
       "      <td>0.013697</td>\n",
       "      <td>0.056450</td>\n",
       "      <td>0.153769</td>\n",
       "      <td>0.507761</td>\n",
       "      <td>0.319397</td>\n",
       "      <td>0.054228</td>\n",
       "      <td>0.483657</td>\n",
       "      <td>-0.021981</td>\n",
       "      <td>-4.959272e-02</td>\n",
       "      <td>...</td>\n",
       "      <td>0.448003</td>\n",
       "      <td>0.424328</td>\n",
       "      <td>-0.130948</td>\n",
       "      <td>1.000000</td>\n",
       "      <td>-0.222668</td>\n",
       "      <td>-0.348366</td>\n",
       "      <td>-0.145220</td>\n",
       "      <td>0.407768</td>\n",
       "      <td>0.332340</td>\n",
       "      <td>0.076624</td>\n",
       "    </tr>\n",
       "    <tr>\n",
       "      <th>yr_renovated</th>\n",
       "      <td>-3.423178e-03</td>\n",
       "      <td>-0.019560</td>\n",
       "      <td>0.117770</td>\n",
       "      <td>0.013679</td>\n",
       "      <td>0.048140</td>\n",
       "      <td>0.051448</td>\n",
       "      <td>0.004520</td>\n",
       "      <td>0.005985</td>\n",
       "      <td>0.094268</td>\n",
       "      <td>9.129115e-02</td>\n",
       "      <td>...</td>\n",
       "      <td>0.007988</td>\n",
       "      <td>0.020413</td>\n",
       "      <td>0.068611</td>\n",
       "      <td>-0.222668</td>\n",
       "      <td>1.000000</td>\n",
       "      <td>0.063641</td>\n",
       "      <td>0.027804</td>\n",
       "      <td>-0.061159</td>\n",
       "      <td>-0.010221</td>\n",
       "      <td>0.004489</td>\n",
       "    </tr>\n",
       "    <tr>\n",
       "      <th>zipcode</th>\n",
       "      <td>6.217517e-03</td>\n",
       "      <td>-0.008166</td>\n",
       "      <td>-0.048958</td>\n",
       "      <td>-0.147515</td>\n",
       "      <td>-0.201527</td>\n",
       "      <td>-0.195893</td>\n",
       "      <td>-0.126590</td>\n",
       "      <td>-0.060560</td>\n",
       "      <td>0.034282</td>\n",
       "      <td>8.947529e-02</td>\n",
       "      <td>...</td>\n",
       "      <td>-0.184946</td>\n",
       "      <td>-0.259745</td>\n",
       "      <td>0.079368</td>\n",
       "      <td>-0.348366</td>\n",
       "      <td>0.063641</td>\n",
       "      <td>1.000000</td>\n",
       "      <td>0.264712</td>\n",
       "      <td>-0.563027</td>\n",
       "      <td>-0.273903</td>\n",
       "      <td>-0.145921</td>\n",
       "    </tr>\n",
       "    <tr>\n",
       "      <th>lat</th>\n",
       "      <td>2.469575e-03</td>\n",
       "      <td>-0.001865</td>\n",
       "      <td>0.302394</td>\n",
       "      <td>-0.002170</td>\n",
       "      <td>0.023074</td>\n",
       "      <td>0.052646</td>\n",
       "      <td>-0.082029</td>\n",
       "      <td>0.048227</td>\n",
       "      <td>-0.013331</td>\n",
       "      <td>3.819731e-03</td>\n",
       "      <td>...</td>\n",
       "      <td>0.116196</td>\n",
       "      <td>0.001374</td>\n",
       "      <td>0.106727</td>\n",
       "      <td>-0.145220</td>\n",
       "      <td>0.027804</td>\n",
       "      <td>0.264712</td>\n",
       "      <td>1.000000</td>\n",
       "      <td>-0.131514</td>\n",
       "      <td>0.054175</td>\n",
       "      <td>-0.086265</td>\n",
       "    </tr>\n",
       "    <tr>\n",
       "      <th>long</th>\n",
       "      <td>-6.991705e-03</td>\n",
       "      <td>0.017388</td>\n",
       "      <td>0.019327</td>\n",
       "      <td>0.124279</td>\n",
       "      <td>0.221308</td>\n",
       "      <td>0.234453</td>\n",
       "      <td>0.226190</td>\n",
       "      <td>0.128795</td>\n",
       "      <td>-0.042728</td>\n",
       "      <td>-7.757235e-02</td>\n",
       "      <td>...</td>\n",
       "      <td>0.198369</td>\n",
       "      <td>0.338192</td>\n",
       "      <td>-0.146112</td>\n",
       "      <td>0.407768</td>\n",
       "      <td>-0.061159</td>\n",
       "      <td>-0.563027</td>\n",
       "      <td>-0.131514</td>\n",
       "      <td>1.000000</td>\n",
       "      <td>0.327882</td>\n",
       "      <td>0.253981</td>\n",
       "    </tr>\n",
       "    <tr>\n",
       "      <th>sqft_living15</th>\n",
       "      <td>-8.961176e-03</td>\n",
       "      <td>-0.007494</td>\n",
       "      <td>0.585567</td>\n",
       "      <td>0.387589</td>\n",
       "      <td>0.568080</td>\n",
       "      <td>0.755066</td>\n",
       "      <td>0.136959</td>\n",
       "      <td>0.283933</td>\n",
       "      <td>0.091090</td>\n",
       "      <td>2.799990e-01</td>\n",
       "      <td>...</td>\n",
       "      <td>0.715745</td>\n",
       "      <td>0.731077</td>\n",
       "      <td>0.199521</td>\n",
       "      <td>0.332340</td>\n",
       "      <td>-0.010221</td>\n",
       "      <td>-0.273903</td>\n",
       "      <td>0.054175</td>\n",
       "      <td>0.327882</td>\n",
       "      <td>1.000000</td>\n",
       "      <td>0.178533</td>\n",
       "    </tr>\n",
       "    <tr>\n",
       "      <th>sqft_lot15</th>\n",
       "      <td>4.630729e-04</td>\n",
       "      <td>-0.139605</td>\n",
       "      <td>0.081423</td>\n",
       "      <td>0.026665</td>\n",
       "      <td>0.086499</td>\n",
       "      <td>0.179570</td>\n",
       "      <td>0.701875</td>\n",
       "      <td>-0.008170</td>\n",
       "      <td>0.026895</td>\n",
       "      <td>7.318502e-02</td>\n",
       "      <td>...</td>\n",
       "      <td>0.116062</td>\n",
       "      <td>0.193874</td>\n",
       "      <td>0.010007</td>\n",
       "      <td>0.076624</td>\n",
       "      <td>0.004489</td>\n",
       "      <td>-0.145921</td>\n",
       "      <td>-0.086265</td>\n",
       "      <td>0.253981</td>\n",
       "      <td>0.178533</td>\n",
       "      <td>1.000000</td>\n",
       "    </tr>\n",
       "  </tbody>\n",
       "</table>\n",
       "<p>21 rows × 21 columns</p>\n",
       "</div>"
      ],
      "text/plain": [
       "                 Unnamed: 0        id     price  bedrooms  bathrooms  \\\n",
       "Unnamed: 0     1.000000e+00 -0.006139 -0.012306 -0.010271  -0.004940   \n",
       "id            -6.138777e-03  1.000000 -0.015644 -0.001529   0.003833   \n",
       "price         -1.230630e-02 -0.015644  1.000000  0.305106   0.524335   \n",
       "bedrooms      -1.027127e-02 -0.001529  0.305106  1.000000   0.507867   \n",
       "bathrooms     -4.939574e-03  0.003833  0.524335  0.507867   1.000000   \n",
       "sqft_living   -8.900440e-03 -0.014251  0.703540  0.570428   0.755270   \n",
       "sqft_lot      -3.500101e-03 -0.129837  0.086803  0.029375   0.085470   \n",
       "floors         1.059874e-02  0.017126  0.256985  0.172975   0.497967   \n",
       "waterfront    -8.844970e-03  0.000101  0.275779 -0.008581   0.065848   \n",
       "view          -6.278161e-07  0.012594  0.395485  0.079741   0.188817   \n",
       "condition     -1.780728e-03 -0.014272  0.036099  0.025266  -0.122976   \n",
       "grade         -5.014634e-03  0.003163  0.666215  0.354679   0.664191   \n",
       "sqft_above    -3.406218e-03 -0.013932  0.607760  0.472492   0.686853   \n",
       "sqft_basement -1.210401e-02 -0.003516  0.323312  0.300085   0.282700   \n",
       "yr_built       7.495925e-03  0.013697  0.056450  0.153769   0.507761   \n",
       "yr_renovated  -3.423178e-03 -0.019560  0.117770  0.013679   0.048140   \n",
       "zipcode        6.217517e-03 -0.008166 -0.048958 -0.147515  -0.201527   \n",
       "lat            2.469575e-03 -0.001865  0.302394 -0.002170   0.023074   \n",
       "long          -6.991705e-03  0.017388  0.019327  0.124279   0.221308   \n",
       "sqft_living15 -8.961176e-03 -0.007494  0.585567  0.387589   0.568080   \n",
       "sqft_lot15     4.630729e-04 -0.139605  0.081423  0.026665   0.086499   \n",
       "\n",
       "               sqft_living  sqft_lot    floors  waterfront          view  ...  \\\n",
       "Unnamed: 0       -0.008900 -0.003500  0.010599   -0.008845 -6.278161e-07  ...   \n",
       "id               -0.014251 -0.129837  0.017126    0.000101  1.259374e-02  ...   \n",
       "price             0.703540  0.086803  0.256985    0.275779  3.954851e-01  ...   \n",
       "bedrooms          0.570428  0.029375  0.172975   -0.008581  7.974076e-02  ...   \n",
       "bathrooms         0.755270  0.085470  0.497967    0.065848  1.888170e-01  ...   \n",
       "sqft_living       1.000000  0.166810  0.357169    0.109738  2.833358e-01  ...   \n",
       "sqft_lot          0.166810  1.000000 -0.002205    0.015356  7.305841e-02  ...   \n",
       "floors            0.357169 -0.002205  1.000000    0.025132  2.588299e-02  ...   \n",
       "waterfront        0.109738  0.015356  0.025132    1.000000  4.075653e-01  ...   \n",
       "view              0.283336  0.073058  0.025883    0.407565  1.000000e+00  ...   \n",
       "condition        -0.061530 -0.013715 -0.259230    0.009608  4.505961e-02  ...   \n",
       "grade             0.762929  0.110320  0.458984    0.092234  2.495544e-01  ...   \n",
       "sqft_above        0.876696  0.180755  0.528509    0.077162  1.647470e-01  ...   \n",
       "sqft_basement     0.435529  0.008065 -0.247481    0.083433  2.799385e-01  ...   \n",
       "yr_built          0.319397  0.054228  0.483657   -0.021981 -4.959272e-02  ...   \n",
       "yr_renovated      0.051448  0.004520  0.005985    0.094268  9.129115e-02  ...   \n",
       "zipcode          -0.195893 -0.126590 -0.060560    0.034282  8.947529e-02  ...   \n",
       "lat               0.052646 -0.082029  0.048227   -0.013331  3.819731e-03  ...   \n",
       "long              0.234453  0.226190  0.128795   -0.042728 -7.757235e-02  ...   \n",
       "sqft_living15     0.755066  0.136959  0.283933    0.091090  2.799990e-01  ...   \n",
       "sqft_lot15        0.179570  0.701875 -0.008170    0.026895  7.318502e-02  ...   \n",
       "\n",
       "                  grade  sqft_above  sqft_basement  yr_built  yr_renovated  \\\n",
       "Unnamed: 0    -0.005015   -0.003406      -0.012104  0.007496     -0.003423   \n",
       "id             0.003163   -0.013932      -0.003516  0.013697     -0.019560   \n",
       "price          0.666215    0.607760       0.323312  0.056450      0.117770   \n",
       "bedrooms       0.354679    0.472492       0.300085  0.153769      0.013679   \n",
       "bathrooms      0.664191    0.686853       0.282700  0.507761      0.048140   \n",
       "sqft_living    0.762929    0.876696       0.435529  0.319397      0.051448   \n",
       "sqft_lot       0.110320    0.180755       0.008065  0.054228      0.004520   \n",
       "floors         0.458984    0.528509      -0.247481  0.483657      0.005985   \n",
       "waterfront     0.092234    0.077162       0.083433 -0.021981      0.094268   \n",
       "view           0.249554    0.164747       0.279939 -0.049593      0.091291   \n",
       "condition     -0.142066   -0.157466       0.166923 -0.358921     -0.060969   \n",
       "grade          1.000000    0.758247       0.165003  0.448003      0.007988   \n",
       "sqft_above     0.758247    1.000000      -0.051199  0.424328      0.020413   \n",
       "sqft_basement  0.165003   -0.051199       1.000000 -0.130948      0.068611   \n",
       "yr_built       0.448003    0.424328      -0.130948  1.000000     -0.222668   \n",
       "yr_renovated   0.007988    0.020413       0.068611 -0.222668      1.000000   \n",
       "zipcode       -0.184946   -0.259745       0.079368 -0.348366      0.063641   \n",
       "lat            0.116196    0.001374       0.106727 -0.145220      0.027804   \n",
       "long           0.198369    0.338192      -0.146112  0.407768     -0.061159   \n",
       "sqft_living15  0.715745    0.731077       0.199521  0.332340     -0.010221   \n",
       "sqft_lot15     0.116062    0.193874       0.010007  0.076624      0.004489   \n",
       "\n",
       "                zipcode       lat      long  sqft_living15  sqft_lot15  \n",
       "Unnamed: 0     0.006218  0.002470 -0.006992      -0.008961    0.000463  \n",
       "id            -0.008166 -0.001865  0.017388      -0.007494   -0.139605  \n",
       "price         -0.048958  0.302394  0.019327       0.585567    0.081423  \n",
       "bedrooms      -0.147515 -0.002170  0.124279       0.387589    0.026665  \n",
       "bathrooms     -0.201527  0.023074  0.221308       0.568080    0.086499  \n",
       "sqft_living   -0.195893  0.052646  0.234453       0.755066    0.179570  \n",
       "sqft_lot      -0.126590 -0.082029  0.226190       0.136959    0.701875  \n",
       "floors        -0.060560  0.048227  0.128795       0.283933   -0.008170  \n",
       "waterfront     0.034282 -0.013331 -0.042728       0.091090    0.026895  \n",
       "view           0.089475  0.003820 -0.077572       0.279999    0.073185  \n",
       "condition      0.007068 -0.009927 -0.109200      -0.094307   -0.007125  \n",
       "grade         -0.184946  0.116196  0.198369       0.715745    0.116062  \n",
       "sqft_above    -0.259745  0.001374  0.338192       0.731077    0.193874  \n",
       "sqft_basement  0.079368  0.106727 -0.146112       0.199521    0.010007  \n",
       "yr_built      -0.348366 -0.145220  0.407768       0.332340    0.076624  \n",
       "yr_renovated   0.063641  0.027804 -0.061159      -0.010221    0.004489  \n",
       "zipcode        1.000000  0.264712 -0.563027      -0.273903   -0.145921  \n",
       "lat            0.264712  1.000000 -0.131514       0.054175   -0.086265  \n",
       "long          -0.563027 -0.131514  1.000000       0.327882    0.253981  \n",
       "sqft_living15 -0.273903  0.054175  0.327882       1.000000    0.178533  \n",
       "sqft_lot15    -0.145921 -0.086265  0.253981       0.178533    1.000000  \n",
       "\n",
       "[21 rows x 21 columns]"
      ]
     },
     "execution_count": 72,
     "metadata": {},
     "output_type": "execute_result"
    }
   ],
   "source": [
    "data.corr()"
   ]
  },
  {
   "cell_type": "markdown",
   "metadata": {},
   "source": [
    "## PRICE"
   ]
  },
  {
   "cell_type": "code",
   "execution_count": 75,
   "metadata": {},
   "outputs": [
    {
     "data": {
      "text/plain": [
       "count    1.729000e+04\n",
       "mean     5.407395e+05\n",
       "std      3.733190e+05\n",
       "min      7.500000e+04\n",
       "25%      3.210000e+05\n",
       "50%      4.500000e+05\n",
       "75%      6.450000e+05\n",
       "max      7.700000e+06\n",
       "Name: price, dtype: float64"
      ]
     },
     "execution_count": 75,
     "metadata": {},
     "output_type": "execute_result"
    }
   ],
   "source": [
    "data.price.describe()"
   ]
  },
  {
   "cell_type": "code",
   "execution_count": 77,
   "metadata": {},
   "outputs": [
    {
     "data": {
      "text/plain": [
       "min         75000.0\n",
       "median     450000.0\n",
       "max       7700000.0\n",
       "Name: price, dtype: float64"
      ]
     },
     "execution_count": 77,
     "metadata": {},
     "output_type": "execute_result"
    }
   ],
   "source": [
    "data.price.agg(['min','median','max'])"
   ]
  },
  {
   "cell_type": "code",
   "execution_count": 87,
   "metadata": {},
   "outputs": [
    {
     "data": {
      "text/plain": [
       "<matplotlib.axes._subplots.AxesSubplot at 0x7fa4826a4b38>"
      ]
     },
     "execution_count": 87,
     "metadata": {},
     "output_type": "execute_result"
    },
    {
     "data": {
      "image/png": "[encoded data removed]",
      "text/plain": [
       "<Figure size 1080x360 with 1 Axes>"
      ]
     },
     "metadata": {
      "needs_background": "light"
     },
     "output_type": "display_data"
    }
   ],
   "source": [
    "data.price.hist(bins=200, figsize=(15,5))"
   ]
  },
  {
   "cell_type": "markdown",
   "metadata": {},
   "source": [
    "## DATE"
   ]
  },
  {
   "cell_type": "code",
   "execution_count": 89,
   "metadata": {},
   "outputs": [
    {
     "data": {
      "text/plain": [
       "0        20141006T000000\n",
       "1        20140821T000000\n",
       "2        20140815T000000\n",
       "3        20150331T000000\n",
       "4        20140714T000000\n",
       "              ...       \n",
       "17285    20150303T000000\n",
       "17286    20140520T000000\n",
       "17287    20140514T000000\n",
       "17288    20141204T000000\n",
       "17289    20150116T000000\n",
       "Name: date, Length: 17290, dtype: object"
      ]
     },
     "execution_count": 89,
     "metadata": {},
     "output_type": "execute_result"
    }
   ],
   "source": [
    "data.date"
   ]
  },
  {
   "cell_type": "code",
   "execution_count": 245,
   "metadata": {},
   "outputs": [
    {
     "data": {
      "text/plain": [
       "<matplotlib.axes._subplots.AxesSubplot at 0x7fa48df507b8>"
      ]
     },
     "execution_count": 245,
     "metadata": {},
     "output_type": "execute_result"
    },
    {
     "data": {
      "image/png": "[encoded data removed]",
      "text/plain": [
       "<Figure size 1080x360 with 1 Axes>"
      ]
     },
     "metadata": {
      "needs_background": "light"
     },
     "output_type": "display_data"
    }
   ],
   "source": [
    "data.date.hist(bins = 3, figsize=(15,5))"
   ]
  },
  {
   "cell_type": "markdown",
   "metadata": {},
   "source": [
    "Issue: elements are messy\n",
    "\n",
    "Solution: take T0s from elements and separate year-month-day\n",
    "\n",
    "Issue: too many categorical options\n",
    "\n",
    "Solution: turn series into desired number of bins based on timeframe"
   ]
  },
  {
   "cell_type": "markdown",
   "metadata": {},
   "source": [
    "## BEDROOMS"
   ]
  },
  {
   "cell_type": "code",
   "execution_count": 95,
   "metadata": {},
   "outputs": [
    {
     "data": {
      "text/plain": [
       "count    17290.000000\n",
       "mean         3.372470\n",
       "std          0.939346\n",
       "min          0.000000\n",
       "25%          3.000000\n",
       "50%          3.000000\n",
       "75%          4.000000\n",
       "max         33.000000\n",
       "Name: bedrooms, dtype: float64"
      ]
     },
     "execution_count": 95,
     "metadata": {},
     "output_type": "execute_result"
    }
   ],
   "source": [
    "data.bedrooms.describe()"
   ]
  },
  {
   "cell_type": "code",
   "execution_count": 98,
   "metadata": {},
   "outputs": [
    {
     "data": {
      "text/plain": [
       "<matplotlib.axes._subplots.AxesSubplot at 0x7fa4595bcdd8>"
      ]
     },
     "execution_count": 98,
     "metadata": {},
     "output_type": "execute_result"
    },
    {
     "data": {
      "image/png": "[encoded data removed]",
      "text/plain": [
       "<Figure size 432x288 with 1 Axes>"
      ]
     },
     "metadata": {
      "needs_background": "light"
     },
     "output_type": "display_data"
    }
   ],
   "source": [
    "data.bedrooms.hist(bins=25)"
   ]
  },
  {
   "cell_type": "code",
   "execution_count": 99,
   "metadata": {},
   "outputs": [
    {
     "data": {
      "text/html": [
       "<table class=\"simpletable\">\n",
       "<caption>OLS Regression Results</caption>\n",
       "<tr>\n",
       "  <th>Dep. Variable:</th>          <td>price</td>      <th>  R-squared:         </th>  <td>   0.093</td>  \n",
       "</tr>\n",
       "<tr>\n",
       "  <th>Model:</th>                   <td>OLS</td>       <th>  Adj. R-squared:    </th>  <td>   0.093</td>  \n",
       "</tr>\n",
       "<tr>\n",
       "  <th>Method:</th>             <td>Least Squares</td>  <th>  F-statistic:       </th>  <td>   1775.</td>  \n",
       "</tr>\n",
       "<tr>\n",
       "  <th>Date:</th>             <td>Fri, 16 Oct 2020</td> <th>  Prob (F-statistic):</th>   <td>  0.00</td>   \n",
       "</tr>\n",
       "<tr>\n",
       "  <th>Time:</th>                 <td>22:52:14</td>     <th>  Log-Likelihood:    </th> <td>-2.4552e+05</td>\n",
       "</tr>\n",
       "<tr>\n",
       "  <th>No. Observations:</th>      <td> 17290</td>      <th>  AIC:               </th>  <td>4.910e+05</td> \n",
       "</tr>\n",
       "<tr>\n",
       "  <th>Df Residuals:</th>          <td> 17288</td>      <th>  BIC:               </th>  <td>4.911e+05</td> \n",
       "</tr>\n",
       "<tr>\n",
       "  <th>Df Model:</th>              <td>     1</td>      <th>                     </th>      <td> </td>     \n",
       "</tr>\n",
       "<tr>\n",
       "  <th>Covariance Type:</th>      <td>nonrobust</td>    <th>                     </th>      <td> </td>     \n",
       "</tr>\n",
       "</table>\n",
       "<table class=\"simpletable\">\n",
       "<tr>\n",
       "      <td></td>         <th>coef</th>     <th>std err</th>      <th>t</th>      <th>P>|t|</th>  <th>[0.025</th>    <th>0.975]</th>  \n",
       "</tr>\n",
       "<tr>\n",
       "  <th>Intercept</th> <td> 1.318e+05</td> <td> 1.01e+04</td> <td>   13.080</td> <td> 0.000</td> <td> 1.12e+05</td> <td> 1.52e+05</td>\n",
       "</tr>\n",
       "<tr>\n",
       "  <th>bedrooms</th>  <td> 1.213e+05</td> <td> 2878.489</td> <td>   42.125</td> <td> 0.000</td> <td> 1.16e+05</td> <td> 1.27e+05</td>\n",
       "</tr>\n",
       "</table>\n",
       "<table class=\"simpletable\">\n",
       "<tr>\n",
       "  <th>Omnibus:</th>       <td>15815.502</td> <th>  Durbin-Watson:     </th>  <td>   2.014</td>  \n",
       "</tr>\n",
       "<tr>\n",
       "  <th>Prob(Omnibus):</th>  <td> 0.000</td>   <th>  Jarque-Bera (JB):  </th> <td>1179534.875</td>\n",
       "</tr>\n",
       "<tr>\n",
       "  <th>Skew:</th>           <td> 4.159</td>   <th>  Prob(JB):          </th>  <td>    0.00</td>  \n",
       "</tr>\n",
       "<tr>\n",
       "  <th>Kurtosis:</th>       <td>42.599</td>   <th>  Cond. No.          </th>  <td>    14.0</td>  \n",
       "</tr>\n",
       "</table><br/><br/>Warnings:<br/>[1] Standard Errors assume that the covariance matrix of the errors is correctly specified."
      ],
      "text/plain": [
       "<class 'statsmodels.iolib.summary.Summary'>\n",
       "\"\"\"\n",
       "                            OLS Regression Results                            \n",
       "==============================================================================\n",
       "Dep. Variable:                  price   R-squared:                       0.093\n",
       "Model:                            OLS   Adj. R-squared:                  0.093\n",
       "Method:                 Least Squares   F-statistic:                     1775.\n",
       "Date:                Fri, 16 Oct 2020   Prob (F-statistic):               0.00\n",
       "Time:                        22:52:14   Log-Likelihood:            -2.4552e+05\n",
       "No. Observations:               17290   AIC:                         4.910e+05\n",
       "Df Residuals:                   17288   BIC:                         4.911e+05\n",
       "Df Model:                           1                                         \n",
       "Covariance Type:            nonrobust                                         \n",
       "==============================================================================\n",
       "                 coef    std err          t      P>|t|      [0.025      0.975]\n",
       "------------------------------------------------------------------------------\n",
       "Intercept   1.318e+05   1.01e+04     13.080      0.000    1.12e+05    1.52e+05\n",
       "bedrooms    1.213e+05   2878.489     42.125      0.000    1.16e+05    1.27e+05\n",
       "==============================================================================\n",
       "Omnibus:                    15815.502   Durbin-Watson:                   2.014\n",
       "Prob(Omnibus):                  0.000   Jarque-Bera (JB):          1179534.875\n",
       "Skew:                           4.159   Prob(JB):                         0.00\n",
       "Kurtosis:                      42.599   Cond. No.                         14.0\n",
       "==============================================================================\n",
       "\n",
       "Warnings:\n",
       "[1] Standard Errors assume that the covariance matrix of the errors is correctly specified.\n",
       "\"\"\""
      ]
     },
     "execution_count": 99,
     "metadata": {},
     "output_type": "execute_result"
    }
   ],
   "source": [
    "bedrooms_price = ols(formula='price~bedrooms', data=data).fit()\n",
    "bedrooms_price.summary()"
   ]
  },
  {
   "cell_type": "code",
   "execution_count": 100,
   "metadata": {},
   "outputs": [
    {
     "data": {
      "text/plain": [
       "<matplotlib.axes._subplots.AxesSubplot at 0x7fa4597d3780>"
      ]
     },
     "execution_count": 100,
     "metadata": {},
     "output_type": "execute_result"
    },
    {
     "data": {
      "image/png": "[encoded data removed]",
      "text/plain": [
       "<Figure size 432x288 with 1 Axes>"
      ]
     },
     "metadata": {
      "needs_background": "light"
     },
     "output_type": "display_data"
    }
   ],
   "source": [
    "sns.regplot(data.price, data.bedrooms)"
   ]
  },
  {
   "cell_type": "markdown",
   "metadata": {},
   "source": [
    "Issue: one element = 33\n",
    "\n",
    "Solution: check to see other elements of house to see if its a mistake. \n",
    "\n",
    "If mistake:\n",
    " - drop row\n",
    " - use most likely value based on other houses with similar metrics\n",
    " \n",
    "If not mistake:\n",
    " - hang on to value as is"
   ]
  },
  {
   "cell_type": "code",
   "execution_count": 247,
   "metadata": {},
   "outputs": [
    {
     "data": {
      "text/html": [
       "<div>\n",
       "<style scoped>\n",
       "    .dataframe tbody tr th:only-of-type {\n",
       "        vertical-align: middle;\n",
       "    }\n",
       "\n",
       "    .dataframe tbody tr th {\n",
       "        vertical-align: top;\n",
       "    }\n",
       "\n",
       "    .dataframe thead th {\n",
       "        text-align: right;\n",
       "    }\n",
       "</style>\n",
       "<table border=\"1\" class=\"dataframe\">\n",
       "  <thead>\n",
       "    <tr style=\"text-align: right;\">\n",
       "      <th></th>\n",
       "      <th>Unnamed: 0</th>\n",
       "      <th>id</th>\n",
       "      <th>date</th>\n",
       "      <th>price</th>\n",
       "      <th>bedrooms</th>\n",
       "      <th>bathrooms</th>\n",
       "      <th>sqft_living</th>\n",
       "      <th>sqft_lot</th>\n",
       "      <th>floors</th>\n",
       "      <th>waterfront</th>\n",
       "      <th>...</th>\n",
       "      <th>grade</th>\n",
       "      <th>sqft_above</th>\n",
       "      <th>sqft_basement</th>\n",
       "      <th>yr_built</th>\n",
       "      <th>yr_renovated</th>\n",
       "      <th>zipcode</th>\n",
       "      <th>lat</th>\n",
       "      <th>long</th>\n",
       "      <th>sqft_living15</th>\n",
       "      <th>sqft_lot15</th>\n",
       "    </tr>\n",
       "  </thead>\n",
       "  <tbody>\n",
       "    <tr>\n",
       "      <th>2356</th>\n",
       "      <td>2356</td>\n",
       "      <td>1773100755</td>\n",
       "      <td>20140821T000000</td>\n",
       "      <td>520000.0</td>\n",
       "      <td>11</td>\n",
       "      <td>3.00</td>\n",
       "      <td>3000</td>\n",
       "      <td>4960</td>\n",
       "      <td>2.0</td>\n",
       "      <td>0</td>\n",
       "      <td>...</td>\n",
       "      <td>7</td>\n",
       "      <td>2400</td>\n",
       "      <td>600</td>\n",
       "      <td>1918</td>\n",
       "      <td>1999</td>\n",
       "      <td>98106</td>\n",
       "      <td>47.5560</td>\n",
       "      <td>-122.363</td>\n",
       "      <td>1420</td>\n",
       "      <td>4960</td>\n",
       "    </tr>\n",
       "    <tr>\n",
       "      <th>3425</th>\n",
       "      <td>3425</td>\n",
       "      <td>424049043</td>\n",
       "      <td>20140811T000000</td>\n",
       "      <td>450000.0</td>\n",
       "      <td>9</td>\n",
       "      <td>7.50</td>\n",
       "      <td>4050</td>\n",
       "      <td>6504</td>\n",
       "      <td>2.0</td>\n",
       "      <td>0</td>\n",
       "      <td>...</td>\n",
       "      <td>7</td>\n",
       "      <td>4050</td>\n",
       "      <td>0</td>\n",
       "      <td>1996</td>\n",
       "      <td>0</td>\n",
       "      <td>98144</td>\n",
       "      <td>47.5923</td>\n",
       "      <td>-122.301</td>\n",
       "      <td>1448</td>\n",
       "      <td>3866</td>\n",
       "    </tr>\n",
       "    <tr>\n",
       "      <th>3680</th>\n",
       "      <td>3680</td>\n",
       "      <td>8812401450</td>\n",
       "      <td>20141229T000000</td>\n",
       "      <td>660000.0</td>\n",
       "      <td>10</td>\n",
       "      <td>3.00</td>\n",
       "      <td>2920</td>\n",
       "      <td>3745</td>\n",
       "      <td>2.0</td>\n",
       "      <td>0</td>\n",
       "      <td>...</td>\n",
       "      <td>7</td>\n",
       "      <td>1860</td>\n",
       "      <td>1060</td>\n",
       "      <td>1913</td>\n",
       "      <td>0</td>\n",
       "      <td>98105</td>\n",
       "      <td>47.6635</td>\n",
       "      <td>-122.320</td>\n",
       "      <td>1810</td>\n",
       "      <td>3745</td>\n",
       "    </tr>\n",
       "    <tr>\n",
       "      <th>8207</th>\n",
       "      <td>8207</td>\n",
       "      <td>8823900290</td>\n",
       "      <td>20150317T000000</td>\n",
       "      <td>1400000.0</td>\n",
       "      <td>9</td>\n",
       "      <td>4.00</td>\n",
       "      <td>4620</td>\n",
       "      <td>5508</td>\n",
       "      <td>2.5</td>\n",
       "      <td>0</td>\n",
       "      <td>...</td>\n",
       "      <td>11</td>\n",
       "      <td>3870</td>\n",
       "      <td>750</td>\n",
       "      <td>1915</td>\n",
       "      <td>0</td>\n",
       "      <td>98105</td>\n",
       "      <td>47.6684</td>\n",
       "      <td>-122.309</td>\n",
       "      <td>2710</td>\n",
       "      <td>4320</td>\n",
       "    </tr>\n",
       "    <tr>\n",
       "      <th>8446</th>\n",
       "      <td>8446</td>\n",
       "      <td>8823901445</td>\n",
       "      <td>20150313T000000</td>\n",
       "      <td>934000.0</td>\n",
       "      <td>9</td>\n",
       "      <td>3.00</td>\n",
       "      <td>2820</td>\n",
       "      <td>4480</td>\n",
       "      <td>2.0</td>\n",
       "      <td>0</td>\n",
       "      <td>...</td>\n",
       "      <td>7</td>\n",
       "      <td>1880</td>\n",
       "      <td>940</td>\n",
       "      <td>1918</td>\n",
       "      <td>0</td>\n",
       "      <td>98105</td>\n",
       "      <td>47.6654</td>\n",
       "      <td>-122.307</td>\n",
       "      <td>2460</td>\n",
       "      <td>4400</td>\n",
       "    </tr>\n",
       "    <tr>\n",
       "      <th>8597</th>\n",
       "      <td>8597</td>\n",
       "      <td>2402100895</td>\n",
       "      <td>20140625T000000</td>\n",
       "      <td>640000.0</td>\n",
       "      <td>33</td>\n",
       "      <td>1.75</td>\n",
       "      <td>1620</td>\n",
       "      <td>6000</td>\n",
       "      <td>1.0</td>\n",
       "      <td>0</td>\n",
       "      <td>...</td>\n",
       "      <td>7</td>\n",
       "      <td>1040</td>\n",
       "      <td>580</td>\n",
       "      <td>1947</td>\n",
       "      <td>0</td>\n",
       "      <td>98103</td>\n",
       "      <td>47.6878</td>\n",
       "      <td>-122.331</td>\n",
       "      <td>1330</td>\n",
       "      <td>4700</td>\n",
       "    </tr>\n",
       "    <tr>\n",
       "      <th>8624</th>\n",
       "      <td>8624</td>\n",
       "      <td>1997200215</td>\n",
       "      <td>20140507T000000</td>\n",
       "      <td>599999.0</td>\n",
       "      <td>9</td>\n",
       "      <td>4.50</td>\n",
       "      <td>3830</td>\n",
       "      <td>6988</td>\n",
       "      <td>2.5</td>\n",
       "      <td>0</td>\n",
       "      <td>...</td>\n",
       "      <td>7</td>\n",
       "      <td>2450</td>\n",
       "      <td>1380</td>\n",
       "      <td>1938</td>\n",
       "      <td>0</td>\n",
       "      <td>98103</td>\n",
       "      <td>47.6927</td>\n",
       "      <td>-122.338</td>\n",
       "      <td>1460</td>\n",
       "      <td>6291</td>\n",
       "    </tr>\n",
       "    <tr>\n",
       "      <th>11181</th>\n",
       "      <td>11181</td>\n",
       "      <td>627300145</td>\n",
       "      <td>20140814T000000</td>\n",
       "      <td>1148000.0</td>\n",
       "      <td>10</td>\n",
       "      <td>5.25</td>\n",
       "      <td>4590</td>\n",
       "      <td>10920</td>\n",
       "      <td>1.0</td>\n",
       "      <td>0</td>\n",
       "      <td>...</td>\n",
       "      <td>9</td>\n",
       "      <td>2500</td>\n",
       "      <td>2090</td>\n",
       "      <td>2008</td>\n",
       "      <td>0</td>\n",
       "      <td>98004</td>\n",
       "      <td>47.5861</td>\n",
       "      <td>-122.113</td>\n",
       "      <td>2730</td>\n",
       "      <td>10400</td>\n",
       "    </tr>\n",
       "    <tr>\n",
       "      <th>14156</th>\n",
       "      <td>14156</td>\n",
       "      <td>2902200015</td>\n",
       "      <td>20150106T000000</td>\n",
       "      <td>700000.0</td>\n",
       "      <td>9</td>\n",
       "      <td>3.00</td>\n",
       "      <td>3680</td>\n",
       "      <td>4400</td>\n",
       "      <td>2.0</td>\n",
       "      <td>0</td>\n",
       "      <td>...</td>\n",
       "      <td>7</td>\n",
       "      <td>2830</td>\n",
       "      <td>850</td>\n",
       "      <td>1908</td>\n",
       "      <td>0</td>\n",
       "      <td>98102</td>\n",
       "      <td>47.6374</td>\n",
       "      <td>-122.324</td>\n",
       "      <td>1960</td>\n",
       "      <td>2450</td>\n",
       "    </tr>\n",
       "    <tr>\n",
       "      <th>17114</th>\n",
       "      <td>17114</td>\n",
       "      <td>5566100170</td>\n",
       "      <td>20141029T000000</td>\n",
       "      <td>650000.0</td>\n",
       "      <td>10</td>\n",
       "      <td>2.00</td>\n",
       "      <td>3610</td>\n",
       "      <td>11914</td>\n",
       "      <td>2.0</td>\n",
       "      <td>0</td>\n",
       "      <td>...</td>\n",
       "      <td>7</td>\n",
       "      <td>3010</td>\n",
       "      <td>600</td>\n",
       "      <td>1958</td>\n",
       "      <td>0</td>\n",
       "      <td>98006</td>\n",
       "      <td>47.5705</td>\n",
       "      <td>-122.175</td>\n",
       "      <td>2040</td>\n",
       "      <td>11914</td>\n",
       "    </tr>\n",
       "  </tbody>\n",
       "</table>\n",
       "<p>10 rows × 22 columns</p>\n",
       "</div>"
      ],
      "text/plain": [
       "       Unnamed: 0          id             date      price  bedrooms  \\\n",
       "2356         2356  1773100755  20140821T000000   520000.0        11   \n",
       "3425         3425   424049043  20140811T000000   450000.0         9   \n",
       "3680         3680  8812401450  20141229T000000   660000.0        10   \n",
       "8207         8207  8823900290  20150317T000000  1400000.0         9   \n",
       "8446         8446  8823901445  20150313T000000   934000.0         9   \n",
       "8597         8597  2402100895  20140625T000000   640000.0        33   \n",
       "8624         8624  1997200215  20140507T000000   599999.0         9   \n",
       "11181       11181   627300145  20140814T000000  1148000.0        10   \n",
       "14156       14156  2902200015  20150106T000000   700000.0         9   \n",
       "17114       17114  5566100170  20141029T000000   650000.0        10   \n",
       "\n",
       "       bathrooms  sqft_living  sqft_lot  floors  waterfront  ...  grade  \\\n",
       "2356        3.00         3000      4960     2.0           0  ...      7   \n",
       "3425        7.50         4050      6504     2.0           0  ...      7   \n",
       "3680        3.00         2920      3745     2.0           0  ...      7   \n",
       "8207        4.00         4620      5508     2.5           0  ...     11   \n",
       "8446        3.00         2820      4480     2.0           0  ...      7   \n",
       "8597        1.75         1620      6000     1.0           0  ...      7   \n",
       "8624        4.50         3830      6988     2.5           0  ...      7   \n",
       "11181       5.25         4590     10920     1.0           0  ...      9   \n",
       "14156       3.00         3680      4400     2.0           0  ...      7   \n",
       "17114       2.00         3610     11914     2.0           0  ...      7   \n",
       "\n",
       "       sqft_above  sqft_basement  yr_built  yr_renovated  zipcode      lat  \\\n",
       "2356         2400            600      1918          1999    98106  47.5560   \n",
       "3425         4050              0      1996             0    98144  47.5923   \n",
       "3680         1860           1060      1913             0    98105  47.6635   \n",
       "8207         3870            750      1915             0    98105  47.6684   \n",
       "8446         1880            940      1918             0    98105  47.6654   \n",
       "8597         1040            580      1947             0    98103  47.6878   \n",
       "8624         2450           1380      1938             0    98103  47.6927   \n",
       "11181        2500           2090      2008             0    98004  47.5861   \n",
       "14156        2830            850      1908             0    98102  47.6374   \n",
       "17114        3010            600      1958             0    98006  47.5705   \n",
       "\n",
       "          long  sqft_living15  sqft_lot15  \n",
       "2356  -122.363           1420        4960  \n",
       "3425  -122.301           1448        3866  \n",
       "3680  -122.320           1810        3745  \n",
       "8207  -122.309           2710        4320  \n",
       "8446  -122.307           2460        4400  \n",
       "8597  -122.331           1330        4700  \n",
       "8624  -122.338           1460        6291  \n",
       "11181 -122.113           2730       10400  \n",
       "14156 -122.324           1960        2450  \n",
       "17114 -122.175           2040       11914  \n",
       "\n",
       "[10 rows x 22 columns]"
      ]
     },
     "execution_count": 247,
     "metadata": {},
     "output_type": "execute_result"
    }
   ],
   "source": [
    "data[data.bedrooms >8]"
   ]
  },
  {
   "cell_type": "markdown",
   "metadata": {},
   "source": [
    "## BATHROOMS"
   ]
  },
  {
   "cell_type": "code",
   "execution_count": 102,
   "metadata": {},
   "outputs": [
    {
     "data": {
      "text/plain": [
       "count    17290.000000\n",
       "mean         2.111943\n",
       "std          0.770476\n",
       "min          0.000000\n",
       "25%          1.500000\n",
       "50%          2.250000\n",
       "75%          2.500000\n",
       "max          8.000000\n",
       "Name: bathrooms, dtype: float64"
      ]
     },
     "execution_count": 102,
     "metadata": {},
     "output_type": "execute_result"
    }
   ],
   "source": [
    "data.bathrooms.describe()"
   ]
  },
  {
   "cell_type": "code",
   "execution_count": 103,
   "metadata": {},
   "outputs": [
    {
     "data": {
      "text/plain": [
       "<matplotlib.axes._subplots.AxesSubplot at 0x7fa459b28cf8>"
      ]
     },
     "execution_count": 103,
     "metadata": {},
     "output_type": "execute_result"
    },
    {
     "data": {
      "image/png": "[encoded data removed]",
      "text/plain": [
       "<Figure size 432x288 with 1 Axes>"
      ]
     },
     "metadata": {
      "needs_background": "light"
     },
     "output_type": "display_data"
    }
   ],
   "source": [
    "data.bathrooms.hist()"
   ]
  },
  {
   "cell_type": "code",
   "execution_count": 106,
   "metadata": {},
   "outputs": [
    {
     "data": {
      "text/plain": [
       "<matplotlib.axes._subplots.AxesSubplot at 0x7fa459baf2e8>"
      ]
     },
     "execution_count": 106,
     "metadata": {},
     "output_type": "execute_result"
    },
    {
     "data": {
      "image/png": "[encoded data removed]",
      "text/plain": [
       "<Figure size 432x288 with 1 Axes>"
      ]
     },
     "metadata": {
      "needs_background": "light"
     },
     "output_type": "display_data"
    }
   ],
   "source": [
    "sns.regplot(data.bathrooms, data.price)"
   ]
  },
  {
   "cell_type": "code",
   "execution_count": 107,
   "metadata": {},
   "outputs": [
    {
     "data": {
      "text/html": [
       "<div>\n",
       "<style scoped>\n",
       "    .dataframe tbody tr th:only-of-type {\n",
       "        vertical-align: middle;\n",
       "    }\n",
       "\n",
       "    .dataframe tbody tr th {\n",
       "        vertical-align: top;\n",
       "    }\n",
       "\n",
       "    .dataframe thead th {\n",
       "        text-align: right;\n",
       "    }\n",
       "</style>\n",
       "<table border=\"1\" class=\"dataframe\">\n",
       "  <thead>\n",
       "    <tr style=\"text-align: right;\">\n",
       "      <th></th>\n",
       "      <th>Unnamed: 0</th>\n",
       "      <th>id</th>\n",
       "      <th>date</th>\n",
       "      <th>price</th>\n",
       "      <th>bedrooms</th>\n",
       "      <th>bathrooms</th>\n",
       "      <th>sqft_living</th>\n",
       "      <th>sqft_lot</th>\n",
       "      <th>floors</th>\n",
       "      <th>waterfront</th>\n",
       "      <th>...</th>\n",
       "      <th>grade</th>\n",
       "      <th>sqft_above</th>\n",
       "      <th>sqft_basement</th>\n",
       "      <th>yr_built</th>\n",
       "      <th>yr_renovated</th>\n",
       "      <th>zipcode</th>\n",
       "      <th>lat</th>\n",
       "      <th>long</th>\n",
       "      <th>sqft_living15</th>\n",
       "      <th>sqft_lot15</th>\n",
       "    </tr>\n",
       "  </thead>\n",
       "  <tbody>\n",
       "    <tr>\n",
       "      <th>3275</th>\n",
       "      <td>3275</td>\n",
       "      <td>1225069038</td>\n",
       "      <td>20140505T000000</td>\n",
       "      <td>2280000.0</td>\n",
       "      <td>7</td>\n",
       "      <td>8.0</td>\n",
       "      <td>13540</td>\n",
       "      <td>307752</td>\n",
       "      <td>3.0</td>\n",
       "      <td>0</td>\n",
       "      <td>...</td>\n",
       "      <td>12</td>\n",
       "      <td>9410</td>\n",
       "      <td>4130</td>\n",
       "      <td>1999</td>\n",
       "      <td>0</td>\n",
       "      <td>98053</td>\n",
       "      <td>47.6675</td>\n",
       "      <td>-121.986</td>\n",
       "      <td>4850</td>\n",
       "      <td>217800</td>\n",
       "    </tr>\n",
       "    <tr>\n",
       "      <th>10366</th>\n",
       "      <td>10366</td>\n",
       "      <td>6762700020</td>\n",
       "      <td>20141013T000000</td>\n",
       "      <td>7700000.0</td>\n",
       "      <td>6</td>\n",
       "      <td>8.0</td>\n",
       "      <td>12050</td>\n",
       "      <td>27600</td>\n",
       "      <td>2.5</td>\n",
       "      <td>0</td>\n",
       "      <td>...</td>\n",
       "      <td>13</td>\n",
       "      <td>8570</td>\n",
       "      <td>3480</td>\n",
       "      <td>1910</td>\n",
       "      <td>1987</td>\n",
       "      <td>98102</td>\n",
       "      <td>47.6298</td>\n",
       "      <td>-122.323</td>\n",
       "      <td>3940</td>\n",
       "      <td>8800</td>\n",
       "    </tr>\n",
       "  </tbody>\n",
       "</table>\n",
       "<p>2 rows × 22 columns</p>\n",
       "</div>"
      ],
      "text/plain": [
       "       Unnamed: 0          id             date      price  bedrooms  \\\n",
       "3275         3275  1225069038  20140505T000000  2280000.0         7   \n",
       "10366       10366  6762700020  20141013T000000  7700000.0         6   \n",
       "\n",
       "       bathrooms  sqft_living  sqft_lot  floors  waterfront  ...  grade  \\\n",
       "3275         8.0        13540    307752     3.0           0  ...     12   \n",
       "10366        8.0        12050     27600     2.5           0  ...     13   \n",
       "\n",
       "       sqft_above  sqft_basement  yr_built  yr_renovated  zipcode      lat  \\\n",
       "3275         9410           4130      1999             0    98053  47.6675   \n",
       "10366        8570           3480      1910          1987    98102  47.6298   \n",
       "\n",
       "          long  sqft_living15  sqft_lot15  \n",
       "3275  -121.986           4850      217800  \n",
       "10366 -122.323           3940        8800  \n",
       "\n",
       "[2 rows x 22 columns]"
      ]
     },
     "execution_count": 107,
     "metadata": {},
     "output_type": "execute_result"
    }
   ],
   "source": [
    "data[data.bathrooms == 8]"
   ]
  },
  {
   "cell_type": "markdown",
   "metadata": {},
   "source": [
    "## SQFT_LIVING"
   ]
  },
  {
   "cell_type": "code",
   "execution_count": 108,
   "metadata": {
    "scrolled": true
   },
   "outputs": [
    {
     "data": {
      "text/plain": [
       "count    17290.000000\n",
       "mean      2081.464604\n",
       "std        920.018539\n",
       "min        290.000000\n",
       "25%       1430.000000\n",
       "50%       1920.000000\n",
       "75%       2550.000000\n",
       "max      13540.000000\n",
       "Name: sqft_living, dtype: float64"
      ]
     },
     "execution_count": 108,
     "metadata": {},
     "output_type": "execute_result"
    }
   ],
   "source": [
    "data.sqft_living.describe()"
   ]
  },
  {
   "cell_type": "code",
   "execution_count": 109,
   "metadata": {},
   "outputs": [
    {
     "data": {
      "text/plain": [
       "<matplotlib.axes._subplots.AxesSubplot at 0x7fa459dd6358>"
      ]
     },
     "execution_count": 109,
     "metadata": {},
     "output_type": "execute_result"
    },
    {
     "data": {
      "image/png": "[encoded data removed]",
      "text/plain": [
       "<Figure size 432x288 with 1 Axes>"
      ]
     },
     "metadata": {
      "needs_background": "light"
     },
     "output_type": "display_data"
    }
   ],
   "source": [
    "data.sqft_living.hist()"
   ]
  },
  {
   "cell_type": "code",
   "execution_count": 115,
   "metadata": {},
   "outputs": [
    {
     "data": {
      "text/html": [
       "<div>\n",
       "<style scoped>\n",
       "    .dataframe tbody tr th:only-of-type {\n",
       "        vertical-align: middle;\n",
       "    }\n",
       "\n",
       "    .dataframe tbody tr th {\n",
       "        vertical-align: top;\n",
       "    }\n",
       "\n",
       "    .dataframe thead th {\n",
       "        text-align: right;\n",
       "    }\n",
       "</style>\n",
       "<table border=\"1\" class=\"dataframe\">\n",
       "  <thead>\n",
       "    <tr style=\"text-align: right;\">\n",
       "      <th></th>\n",
       "      <th>Unnamed: 0</th>\n",
       "      <th>id</th>\n",
       "      <th>date</th>\n",
       "      <th>price</th>\n",
       "      <th>bedrooms</th>\n",
       "      <th>bathrooms</th>\n",
       "      <th>sqft_living</th>\n",
       "      <th>sqft_lot</th>\n",
       "      <th>floors</th>\n",
       "      <th>waterfront</th>\n",
       "      <th>...</th>\n",
       "      <th>grade</th>\n",
       "      <th>sqft_above</th>\n",
       "      <th>sqft_basement</th>\n",
       "      <th>yr_built</th>\n",
       "      <th>yr_renovated</th>\n",
       "      <th>zipcode</th>\n",
       "      <th>lat</th>\n",
       "      <th>long</th>\n",
       "      <th>sqft_living15</th>\n",
       "      <th>sqft_lot15</th>\n",
       "    </tr>\n",
       "  </thead>\n",
       "  <tbody>\n",
       "    <tr>\n",
       "      <th>1979</th>\n",
       "      <td>1979</td>\n",
       "      <td>8907500070</td>\n",
       "      <td>20150413T000000</td>\n",
       "      <td>5350000.0</td>\n",
       "      <td>5</td>\n",
       "      <td>5.00</td>\n",
       "      <td>8000</td>\n",
       "      <td>23985</td>\n",
       "      <td>2.0</td>\n",
       "      <td>0</td>\n",
       "      <td>...</td>\n",
       "      <td>12</td>\n",
       "      <td>6720</td>\n",
       "      <td>1280</td>\n",
       "      <td>2009</td>\n",
       "      <td>0</td>\n",
       "      <td>98004</td>\n",
       "      <td>47.6232</td>\n",
       "      <td>-122.220</td>\n",
       "      <td>4600</td>\n",
       "      <td>21750</td>\n",
       "    </tr>\n",
       "    <tr>\n",
       "      <th>2232</th>\n",
       "      <td>2232</td>\n",
       "      <td>2470100110</td>\n",
       "      <td>20140804T000000</td>\n",
       "      <td>5570000.0</td>\n",
       "      <td>5</td>\n",
       "      <td>5.75</td>\n",
       "      <td>9200</td>\n",
       "      <td>35069</td>\n",
       "      <td>2.0</td>\n",
       "      <td>0</td>\n",
       "      <td>...</td>\n",
       "      <td>13</td>\n",
       "      <td>6200</td>\n",
       "      <td>3000</td>\n",
       "      <td>2001</td>\n",
       "      <td>0</td>\n",
       "      <td>98039</td>\n",
       "      <td>47.6289</td>\n",
       "      <td>-122.233</td>\n",
       "      <td>3560</td>\n",
       "      <td>24345</td>\n",
       "    </tr>\n",
       "    <tr>\n",
       "      <th>3275</th>\n",
       "      <td>3275</td>\n",
       "      <td>1225069038</td>\n",
       "      <td>20140505T000000</td>\n",
       "      <td>2280000.0</td>\n",
       "      <td>7</td>\n",
       "      <td>8.00</td>\n",
       "      <td>13540</td>\n",
       "      <td>307752</td>\n",
       "      <td>3.0</td>\n",
       "      <td>0</td>\n",
       "      <td>...</td>\n",
       "      <td>12</td>\n",
       "      <td>9410</td>\n",
       "      <td>4130</td>\n",
       "      <td>1999</td>\n",
       "      <td>0</td>\n",
       "      <td>98053</td>\n",
       "      <td>47.6675</td>\n",
       "      <td>-121.986</td>\n",
       "      <td>4850</td>\n",
       "      <td>217800</td>\n",
       "    </tr>\n",
       "    <tr>\n",
       "      <th>4217</th>\n",
       "      <td>4217</td>\n",
       "      <td>2303900035</td>\n",
       "      <td>20140611T000000</td>\n",
       "      <td>2888000.0</td>\n",
       "      <td>5</td>\n",
       "      <td>6.25</td>\n",
       "      <td>8670</td>\n",
       "      <td>64033</td>\n",
       "      <td>2.0</td>\n",
       "      <td>0</td>\n",
       "      <td>...</td>\n",
       "      <td>13</td>\n",
       "      <td>6120</td>\n",
       "      <td>2550</td>\n",
       "      <td>1965</td>\n",
       "      <td>2003</td>\n",
       "      <td>98177</td>\n",
       "      <td>47.7295</td>\n",
       "      <td>-122.372</td>\n",
       "      <td>4140</td>\n",
       "      <td>81021</td>\n",
       "    </tr>\n",
       "    <tr>\n",
       "      <th>6903</th>\n",
       "      <td>6903</td>\n",
       "      <td>9808700762</td>\n",
       "      <td>20140611T000000</td>\n",
       "      <td>7062500.0</td>\n",
       "      <td>5</td>\n",
       "      <td>4.50</td>\n",
       "      <td>10040</td>\n",
       "      <td>37325</td>\n",
       "      <td>2.0</td>\n",
       "      <td>1</td>\n",
       "      <td>...</td>\n",
       "      <td>11</td>\n",
       "      <td>7680</td>\n",
       "      <td>2360</td>\n",
       "      <td>1940</td>\n",
       "      <td>2001</td>\n",
       "      <td>98004</td>\n",
       "      <td>47.6500</td>\n",
       "      <td>-122.214</td>\n",
       "      <td>3930</td>\n",
       "      <td>25449</td>\n",
       "    </tr>\n",
       "    <tr>\n",
       "      <th>7183</th>\n",
       "      <td>7183</td>\n",
       "      <td>6072800246</td>\n",
       "      <td>20140702T000000</td>\n",
       "      <td>3300000.0</td>\n",
       "      <td>5</td>\n",
       "      <td>6.25</td>\n",
       "      <td>8020</td>\n",
       "      <td>21738</td>\n",
       "      <td>2.0</td>\n",
       "      <td>0</td>\n",
       "      <td>...</td>\n",
       "      <td>11</td>\n",
       "      <td>8020</td>\n",
       "      <td>0</td>\n",
       "      <td>2001</td>\n",
       "      <td>0</td>\n",
       "      <td>98006</td>\n",
       "      <td>47.5675</td>\n",
       "      <td>-122.189</td>\n",
       "      <td>4160</td>\n",
       "      <td>18969</td>\n",
       "    </tr>\n",
       "    <tr>\n",
       "      <th>7519</th>\n",
       "      <td>7519</td>\n",
       "      <td>9208900037</td>\n",
       "      <td>20140919T000000</td>\n",
       "      <td>6885000.0</td>\n",
       "      <td>6</td>\n",
       "      <td>7.75</td>\n",
       "      <td>9890</td>\n",
       "      <td>31374</td>\n",
       "      <td>2.0</td>\n",
       "      <td>0</td>\n",
       "      <td>...</td>\n",
       "      <td>13</td>\n",
       "      <td>8860</td>\n",
       "      <td>1030</td>\n",
       "      <td>2001</td>\n",
       "      <td>0</td>\n",
       "      <td>98039</td>\n",
       "      <td>47.6305</td>\n",
       "      <td>-122.240</td>\n",
       "      <td>4540</td>\n",
       "      <td>42730</td>\n",
       "    </tr>\n",
       "    <tr>\n",
       "      <th>10366</th>\n",
       "      <td>10366</td>\n",
       "      <td>6762700020</td>\n",
       "      <td>20141013T000000</td>\n",
       "      <td>7700000.0</td>\n",
       "      <td>6</td>\n",
       "      <td>8.00</td>\n",
       "      <td>12050</td>\n",
       "      <td>27600</td>\n",
       "      <td>2.5</td>\n",
       "      <td>0</td>\n",
       "      <td>...</td>\n",
       "      <td>13</td>\n",
       "      <td>8570</td>\n",
       "      <td>3480</td>\n",
       "      <td>1910</td>\n",
       "      <td>1987</td>\n",
       "      <td>98102</td>\n",
       "      <td>47.6298</td>\n",
       "      <td>-122.323</td>\n",
       "      <td>3940</td>\n",
       "      <td>8800</td>\n",
       "    </tr>\n",
       "    <tr>\n",
       "      <th>14668</th>\n",
       "      <td>14668</td>\n",
       "      <td>1247600105</td>\n",
       "      <td>20141020T000000</td>\n",
       "      <td>5110800.0</td>\n",
       "      <td>5</td>\n",
       "      <td>5.25</td>\n",
       "      <td>8010</td>\n",
       "      <td>45517</td>\n",
       "      <td>2.0</td>\n",
       "      <td>1</td>\n",
       "      <td>...</td>\n",
       "      <td>12</td>\n",
       "      <td>5990</td>\n",
       "      <td>2020</td>\n",
       "      <td>1999</td>\n",
       "      <td>0</td>\n",
       "      <td>98033</td>\n",
       "      <td>47.6767</td>\n",
       "      <td>-122.211</td>\n",
       "      <td>3430</td>\n",
       "      <td>26788</td>\n",
       "    </tr>\n",
       "    <tr>\n",
       "      <th>15816</th>\n",
       "      <td>15816</td>\n",
       "      <td>1924059029</td>\n",
       "      <td>20140617T000000</td>\n",
       "      <td>4668000.0</td>\n",
       "      <td>5</td>\n",
       "      <td>6.75</td>\n",
       "      <td>9640</td>\n",
       "      <td>13068</td>\n",
       "      <td>1.0</td>\n",
       "      <td>1</td>\n",
       "      <td>...</td>\n",
       "      <td>12</td>\n",
       "      <td>4820</td>\n",
       "      <td>4820</td>\n",
       "      <td>1983</td>\n",
       "      <td>2009</td>\n",
       "      <td>98040</td>\n",
       "      <td>47.5570</td>\n",
       "      <td>-122.210</td>\n",
       "      <td>3270</td>\n",
       "      <td>10454</td>\n",
       "    </tr>\n",
       "  </tbody>\n",
       "</table>\n",
       "<p>10 rows × 22 columns</p>\n",
       "</div>"
      ],
      "text/plain": [
       "       Unnamed: 0          id             date      price  bedrooms  \\\n",
       "1979         1979  8907500070  20150413T000000  5350000.0         5   \n",
       "2232         2232  2470100110  20140804T000000  5570000.0         5   \n",
       "3275         3275  1225069038  20140505T000000  2280000.0         7   \n",
       "4217         4217  2303900035  20140611T000000  2888000.0         5   \n",
       "6903         6903  9808700762  20140611T000000  7062500.0         5   \n",
       "7183         7183  6072800246  20140702T000000  3300000.0         5   \n",
       "7519         7519  9208900037  20140919T000000  6885000.0         6   \n",
       "10366       10366  6762700020  20141013T000000  7700000.0         6   \n",
       "14668       14668  1247600105  20141020T000000  5110800.0         5   \n",
       "15816       15816  1924059029  20140617T000000  4668000.0         5   \n",
       "\n",
       "       bathrooms  sqft_living  sqft_lot  floors  waterfront  ...  grade  \\\n",
       "1979        5.00         8000     23985     2.0           0  ...     12   \n",
       "2232        5.75         9200     35069     2.0           0  ...     13   \n",
       "3275        8.00        13540    307752     3.0           0  ...     12   \n",
       "4217        6.25         8670     64033     2.0           0  ...     13   \n",
       "6903        4.50        10040     37325     2.0           1  ...     11   \n",
       "7183        6.25         8020     21738     2.0           0  ...     11   \n",
       "7519        7.75         9890     31374     2.0           0  ...     13   \n",
       "10366       8.00        12050     27600     2.5           0  ...     13   \n",
       "14668       5.25         8010     45517     2.0           1  ...     12   \n",
       "15816       6.75         9640     13068     1.0           1  ...     12   \n",
       "\n",
       "       sqft_above  sqft_basement  yr_built  yr_renovated  zipcode      lat  \\\n",
       "1979         6720           1280      2009             0    98004  47.6232   \n",
       "2232         6200           3000      2001             0    98039  47.6289   \n",
       "3275         9410           4130      1999             0    98053  47.6675   \n",
       "4217         6120           2550      1965          2003    98177  47.7295   \n",
       "6903         7680           2360      1940          2001    98004  47.6500   \n",
       "7183         8020              0      2001             0    98006  47.5675   \n",
       "7519         8860           1030      2001             0    98039  47.6305   \n",
       "10366        8570           3480      1910          1987    98102  47.6298   \n",
       "14668        5990           2020      1999             0    98033  47.6767   \n",
       "15816        4820           4820      1983          2009    98040  47.5570   \n",
       "\n",
       "          long  sqft_living15  sqft_lot15  \n",
       "1979  -122.220           4600       21750  \n",
       "2232  -122.233           3560       24345  \n",
       "3275  -121.986           4850      217800  \n",
       "4217  -122.372           4140       81021  \n",
       "6903  -122.214           3930       25449  \n",
       "7183  -122.189           4160       18969  \n",
       "7519  -122.240           4540       42730  \n",
       "10366 -122.323           3940        8800  \n",
       "14668 -122.211           3430       26788  \n",
       "15816 -122.210           3270       10454  \n",
       "\n",
       "[10 rows x 22 columns]"
      ]
     },
     "execution_count": 115,
     "metadata": {},
     "output_type": "execute_result"
    }
   ],
   "source": [
    "data[data.sqft_living >= 8000]"
   ]
  },
  {
   "cell_type": "code",
   "execution_count": 116,
   "metadata": {},
   "outputs": [
    {
     "data": {
      "text/plain": [
       "<matplotlib.axes._subplots.AxesSubplot at 0x7fa459c6f9e8>"
      ]
     },
     "execution_count": 116,
     "metadata": {},
     "output_type": "execute_result"
    },
    {
     "data": {
      "image/png": "[encoded data removed]",
      "text/plain": [
       "<Figure size 432x288 with 1 Axes>"
      ]
     },
     "metadata": {
      "needs_background": "light"
     },
     "output_type": "display_data"
    }
   ],
   "source": [
    "sns.regplot(data.sqft_living, data.price)"
   ]
  },
  {
   "cell_type": "markdown",
   "metadata": {},
   "source": [
    "## SQFT_LOT"
   ]
  },
  {
   "cell_type": "code",
   "execution_count": 117,
   "metadata": {},
   "outputs": [
    {
     "data": {
      "text/plain": [
       "count    1.729000e+04\n",
       "mean     1.524340e+04\n",
       "std      4.230462e+04\n",
       "min      5.720000e+02\n",
       "25%      5.081250e+03\n",
       "50%      7.642000e+03\n",
       "75%      1.072575e+04\n",
       "max      1.651359e+06\n",
       "Name: sqft_lot, dtype: float64"
      ]
     },
     "execution_count": 117,
     "metadata": {},
     "output_type": "execute_result"
    }
   ],
   "source": [
    "data.sqft_lot.describe()"
   ]
  },
  {
   "cell_type": "code",
   "execution_count": 118,
   "metadata": {},
   "outputs": [
    {
     "data": {
      "text/plain": [
       "<matplotlib.axes._subplots.AxesSubplot at 0x7fa45a1df898>"
      ]
     },
     "execution_count": 118,
     "metadata": {},
     "output_type": "execute_result"
    },
    {
     "data": {
      "image/png": "[encoded data removed]",
      "text/plain": [
       "<Figure size 432x288 with 1 Axes>"
      ]
     },
     "metadata": {
      "needs_background": "light"
     },
     "output_type": "display_data"
    }
   ],
   "source": [
    "data.sqft_lot.hist()"
   ]
  },
  {
   "cell_type": "code",
   "execution_count": 122,
   "metadata": {},
   "outputs": [
    {
     "data": {
      "text/html": [
       "<div>\n",
       "<style scoped>\n",
       "    .dataframe tbody tr th:only-of-type {\n",
       "        vertical-align: middle;\n",
       "    }\n",
       "\n",
       "    .dataframe tbody tr th {\n",
       "        vertical-align: top;\n",
       "    }\n",
       "\n",
       "    .dataframe thead th {\n",
       "        text-align: right;\n",
       "    }\n",
       "</style>\n",
       "<table border=\"1\" class=\"dataframe\">\n",
       "  <thead>\n",
       "    <tr style=\"text-align: right;\">\n",
       "      <th></th>\n",
       "      <th>Unnamed: 0</th>\n",
       "      <th>id</th>\n",
       "      <th>date</th>\n",
       "      <th>price</th>\n",
       "      <th>bedrooms</th>\n",
       "      <th>bathrooms</th>\n",
       "      <th>sqft_living</th>\n",
       "      <th>sqft_lot</th>\n",
       "      <th>floors</th>\n",
       "      <th>waterfront</th>\n",
       "      <th>...</th>\n",
       "      <th>grade</th>\n",
       "      <th>sqft_above</th>\n",
       "      <th>sqft_basement</th>\n",
       "      <th>yr_built</th>\n",
       "      <th>yr_renovated</th>\n",
       "      <th>zipcode</th>\n",
       "      <th>lat</th>\n",
       "      <th>long</th>\n",
       "      <th>sqft_living15</th>\n",
       "      <th>sqft_lot15</th>\n",
       "    </tr>\n",
       "  </thead>\n",
       "  <tbody>\n",
       "    <tr>\n",
       "      <th>17</th>\n",
       "      <td>17</td>\n",
       "      <td>2386000070</td>\n",
       "      <td>20141029T000000</td>\n",
       "      <td>795127.0</td>\n",
       "      <td>4</td>\n",
       "      <td>3.25</td>\n",
       "      <td>4360</td>\n",
       "      <td>91158</td>\n",
       "      <td>1.0</td>\n",
       "      <td>0</td>\n",
       "      <td>...</td>\n",
       "      <td>10</td>\n",
       "      <td>3360</td>\n",
       "      <td>1000</td>\n",
       "      <td>1993</td>\n",
       "      <td>0</td>\n",
       "      <td>98053</td>\n",
       "      <td>47.6398</td>\n",
       "      <td>-121.985</td>\n",
       "      <td>3540</td>\n",
       "      <td>90940</td>\n",
       "    </tr>\n",
       "    <tr>\n",
       "      <th>22</th>\n",
       "      <td>22</td>\n",
       "      <td>3525069037</td>\n",
       "      <td>20141120T000000</td>\n",
       "      <td>920000.0</td>\n",
       "      <td>3</td>\n",
       "      <td>2.75</td>\n",
       "      <td>2590</td>\n",
       "      <td>223027</td>\n",
       "      <td>2.0</td>\n",
       "      <td>0</td>\n",
       "      <td>...</td>\n",
       "      <td>9</td>\n",
       "      <td>2590</td>\n",
       "      <td>0</td>\n",
       "      <td>1983</td>\n",
       "      <td>0</td>\n",
       "      <td>98074</td>\n",
       "      <td>47.6145</td>\n",
       "      <td>-122.001</td>\n",
       "      <td>3410</td>\n",
       "      <td>212137</td>\n",
       "    </tr>\n",
       "    <tr>\n",
       "      <th>30</th>\n",
       "      <td>30</td>\n",
       "      <td>2220069003</td>\n",
       "      <td>20150223T000000</td>\n",
       "      <td>425000.0</td>\n",
       "      <td>3</td>\n",
       "      <td>2.75</td>\n",
       "      <td>1360</td>\n",
       "      <td>542322</td>\n",
       "      <td>1.0</td>\n",
       "      <td>0</td>\n",
       "      <td>...</td>\n",
       "      <td>7</td>\n",
       "      <td>1140</td>\n",
       "      <td>220</td>\n",
       "      <td>1955</td>\n",
       "      <td>0</td>\n",
       "      <td>98022</td>\n",
       "      <td>47.2069</td>\n",
       "      <td>-122.024</td>\n",
       "      <td>1700</td>\n",
       "      <td>60548</td>\n",
       "    </tr>\n",
       "    <tr>\n",
       "      <th>91</th>\n",
       "      <td>91</td>\n",
       "      <td>5112800060</td>\n",
       "      <td>20140606T000000</td>\n",
       "      <td>455000.0</td>\n",
       "      <td>4</td>\n",
       "      <td>1.75</td>\n",
       "      <td>2050</td>\n",
       "      <td>94525</td>\n",
       "      <td>1.0</td>\n",
       "      <td>0</td>\n",
       "      <td>...</td>\n",
       "      <td>7</td>\n",
       "      <td>1250</td>\n",
       "      <td>800</td>\n",
       "      <td>1959</td>\n",
       "      <td>0</td>\n",
       "      <td>98058</td>\n",
       "      <td>47.4492</td>\n",
       "      <td>-122.084</td>\n",
       "      <td>2270</td>\n",
       "      <td>47480</td>\n",
       "    </tr>\n",
       "    <tr>\n",
       "      <th>110</th>\n",
       "      <td>110</td>\n",
       "      <td>2720069019</td>\n",
       "      <td>20141103T000000</td>\n",
       "      <td>316000.0</td>\n",
       "      <td>3</td>\n",
       "      <td>1.75</td>\n",
       "      <td>1120</td>\n",
       "      <td>98445</td>\n",
       "      <td>1.5</td>\n",
       "      <td>0</td>\n",
       "      <td>...</td>\n",
       "      <td>7</td>\n",
       "      <td>1120</td>\n",
       "      <td>0</td>\n",
       "      <td>1917</td>\n",
       "      <td>0</td>\n",
       "      <td>98022</td>\n",
       "      <td>47.1853</td>\n",
       "      <td>-122.017</td>\n",
       "      <td>1620</td>\n",
       "      <td>34200</td>\n",
       "    </tr>\n",
       "    <tr>\n",
       "      <th>...</th>\n",
       "      <td>...</td>\n",
       "      <td>...</td>\n",
       "      <td>...</td>\n",
       "      <td>...</td>\n",
       "      <td>...</td>\n",
       "      <td>...</td>\n",
       "      <td>...</td>\n",
       "      <td>...</td>\n",
       "      <td>...</td>\n",
       "      <td>...</td>\n",
       "      <td>...</td>\n",
       "      <td>...</td>\n",
       "      <td>...</td>\n",
       "      <td>...</td>\n",
       "      <td>...</td>\n",
       "      <td>...</td>\n",
       "      <td>...</td>\n",
       "      <td>...</td>\n",
       "      <td>...</td>\n",
       "      <td>...</td>\n",
       "      <td>...</td>\n",
       "    </tr>\n",
       "    <tr>\n",
       "      <th>17080</th>\n",
       "      <td>17080</td>\n",
       "      <td>8887001140</td>\n",
       "      <td>20140723T000000</td>\n",
       "      <td>562000.0</td>\n",
       "      <td>3</td>\n",
       "      <td>3.00</td>\n",
       "      <td>3290</td>\n",
       "      <td>80471</td>\n",
       "      <td>2.0</td>\n",
       "      <td>0</td>\n",
       "      <td>...</td>\n",
       "      <td>8</td>\n",
       "      <td>2330</td>\n",
       "      <td>960</td>\n",
       "      <td>1975</td>\n",
       "      <td>0</td>\n",
       "      <td>98070</td>\n",
       "      <td>47.5040</td>\n",
       "      <td>-122.464</td>\n",
       "      <td>1830</td>\n",
       "      <td>30494</td>\n",
       "    </tr>\n",
       "    <tr>\n",
       "      <th>17081</th>\n",
       "      <td>17081</td>\n",
       "      <td>821079102</td>\n",
       "      <td>20141017T000000</td>\n",
       "      <td>780000.0</td>\n",
       "      <td>4</td>\n",
       "      <td>3.50</td>\n",
       "      <td>3720</td>\n",
       "      <td>213073</td>\n",
       "      <td>1.0</td>\n",
       "      <td>0</td>\n",
       "      <td>...</td>\n",
       "      <td>10</td>\n",
       "      <td>3720</td>\n",
       "      <td>0</td>\n",
       "      <td>2007</td>\n",
       "      <td>0</td>\n",
       "      <td>98010</td>\n",
       "      <td>47.3216</td>\n",
       "      <td>-121.940</td>\n",
       "      <td>2190</td>\n",
       "      <td>59241</td>\n",
       "    </tr>\n",
       "    <tr>\n",
       "      <th>17149</th>\n",
       "      <td>17149</td>\n",
       "      <td>220069083</td>\n",
       "      <td>20140509T000000</td>\n",
       "      <td>705000.0</td>\n",
       "      <td>2</td>\n",
       "      <td>2.50</td>\n",
       "      <td>2200</td>\n",
       "      <td>188200</td>\n",
       "      <td>1.0</td>\n",
       "      <td>0</td>\n",
       "      <td>...</td>\n",
       "      <td>8</td>\n",
       "      <td>2200</td>\n",
       "      <td>0</td>\n",
       "      <td>2007</td>\n",
       "      <td>0</td>\n",
       "      <td>98022</td>\n",
       "      <td>47.2458</td>\n",
       "      <td>-122.002</td>\n",
       "      <td>2700</td>\n",
       "      <td>84942</td>\n",
       "    </tr>\n",
       "    <tr>\n",
       "      <th>17199</th>\n",
       "      <td>17199</td>\n",
       "      <td>1624079104</td>\n",
       "      <td>20150402T000000</td>\n",
       "      <td>540000.0</td>\n",
       "      <td>3</td>\n",
       "      <td>2.25</td>\n",
       "      <td>2000</td>\n",
       "      <td>217800</td>\n",
       "      <td>2.0</td>\n",
       "      <td>0</td>\n",
       "      <td>...</td>\n",
       "      <td>8</td>\n",
       "      <td>2000</td>\n",
       "      <td>0</td>\n",
       "      <td>1996</td>\n",
       "      <td>0</td>\n",
       "      <td>98024</td>\n",
       "      <td>47.5599</td>\n",
       "      <td>-121.911</td>\n",
       "      <td>2220</td>\n",
       "      <td>217800</td>\n",
       "    </tr>\n",
       "    <tr>\n",
       "      <th>17250</th>\n",
       "      <td>17250</td>\n",
       "      <td>1822069116</td>\n",
       "      <td>20141217T000000</td>\n",
       "      <td>590000.0</td>\n",
       "      <td>3</td>\n",
       "      <td>2.50</td>\n",
       "      <td>2400</td>\n",
       "      <td>99752</td>\n",
       "      <td>1.0</td>\n",
       "      <td>0</td>\n",
       "      <td>...</td>\n",
       "      <td>9</td>\n",
       "      <td>2400</td>\n",
       "      <td>0</td>\n",
       "      <td>1996</td>\n",
       "      <td>0</td>\n",
       "      <td>98058</td>\n",
       "      <td>47.3917</td>\n",
       "      <td>-122.084</td>\n",
       "      <td>2800</td>\n",
       "      <td>98010</td>\n",
       "    </tr>\n",
       "  </tbody>\n",
       "</table>\n",
       "<p>488 rows × 22 columns</p>\n",
       "</div>"
      ],
      "text/plain": [
       "       Unnamed: 0          id             date     price  bedrooms  bathrooms  \\\n",
       "17             17  2386000070  20141029T000000  795127.0         4       3.25   \n",
       "22             22  3525069037  20141120T000000  920000.0         3       2.75   \n",
       "30             30  2220069003  20150223T000000  425000.0         3       2.75   \n",
       "91             91  5112800060  20140606T000000  455000.0         4       1.75   \n",
       "110           110  2720069019  20141103T000000  316000.0         3       1.75   \n",
       "...           ...         ...              ...       ...       ...        ...   \n",
       "17080       17080  8887001140  20140723T000000  562000.0         3       3.00   \n",
       "17081       17081   821079102  20141017T000000  780000.0         4       3.50   \n",
       "17149       17149   220069083  20140509T000000  705000.0         2       2.50   \n",
       "17199       17199  1624079104  20150402T000000  540000.0         3       2.25   \n",
       "17250       17250  1822069116  20141217T000000  590000.0         3       2.50   \n",
       "\n",
       "       sqft_living  sqft_lot  floors  waterfront  ...  grade  sqft_above  \\\n",
       "17            4360     91158     1.0           0  ...     10        3360   \n",
       "22            2590    223027     2.0           0  ...      9        2590   \n",
       "30            1360    542322     1.0           0  ...      7        1140   \n",
       "91            2050     94525     1.0           0  ...      7        1250   \n",
       "110           1120     98445     1.5           0  ...      7        1120   \n",
       "...            ...       ...     ...         ...  ...    ...         ...   \n",
       "17080         3290     80471     2.0           0  ...      8        2330   \n",
       "17081         3720    213073     1.0           0  ...     10        3720   \n",
       "17149         2200    188200     1.0           0  ...      8        2200   \n",
       "17199         2000    217800     2.0           0  ...      8        2000   \n",
       "17250         2400     99752     1.0           0  ...      9        2400   \n",
       "\n",
       "       sqft_basement  yr_built  yr_renovated  zipcode      lat     long  \\\n",
       "17              1000      1993             0    98053  47.6398 -121.985   \n",
       "22                 0      1983             0    98074  47.6145 -122.001   \n",
       "30               220      1955             0    98022  47.2069 -122.024   \n",
       "91               800      1959             0    98058  47.4492 -122.084   \n",
       "110                0      1917             0    98022  47.1853 -122.017   \n",
       "...              ...       ...           ...      ...      ...      ...   \n",
       "17080            960      1975             0    98070  47.5040 -122.464   \n",
       "17081              0      2007             0    98010  47.3216 -121.940   \n",
       "17149              0      2007             0    98022  47.2458 -122.002   \n",
       "17199              0      1996             0    98024  47.5599 -121.911   \n",
       "17250              0      1996             0    98058  47.3917 -122.084   \n",
       "\n",
       "       sqft_living15  sqft_lot15  \n",
       "17              3540       90940  \n",
       "22              3410      212137  \n",
       "30              1700       60548  \n",
       "91              2270       47480  \n",
       "110             1620       34200  \n",
       "...              ...         ...  \n",
       "17080           1830       30494  \n",
       "17081           2190       59241  \n",
       "17149           2700       84942  \n",
       "17199           2220      217800  \n",
       "17250           2800       98010  \n",
       "\n",
       "[488 rows x 22 columns]"
      ]
     },
     "execution_count": 122,
     "metadata": {},
     "output_type": "execute_result"
    }
   ],
   "source": [
    "data[data.sqft_lot >= 75000]"
   ]
  },
  {
   "cell_type": "markdown",
   "metadata": {},
   "source": [
    "## FLOORS"
   ]
  },
  {
   "cell_type": "code",
   "execution_count": 123,
   "metadata": {},
   "outputs": [
    {
     "data": {
      "text/plain": [
       "count    17290.000000\n",
       "mean         1.490312\n",
       "std          0.538909\n",
       "min          1.000000\n",
       "25%          1.000000\n",
       "50%          1.500000\n",
       "75%          2.000000\n",
       "max          3.500000\n",
       "Name: floors, dtype: float64"
      ]
     },
     "execution_count": 123,
     "metadata": {},
     "output_type": "execute_result"
    }
   ],
   "source": [
    "data.floors.describe()"
   ]
  },
  {
   "cell_type": "code",
   "execution_count": 124,
   "metadata": {},
   "outputs": [
    {
     "data": {
      "text/plain": [
       "<matplotlib.axes._subplots.AxesSubplot at 0x7fa45a2362b0>"
      ]
     },
     "execution_count": 124,
     "metadata": {},
     "output_type": "execute_result"
    },
    {
     "data": {
      "image/png": "[encoded data removed]",
      "text/plain": [
       "<Figure size 432x288 with 1 Axes>"
      ]
     },
     "metadata": {
      "needs_background": "light"
     },
     "output_type": "display_data"
    }
   ],
   "source": [
    "data.floors.hist()"
   ]
  },
  {
   "cell_type": "code",
   "execution_count": 126,
   "metadata": {},
   "outputs": [
    {
     "data": {
      "text/plain": [
       "0.25698507185137387"
      ]
     },
     "execution_count": 126,
     "metadata": {},
     "output_type": "execute_result"
    }
   ],
   "source": [
    "data.floors.corr(data.price)"
   ]
  },
  {
   "cell_type": "markdown",
   "metadata": {},
   "source": [
    "## WATERFRONT"
   ]
  },
  {
   "cell_type": "code",
   "execution_count": 127,
   "metadata": {},
   "outputs": [
    {
     "data": {
      "text/plain": [
       "count    17290.000000\n",
       "mean         0.007981\n",
       "std          0.088985\n",
       "min          0.000000\n",
       "25%          0.000000\n",
       "50%          0.000000\n",
       "75%          0.000000\n",
       "max          1.000000\n",
       "Name: waterfront, dtype: float64"
      ]
     },
     "execution_count": 127,
     "metadata": {},
     "output_type": "execute_result"
    }
   ],
   "source": [
    "data.waterfront.describe()"
   ]
  },
  {
   "cell_type": "code",
   "execution_count": 130,
   "metadata": {},
   "outputs": [
    {
     "data": {
      "text/plain": [
       "138"
      ]
     },
     "execution_count": 130,
     "metadata": {},
     "output_type": "execute_result"
    }
   ],
   "source": [
    "len(data[data.waterfront == 1])"
   ]
  },
  {
   "cell_type": "code",
   "execution_count": 131,
   "metadata": {},
   "outputs": [],
   "source": [
    "waterfront = data[data.waterfront == 1]"
   ]
  },
  {
   "cell_type": "code",
   "execution_count": 132,
   "metadata": {},
   "outputs": [
    {
     "name": "stdout",
     "output_type": "stream",
     "text": [
      "955000.0\n"
     ]
    }
   ],
   "source": [
    "print(waterfront.price.median() - data.price.median())"
   ]
  },
  {
   "cell_type": "code",
   "execution_count": 135,
   "metadata": {},
   "outputs": [
    {
     "data": {
      "text/html": [
       "<div>\n",
       "<style scoped>\n",
       "    .dataframe tbody tr th:only-of-type {\n",
       "        vertical-align: middle;\n",
       "    }\n",
       "\n",
       "    .dataframe tbody tr th {\n",
       "        vertical-align: top;\n",
       "    }\n",
       "\n",
       "    .dataframe thead th {\n",
       "        text-align: right;\n",
       "    }\n",
       "</style>\n",
       "<table border=\"1\" class=\"dataframe\">\n",
       "  <thead>\n",
       "    <tr style=\"text-align: right;\">\n",
       "      <th></th>\n",
       "      <th>Unnamed: 0</th>\n",
       "      <th>id</th>\n",
       "      <th>date</th>\n",
       "      <th>price</th>\n",
       "      <th>bedrooms</th>\n",
       "      <th>bathrooms</th>\n",
       "      <th>sqft_living</th>\n",
       "      <th>sqft_lot</th>\n",
       "      <th>floors</th>\n",
       "      <th>waterfront</th>\n",
       "      <th>...</th>\n",
       "      <th>grade</th>\n",
       "      <th>sqft_above</th>\n",
       "      <th>sqft_basement</th>\n",
       "      <th>yr_built</th>\n",
       "      <th>yr_renovated</th>\n",
       "      <th>zipcode</th>\n",
       "      <th>lat</th>\n",
       "      <th>long</th>\n",
       "      <th>sqft_living15</th>\n",
       "      <th>sqft_lot15</th>\n",
       "    </tr>\n",
       "  </thead>\n",
       "  <tbody>\n",
       "    <tr>\n",
       "      <th>67</th>\n",
       "      <td>67</td>\n",
       "      <td>7204200025</td>\n",
       "      <td>20141028T000000</td>\n",
       "      <td>1225000.0</td>\n",
       "      <td>4</td>\n",
       "      <td>2.50</td>\n",
       "      <td>3120</td>\n",
       "      <td>49456</td>\n",
       "      <td>2.0</td>\n",
       "      <td>1</td>\n",
       "      <td>...</td>\n",
       "      <td>9</td>\n",
       "      <td>2590</td>\n",
       "      <td>530</td>\n",
       "      <td>1974</td>\n",
       "      <td>1989</td>\n",
       "      <td>98198</td>\n",
       "      <td>47.3535</td>\n",
       "      <td>-122.323</td>\n",
       "      <td>2030</td>\n",
       "      <td>32181</td>\n",
       "    </tr>\n",
       "    <tr>\n",
       "      <th>238</th>\n",
       "      <td>238</td>\n",
       "      <td>4114601570</td>\n",
       "      <td>20141118T000000</td>\n",
       "      <td>3600000.0</td>\n",
       "      <td>3</td>\n",
       "      <td>3.25</td>\n",
       "      <td>5020</td>\n",
       "      <td>12431</td>\n",
       "      <td>2.0</td>\n",
       "      <td>1</td>\n",
       "      <td>...</td>\n",
       "      <td>10</td>\n",
       "      <td>3420</td>\n",
       "      <td>1600</td>\n",
       "      <td>1941</td>\n",
       "      <td>2002</td>\n",
       "      <td>98144</td>\n",
       "      <td>47.5925</td>\n",
       "      <td>-122.287</td>\n",
       "      <td>3680</td>\n",
       "      <td>12620</td>\n",
       "    </tr>\n",
       "    <tr>\n",
       "      <th>260</th>\n",
       "      <td>260</td>\n",
       "      <td>4217402115</td>\n",
       "      <td>20150421T000000</td>\n",
       "      <td>3650000.0</td>\n",
       "      <td>6</td>\n",
       "      <td>4.75</td>\n",
       "      <td>5480</td>\n",
       "      <td>19401</td>\n",
       "      <td>1.5</td>\n",
       "      <td>1</td>\n",
       "      <td>...</td>\n",
       "      <td>11</td>\n",
       "      <td>3910</td>\n",
       "      <td>1570</td>\n",
       "      <td>1936</td>\n",
       "      <td>0</td>\n",
       "      <td>98105</td>\n",
       "      <td>47.6515</td>\n",
       "      <td>-122.277</td>\n",
       "      <td>3510</td>\n",
       "      <td>15810</td>\n",
       "    </tr>\n",
       "    <tr>\n",
       "      <th>494</th>\n",
       "      <td>494</td>\n",
       "      <td>3761700053</td>\n",
       "      <td>20150105T000000</td>\n",
       "      <td>2150000.0</td>\n",
       "      <td>3</td>\n",
       "      <td>2.75</td>\n",
       "      <td>3470</td>\n",
       "      <td>9610</td>\n",
       "      <td>3.0</td>\n",
       "      <td>1</td>\n",
       "      <td>...</td>\n",
       "      <td>11</td>\n",
       "      <td>3470</td>\n",
       "      <td>0</td>\n",
       "      <td>1989</td>\n",
       "      <td>2000</td>\n",
       "      <td>98034</td>\n",
       "      <td>47.7205</td>\n",
       "      <td>-122.260</td>\n",
       "      <td>4130</td>\n",
       "      <td>11875</td>\n",
       "    </tr>\n",
       "    <tr>\n",
       "      <th>544</th>\n",
       "      <td>544</td>\n",
       "      <td>1568100920</td>\n",
       "      <td>20150408T000000</td>\n",
       "      <td>1950000.0</td>\n",
       "      <td>4</td>\n",
       "      <td>2.50</td>\n",
       "      <td>3440</td>\n",
       "      <td>14554</td>\n",
       "      <td>2.0</td>\n",
       "      <td>1</td>\n",
       "      <td>...</td>\n",
       "      <td>8</td>\n",
       "      <td>2170</td>\n",
       "      <td>1270</td>\n",
       "      <td>2012</td>\n",
       "      <td>0</td>\n",
       "      <td>98155</td>\n",
       "      <td>47.7364</td>\n",
       "      <td>-122.286</td>\n",
       "      <td>3170</td>\n",
       "      <td>11810</td>\n",
       "    </tr>\n",
       "    <tr>\n",
       "      <th>...</th>\n",
       "      <td>...</td>\n",
       "      <td>...</td>\n",
       "      <td>...</td>\n",
       "      <td>...</td>\n",
       "      <td>...</td>\n",
       "      <td>...</td>\n",
       "      <td>...</td>\n",
       "      <td>...</td>\n",
       "      <td>...</td>\n",
       "      <td>...</td>\n",
       "      <td>...</td>\n",
       "      <td>...</td>\n",
       "      <td>...</td>\n",
       "      <td>...</td>\n",
       "      <td>...</td>\n",
       "      <td>...</td>\n",
       "      <td>...</td>\n",
       "      <td>...</td>\n",
       "      <td>...</td>\n",
       "      <td>...</td>\n",
       "      <td>...</td>\n",
       "    </tr>\n",
       "    <tr>\n",
       "      <th>16425</th>\n",
       "      <td>16425</td>\n",
       "      <td>121039083</td>\n",
       "      <td>20150206T000000</td>\n",
       "      <td>629000.0</td>\n",
       "      <td>3</td>\n",
       "      <td>1.75</td>\n",
       "      <td>1460</td>\n",
       "      <td>12367</td>\n",
       "      <td>2.0</td>\n",
       "      <td>1</td>\n",
       "      <td>...</td>\n",
       "      <td>8</td>\n",
       "      <td>1120</td>\n",
       "      <td>340</td>\n",
       "      <td>1970</td>\n",
       "      <td>0</td>\n",
       "      <td>98023</td>\n",
       "      <td>47.3311</td>\n",
       "      <td>-122.375</td>\n",
       "      <td>1970</td>\n",
       "      <td>18893</td>\n",
       "    </tr>\n",
       "    <tr>\n",
       "      <th>16571</th>\n",
       "      <td>16571</td>\n",
       "      <td>7936500190</td>\n",
       "      <td>20141021T000000</td>\n",
       "      <td>1339000.0</td>\n",
       "      <td>4</td>\n",
       "      <td>3.75</td>\n",
       "      <td>2130</td>\n",
       "      <td>34689</td>\n",
       "      <td>1.5</td>\n",
       "      <td>1</td>\n",
       "      <td>...</td>\n",
       "      <td>9</td>\n",
       "      <td>2130</td>\n",
       "      <td>0</td>\n",
       "      <td>1955</td>\n",
       "      <td>0</td>\n",
       "      <td>98136</td>\n",
       "      <td>47.5489</td>\n",
       "      <td>-122.398</td>\n",
       "      <td>3030</td>\n",
       "      <td>28598</td>\n",
       "    </tr>\n",
       "    <tr>\n",
       "      <th>16755</th>\n",
       "      <td>16755</td>\n",
       "      <td>518500480</td>\n",
       "      <td>20140811T000000</td>\n",
       "      <td>3000000.0</td>\n",
       "      <td>3</td>\n",
       "      <td>3.50</td>\n",
       "      <td>4410</td>\n",
       "      <td>10756</td>\n",
       "      <td>2.0</td>\n",
       "      <td>1</td>\n",
       "      <td>...</td>\n",
       "      <td>11</td>\n",
       "      <td>3430</td>\n",
       "      <td>980</td>\n",
       "      <td>2014</td>\n",
       "      <td>0</td>\n",
       "      <td>98056</td>\n",
       "      <td>47.5283</td>\n",
       "      <td>-122.205</td>\n",
       "      <td>3550</td>\n",
       "      <td>5634</td>\n",
       "    </tr>\n",
       "    <tr>\n",
       "      <th>17214</th>\n",
       "      <td>17214</td>\n",
       "      <td>3124059023</td>\n",
       "      <td>20150213T000000</td>\n",
       "      <td>1955000.0</td>\n",
       "      <td>3</td>\n",
       "      <td>1.75</td>\n",
       "      <td>3330</td>\n",
       "      <td>12566</td>\n",
       "      <td>1.0</td>\n",
       "      <td>1</td>\n",
       "      <td>...</td>\n",
       "      <td>8</td>\n",
       "      <td>1940</td>\n",
       "      <td>1390</td>\n",
       "      <td>1960</td>\n",
       "      <td>0</td>\n",
       "      <td>98040</td>\n",
       "      <td>47.5287</td>\n",
       "      <td>-122.220</td>\n",
       "      <td>3730</td>\n",
       "      <td>16560</td>\n",
       "    </tr>\n",
       "    <tr>\n",
       "      <th>17224</th>\n",
       "      <td>17224</td>\n",
       "      <td>7352200450</td>\n",
       "      <td>20150115T000000</td>\n",
       "      <td>2050000.0</td>\n",
       "      <td>4</td>\n",
       "      <td>3.25</td>\n",
       "      <td>3580</td>\n",
       "      <td>19989</td>\n",
       "      <td>1.5</td>\n",
       "      <td>1</td>\n",
       "      <td>...</td>\n",
       "      <td>7</td>\n",
       "      <td>3480</td>\n",
       "      <td>100</td>\n",
       "      <td>1915</td>\n",
       "      <td>1965</td>\n",
       "      <td>98125</td>\n",
       "      <td>47.7087</td>\n",
       "      <td>-122.276</td>\n",
       "      <td>2410</td>\n",
       "      <td>6389</td>\n",
       "    </tr>\n",
       "  </tbody>\n",
       "</table>\n",
       "<p>138 rows × 22 columns</p>\n",
       "</div>"
      ],
      "text/plain": [
       "       Unnamed: 0          id             date      price  bedrooms  \\\n",
       "67             67  7204200025  20141028T000000  1225000.0         4   \n",
       "238           238  4114601570  20141118T000000  3600000.0         3   \n",
       "260           260  4217402115  20150421T000000  3650000.0         6   \n",
       "494           494  3761700053  20150105T000000  2150000.0         3   \n",
       "544           544  1568100920  20150408T000000  1950000.0         4   \n",
       "...           ...         ...              ...        ...       ...   \n",
       "16425       16425   121039083  20150206T000000   629000.0         3   \n",
       "16571       16571  7936500190  20141021T000000  1339000.0         4   \n",
       "16755       16755   518500480  20140811T000000  3000000.0         3   \n",
       "17214       17214  3124059023  20150213T000000  1955000.0         3   \n",
       "17224       17224  7352200450  20150115T000000  2050000.0         4   \n",
       "\n",
       "       bathrooms  sqft_living  sqft_lot  floors  waterfront  ...  grade  \\\n",
       "67          2.50         3120     49456     2.0           1  ...      9   \n",
       "238         3.25         5020     12431     2.0           1  ...     10   \n",
       "260         4.75         5480     19401     1.5           1  ...     11   \n",
       "494         2.75         3470      9610     3.0           1  ...     11   \n",
       "544         2.50         3440     14554     2.0           1  ...      8   \n",
       "...          ...          ...       ...     ...         ...  ...    ...   \n",
       "16425       1.75         1460     12367     2.0           1  ...      8   \n",
       "16571       3.75         2130     34689     1.5           1  ...      9   \n",
       "16755       3.50         4410     10756     2.0           1  ...     11   \n",
       "17214       1.75         3330     12566     1.0           1  ...      8   \n",
       "17224       3.25         3580     19989     1.5           1  ...      7   \n",
       "\n",
       "       sqft_above  sqft_basement  yr_built  yr_renovated  zipcode      lat  \\\n",
       "67           2590            530      1974          1989    98198  47.3535   \n",
       "238          3420           1600      1941          2002    98144  47.5925   \n",
       "260          3910           1570      1936             0    98105  47.6515   \n",
       "494          3470              0      1989          2000    98034  47.7205   \n",
       "544          2170           1270      2012             0    98155  47.7364   \n",
       "...           ...            ...       ...           ...      ...      ...   \n",
       "16425        1120            340      1970             0    98023  47.3311   \n",
       "16571        2130              0      1955             0    98136  47.5489   \n",
       "16755        3430            980      2014             0    98056  47.5283   \n",
       "17214        1940           1390      1960             0    98040  47.5287   \n",
       "17224        3480            100      1915          1965    98125  47.7087   \n",
       "\n",
       "          long  sqft_living15  sqft_lot15  \n",
       "67    -122.323           2030       32181  \n",
       "238   -122.287           3680       12620  \n",
       "260   -122.277           3510       15810  \n",
       "494   -122.260           4130       11875  \n",
       "544   -122.286           3170       11810  \n",
       "...        ...            ...         ...  \n",
       "16425 -122.375           1970       18893  \n",
       "16571 -122.398           3030       28598  \n",
       "16755 -122.205           3550        5634  \n",
       "17214 -122.220           3730       16560  \n",
       "17224 -122.276           2410        6389  \n",
       "\n",
       "[138 rows x 22 columns]"
      ]
     },
     "execution_count": 135,
     "metadata": {},
     "output_type": "execute_result"
    }
   ],
   "source": [
    "waterfront"
   ]
  },
  {
   "cell_type": "markdown",
   "metadata": {},
   "source": [
    "## VIEW"
   ]
  },
  {
   "cell_type": "code",
   "execution_count": 136,
   "metadata": {},
   "outputs": [
    {
     "data": {
      "text/plain": [
       "count    17290.000000\n",
       "mean         0.238519\n",
       "std          0.775229\n",
       "min          0.000000\n",
       "25%          0.000000\n",
       "50%          0.000000\n",
       "75%          0.000000\n",
       "max          4.000000\n",
       "Name: view, dtype: float64"
      ]
     },
     "execution_count": 136,
     "metadata": {},
     "output_type": "execute_result"
    }
   ],
   "source": [
    "data.view.describe()"
   ]
  },
  {
   "cell_type": "code",
   "execution_count": 249,
   "metadata": {},
   "outputs": [
    {
     "data": {
      "text/plain": [
       "0    15571\n",
       "2      775\n",
       "3      410\n",
       "4      270\n",
       "1      264\n",
       "Name: view, dtype: int64"
      ]
     },
     "execution_count": 249,
     "metadata": {},
     "output_type": "execute_result"
    }
   ],
   "source": [
    "data.view.value_counts()"
   ]
  },
  {
   "cell_type": "code",
   "execution_count": 138,
   "metadata": {},
   "outputs": [
    {
     "data": {
      "text/plain": [
       "<matplotlib.axes._subplots.AxesSubplot at 0x7fa45b996a20>"
      ]
     },
     "execution_count": 138,
     "metadata": {},
     "output_type": "execute_result"
    },
    {
     "data": {
      "image/png": "[encoded data removed]",
      "text/plain": [
       "<Figure size 432x288 with 1 Axes>"
      ]
     },
     "metadata": {
      "needs_background": "light"
     },
     "output_type": "display_data"
    }
   ],
   "source": [
    "data.view.hist()"
   ]
  },
  {
   "cell_type": "code",
   "execution_count": 139,
   "metadata": {},
   "outputs": [
    {
     "data": {
      "text/html": [
       "<table class=\"simpletable\">\n",
       "<caption>OLS Regression Results</caption>\n",
       "<tr>\n",
       "  <th>Dep. Variable:</th>          <td>price</td>      <th>  R-squared:         </th>  <td>   0.156</td>  \n",
       "</tr>\n",
       "<tr>\n",
       "  <th>Model:</th>                   <td>OLS</td>       <th>  Adj. R-squared:    </th>  <td>   0.156</td>  \n",
       "</tr>\n",
       "<tr>\n",
       "  <th>Method:</th>             <td>Least Squares</td>  <th>  F-statistic:       </th>  <td>   3205.</td>  \n",
       "</tr>\n",
       "<tr>\n",
       "  <th>Date:</th>             <td>Sat, 17 Oct 2020</td> <th>  Prob (F-statistic):</th>   <td>  0.00</td>   \n",
       "</tr>\n",
       "<tr>\n",
       "  <th>Time:</th>                 <td>10:58:19</td>     <th>  Log-Likelihood:    </th> <td>-2.4490e+05</td>\n",
       "</tr>\n",
       "<tr>\n",
       "  <th>No. Observations:</th>      <td> 17290</td>      <th>  AIC:               </th>  <td>4.898e+05</td> \n",
       "</tr>\n",
       "<tr>\n",
       "  <th>Df Residuals:</th>          <td> 17288</td>      <th>  BIC:               </th>  <td>4.898e+05</td> \n",
       "</tr>\n",
       "<tr>\n",
       "  <th>Df Model:</th>              <td>     1</td>      <th>                     </th>      <td> </td>     \n",
       "</tr>\n",
       "<tr>\n",
       "  <th>Covariance Type:</th>      <td>nonrobust</td>    <th>                     </th>      <td> </td>     \n",
       "</tr>\n",
       "</table>\n",
       "<table class=\"simpletable\">\n",
       "<tr>\n",
       "      <td></td>         <th>coef</th>     <th>std err</th>      <th>t</th>      <th>P>|t|</th>  <th>[0.025</th>    <th>0.975]</th>  \n",
       "</tr>\n",
       "<tr>\n",
       "  <th>Intercept</th> <td> 4.953e+05</td> <td> 2728.367</td> <td>  181.542</td> <td> 0.000</td> <td>  4.9e+05</td> <td> 5.01e+05</td>\n",
       "</tr>\n",
       "<tr>\n",
       "  <th>view</th>      <td> 1.904e+05</td> <td> 3363.905</td> <td>   56.616</td> <td> 0.000</td> <td> 1.84e+05</td> <td> 1.97e+05</td>\n",
       "</tr>\n",
       "</table>\n",
       "<table class=\"simpletable\">\n",
       "<tr>\n",
       "  <th>Omnibus:</th>       <td>15114.105</td> <th>  Durbin-Watson:     </th>  <td>   2.011</td>  \n",
       "</tr>\n",
       "<tr>\n",
       "  <th>Prob(Omnibus):</th>  <td> 0.000</td>   <th>  Jarque-Bera (JB):  </th> <td>1032332.157</td>\n",
       "</tr>\n",
       "<tr>\n",
       "  <th>Skew:</th>           <td> 3.884</td>   <th>  Prob(JB):          </th>  <td>    0.00</td>  \n",
       "</tr>\n",
       "<tr>\n",
       "  <th>Kurtosis:</th>       <td>40.049</td>   <th>  Cond. No.          </th>  <td>    1.45</td>  \n",
       "</tr>\n",
       "</table><br/><br/>Warnings:<br/>[1] Standard Errors assume that the covariance matrix of the errors is correctly specified."
      ],
      "text/plain": [
       "<class 'statsmodels.iolib.summary.Summary'>\n",
       "\"\"\"\n",
       "                            OLS Regression Results                            \n",
       "==============================================================================\n",
       "Dep. Variable:                  price   R-squared:                       0.156\n",
       "Model:                            OLS   Adj. R-squared:                  0.156\n",
       "Method:                 Least Squares   F-statistic:                     3205.\n",
       "Date:                Sat, 17 Oct 2020   Prob (F-statistic):               0.00\n",
       "Time:                        10:58:19   Log-Likelihood:            -2.4490e+05\n",
       "No. Observations:               17290   AIC:                         4.898e+05\n",
       "Df Residuals:                   17288   BIC:                         4.898e+05\n",
       "Df Model:                           1                                         \n",
       "Covariance Type:            nonrobust                                         \n",
       "==============================================================================\n",
       "                 coef    std err          t      P>|t|      [0.025      0.975]\n",
       "------------------------------------------------------------------------------\n",
       "Intercept   4.953e+05   2728.367    181.542      0.000     4.9e+05    5.01e+05\n",
       "view        1.904e+05   3363.905     56.616      0.000    1.84e+05    1.97e+05\n",
       "==============================================================================\n",
       "Omnibus:                    15114.105   Durbin-Watson:                   2.011\n",
       "Prob(Omnibus):                  0.000   Jarque-Bera (JB):          1032332.157\n",
       "Skew:                           3.884   Prob(JB):                         0.00\n",
       "Kurtosis:                      40.049   Cond. No.                         1.45\n",
       "==============================================================================\n",
       "\n",
       "Warnings:\n",
       "[1] Standard Errors assume that the covariance matrix of the errors is correctly specified.\n",
       "\"\"\""
      ]
     },
     "execution_count": 139,
     "metadata": {},
     "output_type": "execute_result"
    }
   ],
   "source": [
    "view_price = ols(formula='price~view', data=data).fit()\n",
    "view_price.summary()"
   ]
  },
  {
   "cell_type": "markdown",
   "metadata": {},
   "source": [
    "## CONDITION"
   ]
  },
  {
   "cell_type": "code",
   "execution_count": 140,
   "metadata": {},
   "outputs": [
    {
     "data": {
      "text/plain": [
       "count    17290.000000\n",
       "mean         3.408502\n",
       "std          0.651296\n",
       "min          1.000000\n",
       "25%          3.000000\n",
       "50%          3.000000\n",
       "75%          4.000000\n",
       "max          5.000000\n",
       "Name: condition, dtype: float64"
      ]
     },
     "execution_count": 140,
     "metadata": {},
     "output_type": "execute_result"
    }
   ],
   "source": [
    "data.condition.describe()"
   ]
  },
  {
   "cell_type": "code",
   "execution_count": 141,
   "metadata": {},
   "outputs": [
    {
     "data": {
      "text/plain": [
       "array([4, 5, 3, 2, 1])"
      ]
     },
     "execution_count": 141,
     "metadata": {},
     "output_type": "execute_result"
    }
   ],
   "source": [
    "data.condition.unique()"
   ]
  },
  {
   "cell_type": "code",
   "execution_count": 142,
   "metadata": {},
   "outputs": [
    {
     "data": {
      "text/plain": [
       "<matplotlib.axes._subplots.AxesSubplot at 0x7fa45b9f6048>"
      ]
     },
     "execution_count": 142,
     "metadata": {},
     "output_type": "execute_result"
    },
    {
     "data": {
      "image/png": "[encoded data removed]",
      "text/plain": [
       "<Figure size 432x288 with 1 Axes>"
      ]
     },
     "metadata": {
      "needs_background": "light"
     },
     "output_type": "display_data"
    }
   ],
   "source": [
    "data.condition.hist()"
   ]
  },
  {
   "cell_type": "code",
   "execution_count": 144,
   "metadata": {},
   "outputs": [
    {
     "data": {
      "text/html": [
       "<table class=\"simpletable\">\n",
       "<caption>OLS Regression Results</caption>\n",
       "<tr>\n",
       "  <th>Dep. Variable:</th>          <td>price</td>      <th>  R-squared:         </th>  <td>   0.001</td>  \n",
       "</tr>\n",
       "<tr>\n",
       "  <th>Model:</th>                   <td>OLS</td>       <th>  Adj. R-squared:    </th>  <td>   0.001</td>  \n",
       "</tr>\n",
       "<tr>\n",
       "  <th>Method:</th>             <td>Least Squares</td>  <th>  F-statistic:       </th>  <td>   22.56</td>  \n",
       "</tr>\n",
       "<tr>\n",
       "  <th>Date:</th>             <td>Sat, 17 Oct 2020</td> <th>  Prob (F-statistic):</th>  <td>2.06e-06</td>  \n",
       "</tr>\n",
       "<tr>\n",
       "  <th>Time:</th>                 <td>11:00:04</td>     <th>  Log-Likelihood:    </th> <td>-2.4636e+05</td>\n",
       "</tr>\n",
       "<tr>\n",
       "  <th>No. Observations:</th>      <td> 17290</td>      <th>  AIC:               </th>  <td>4.927e+05</td> \n",
       "</tr>\n",
       "<tr>\n",
       "  <th>Df Residuals:</th>          <td> 17288</td>      <th>  BIC:               </th>  <td>4.927e+05</td> \n",
       "</tr>\n",
       "<tr>\n",
       "  <th>Df Model:</th>              <td>     1</td>      <th>                     </th>      <td> </td>     \n",
       "</tr>\n",
       "<tr>\n",
       "  <th>Covariance Type:</th>      <td>nonrobust</td>    <th>                     </th>      <td> </td>     \n",
       "</tr>\n",
       "</table>\n",
       "<table class=\"simpletable\">\n",
       "<tr>\n",
       "      <td></td>         <th>coef</th>     <th>std err</th>      <th>t</th>      <th>P>|t|</th>  <th>[0.025</th>    <th>0.975]</th>  \n",
       "</tr>\n",
       "<tr>\n",
       "  <th>Intercept</th> <td> 4.702e+05</td> <td> 1.51e+04</td> <td>   31.103</td> <td> 0.000</td> <td> 4.41e+05</td> <td>    5e+05</td>\n",
       "</tr>\n",
       "<tr>\n",
       "  <th>condition</th> <td> 2.069e+04</td> <td> 4356.587</td> <td>    4.750</td> <td> 0.000</td> <td> 1.22e+04</td> <td> 2.92e+04</td>\n",
       "</tr>\n",
       "</table>\n",
       "<table class=\"simpletable\">\n",
       "<tr>\n",
       "  <th>Omnibus:</th>       <td>16039.329</td> <th>  Durbin-Watson:     </th>  <td>   2.011</td>  \n",
       "</tr>\n",
       "<tr>\n",
       "  <th>Prob(Omnibus):</th>  <td> 0.000</td>   <th>  Jarque-Bera (JB):  </th> <td>1126871.116</td>\n",
       "</tr>\n",
       "<tr>\n",
       "  <th>Skew:</th>           <td> 4.285</td>   <th>  Prob(JB):          </th>  <td>    0.00</td>  \n",
       "</tr>\n",
       "<tr>\n",
       "  <th>Kurtosis:</th>       <td>41.610</td>   <th>  Cond. No.          </th>  <td>    20.0</td>  \n",
       "</tr>\n",
       "</table><br/><br/>Warnings:<br/>[1] Standard Errors assume that the covariance matrix of the errors is correctly specified."
      ],
      "text/plain": [
       "<class 'statsmodels.iolib.summary.Summary'>\n",
       "\"\"\"\n",
       "                            OLS Regression Results                            \n",
       "==============================================================================\n",
       "Dep. Variable:                  price   R-squared:                       0.001\n",
       "Model:                            OLS   Adj. R-squared:                  0.001\n",
       "Method:                 Least Squares   F-statistic:                     22.56\n",
       "Date:                Sat, 17 Oct 2020   Prob (F-statistic):           2.06e-06\n",
       "Time:                        11:00:04   Log-Likelihood:            -2.4636e+05\n",
       "No. Observations:               17290   AIC:                         4.927e+05\n",
       "Df Residuals:                   17288   BIC:                         4.927e+05\n",
       "Df Model:                           1                                         \n",
       "Covariance Type:            nonrobust                                         \n",
       "==============================================================================\n",
       "                 coef    std err          t      P>|t|      [0.025      0.975]\n",
       "------------------------------------------------------------------------------\n",
       "Intercept   4.702e+05   1.51e+04     31.103      0.000    4.41e+05       5e+05\n",
       "condition   2.069e+04   4356.587      4.750      0.000    1.22e+04    2.92e+04\n",
       "==============================================================================\n",
       "Omnibus:                    16039.329   Durbin-Watson:                   2.011\n",
       "Prob(Omnibus):                  0.000   Jarque-Bera (JB):          1126871.116\n",
       "Skew:                           4.285   Prob(JB):                         0.00\n",
       "Kurtosis:                      41.610   Cond. No.                         20.0\n",
       "==============================================================================\n",
       "\n",
       "Warnings:\n",
       "[1] Standard Errors assume that the covariance matrix of the errors is correctly specified.\n",
       "\"\"\""
      ]
     },
     "execution_count": 144,
     "metadata": {},
     "output_type": "execute_result"
    }
   ],
   "source": [
    "condition_price = ols(formula='price~condition', data=data).fit()\n",
    "condition_price.summary()"
   ]
  },
  {
   "cell_type": "markdown",
   "metadata": {},
   "source": [
    "## GRADE"
   ]
  },
  {
   "cell_type": "code",
   "execution_count": 145,
   "metadata": {},
   "outputs": [
    {
     "data": {
      "text/plain": [
       "count    17290.000000\n",
       "mean         7.654425\n",
       "std          1.174718\n",
       "min          1.000000\n",
       "25%          7.000000\n",
       "50%          7.000000\n",
       "75%          8.000000\n",
       "max         13.000000\n",
       "Name: grade, dtype: float64"
      ]
     },
     "execution_count": 145,
     "metadata": {},
     "output_type": "execute_result"
    }
   ],
   "source": [
    "data.grade.describe()"
   ]
  },
  {
   "cell_type": "code",
   "execution_count": 146,
   "metadata": {},
   "outputs": [
    {
     "data": {
      "text/plain": [
       "array([ 8, 11, 12,  9,  7,  6, 10,  5, 13,  4,  3,  1])"
      ]
     },
     "execution_count": 146,
     "metadata": {},
     "output_type": "execute_result"
    }
   ],
   "source": [
    "data.grade.unique()"
   ]
  },
  {
   "cell_type": "code",
   "execution_count": 147,
   "metadata": {},
   "outputs": [
    {
     "data": {
      "text/plain": [
       "<matplotlib.axes._subplots.AxesSubplot at 0x7fa45bc1b7f0>"
      ]
     },
     "execution_count": 147,
     "metadata": {},
     "output_type": "execute_result"
    },
    {
     "data": {
      "image/png": "[encoded data removed]",
      "text/plain": [
       "<Figure size 432x288 with 1 Axes>"
      ]
     },
     "metadata": {
      "needs_background": "light"
     },
     "output_type": "display_data"
    }
   ],
   "source": [
    "data.grade.hist()"
   ]
  },
  {
   "cell_type": "markdown",
   "metadata": {},
   "source": [
    "## SQFT_ABOVE"
   ]
  },
  {
   "cell_type": "code",
   "execution_count": 148,
   "metadata": {},
   "outputs": [
    {
     "data": {
      "text/plain": [
       "count    17290.000000\n",
       "mean      1789.306015\n",
       "std        829.265107\n",
       "min        290.000000\n",
       "25%       1200.000000\n",
       "50%       1560.000000\n",
       "75%       2214.500000\n",
       "max       9410.000000\n",
       "Name: sqft_above, dtype: float64"
      ]
     },
     "execution_count": 148,
     "metadata": {},
     "output_type": "execute_result"
    }
   ],
   "source": [
    "data.sqft_above.describe()"
   ]
  },
  {
   "cell_type": "code",
   "execution_count": 149,
   "metadata": {},
   "outputs": [
    {
     "data": {
      "text/plain": [
       "<matplotlib.axes._subplots.AxesSubplot at 0x7fa45bed3160>"
      ]
     },
     "execution_count": 149,
     "metadata": {},
     "output_type": "execute_result"
    },
    {
     "data": {
      "image/png": "[encoded data removed]",
      "text/plain": [
       "<Figure size 432x288 with 1 Axes>"
      ]
     },
     "metadata": {
      "needs_background": "light"
     },
     "output_type": "display_data"
    }
   ],
   "source": [
    "sns.distplot(data.sqft_above)"
   ]
  },
  {
   "cell_type": "code",
   "execution_count": 150,
   "metadata": {},
   "outputs": [
    {
     "data": {
      "text/plain": [
       "<matplotlib.axes._subplots.AxesSubplot at 0x7fa47f081dd8>"
      ]
     },
     "execution_count": 150,
     "metadata": {},
     "output_type": "execute_result"
    },
    {
     "data": {
      "image/png": "[encoded data removed]",
      "text/plain": [
       "<Figure size 432x288 with 1 Axes>"
      ]
     },
     "metadata": {
      "needs_background": "light"
     },
     "output_type": "display_data"
    }
   ],
   "source": [
    "sns.regplot(data.sqft_above, data.price)"
   ]
  },
  {
   "cell_type": "code",
   "execution_count": 151,
   "metadata": {},
   "outputs": [
    {
     "data": {
      "text/plain": [
       "0.6077596929372432"
      ]
     },
     "execution_count": 151,
     "metadata": {},
     "output_type": "execute_result"
    }
   ],
   "source": [
    "data.sqft_above.corr(data.price)"
   ]
  },
  {
   "cell_type": "code",
   "execution_count": 152,
   "metadata": {},
   "outputs": [
    {
     "data": {
      "text/html": [
       "<div>\n",
       "<style scoped>\n",
       "    .dataframe tbody tr th:only-of-type {\n",
       "        vertical-align: middle;\n",
       "    }\n",
       "\n",
       "    .dataframe tbody tr th {\n",
       "        vertical-align: top;\n",
       "    }\n",
       "\n",
       "    .dataframe thead th {\n",
       "        text-align: right;\n",
       "    }\n",
       "</style>\n",
       "<table border=\"1\" class=\"dataframe\">\n",
       "  <thead>\n",
       "    <tr style=\"text-align: right;\">\n",
       "      <th></th>\n",
       "      <th>Unnamed: 0</th>\n",
       "      <th>id</th>\n",
       "      <th>date</th>\n",
       "      <th>price</th>\n",
       "      <th>bedrooms</th>\n",
       "      <th>bathrooms</th>\n",
       "      <th>sqft_living</th>\n",
       "      <th>sqft_lot</th>\n",
       "      <th>floors</th>\n",
       "      <th>waterfront</th>\n",
       "      <th>...</th>\n",
       "      <th>grade</th>\n",
       "      <th>sqft_above</th>\n",
       "      <th>sqft_basement</th>\n",
       "      <th>yr_built</th>\n",
       "      <th>yr_renovated</th>\n",
       "      <th>zipcode</th>\n",
       "      <th>lat</th>\n",
       "      <th>long</th>\n",
       "      <th>sqft_living15</th>\n",
       "      <th>sqft_lot15</th>\n",
       "    </tr>\n",
       "  </thead>\n",
       "  <tbody>\n",
       "    <tr>\n",
       "      <th>21</th>\n",
       "      <td>21</td>\n",
       "      <td>2025770560</td>\n",
       "      <td>20141103T000000</td>\n",
       "      <td>930000.0</td>\n",
       "      <td>4</td>\n",
       "      <td>4.25</td>\n",
       "      <td>5710</td>\n",
       "      <td>24663</td>\n",
       "      <td>2.0</td>\n",
       "      <td>0</td>\n",
       "      <td>...</td>\n",
       "      <td>11</td>\n",
       "      <td>5710</td>\n",
       "      <td>0</td>\n",
       "      <td>2007</td>\n",
       "      <td>0</td>\n",
       "      <td>98092</td>\n",
       "      <td>47.3065</td>\n",
       "      <td>-122.158</td>\n",
       "      <td>4060</td>\n",
       "      <td>23847</td>\n",
       "    </tr>\n",
       "    <tr>\n",
       "      <th>220</th>\n",
       "      <td>220</td>\n",
       "      <td>5316101075</td>\n",
       "      <td>20140926T000000</td>\n",
       "      <td>2885000.0</td>\n",
       "      <td>7</td>\n",
       "      <td>3.00</td>\n",
       "      <td>5350</td>\n",
       "      <td>14400</td>\n",
       "      <td>2.5</td>\n",
       "      <td>0</td>\n",
       "      <td>...</td>\n",
       "      <td>10</td>\n",
       "      <td>5020</td>\n",
       "      <td>330</td>\n",
       "      <td>1910</td>\n",
       "      <td>0</td>\n",
       "      <td>98112</td>\n",
       "      <td>47.6295</td>\n",
       "      <td>-122.285</td>\n",
       "      <td>3050</td>\n",
       "      <td>7469</td>\n",
       "    </tr>\n",
       "    <tr>\n",
       "      <th>275</th>\n",
       "      <td>275</td>\n",
       "      <td>853600310</td>\n",
       "      <td>20140828T000000</td>\n",
       "      <td>1610000.0</td>\n",
       "      <td>5</td>\n",
       "      <td>4.50</td>\n",
       "      <td>6085</td>\n",
       "      <td>142725</td>\n",
       "      <td>3.0</td>\n",
       "      <td>0</td>\n",
       "      <td>...</td>\n",
       "      <td>11</td>\n",
       "      <td>6085</td>\n",
       "      <td>0</td>\n",
       "      <td>2000</td>\n",
       "      <td>0</td>\n",
       "      <td>98014</td>\n",
       "      <td>47.6085</td>\n",
       "      <td>-121.952</td>\n",
       "      <td>4830</td>\n",
       "      <td>128457</td>\n",
       "    </tr>\n",
       "    <tr>\n",
       "      <th>622</th>\n",
       "      <td>622</td>\n",
       "      <td>7631800015</td>\n",
       "      <td>20150407T000000</td>\n",
       "      <td>2510000.0</td>\n",
       "      <td>3</td>\n",
       "      <td>3.25</td>\n",
       "      <td>5480</td>\n",
       "      <td>57990</td>\n",
       "      <td>2.0</td>\n",
       "      <td>1</td>\n",
       "      <td>...</td>\n",
       "      <td>11</td>\n",
       "      <td>5480</td>\n",
       "      <td>0</td>\n",
       "      <td>1991</td>\n",
       "      <td>0</td>\n",
       "      <td>98166</td>\n",
       "      <td>47.4558</td>\n",
       "      <td>-122.371</td>\n",
       "      <td>2500</td>\n",
       "      <td>22954</td>\n",
       "    </tr>\n",
       "    <tr>\n",
       "      <th>940</th>\n",
       "      <td>940</td>\n",
       "      <td>622069006</td>\n",
       "      <td>20140820T000000</td>\n",
       "      <td>1500000.0</td>\n",
       "      <td>4</td>\n",
       "      <td>5.50</td>\n",
       "      <td>6550</td>\n",
       "      <td>217374</td>\n",
       "      <td>1.0</td>\n",
       "      <td>0</td>\n",
       "      <td>...</td>\n",
       "      <td>11</td>\n",
       "      <td>5400</td>\n",
       "      <td>1150</td>\n",
       "      <td>2006</td>\n",
       "      <td>0</td>\n",
       "      <td>98058</td>\n",
       "      <td>47.4302</td>\n",
       "      <td>-122.095</td>\n",
       "      <td>4110</td>\n",
       "      <td>50378</td>\n",
       "    </tr>\n",
       "    <tr>\n",
       "      <th>...</th>\n",
       "      <td>...</td>\n",
       "      <td>...</td>\n",
       "      <td>...</td>\n",
       "      <td>...</td>\n",
       "      <td>...</td>\n",
       "      <td>...</td>\n",
       "      <td>...</td>\n",
       "      <td>...</td>\n",
       "      <td>...</td>\n",
       "      <td>...</td>\n",
       "      <td>...</td>\n",
       "      <td>...</td>\n",
       "      <td>...</td>\n",
       "      <td>...</td>\n",
       "      <td>...</td>\n",
       "      <td>...</td>\n",
       "      <td>...</td>\n",
       "      <td>...</td>\n",
       "      <td>...</td>\n",
       "      <td>...</td>\n",
       "      <td>...</td>\n",
       "    </tr>\n",
       "    <tr>\n",
       "      <th>16454</th>\n",
       "      <td>16454</td>\n",
       "      <td>3023069166</td>\n",
       "      <td>20140708T000000</td>\n",
       "      <td>1135250.0</td>\n",
       "      <td>5</td>\n",
       "      <td>4.00</td>\n",
       "      <td>7320</td>\n",
       "      <td>217800</td>\n",
       "      <td>2.0</td>\n",
       "      <td>0</td>\n",
       "      <td>...</td>\n",
       "      <td>11</td>\n",
       "      <td>7320</td>\n",
       "      <td>0</td>\n",
       "      <td>1992</td>\n",
       "      <td>0</td>\n",
       "      <td>98058</td>\n",
       "      <td>47.4473</td>\n",
       "      <td>-122.086</td>\n",
       "      <td>3270</td>\n",
       "      <td>34500</td>\n",
       "    </tr>\n",
       "    <tr>\n",
       "      <th>16681</th>\n",
       "      <td>16681</td>\n",
       "      <td>3425059222</td>\n",
       "      <td>20141124T000000</td>\n",
       "      <td>1300000.0</td>\n",
       "      <td>6</td>\n",
       "      <td>3.50</td>\n",
       "      <td>6563</td>\n",
       "      <td>32670</td>\n",
       "      <td>2.0</td>\n",
       "      <td>0</td>\n",
       "      <td>...</td>\n",
       "      <td>10</td>\n",
       "      <td>5153</td>\n",
       "      <td>1410</td>\n",
       "      <td>2002</td>\n",
       "      <td>0</td>\n",
       "      <td>98005</td>\n",
       "      <td>47.6078</td>\n",
       "      <td>-122.157</td>\n",
       "      <td>2610</td>\n",
       "      <td>22651</td>\n",
       "    </tr>\n",
       "    <tr>\n",
       "      <th>16814</th>\n",
       "      <td>16814</td>\n",
       "      <td>6065300370</td>\n",
       "      <td>20150506T000000</td>\n",
       "      <td>4208000.0</td>\n",
       "      <td>5</td>\n",
       "      <td>6.00</td>\n",
       "      <td>7440</td>\n",
       "      <td>21540</td>\n",
       "      <td>2.0</td>\n",
       "      <td>0</td>\n",
       "      <td>...</td>\n",
       "      <td>12</td>\n",
       "      <td>5550</td>\n",
       "      <td>1890</td>\n",
       "      <td>2003</td>\n",
       "      <td>0</td>\n",
       "      <td>98006</td>\n",
       "      <td>47.5692</td>\n",
       "      <td>-122.189</td>\n",
       "      <td>4740</td>\n",
       "      <td>19329</td>\n",
       "    </tr>\n",
       "    <tr>\n",
       "      <th>16950</th>\n",
       "      <td>16950</td>\n",
       "      <td>7237500590</td>\n",
       "      <td>20141117T000000</td>\n",
       "      <td>1320000.0</td>\n",
       "      <td>4</td>\n",
       "      <td>5.25</td>\n",
       "      <td>6110</td>\n",
       "      <td>10369</td>\n",
       "      <td>2.0</td>\n",
       "      <td>0</td>\n",
       "      <td>...</td>\n",
       "      <td>11</td>\n",
       "      <td>6110</td>\n",
       "      <td>0</td>\n",
       "      <td>2005</td>\n",
       "      <td>0</td>\n",
       "      <td>98059</td>\n",
       "      <td>47.5285</td>\n",
       "      <td>-122.135</td>\n",
       "      <td>4190</td>\n",
       "      <td>10762</td>\n",
       "    </tr>\n",
       "    <tr>\n",
       "      <th>17121</th>\n",
       "      <td>17121</td>\n",
       "      <td>98001000</td>\n",
       "      <td>20141007T000000</td>\n",
       "      <td>1025000.0</td>\n",
       "      <td>5</td>\n",
       "      <td>3.50</td>\n",
       "      <td>5050</td>\n",
       "      <td>16500</td>\n",
       "      <td>2.0</td>\n",
       "      <td>0</td>\n",
       "      <td>...</td>\n",
       "      <td>11</td>\n",
       "      <td>5050</td>\n",
       "      <td>0</td>\n",
       "      <td>2001</td>\n",
       "      <td>0</td>\n",
       "      <td>98075</td>\n",
       "      <td>47.5863</td>\n",
       "      <td>-121.967</td>\n",
       "      <td>4570</td>\n",
       "      <td>16500</td>\n",
       "    </tr>\n",
       "  </tbody>\n",
       "</table>\n",
       "<p>74 rows × 22 columns</p>\n",
       "</div>"
      ],
      "text/plain": [
       "       Unnamed: 0          id             date      price  bedrooms  \\\n",
       "21             21  2025770560  20141103T000000   930000.0         4   \n",
       "220           220  5316101075  20140926T000000  2885000.0         7   \n",
       "275           275   853600310  20140828T000000  1610000.0         5   \n",
       "622           622  7631800015  20150407T000000  2510000.0         3   \n",
       "940           940   622069006  20140820T000000  1500000.0         4   \n",
       "...           ...         ...              ...        ...       ...   \n",
       "16454       16454  3023069166  20140708T000000  1135250.0         5   \n",
       "16681       16681  3425059222  20141124T000000  1300000.0         6   \n",
       "16814       16814  6065300370  20150506T000000  4208000.0         5   \n",
       "16950       16950  7237500590  20141117T000000  1320000.0         4   \n",
       "17121       17121    98001000  20141007T000000  1025000.0         5   \n",
       "\n",
       "       bathrooms  sqft_living  sqft_lot  floors  waterfront  ...  grade  \\\n",
       "21          4.25         5710     24663     2.0           0  ...     11   \n",
       "220         3.00         5350     14400     2.5           0  ...     10   \n",
       "275         4.50         6085    142725     3.0           0  ...     11   \n",
       "622         3.25         5480     57990     2.0           1  ...     11   \n",
       "940         5.50         6550    217374     1.0           0  ...     11   \n",
       "...          ...          ...       ...     ...         ...  ...    ...   \n",
       "16454       4.00         7320    217800     2.0           0  ...     11   \n",
       "16681       3.50         6563     32670     2.0           0  ...     10   \n",
       "16814       6.00         7440     21540     2.0           0  ...     12   \n",
       "16950       5.25         6110     10369     2.0           0  ...     11   \n",
       "17121       3.50         5050     16500     2.0           0  ...     11   \n",
       "\n",
       "       sqft_above  sqft_basement  yr_built  yr_renovated  zipcode      lat  \\\n",
       "21           5710              0      2007             0    98092  47.3065   \n",
       "220          5020            330      1910             0    98112  47.6295   \n",
       "275          6085              0      2000             0    98014  47.6085   \n",
       "622          5480              0      1991             0    98166  47.4558   \n",
       "940          5400           1150      2006             0    98058  47.4302   \n",
       "...           ...            ...       ...           ...      ...      ...   \n",
       "16454        7320              0      1992             0    98058  47.4473   \n",
       "16681        5153           1410      2002             0    98005  47.6078   \n",
       "16814        5550           1890      2003             0    98006  47.5692   \n",
       "16950        6110              0      2005             0    98059  47.5285   \n",
       "17121        5050              0      2001             0    98075  47.5863   \n",
       "\n",
       "          long  sqft_living15  sqft_lot15  \n",
       "21    -122.158           4060       23847  \n",
       "220   -122.285           3050        7469  \n",
       "275   -121.952           4830      128457  \n",
       "622   -122.371           2500       22954  \n",
       "940   -122.095           4110       50378  \n",
       "...        ...            ...         ...  \n",
       "16454 -122.086           3270       34500  \n",
       "16681 -122.157           2610       22651  \n",
       "16814 -122.189           4740       19329  \n",
       "16950 -122.135           4190       10762  \n",
       "17121 -121.967           4570       16500  \n",
       "\n",
       "[74 rows x 22 columns]"
      ]
     },
     "execution_count": 152,
     "metadata": {},
     "output_type": "execute_result"
    }
   ],
   "source": [
    "data[data.sqft_above > 5000]"
   ]
  },
  {
   "cell_type": "markdown",
   "metadata": {},
   "source": [
    "## SQFT_BASEMENT"
   ]
  },
  {
   "cell_type": "code",
   "execution_count": 153,
   "metadata": {},
   "outputs": [
    {
     "data": {
      "text/plain": [
       "count    17290.000000\n",
       "mean       292.158589\n",
       "std        443.151874\n",
       "min          0.000000\n",
       "25%          0.000000\n",
       "50%          0.000000\n",
       "75%        560.000000\n",
       "max       4820.000000\n",
       "Name: sqft_basement, dtype: float64"
      ]
     },
     "execution_count": 153,
     "metadata": {},
     "output_type": "execute_result"
    }
   ],
   "source": [
    "data.sqft_basement.describe()"
   ]
  },
  {
   "cell_type": "code",
   "execution_count": 154,
   "metadata": {},
   "outputs": [
    {
     "data": {
      "text/plain": [
       "<matplotlib.axes._subplots.AxesSubplot at 0x7fa48f810748>"
      ]
     },
     "execution_count": 154,
     "metadata": {},
     "output_type": "execute_result"
    },
    {
     "data": {
      "image/png": "[encoded data removed]",
      "text/plain": [
       "<Figure size 432x288 with 1 Axes>"
      ]
     },
     "metadata": {
      "needs_background": "light"
     },
     "output_type": "display_data"
    }
   ],
   "source": [
    "sns.distplot(data.sqft_basement)"
   ]
  },
  {
   "cell_type": "code",
   "execution_count": 156,
   "metadata": {},
   "outputs": [
    {
     "data": {
      "text/plain": [
       "<matplotlib.axes._subplots.AxesSubplot at 0x7fa493c3ce80>"
      ]
     },
     "execution_count": 156,
     "metadata": {},
     "output_type": "execute_result"
    },
    {
     "data": {
      "image/png": "[encoded data removed]",
      "text/plain": [
       "<Figure size 432x288 with 1 Axes>"
      ]
     },
     "metadata": {
      "needs_background": "light"
     },
     "output_type": "display_data"
    }
   ],
   "source": [
    "data.sqft_basement.hist(bins=5)"
   ]
  },
  {
   "cell_type": "code",
   "execution_count": null,
   "metadata": {},
   "outputs": [],
   "source": []
  },
  {
   "cell_type": "markdown",
   "metadata": {},
   "source": [
    "## YR_BUILT"
   ]
  },
  {
   "cell_type": "code",
   "execution_count": 157,
   "metadata": {},
   "outputs": [
    {
     "data": {
      "text/plain": [
       "count    17290.000000\n",
       "mean      1970.792019\n",
       "std         29.343516\n",
       "min       1900.000000\n",
       "25%       1951.000000\n",
       "50%       1974.000000\n",
       "75%       1996.000000\n",
       "max       2015.000000\n",
       "Name: yr_built, dtype: float64"
      ]
     },
     "execution_count": 157,
     "metadata": {},
     "output_type": "execute_result"
    }
   ],
   "source": [
    "data.yr_built.describe()"
   ]
  },
  {
   "cell_type": "code",
   "execution_count": 177,
   "metadata": {},
   "outputs": [
    {
     "data": {
      "text/plain": [
       "(array([ 683.,  693.,  953.,  988., 2203., 2362., 2228., 2072., 2295.,\n",
       "        2813.]),\n",
       " array([1900. , 1911.5, 1923. , 1934.5, 1946. , 1957.5, 1969. , 1980.5,\n",
       "        1992. , 2003.5, 2015. ]),\n",
       " <a list of 10 Patch objects>)"
      ]
     },
     "execution_count": 177,
     "metadata": {},
     "output_type": "execute_result"
    },
    {
     "data": {
      "image/png": "[encoded data removed]",
      "text/plain": [
       "<Figure size 432x288 with 1 Axes>"
      ]
     },
     "metadata": {
      "needs_background": "light"
     },
     "output_type": "display_data"
    }
   ],
   "source": [
    "plt.hist(data.yr_built)"
   ]
  },
  {
   "cell_type": "code",
   "execution_count": 178,
   "metadata": {},
   "outputs": [
    {
     "data": {
      "text/plain": [
       "(array([ 5520., 11770.]),\n",
       " array([1900. , 1957.5, 2015. ]),\n",
       " <a list of 2 Patch objects>)"
      ]
     },
     "execution_count": 178,
     "metadata": {},
     "output_type": "execute_result"
    },
    {
     "data": {
      "image/png": "[encoded data removed]",
      "text/plain": [
       "<Figure size 432x288 with 1 Axes>"
      ]
     },
     "metadata": {
      "needs_background": "light"
     },
     "output_type": "display_data"
    }
   ],
   "source": [
    "plt.hist(data.yr_built, bins=2)"
   ]
  },
  {
   "cell_type": "code",
   "execution_count": 179,
   "metadata": {},
   "outputs": [
    {
     "data": {
      "text/plain": [
       "<matplotlib.collections.PathCollection at 0x7fa4a18bfa20>"
      ]
     },
     "execution_count": 179,
     "metadata": {},
     "output_type": "execute_result"
    },
    {
     "data": {
      "image/png": "[encoded data removed]",
      "text/plain": [
       "<Figure size 432x288 with 1 Axes>"
      ]
     },
     "metadata": {
      "needs_background": "light"
     },
     "output_type": "display_data"
    }
   ],
   "source": [
    "plt.scatter(data.yr_built, data.price)"
   ]
  },
  {
   "cell_type": "markdown",
   "metadata": {},
   "source": [
    "## YR_RENOVATED"
   ]
  },
  {
   "cell_type": "code",
   "execution_count": 180,
   "metadata": {},
   "outputs": [
    {
     "data": {
      "text/plain": [
       "count    17290.000000\n",
       "mean        83.806304\n",
       "std        400.329376\n",
       "min          0.000000\n",
       "25%          0.000000\n",
       "50%          0.000000\n",
       "75%          0.000000\n",
       "max       2015.000000\n",
       "Name: yr_renovated, dtype: float64"
      ]
     },
     "execution_count": 180,
     "metadata": {},
     "output_type": "execute_result"
    }
   ],
   "source": [
    "data.yr_renovated.describe()"
   ]
  },
  {
   "cell_type": "code",
   "execution_count": 181,
   "metadata": {},
   "outputs": [
    {
     "data": {
      "text/plain": [
       "<matplotlib.axes._subplots.AxesSubplot at 0x7fa4a1876ac8>"
      ]
     },
     "execution_count": 181,
     "metadata": {},
     "output_type": "execute_result"
    },
    {
     "data": {
      "image/png": "[encoded data removed]",
      "text/plain": [
       "<Figure size 432x288 with 1 Axes>"
      ]
     },
     "metadata": {
      "needs_background": "light"
     },
     "output_type": "display_data"
    }
   ],
   "source": [
    "data.yr_renovated.hist()"
   ]
  },
  {
   "cell_type": "code",
   "execution_count": 184,
   "metadata": {},
   "outputs": [
    {
     "data": {
      "text/plain": [
       "0.041989589358010414"
      ]
     },
     "execution_count": 184,
     "metadata": {},
     "output_type": "execute_result"
    }
   ],
   "source": [
    "len(data[data.yr_renovated != 0]) / len(data)"
   ]
  },
  {
   "cell_type": "code",
   "execution_count": null,
   "metadata": {},
   "outputs": [],
   "source": []
  },
  {
   "cell_type": "markdown",
   "metadata": {},
   "source": [
    "## ZIPCODE"
   ]
  },
  {
   "cell_type": "code",
   "execution_count": 185,
   "metadata": {},
   "outputs": [
    {
     "data": {
      "text/plain": [
       "count    17290.000000\n",
       "mean     98078.193175\n",
       "std         53.607949\n",
       "min      98001.000000\n",
       "25%      98033.000000\n",
       "50%      98065.000000\n",
       "75%      98118.000000\n",
       "max      98199.000000\n",
       "Name: zipcode, dtype: float64"
      ]
     },
     "execution_count": 185,
     "metadata": {},
     "output_type": "execute_result"
    }
   ],
   "source": [
    "data.zipcode.describe()"
   ]
  },
  {
   "cell_type": "code",
   "execution_count": 186,
   "metadata": {},
   "outputs": [
    {
     "data": {
      "text/plain": [
       "70"
      ]
     },
     "execution_count": 186,
     "metadata": {},
     "output_type": "execute_result"
    }
   ],
   "source": [
    "len(data.zipcode.unique())"
   ]
  },
  {
   "cell_type": "code",
   "execution_count": 204,
   "metadata": {},
   "outputs": [
    {
     "data": {
      "text/plain": [
       "9805    2102\n",
       "9811    1943\n",
       "9803    1806\n",
       "9800    1775\n",
       "9802    1465\n",
       "9810    1425\n",
       "9807    1120\n",
       "9812     834\n",
       "9804     828\n",
       "9813     614\n",
       "9814     558\n",
       "9819     486\n",
       "9801     483\n",
       "9817     433\n",
       "9816     424\n",
       "9815     350\n",
       "9809     286\n",
       "9806     249\n",
       "9818     109\n",
       "Name: zipcode, dtype: int64"
      ]
     },
     "execution_count": 204,
     "metadata": {},
     "output_type": "execute_result"
    }
   ],
   "source": [
    "zipcode = data.zipcode.apply(lambda x: str(x)[:4])\n",
    "zipcode.value_counts()"
   ]
  },
  {
   "cell_type": "markdown",
   "metadata": {},
   "source": [
    "## LAT & LONG"
   ]
  },
  {
   "cell_type": "code",
   "execution_count": 243,
   "metadata": {},
   "outputs": [],
   "source": [
    "import geopandas as gpd\n",
    "import descartes\n",
    "from shapely.geometry import Point, Polygon"
   ]
  },
  {
   "cell_type": "code",
   "execution_count": 244,
   "metadata": {},
   "outputs": [
    {
     "data": {
      "text/plain": [
       "[<shapely.geometry.point.Point at 0x7fa48eaa3240>,\n",
       " <shapely.geometry.point.Point at 0x7fa48e8cb940>,\n",
       " <shapely.geometry.point.Point at 0x7fa48eaa3320>]"
      ]
     },
     "execution_count": 244,
     "metadata": {},
     "output_type": "execute_result"
    }
   ],
   "source": [
    "geometry = [Point(xy) for xy in zip(data['long'], data['lat'])]\n",
    "geometry[:3]"
   ]
  },
  {
   "cell_type": "markdown",
   "metadata": {},
   "source": [
    "## SQFT_LIVING15"
   ]
  },
  {
   "cell_type": "code",
   "execution_count": 206,
   "metadata": {},
   "outputs": [
    {
     "data": {
      "text/plain": [
       "count    17290.000000\n",
       "mean      1987.986698\n",
       "std        684.802635\n",
       "min        399.000000\n",
       "25%       1490.000000\n",
       "50%       1840.000000\n",
       "75%       2360.000000\n",
       "max       6210.000000\n",
       "Name: sqft_living15, dtype: float64"
      ]
     },
     "execution_count": 206,
     "metadata": {},
     "output_type": "execute_result"
    }
   ],
   "source": [
    "data.sqft_living15.describe()"
   ]
  },
  {
   "cell_type": "code",
   "execution_count": 208,
   "metadata": {},
   "outputs": [
    {
     "data": {
      "text/plain": [
       "<matplotlib.collections.PathCollection at 0x7fa48dcfc6d8>"
      ]
     },
     "execution_count": 208,
     "metadata": {},
     "output_type": "execute_result"
    },
    {
     "data": {
      "image/png": "[encoded data removed]",
      "text/plain": [
       "<Figure size 432x288 with 1 Axes>"
      ]
     },
     "metadata": {
      "needs_background": "light"
     },
     "output_type": "display_data"
    }
   ],
   "source": [
    "plt.scatter(data.price, data.sqft_living15)"
   ]
  },
  {
   "cell_type": "code",
   "execution_count": 209,
   "metadata": {},
   "outputs": [
    {
     "data": {
      "text/plain": [
       "0.585567070225493"
      ]
     },
     "execution_count": 209,
     "metadata": {},
     "output_type": "execute_result"
    }
   ],
   "source": [
    "data.sqft_living15.corr(data.price)"
   ]
  },
  {
   "cell_type": "markdown",
   "metadata": {},
   "source": [
    "## SQFT_LOT15"
   ]
  },
  {
   "cell_type": "code",
   "execution_count": 210,
   "metadata": {},
   "outputs": [
    {
     "data": {
      "text/plain": [
       "count     17290.000000\n",
       "mean      12873.475824\n",
       "std       27227.437583\n",
       "min         659.000000\n",
       "25%        5111.250000\n",
       "50%        7622.500000\n",
       "75%       10101.750000\n",
       "max      858132.000000\n",
       "Name: sqft_lot15, dtype: float64"
      ]
     },
     "execution_count": 210,
     "metadata": {},
     "output_type": "execute_result"
    }
   ],
   "source": [
    "data.sqft_lot15.describe()"
   ]
  },
  {
   "cell_type": "code",
   "execution_count": 228,
   "metadata": {},
   "outputs": [
    {
     "data": {
      "text/plain": [
       "<matplotlib.axes._subplots.AxesSubplot at 0x7fa48df70f28>"
      ]
     },
     "execution_count": 228,
     "metadata": {},
     "output_type": "execute_result"
    },
    {
     "data": {
      "image/png": "[encoded data removed]",
      "text/plain": [
       "<Figure size 432x288 with 1 Axes>"
      ]
     },
     "metadata": {
      "needs_background": "light"
     },
     "output_type": "display_data"
    }
   ],
   "source": [
    "data.sqft_lot15.hist(bins=200)"
   ]
  },
  {
   "cell_type": "code",
   "execution_count": 233,
   "metadata": {},
   "outputs": [
    {
     "data": {
      "text/plain": [
       "<matplotlib.axes._subplots.AxesSubplot at 0x7fa4a8e8a668>"
      ]
     },
     "execution_count": 233,
     "metadata": {},
     "output_type": "execute_result"
    },
    {
     "data": {
      "image/png": "[encoded data removed]",
      "text/plain": [
       "<Figure size 432x288 with 1 Axes>"
      ]
     },
     "metadata": {
      "needs_background": "light"
     },
     "output_type": "display_data"
    }
   ],
   "source": [
    "sqft_lot15 = data[data.sqft_lot15 < 150000 ]\n",
    "sqft_lot15.sqft_lot15.hist(bins=25)"
   ]
  },
  {
   "cell_type": "code",
   "execution_count": 235,
   "metadata": {},
   "outputs": [
    {
     "data": {
      "text/plain": [
       "<matplotlib.axes._subplots.AxesSubplot at 0x7fa47a10f780>"
      ]
     },
     "execution_count": 235,
     "metadata": {},
     "output_type": "execute_result"
    },
    {
     "data": {
      "image/png": "[encoded data removed]",
      "text/plain": [
       "<Figure size 432x288 with 1 Axes>"
      ]
     },
     "metadata": {
      "needs_background": "light"
     },
     "output_type": "display_data"
    }
   ],
   "source": [
    "sqft_lot15 = data[data.sqft_lot15 < 60000 ]\n",
    "sqft_lot15.sqft_lot15.hist(bins=50)"
   ]
  },
  {
   "cell_type": "code",
   "execution_count": null,
   "metadata": {},
   "outputs": [],
   "source": []
  }
 ],
 "metadata": {
  "kernelspec": {
   "display_name": "learn-env",
   "language": "python",
   "name": "learn-env"
  },
  "language_info": {
   "codemirror_mode": {
    "name": "ipython",
    "version": 3
   },
   "file_extension": ".py",
   "mimetype": "text/x-python",
   "name": "python",
   "nbconvert_exporter": "python",
   "pygments_lexer": "ipython3",
   "version": "3.6.9"
  }
 },
 "nbformat": 4,
 "nbformat_minor": 4
}
