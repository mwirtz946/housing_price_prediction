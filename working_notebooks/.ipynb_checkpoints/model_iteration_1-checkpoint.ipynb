{
 "cells": [
  {
   "cell_type": "markdown",
   "metadata": {},
   "source": [
    "# IMPORTING"
   ]
  },
  {
   "cell_type": "code",
   "execution_count": 48,
   "metadata": {},
   "outputs": [],
   "source": [
    "import pandas as pd\n",
    "import numpy as np\n",
    "import os\n",
    "\n",
    "from sklearn.model_selection import train_test_split\n",
    "from sklearn.model_selection import StratifiedShuffleSplit\n",
    "from sklearn.preprocessing import OrdinalEncoder\n",
    "from sklearn.preprocessing import OneHotEncoder\n",
    "from sklearn.dummy import DummyRegressor\n",
    "from sklearn.metrics import mean_squared_error\n",
    "from sklearn.linear_model import LinearRegression\n",
    "\n",
    "%matplotlib inline\n",
    "import matplotlib.pyplot as plt\n",
    "import seaborn as sns\n",
    "\n",
    "from scipy import stats\n",
    "\n",
    "import statsmodels.api as sm\n",
    "from statsmodels.stats import diagnostic as diag\n",
    "from statsmodels.stats.outliers_influence import variance_inflation_factor"
   ]
  },
  {
   "cell_type": "code",
   "execution_count": 2,
   "metadata": {},
   "outputs": [],
   "source": [
    "%store -r data"
   ]
  },
  {
   "cell_type": "markdown",
   "metadata": {},
   "source": [
    "# TRAIN-TEST SPLIT"
   ]
  },
  {
   "cell_type": "code",
   "execution_count": 50,
   "metadata": {},
   "outputs": [
    {
     "name": "stdout",
     "output_type": "stream",
     "text": [
      "13832 train + 3458 test\n"
     ]
    }
   ],
   "source": [
    "train_set, test_set = train_test_split(data, test_size=0.2, random_state=42)\n",
    "print(len(train_set), \"train +\", len(test_set), \"test\")"
   ]
  },
  {
   "cell_type": "markdown",
   "metadata": {},
   "source": [
    "# PREPARE DATA FOR MACHINE LEARNING"
   ]
  },
  {
   "cell_type": "code",
   "execution_count": 51,
   "metadata": {},
   "outputs": [],
   "source": [
    "x_train = train_set.drop('price', axis=1)\n",
    "y_train = train_set['price'].copy()"
   ]
  },
  {
   "cell_type": "markdown",
   "metadata": {},
   "source": [
    "# LINEAR REGRESSION"
   ]
  },
  {
   "cell_type": "code",
   "execution_count": 52,
   "metadata": {},
   "outputs": [
    {
     "data": {
      "text/plain": [
       "LinearRegression(copy_X=True, fit_intercept=True, n_jobs=None, normalize=False)"
      ]
     },
     "execution_count": 52,
     "metadata": {},
     "output_type": "execute_result"
    }
   ],
   "source": [
    "lr = LinearRegression()\n",
    "\n",
    "lr.fit(x_train, y_train)"
   ]
  },
  {
   "cell_type": "code",
   "execution_count": 53,
   "metadata": {},
   "outputs": [],
   "source": [
    "def array_to_dict(labels,coeffs):\n",
    "    '''\n",
    "    This function takes two arrays as arguments and turns those \n",
    "    arrays into a dictionary so that it is easier to interpret the \n",
    "    coefficients from the sklearn analysis\n",
    "    '''\n",
    "    one_list = list(labels)\n",
    "    two_list = list(coeffs)\n",
    "    res = {} \n",
    "    for key in two_list: \n",
    "        for name in one_list: \n",
    "            res[key] = name \n",
    "            one_list.remove(name) \n",
    "            break \n",
    "    return res"
   ]
  },
  {
   "cell_type": "code",
   "execution_count": 54,
   "metadata": {},
   "outputs": [
    {
     "data": {
      "text/plain": [
       "{'price': -40532.39805548973,\n",
       " 'bedrooms': 43733.39256104727,\n",
       " 'bathrooms': 117.02823841448266,\n",
       " 'sqft_living': 0.1175515282433685,\n",
       " 'sqft_lot': 5524.626549557242,\n",
       " 'floors': 584279.8482121091,\n",
       " 'waterfront': 51719.50229293643,\n",
       " 'view': 29627.090125143266,\n",
       " 'condition': 94624.96829098869,\n",
       " 'grade': 75.4011551493713,\n",
       " 'sqft_above': 41.6270834632245,\n",
       " 'sqft_basement': -2657.6547637091394,\n",
       " 'yr_built': 18.330015971488763,\n",
       " 'yr_renovated': -571.5825126296768,\n",
       " 'zipcode': 603586.0177528661,\n",
       " 'lat': -218985.54834240835,\n",
       " 'long': 19.040807195570434,\n",
       " 'sqft_living15': -0.359420627648098,\n",
       " 'sqft_lot15': 39564.30377287694,\n",
       " 'date_year': 1555.8902225485729,\n",
       " 'date_month': -257.7889745581585}"
      ]
     },
     "execution_count": 54,
     "metadata": {},
     "output_type": "execute_result"
    }
   ],
   "source": [
    "coefficients = lr.coef_\n",
    "variables = np.array(data.columns)\n",
    "\n",
    "array_to_dict(coefficients, variables)"
   ]
  },
  {
   "cell_type": "code",
   "execution_count": 55,
   "metadata": {},
   "outputs": [
    {
     "data": {
      "text/plain": [
       "-74567005.55371456"
      ]
     },
     "execution_count": 55,
     "metadata": {},
     "output_type": "execute_result"
    }
   ],
   "source": [
    "lr.intercept_"
   ]
  },
  {
   "cell_type": "code",
   "execution_count": 56,
   "metadata": {},
   "outputs": [],
   "source": [
    "y_pred = lr.predict(x_train)"
   ]
  },
  {
   "cell_type": "code",
   "execution_count": 57,
   "metadata": {},
   "outputs": [
    {
     "data": {
      "text/plain": [
       "0.6994001754468648"
      ]
     },
     "execution_count": 57,
     "metadata": {},
     "output_type": "execute_result"
    }
   ],
   "source": [
    "lr.score(x_train, y_train)"
   ]
  },
  {
   "cell_type": "markdown",
   "metadata": {},
   "source": [
    "## RMSE"
   ]
  },
  {
   "cell_type": "code",
   "execution_count": 58,
   "metadata": {},
   "outputs": [],
   "source": [
    "lr_rsme = mean_squared_error(y_train, y_pred)\n",
    "lr_rmse = np.sqrt(lr_rsme)"
   ]
  },
  {
   "cell_type": "code",
   "execution_count": 59,
   "metadata": {},
   "outputs": [
    {
     "data": {
      "text/plain": [
       "'$205,814.25'"
      ]
     },
     "execution_count": 59,
     "metadata": {},
     "output_type": "execute_result"
    }
   ],
   "source": [
    "rmse_dollars = '${:,.2f}'.format(lr_rmse)\n",
    "rmse_dollars"
   ]
  },
  {
   "cell_type": "markdown",
   "metadata": {},
   "source": [
    "# EVALUATING MODEL"
   ]
  },
  {
   "cell_type": "code",
   "execution_count": 62,
   "metadata": {},
   "outputs": [
    {
     "name": "stderr",
     "output_type": "stream",
     "text": [
      "/Users/MichaelWirtz/opt/anaconda3/envs/learn-env/lib/python3.6/site-packages/numpy/core/fromnumeric.py:2580: FutureWarning: Method .ptp is deprecated and will be removed in a future version. Use numpy.ptp instead.\n",
      "  return ptp(axis=axis, out=out, **kwargs)\n"
     ]
    }
   ],
   "source": [
    "x2 = sm.add_constant(x_train)\n",
    "\n",
    "model = sm.OLS(y_train, x2)"
   ]
  },
  {
   "cell_type": "code",
   "execution_count": 63,
   "metadata": {},
   "outputs": [],
   "source": [
    "est = model.fit()"
   ]
  },
  {
   "cell_type": "markdown",
   "metadata": {},
   "source": [
    "### Normally Distributed Residuals"
   ]
  },
  {
   "cell_type": "code",
   "execution_count": 73,
   "metadata": {},
   "outputs": [
    {
     "data": {
      "image/png": "[encoded data removed]",
      "text/plain": [
       "<Figure size 432x288 with 1 Axes>"
      ]
     },
     "execution_count": 73,
     "metadata": {},
     "output_type": "execute_result"
    },
    {
     "data": {
      "image/png": "[encoded data removed]",
      "text/plain": [
       "<Figure size 432x288 with 1 Axes>"
      ]
     },
     "metadata": {
      "needs_background": "light"
     },
     "output_type": "display_data"
    }
   ],
   "source": [
    "sm.qqplot(est.resid, line = 's')"
   ]
  },
  {
   "cell_type": "code",
   "execution_count": 74,
   "metadata": {},
   "outputs": [
    {
     "data": {
      "text/plain": [
       "9.771519421506618e-07"
      ]
     },
     "execution_count": 74,
     "metadata": {},
     "output_type": "execute_result"
    }
   ],
   "source": [
    "mean_residuals = sum(est.resid) / len(est.resid)\n",
    "mean_residuals"
   ]
  },
  {
   "cell_type": "markdown",
   "metadata": {},
   "source": [
    "### Confidence Intervals"
   ]
  },
  {
   "cell_type": "code",
   "execution_count": 79,
   "metadata": {},
   "outputs": [
    {
     "data": {
      "text/html": [
       "<div>\n",
       "<style scoped>\n",
       "    .dataframe tbody tr th:only-of-type {\n",
       "        vertical-align: middle;\n",
       "    }\n",
       "\n",
       "    .dataframe tbody tr th {\n",
       "        vertical-align: top;\n",
       "    }\n",
       "\n",
       "    .dataframe thead th {\n",
       "        text-align: right;\n",
       "    }\n",
       "</style>\n",
       "<table border=\"1\" class=\"dataframe\">\n",
       "  <thead>\n",
       "    <tr style=\"text-align: right;\">\n",
       "      <th></th>\n",
       "      <th>0</th>\n",
       "      <th>1</th>\n",
       "    </tr>\n",
       "  </thead>\n",
       "  <tbody>\n",
       "    <tr>\n",
       "      <th>const</th>\n",
       "      <td>-9.962705e+07</td>\n",
       "      <td>-4.950696e+07</td>\n",
       "    </tr>\n",
       "    <tr>\n",
       "      <th>bedrooms</th>\n",
       "      <td>-4.540386e+04</td>\n",
       "      <td>-3.566094e+04</td>\n",
       "    </tr>\n",
       "    <tr>\n",
       "      <th>bathrooms</th>\n",
       "      <td>3.559884e+04</td>\n",
       "      <td>5.186794e+04</td>\n",
       "    </tr>\n",
       "    <tr>\n",
       "      <th>sqft_living</th>\n",
       "      <td>1.113849e+02</td>\n",
       "      <td>1.226909e+02</td>\n",
       "    </tr>\n",
       "    <tr>\n",
       "      <th>sqft_lot</th>\n",
       "      <td>3.258530e-03</td>\n",
       "      <td>2.318445e-01</td>\n",
       "    </tr>\n",
       "    <tr>\n",
       "      <th>floors</th>\n",
       "      <td>-3.492063e+03</td>\n",
       "      <td>1.454132e+04</td>\n",
       "    </tr>\n",
       "    <tr>\n",
       "      <th>waterfront</th>\n",
       "      <td>5.423429e+05</td>\n",
       "      <td>6.262168e+05</td>\n",
       "    </tr>\n",
       "    <tr>\n",
       "      <th>view</th>\n",
       "      <td>4.648568e+04</td>\n",
       "      <td>5.695332e+04</td>\n",
       "    </tr>\n",
       "    <tr>\n",
       "      <th>condition</th>\n",
       "      <td>2.374100e+04</td>\n",
       "      <td>3.551318e+04</td>\n",
       "    </tr>\n",
       "    <tr>\n",
       "      <th>grade</th>\n",
       "      <td>8.922796e+04</td>\n",
       "      <td>1.000220e+05</td>\n",
       "    </tr>\n",
       "    <tr>\n",
       "      <th>sqft_above</th>\n",
       "      <td>6.972758e+01</td>\n",
       "      <td>8.105546e+01</td>\n",
       "    </tr>\n",
       "    <tr>\n",
       "      <th>sqft_basement</th>\n",
       "      <td>3.503233e+01</td>\n",
       "      <td>4.820257e+01</td>\n",
       "    </tr>\n",
       "    <tr>\n",
       "      <th>yr_built</th>\n",
       "      <td>-2.839168e+03</td>\n",
       "      <td>-2.476142e+03</td>\n",
       "    </tr>\n",
       "    <tr>\n",
       "      <th>yr_renovated</th>\n",
       "      <td>9.145080e+00</td>\n",
       "      <td>2.751495e+01</td>\n",
       "    </tr>\n",
       "    <tr>\n",
       "      <th>zipcode</th>\n",
       "      <td>-6.539180e+02</td>\n",
       "      <td>-4.892470e+02</td>\n",
       "    </tr>\n",
       "    <tr>\n",
       "      <th>lat</th>\n",
       "      <td>5.766896e+05</td>\n",
       "      <td>6.304824e+05</td>\n",
       "    </tr>\n",
       "    <tr>\n",
       "      <th>long</th>\n",
       "      <td>-2.519521e+05</td>\n",
       "      <td>-1.860190e+05</td>\n",
       "    </tr>\n",
       "    <tr>\n",
       "      <th>sqft_living15</th>\n",
       "      <td>1.039983e+01</td>\n",
       "      <td>2.768179e+01</td>\n",
       "    </tr>\n",
       "    <tr>\n",
       "      <th>sqft_lot15</th>\n",
       "      <td>-5.359064e-01</td>\n",
       "      <td>-1.829349e-01</td>\n",
       "    </tr>\n",
       "    <tr>\n",
       "      <th>date_year</th>\n",
       "      <td>2.770641e+04</td>\n",
       "      <td>5.142220e+04</td>\n",
       "    </tr>\n",
       "    <tr>\n",
       "      <th>date_month</th>\n",
       "      <td>-2.218273e+02</td>\n",
       "      <td>3.333608e+03</td>\n",
       "    </tr>\n",
       "    <tr>\n",
       "      <th>date_day</th>\n",
       "      <td>-6.595815e+02</td>\n",
       "      <td>1.440035e+02</td>\n",
       "    </tr>\n",
       "  </tbody>\n",
       "</table>\n",
       "</div>"
      ],
      "text/plain": [
       "                          0             1\n",
       "const         -9.962705e+07 -4.950696e+07\n",
       "bedrooms      -4.540386e+04 -3.566094e+04\n",
       "bathrooms      3.559884e+04  5.186794e+04\n",
       "sqft_living    1.113849e+02  1.226909e+02\n",
       "sqft_lot       3.258530e-03  2.318445e-01\n",
       "floors        -3.492063e+03  1.454132e+04\n",
       "waterfront     5.423429e+05  6.262168e+05\n",
       "view           4.648568e+04  5.695332e+04\n",
       "condition      2.374100e+04  3.551318e+04\n",
       "grade          8.922796e+04  1.000220e+05\n",
       "sqft_above     6.972758e+01  8.105546e+01\n",
       "sqft_basement  3.503233e+01  4.820257e+01\n",
       "yr_built      -2.839168e+03 -2.476142e+03\n",
       "yr_renovated   9.145080e+00  2.751495e+01\n",
       "zipcode       -6.539180e+02 -4.892470e+02\n",
       "lat            5.766896e+05  6.304824e+05\n",
       "long          -2.519521e+05 -1.860190e+05\n",
       "sqft_living15  1.039983e+01  2.768179e+01\n",
       "sqft_lot15    -5.359064e-01 -1.829349e-01\n",
       "date_year      2.770641e+04  5.142220e+04\n",
       "date_month    -2.218273e+02  3.333608e+03\n",
       "date_day      -6.595815e+02  1.440035e+02"
      ]
     },
     "execution_count": 79,
     "metadata": {},
     "output_type": "execute_result"
    }
   ],
   "source": [
    "est.conf_int()"
   ]
  },
  {
   "cell_type": "markdown",
   "metadata": {},
   "source": [
    "### Summary"
   ]
  },
  {
   "cell_type": "code",
   "execution_count": 80,
   "metadata": {},
   "outputs": [
    {
     "data": {
      "text/html": [
       "<table class=\"simpletable\">\n",
       "<caption>OLS Regression Results</caption>\n",
       "<tr>\n",
       "  <th>Dep. Variable:</th>          <td>price</td>      <th>  R-squared:         </th>  <td>   0.699</td>  \n",
       "</tr>\n",
       "<tr>\n",
       "  <th>Model:</th>                   <td>OLS</td>       <th>  Adj. R-squared:    </th>  <td>   0.699</td>  \n",
       "</tr>\n",
       "<tr>\n",
       "  <th>Method:</th>             <td>Least Squares</td>  <th>  F-statistic:       </th>  <td>   1607.</td>  \n",
       "</tr>\n",
       "<tr>\n",
       "  <th>Date:</th>             <td>Mon, 19 Oct 2020</td> <th>  Prob (F-statistic):</th>   <td>  0.00</td>   \n",
       "</tr>\n",
       "<tr>\n",
       "  <th>Time:</th>                 <td>13:28:08</td>     <th>  Log-Likelihood:    </th> <td>-1.8886e+05</td>\n",
       "</tr>\n",
       "<tr>\n",
       "  <th>No. Observations:</th>      <td> 13832</td>      <th>  AIC:               </th>  <td>3.778e+05</td> \n",
       "</tr>\n",
       "<tr>\n",
       "  <th>Df Residuals:</th>          <td> 13811</td>      <th>  BIC:               </th>  <td>3.779e+05</td> \n",
       "</tr>\n",
       "<tr>\n",
       "  <th>Df Model:</th>              <td>    20</td>      <th>                     </th>      <td> </td>     \n",
       "</tr>\n",
       "<tr>\n",
       "  <th>Covariance Type:</th>      <td>nonrobust</td>    <th>                     </th>      <td> </td>     \n",
       "</tr>\n",
       "</table>\n",
       "<table class=\"simpletable\">\n",
       "<tr>\n",
       "        <td></td>           <th>coef</th>     <th>std err</th>      <th>t</th>      <th>P>|t|</th>  <th>[0.025</th>    <th>0.975]</th>  \n",
       "</tr>\n",
       "<tr>\n",
       "  <th>const</th>         <td>-7.457e+07</td> <td> 1.28e+07</td> <td>   -5.832</td> <td> 0.000</td> <td>-9.96e+07</td> <td>-4.95e+07</td>\n",
       "</tr>\n",
       "<tr>\n",
       "  <th>bedrooms</th>      <td>-4.053e+04</td> <td> 2485.267</td> <td>  -16.309</td> <td> 0.000</td> <td>-4.54e+04</td> <td>-3.57e+04</td>\n",
       "</tr>\n",
       "<tr>\n",
       "  <th>bathrooms</th>     <td> 4.373e+04</td> <td> 4149.994</td> <td>   10.538</td> <td> 0.000</td> <td> 3.56e+04</td> <td> 5.19e+04</td>\n",
       "</tr>\n",
       "<tr>\n",
       "  <th>sqft_living</th>   <td>  117.0379</td> <td>    2.884</td> <td>   40.582</td> <td> 0.000</td> <td>  111.385</td> <td>  122.691</td>\n",
       "</tr>\n",
       "<tr>\n",
       "  <th>sqft_lot</th>      <td>    0.1176</td> <td>    0.058</td> <td>    2.016</td> <td> 0.044</td> <td>    0.003</td> <td>    0.232</td>\n",
       "</tr>\n",
       "<tr>\n",
       "  <th>floors</th>        <td> 5524.6265</td> <td> 4600.033</td> <td>    1.201</td> <td> 0.230</td> <td>-3492.063</td> <td> 1.45e+04</td>\n",
       "</tr>\n",
       "<tr>\n",
       "  <th>waterfront</th>    <td> 5.843e+05</td> <td> 2.14e+04</td> <td>   27.309</td> <td> 0.000</td> <td> 5.42e+05</td> <td> 6.26e+05</td>\n",
       "</tr>\n",
       "<tr>\n",
       "  <th>view</th>          <td> 5.172e+04</td> <td> 2670.132</td> <td>   19.370</td> <td> 0.000</td> <td> 4.65e+04</td> <td>  5.7e+04</td>\n",
       "</tr>\n",
       "<tr>\n",
       "  <th>condition</th>     <td> 2.963e+04</td> <td> 3002.899</td> <td>    9.866</td> <td> 0.000</td> <td> 2.37e+04</td> <td> 3.55e+04</td>\n",
       "</tr>\n",
       "<tr>\n",
       "  <th>grade</th>         <td> 9.462e+04</td> <td> 2753.387</td> <td>   34.367</td> <td> 0.000</td> <td> 8.92e+04</td> <td>    1e+05</td>\n",
       "</tr>\n",
       "<tr>\n",
       "  <th>sqft_above</th>    <td>   75.3915</td> <td>    2.890</td> <td>   26.091</td> <td> 0.000</td> <td>   69.728</td> <td>   81.055</td>\n",
       "</tr>\n",
       "<tr>\n",
       "  <th>sqft_basement</th> <td>   41.6174</td> <td>    3.360</td> <td>   12.388</td> <td> 0.000</td> <td>   35.032</td> <td>   48.203</td>\n",
       "</tr>\n",
       "<tr>\n",
       "  <th>yr_built</th>      <td>-2657.6548</td> <td>   92.602</td> <td>  -28.700</td> <td> 0.000</td> <td>-2839.168</td> <td>-2476.142</td>\n",
       "</tr>\n",
       "<tr>\n",
       "  <th>yr_renovated</th>  <td>   18.3300</td> <td>    4.686</td> <td>    3.912</td> <td> 0.000</td> <td>    9.145</td> <td>   27.515</td>\n",
       "</tr>\n",
       "<tr>\n",
       "  <th>zipcode</th>       <td> -571.5825</td> <td>   42.005</td> <td>  -13.607</td> <td> 0.000</td> <td> -653.918</td> <td> -489.247</td>\n",
       "</tr>\n",
       "<tr>\n",
       "  <th>lat</th>           <td> 6.036e+05</td> <td> 1.37e+04</td> <td>   43.988</td> <td> 0.000</td> <td> 5.77e+05</td> <td>  6.3e+05</td>\n",
       "</tr>\n",
       "<tr>\n",
       "  <th>long</th>          <td> -2.19e+05</td> <td> 1.68e+04</td> <td>  -13.021</td> <td> 0.000</td> <td>-2.52e+05</td> <td>-1.86e+05</td>\n",
       "</tr>\n",
       "<tr>\n",
       "  <th>sqft_living15</th> <td>   19.0408</td> <td>    4.408</td> <td>    4.319</td> <td> 0.000</td> <td>   10.400</td> <td>   27.682</td>\n",
       "</tr>\n",
       "<tr>\n",
       "  <th>sqft_lot15</th>    <td>   -0.3594</td> <td>    0.090</td> <td>   -3.992</td> <td> 0.000</td> <td>   -0.536</td> <td>   -0.183</td>\n",
       "</tr>\n",
       "<tr>\n",
       "  <th>date_year</th>     <td> 3.956e+04</td> <td> 6049.528</td> <td>    6.540</td> <td> 0.000</td> <td> 2.77e+04</td> <td> 5.14e+04</td>\n",
       "</tr>\n",
       "<tr>\n",
       "  <th>date_month</th>    <td> 1555.8902</td> <td>  906.936</td> <td>    1.716</td> <td> 0.086</td> <td> -221.827</td> <td> 3333.608</td>\n",
       "</tr>\n",
       "<tr>\n",
       "  <th>date_day</th>      <td> -257.7890</td> <td>  204.982</td> <td>   -1.258</td> <td> 0.209</td> <td> -659.581</td> <td>  144.004</td>\n",
       "</tr>\n",
       "</table>\n",
       "<table class=\"simpletable\">\n",
       "<tr>\n",
       "  <th>Omnibus:</th>       <td>12328.943</td> <th>  Durbin-Watson:     </th>  <td>   1.994</td>  \n",
       "</tr>\n",
       "<tr>\n",
       "  <th>Prob(Omnibus):</th>  <td> 0.000</td>   <th>  Jarque-Bera (JB):  </th> <td>1468889.198</td>\n",
       "</tr>\n",
       "<tr>\n",
       "  <th>Skew:</th>           <td> 3.797</td>   <th>  Prob(JB):          </th>  <td>    0.00</td>  \n",
       "</tr>\n",
       "<tr>\n",
       "  <th>Kurtosis:</th>       <td>52.910</td>   <th>  Cond. No.          </th>  <td>5.29e+17</td>  \n",
       "</tr>\n",
       "</table><br/><br/>Warnings:<br/>[1] Standard Errors assume that the covariance matrix of the errors is correctly specified.<br/>[2] The smallest eigenvalue is 5.01e-22. This might indicate that there are<br/>strong multicollinearity problems or that the design matrix is singular."
      ],
      "text/plain": [
       "<class 'statsmodels.iolib.summary.Summary'>\n",
       "\"\"\"\n",
       "                            OLS Regression Results                            \n",
       "==============================================================================\n",
       "Dep. Variable:                  price   R-squared:                       0.699\n",
       "Model:                            OLS   Adj. R-squared:                  0.699\n",
       "Method:                 Least Squares   F-statistic:                     1607.\n",
       "Date:                Mon, 19 Oct 2020   Prob (F-statistic):               0.00\n",
       "Time:                        13:28:08   Log-Likelihood:            -1.8886e+05\n",
       "No. Observations:               13832   AIC:                         3.778e+05\n",
       "Df Residuals:                   13811   BIC:                         3.779e+05\n",
       "Df Model:                          20                                         \n",
       "Covariance Type:            nonrobust                                         \n",
       "=================================================================================\n",
       "                    coef    std err          t      P>|t|      [0.025      0.975]\n",
       "---------------------------------------------------------------------------------\n",
       "const         -7.457e+07   1.28e+07     -5.832      0.000   -9.96e+07   -4.95e+07\n",
       "bedrooms      -4.053e+04   2485.267    -16.309      0.000   -4.54e+04   -3.57e+04\n",
       "bathrooms      4.373e+04   4149.994     10.538      0.000    3.56e+04    5.19e+04\n",
       "sqft_living     117.0379      2.884     40.582      0.000     111.385     122.691\n",
       "sqft_lot          0.1176      0.058      2.016      0.044       0.003       0.232\n",
       "floors         5524.6265   4600.033      1.201      0.230   -3492.063    1.45e+04\n",
       "waterfront     5.843e+05   2.14e+04     27.309      0.000    5.42e+05    6.26e+05\n",
       "view           5.172e+04   2670.132     19.370      0.000    4.65e+04     5.7e+04\n",
       "condition      2.963e+04   3002.899      9.866      0.000    2.37e+04    3.55e+04\n",
       "grade          9.462e+04   2753.387     34.367      0.000    8.92e+04       1e+05\n",
       "sqft_above       75.3915      2.890     26.091      0.000      69.728      81.055\n",
       "sqft_basement    41.6174      3.360     12.388      0.000      35.032      48.203\n",
       "yr_built      -2657.6548     92.602    -28.700      0.000   -2839.168   -2476.142\n",
       "yr_renovated     18.3300      4.686      3.912      0.000       9.145      27.515\n",
       "zipcode        -571.5825     42.005    -13.607      0.000    -653.918    -489.247\n",
       "lat            6.036e+05   1.37e+04     43.988      0.000    5.77e+05     6.3e+05\n",
       "long           -2.19e+05   1.68e+04    -13.021      0.000   -2.52e+05   -1.86e+05\n",
       "sqft_living15    19.0408      4.408      4.319      0.000      10.400      27.682\n",
       "sqft_lot15       -0.3594      0.090     -3.992      0.000      -0.536      -0.183\n",
       "date_year      3.956e+04   6049.528      6.540      0.000    2.77e+04    5.14e+04\n",
       "date_month     1555.8902    906.936      1.716      0.086    -221.827    3333.608\n",
       "date_day       -257.7890    204.982     -1.258      0.209    -659.581     144.004\n",
       "==============================================================================\n",
       "Omnibus:                    12328.943   Durbin-Watson:                   1.994\n",
       "Prob(Omnibus):                  0.000   Jarque-Bera (JB):          1468889.198\n",
       "Skew:                           3.797   Prob(JB):                         0.00\n",
       "Kurtosis:                      52.910   Cond. No.                     5.29e+17\n",
       "==============================================================================\n",
       "\n",
       "Warnings:\n",
       "[1] Standard Errors assume that the covariance matrix of the errors is correctly specified.\n",
       "[2] The smallest eigenvalue is 5.01e-22. This might indicate that there are\n",
       "strong multicollinearity problems or that the design matrix is singular.\n",
       "\"\"\""
      ]
     },
     "execution_count": 80,
     "metadata": {},
     "output_type": "execute_result"
    }
   ],
   "source": [
    "est.summary()"
   ]
  },
  {
   "cell_type": "code",
   "execution_count": null,
   "metadata": {},
   "outputs": [],
   "source": []
  }
 ],
 "metadata": {
  "kernelspec": {
   "display_name": "learn-env",
   "language": "python",
   "name": "learn-env"
  },
  "language_info": {
   "codemirror_mode": {
    "name": "ipython",
    "version": 3
   },
   "file_extension": ".py",
   "mimetype": "text/x-python",
   "name": "python",
   "nbconvert_exporter": "python",
   "pygments_lexer": "ipython3",
   "version": "3.6.9"
  }
 },
 "nbformat": 4,
 "nbformat_minor": 4
}
