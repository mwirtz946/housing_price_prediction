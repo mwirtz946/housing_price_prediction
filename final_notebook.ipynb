{
 "cells": [
  {
   "cell_type": "markdown",
   "metadata": {},
   "source": [
    "# KINGS COUNTRY HOUSING PRICES"
   ]
  },
  {
   "cell_type": "markdown",
   "metadata": {},
   "source": [
    "## Step 1: Read in Data"
   ]
  },
  {
   "cell_type": "markdown",
   "metadata": {},
   "source": [
    "### Import Libraries"
   ]
  },
  {
   "cell_type": "code",
   "execution_count": 182,
   "metadata": {},
   "outputs": [],
   "source": [
    "import pandas as pd\n",
    "import numpy as np\n",
    "import os\n",
    "\n",
    "from sklearn.model_selection import train_test_split\n",
    "from sklearn.model_selection import StratifiedShuffleSplit\n",
    "from sklearn.preprocessing import OrdinalEncoder\n",
    "from sklearn.preprocessing import OneHotEncoder\n",
    "from sklearn.dummy import DummyRegressor\n",
    "from sklearn.metrics import mean_squared_error\n",
    "from sklearn.linear_model import LinearRegression\n",
    "from sklearn.preprocessing import StandardScaler\n",
    "\n",
    "%matplotlib inline\n",
    "import matplotlib.pyplot as plt\n",
    "import seaborn as sns\n",
    "\n",
    "from scipy import stats\n",
    "\n",
    "import statsmodels.api as sm\n",
    "from statsmodels.stats import diagnostic as diag\n",
    "from statsmodels.stats.outliers_influence import variance_inflation_factor\n",
    "from statsmodels.formula.api import ols\n",
    "\n",
    "import warnings\n",
    "warnings.simplefilter('ignore')\n",
    "pd.set_option('display.max_columns', 300)"
   ]
  },
  {
   "cell_type": "markdown",
   "metadata": {},
   "source": [
    "### Import Data"
   ]
  },
  {
   "cell_type": "code",
   "execution_count": 183,
   "metadata": {},
   "outputs": [],
   "source": [
    "data = pd.read_csv('./data/kc_house_data_train.csv')"
   ]
  },
  {
   "cell_type": "markdown",
   "metadata": {},
   "source": [
    "## Step 2: Exploratory Data Analysis "
   ]
  },
  {
   "cell_type": "markdown",
   "metadata": {},
   "source": [
    "### General"
   ]
  },
  {
   "cell_type": "code",
   "execution_count": 184,
   "metadata": {},
   "outputs": [
    {
     "data": {
      "text/plain": [
       "(17290, 22)"
      ]
     },
     "execution_count": 184,
     "metadata": {},
     "output_type": "execute_result"
    }
   ],
   "source": [
    "data.shape"
   ]
  },
  {
   "cell_type": "code",
   "execution_count": 185,
   "metadata": {},
   "outputs": [
    {
     "name": "stdout",
     "output_type": "stream",
     "text": [
      "<class 'pandas.core.frame.DataFrame'>\n",
      "RangeIndex: 17290 entries, 0 to 17289\n",
      "Data columns (total 22 columns):\n",
      "Unnamed: 0       17290 non-null int64\n",
      "id               17290 non-null int64\n",
      "date             17290 non-null object\n",
      "price            17290 non-null float64\n",
      "bedrooms         17290 non-null int64\n",
      "bathrooms        17290 non-null float64\n",
      "sqft_living      17290 non-null int64\n",
      "sqft_lot         17290 non-null int64\n",
      "floors           17290 non-null float64\n",
      "waterfront       17290 non-null int64\n",
      "view             17290 non-null int64\n",
      "condition        17290 non-null int64\n",
      "grade            17290 non-null int64\n",
      "sqft_above       17290 non-null int64\n",
      "sqft_basement    17290 non-null int64\n",
      "yr_built         17290 non-null int64\n",
      "yr_renovated     17290 non-null int64\n",
      "zipcode          17290 non-null int64\n",
      "lat              17290 non-null float64\n",
      "long             17290 non-null float64\n",
      "sqft_living15    17290 non-null int64\n",
      "sqft_lot15       17290 non-null int64\n",
      "dtypes: float64(5), int64(16), object(1)\n",
      "memory usage: 2.9+ MB\n"
     ]
    }
   ],
   "source": [
    "data.info()"
   ]
  },
  {
   "cell_type": "code",
   "execution_count": 186,
   "metadata": {},
   "outputs": [
    {
     "data": {
      "text/html": [
       "<div>\n",
       "<style scoped>\n",
       "    .dataframe tbody tr th:only-of-type {\n",
       "        vertical-align: middle;\n",
       "    }\n",
       "\n",
       "    .dataframe tbody tr th {\n",
       "        vertical-align: top;\n",
       "    }\n",
       "\n",
       "    .dataframe thead th {\n",
       "        text-align: right;\n",
       "    }\n",
       "</style>\n",
       "<table border=\"1\" class=\"dataframe\">\n",
       "  <thead>\n",
       "    <tr style=\"text-align: right;\">\n",
       "      <th></th>\n",
       "      <th>Unnamed: 0</th>\n",
       "      <th>id</th>\n",
       "      <th>date</th>\n",
       "      <th>price</th>\n",
       "      <th>bedrooms</th>\n",
       "      <th>bathrooms</th>\n",
       "      <th>sqft_living</th>\n",
       "      <th>sqft_lot</th>\n",
       "      <th>floors</th>\n",
       "      <th>waterfront</th>\n",
       "      <th>view</th>\n",
       "      <th>condition</th>\n",
       "      <th>grade</th>\n",
       "      <th>sqft_above</th>\n",
       "      <th>sqft_basement</th>\n",
       "      <th>yr_built</th>\n",
       "      <th>yr_renovated</th>\n",
       "      <th>zipcode</th>\n",
       "      <th>lat</th>\n",
       "      <th>long</th>\n",
       "      <th>sqft_living15</th>\n",
       "      <th>sqft_lot15</th>\n",
       "    </tr>\n",
       "  </thead>\n",
       "  <tbody>\n",
       "    <tr>\n",
       "      <th>0</th>\n",
       "      <td>0</td>\n",
       "      <td>2591820310</td>\n",
       "      <td>20141006T000000</td>\n",
       "      <td>365000.0</td>\n",
       "      <td>4</td>\n",
       "      <td>2.25</td>\n",
       "      <td>2070</td>\n",
       "      <td>8893</td>\n",
       "      <td>2.0</td>\n",
       "      <td>0</td>\n",
       "      <td>0</td>\n",
       "      <td>4</td>\n",
       "      <td>8</td>\n",
       "      <td>2070</td>\n",
       "      <td>0</td>\n",
       "      <td>1986</td>\n",
       "      <td>0</td>\n",
       "      <td>98058</td>\n",
       "      <td>47.4388</td>\n",
       "      <td>-122.162</td>\n",
       "      <td>2390</td>\n",
       "      <td>7700</td>\n",
       "    </tr>\n",
       "    <tr>\n",
       "      <th>1</th>\n",
       "      <td>1</td>\n",
       "      <td>7974200820</td>\n",
       "      <td>20140821T000000</td>\n",
       "      <td>865000.0</td>\n",
       "      <td>5</td>\n",
       "      <td>3.00</td>\n",
       "      <td>2900</td>\n",
       "      <td>6730</td>\n",
       "      <td>1.0</td>\n",
       "      <td>0</td>\n",
       "      <td>0</td>\n",
       "      <td>5</td>\n",
       "      <td>8</td>\n",
       "      <td>1830</td>\n",
       "      <td>1070</td>\n",
       "      <td>1977</td>\n",
       "      <td>0</td>\n",
       "      <td>98115</td>\n",
       "      <td>47.6784</td>\n",
       "      <td>-122.285</td>\n",
       "      <td>2370</td>\n",
       "      <td>6283</td>\n",
       "    </tr>\n",
       "    <tr>\n",
       "      <th>2</th>\n",
       "      <td>2</td>\n",
       "      <td>7701450110</td>\n",
       "      <td>20140815T000000</td>\n",
       "      <td>1038000.0</td>\n",
       "      <td>4</td>\n",
       "      <td>2.50</td>\n",
       "      <td>3770</td>\n",
       "      <td>10893</td>\n",
       "      <td>2.0</td>\n",
       "      <td>0</td>\n",
       "      <td>2</td>\n",
       "      <td>3</td>\n",
       "      <td>11</td>\n",
       "      <td>3770</td>\n",
       "      <td>0</td>\n",
       "      <td>1997</td>\n",
       "      <td>0</td>\n",
       "      <td>98006</td>\n",
       "      <td>47.5646</td>\n",
       "      <td>-122.129</td>\n",
       "      <td>3710</td>\n",
       "      <td>9685</td>\n",
       "    </tr>\n",
       "    <tr>\n",
       "      <th>3</th>\n",
       "      <td>3</td>\n",
       "      <td>9522300010</td>\n",
       "      <td>20150331T000000</td>\n",
       "      <td>1490000.0</td>\n",
       "      <td>3</td>\n",
       "      <td>3.50</td>\n",
       "      <td>4560</td>\n",
       "      <td>14608</td>\n",
       "      <td>2.0</td>\n",
       "      <td>0</td>\n",
       "      <td>2</td>\n",
       "      <td>3</td>\n",
       "      <td>12</td>\n",
       "      <td>4560</td>\n",
       "      <td>0</td>\n",
       "      <td>1990</td>\n",
       "      <td>0</td>\n",
       "      <td>98034</td>\n",
       "      <td>47.6995</td>\n",
       "      <td>-122.228</td>\n",
       "      <td>4050</td>\n",
       "      <td>14226</td>\n",
       "    </tr>\n",
       "    <tr>\n",
       "      <th>4</th>\n",
       "      <td>4</td>\n",
       "      <td>9510861140</td>\n",
       "      <td>20140714T000000</td>\n",
       "      <td>711000.0</td>\n",
       "      <td>3</td>\n",
       "      <td>2.50</td>\n",
       "      <td>2550</td>\n",
       "      <td>5376</td>\n",
       "      <td>2.0</td>\n",
       "      <td>0</td>\n",
       "      <td>0</td>\n",
       "      <td>3</td>\n",
       "      <td>9</td>\n",
       "      <td>2550</td>\n",
       "      <td>0</td>\n",
       "      <td>2004</td>\n",
       "      <td>0</td>\n",
       "      <td>98052</td>\n",
       "      <td>47.6647</td>\n",
       "      <td>-122.083</td>\n",
       "      <td>2250</td>\n",
       "      <td>4050</td>\n",
       "    </tr>\n",
       "  </tbody>\n",
       "</table>\n",
       "</div>"
      ],
      "text/plain": [
       "   Unnamed: 0          id             date      price  bedrooms  bathrooms  \\\n",
       "0           0  2591820310  20141006T000000   365000.0         4       2.25   \n",
       "1           1  7974200820  20140821T000000   865000.0         5       3.00   \n",
       "2           2  7701450110  20140815T000000  1038000.0         4       2.50   \n",
       "3           3  9522300010  20150331T000000  1490000.0         3       3.50   \n",
       "4           4  9510861140  20140714T000000   711000.0         3       2.50   \n",
       "\n",
       "   sqft_living  sqft_lot  floors  waterfront  view  condition  grade  \\\n",
       "0         2070      8893     2.0           0     0          4      8   \n",
       "1         2900      6730     1.0           0     0          5      8   \n",
       "2         3770     10893     2.0           0     2          3     11   \n",
       "3         4560     14608     2.0           0     2          3     12   \n",
       "4         2550      5376     2.0           0     0          3      9   \n",
       "\n",
       "   sqft_above  sqft_basement  yr_built  yr_renovated  zipcode      lat  \\\n",
       "0        2070              0      1986             0    98058  47.4388   \n",
       "1        1830           1070      1977             0    98115  47.6784   \n",
       "2        3770              0      1997             0    98006  47.5646   \n",
       "3        4560              0      1990             0    98034  47.6995   \n",
       "4        2550              0      2004             0    98052  47.6647   \n",
       "\n",
       "      long  sqft_living15  sqft_lot15  \n",
       "0 -122.162           2390        7700  \n",
       "1 -122.285           2370        6283  \n",
       "2 -122.129           3710        9685  \n",
       "3 -122.228           4050       14226  \n",
       "4 -122.083           2250        4050  "
      ]
     },
     "execution_count": 186,
     "metadata": {},
     "output_type": "execute_result"
    }
   ],
   "source": [
    "data.head()"
   ]
  },
  {
   "cell_type": "code",
   "execution_count": 187,
   "metadata": {},
   "outputs": [
    {
     "data": {
      "text/html": [
       "<div>\n",
       "<style scoped>\n",
       "    .dataframe tbody tr th:only-of-type {\n",
       "        vertical-align: middle;\n",
       "    }\n",
       "\n",
       "    .dataframe tbody tr th {\n",
       "        vertical-align: top;\n",
       "    }\n",
       "\n",
       "    .dataframe thead th {\n",
       "        text-align: right;\n",
       "    }\n",
       "</style>\n",
       "<table border=\"1\" class=\"dataframe\">\n",
       "  <thead>\n",
       "    <tr style=\"text-align: right;\">\n",
       "      <th></th>\n",
       "      <th>Unnamed: 0</th>\n",
       "      <th>id</th>\n",
       "      <th>date</th>\n",
       "      <th>price</th>\n",
       "      <th>bedrooms</th>\n",
       "      <th>bathrooms</th>\n",
       "      <th>sqft_living</th>\n",
       "      <th>sqft_lot</th>\n",
       "      <th>floors</th>\n",
       "      <th>waterfront</th>\n",
       "      <th>view</th>\n",
       "      <th>condition</th>\n",
       "      <th>grade</th>\n",
       "      <th>sqft_above</th>\n",
       "      <th>sqft_basement</th>\n",
       "      <th>yr_built</th>\n",
       "      <th>yr_renovated</th>\n",
       "      <th>zipcode</th>\n",
       "      <th>lat</th>\n",
       "      <th>long</th>\n",
       "      <th>sqft_living15</th>\n",
       "      <th>sqft_lot15</th>\n",
       "    </tr>\n",
       "  </thead>\n",
       "  <tbody>\n",
       "    <tr>\n",
       "      <th>17285</th>\n",
       "      <td>17285</td>\n",
       "      <td>627300195</td>\n",
       "      <td>20150303T000000</td>\n",
       "      <td>750000.0</td>\n",
       "      <td>5</td>\n",
       "      <td>2.50</td>\n",
       "      <td>3240</td>\n",
       "      <td>9960</td>\n",
       "      <td>1.0</td>\n",
       "      <td>0</td>\n",
       "      <td>1</td>\n",
       "      <td>3</td>\n",
       "      <td>8</td>\n",
       "      <td>2020</td>\n",
       "      <td>1220</td>\n",
       "      <td>1958</td>\n",
       "      <td>0</td>\n",
       "      <td>98008</td>\n",
       "      <td>47.5858</td>\n",
       "      <td>-122.112</td>\n",
       "      <td>2730</td>\n",
       "      <td>10400</td>\n",
       "    </tr>\n",
       "    <tr>\n",
       "      <th>17286</th>\n",
       "      <td>17286</td>\n",
       "      <td>8819900270</td>\n",
       "      <td>20140520T000000</td>\n",
       "      <td>440000.0</td>\n",
       "      <td>2</td>\n",
       "      <td>1.75</td>\n",
       "      <td>1300</td>\n",
       "      <td>4000</td>\n",
       "      <td>2.0</td>\n",
       "      <td>0</td>\n",
       "      <td>0</td>\n",
       "      <td>3</td>\n",
       "      <td>7</td>\n",
       "      <td>1300</td>\n",
       "      <td>0</td>\n",
       "      <td>1948</td>\n",
       "      <td>0</td>\n",
       "      <td>98105</td>\n",
       "      <td>47.6687</td>\n",
       "      <td>-122.288</td>\n",
       "      <td>1350</td>\n",
       "      <td>4013</td>\n",
       "    </tr>\n",
       "    <tr>\n",
       "      <th>17287</th>\n",
       "      <td>17287</td>\n",
       "      <td>3816300095</td>\n",
       "      <td>20140514T000000</td>\n",
       "      <td>310000.0</td>\n",
       "      <td>3</td>\n",
       "      <td>1.00</td>\n",
       "      <td>1050</td>\n",
       "      <td>9876</td>\n",
       "      <td>1.0</td>\n",
       "      <td>0</td>\n",
       "      <td>0</td>\n",
       "      <td>3</td>\n",
       "      <td>7</td>\n",
       "      <td>1050</td>\n",
       "      <td>0</td>\n",
       "      <td>1953</td>\n",
       "      <td>0</td>\n",
       "      <td>98028</td>\n",
       "      <td>47.7635</td>\n",
       "      <td>-122.262</td>\n",
       "      <td>1760</td>\n",
       "      <td>9403</td>\n",
       "    </tr>\n",
       "    <tr>\n",
       "      <th>17288</th>\n",
       "      <td>17288</td>\n",
       "      <td>122069107</td>\n",
       "      <td>20141204T000000</td>\n",
       "      <td>427500.0</td>\n",
       "      <td>3</td>\n",
       "      <td>1.50</td>\n",
       "      <td>1900</td>\n",
       "      <td>43186</td>\n",
       "      <td>1.5</td>\n",
       "      <td>0</td>\n",
       "      <td>0</td>\n",
       "      <td>4</td>\n",
       "      <td>7</td>\n",
       "      <td>1300</td>\n",
       "      <td>600</td>\n",
       "      <td>1971</td>\n",
       "      <td>0</td>\n",
       "      <td>98038</td>\n",
       "      <td>47.4199</td>\n",
       "      <td>-121.990</td>\n",
       "      <td>2080</td>\n",
       "      <td>108028</td>\n",
       "    </tr>\n",
       "    <tr>\n",
       "      <th>17289</th>\n",
       "      <td>17289</td>\n",
       "      <td>6703100135</td>\n",
       "      <td>20150116T000000</td>\n",
       "      <td>348000.0</td>\n",
       "      <td>3</td>\n",
       "      <td>1.50</td>\n",
       "      <td>1330</td>\n",
       "      <td>6768</td>\n",
       "      <td>1.0</td>\n",
       "      <td>0</td>\n",
       "      <td>0</td>\n",
       "      <td>4</td>\n",
       "      <td>7</td>\n",
       "      <td>1330</td>\n",
       "      <td>0</td>\n",
       "      <td>1952</td>\n",
       "      <td>0</td>\n",
       "      <td>98155</td>\n",
       "      <td>47.7366</td>\n",
       "      <td>-122.319</td>\n",
       "      <td>1320</td>\n",
       "      <td>6910</td>\n",
       "    </tr>\n",
       "  </tbody>\n",
       "</table>\n",
       "</div>"
      ],
      "text/plain": [
       "       Unnamed: 0          id             date     price  bedrooms  bathrooms  \\\n",
       "17285       17285   627300195  20150303T000000  750000.0         5       2.50   \n",
       "17286       17286  8819900270  20140520T000000  440000.0         2       1.75   \n",
       "17287       17287  3816300095  20140514T000000  310000.0         3       1.00   \n",
       "17288       17288   122069107  20141204T000000  427500.0         3       1.50   \n",
       "17289       17289  6703100135  20150116T000000  348000.0         3       1.50   \n",
       "\n",
       "       sqft_living  sqft_lot  floors  waterfront  view  condition  grade  \\\n",
       "17285         3240      9960     1.0           0     1          3      8   \n",
       "17286         1300      4000     2.0           0     0          3      7   \n",
       "17287         1050      9876     1.0           0     0          3      7   \n",
       "17288         1900     43186     1.5           0     0          4      7   \n",
       "17289         1330      6768     1.0           0     0          4      7   \n",
       "\n",
       "       sqft_above  sqft_basement  yr_built  yr_renovated  zipcode      lat  \\\n",
       "17285        2020           1220      1958             0    98008  47.5858   \n",
       "17286        1300              0      1948             0    98105  47.6687   \n",
       "17287        1050              0      1953             0    98028  47.7635   \n",
       "17288        1300            600      1971             0    98038  47.4199   \n",
       "17289        1330              0      1952             0    98155  47.7366   \n",
       "\n",
       "          long  sqft_living15  sqft_lot15  \n",
       "17285 -122.112           2730       10400  \n",
       "17286 -122.288           1350        4013  \n",
       "17287 -122.262           1760        9403  \n",
       "17288 -121.990           2080      108028  \n",
       "17289 -122.319           1320        6910  "
      ]
     },
     "execution_count": 187,
     "metadata": {},
     "output_type": "execute_result"
    }
   ],
   "source": [
    "data.tail()"
   ]
  },
  {
   "cell_type": "markdown",
   "metadata": {},
   "source": [
    "### Distributions"
   ]
  },
  {
   "cell_type": "code",
   "execution_count": 188,
   "metadata": {},
   "outputs": [
    {
     "data": {
      "image/png": "[encoded data removed]",
      "text/plain": [
       "<Figure size 2160x2160 with 25 Axes>"
      ]
     },
     "metadata": {
      "needs_background": "light"
     },
     "output_type": "display_data"
    }
   ],
   "source": [
    "fig, ax = plt.subplots(figsize=(30,30))\n",
    "data.hist(ax=ax)\n",
    "plt.show()"
   ]
  },
  {
   "cell_type": "markdown",
   "metadata": {},
   "source": [
    "### Correlations"
   ]
  },
  {
   "cell_type": "code",
   "execution_count": 189,
   "metadata": {},
   "outputs": [],
   "source": [
    "correlation = data.corr()"
   ]
  },
  {
   "cell_type": "code",
   "execution_count": 190,
   "metadata": {},
   "outputs": [
    {
     "data": {
      "text/plain": [
       "<matplotlib.axes._subplots.AxesSubplot at 0x7fce7b335b38>"
      ]
     },
     "execution_count": 190,
     "metadata": {},
     "output_type": "execute_result"
    },
    {
     "data": {
      "image/png": "[encoded data removed]",
      "text/plain": [
       "<Figure size 1080x720 with 2 Axes>"
      ]
     },
     "metadata": {
      "needs_background": "light"
     },
     "output_type": "display_data"
    }
   ],
   "source": [
    "fig, ax = plt.subplots(figsize=(15,10))        \n",
    "sns.heatmap(correlation, linewidths=1, ax=ax, xticklabels = correlation.columns, yticklabels = correlation.columns, cmap='RdBu')"
   ]
  },
  {
   "cell_type": "markdown",
   "metadata": {},
   "source": [
    "### Outliers"
   ]
  },
  {
   "cell_type": "code",
   "execution_count": 191,
   "metadata": {},
   "outputs": [
    {
     "data": {
      "text/html": [
       "<div>\n",
       "<style scoped>\n",
       "    .dataframe tbody tr th:only-of-type {\n",
       "        vertical-align: middle;\n",
       "    }\n",
       "\n",
       "    .dataframe tbody tr th {\n",
       "        vertical-align: top;\n",
       "    }\n",
       "\n",
       "    .dataframe thead th {\n",
       "        text-align: right;\n",
       "    }\n",
       "</style>\n",
       "<table border=\"1\" class=\"dataframe\">\n",
       "  <thead>\n",
       "    <tr style=\"text-align: right;\">\n",
       "      <th></th>\n",
       "      <th>Unnamed: 0</th>\n",
       "      <th>id</th>\n",
       "      <th>price</th>\n",
       "      <th>bedrooms</th>\n",
       "      <th>bathrooms</th>\n",
       "      <th>sqft_living</th>\n",
       "      <th>sqft_lot</th>\n",
       "      <th>floors</th>\n",
       "      <th>waterfront</th>\n",
       "      <th>view</th>\n",
       "      <th>condition</th>\n",
       "      <th>grade</th>\n",
       "      <th>sqft_above</th>\n",
       "      <th>sqft_basement</th>\n",
       "      <th>yr_built</th>\n",
       "      <th>yr_renovated</th>\n",
       "      <th>zipcode</th>\n",
       "      <th>lat</th>\n",
       "      <th>long</th>\n",
       "      <th>sqft_living15</th>\n",
       "      <th>sqft_lot15</th>\n",
       "    </tr>\n",
       "  </thead>\n",
       "  <tbody>\n",
       "    <tr>\n",
       "      <th>count</th>\n",
       "      <td>17290.000000</td>\n",
       "      <td>1.729000e+04</td>\n",
       "      <td>1.729000e+04</td>\n",
       "      <td>17290.000000</td>\n",
       "      <td>17290.000000</td>\n",
       "      <td>17290.000000</td>\n",
       "      <td>1.729000e+04</td>\n",
       "      <td>17290.000000</td>\n",
       "      <td>17290.000000</td>\n",
       "      <td>17290.000000</td>\n",
       "      <td>17290.000000</td>\n",
       "      <td>17290.000000</td>\n",
       "      <td>17290.000000</td>\n",
       "      <td>17290.000000</td>\n",
       "      <td>17290.000000</td>\n",
       "      <td>17290.000000</td>\n",
       "      <td>17290.000000</td>\n",
       "      <td>17290.000000</td>\n",
       "      <td>17290.000000</td>\n",
       "      <td>17290.000000</td>\n",
       "      <td>17290.000000</td>\n",
       "    </tr>\n",
       "    <tr>\n",
       "      <th>mean</th>\n",
       "      <td>8644.500000</td>\n",
       "      <td>4.565502e+09</td>\n",
       "      <td>5.407395e+05</td>\n",
       "      <td>3.372470</td>\n",
       "      <td>2.111943</td>\n",
       "      <td>2081.464604</td>\n",
       "      <td>1.524340e+04</td>\n",
       "      <td>1.490312</td>\n",
       "      <td>0.007981</td>\n",
       "      <td>0.238519</td>\n",
       "      <td>3.408502</td>\n",
       "      <td>7.654425</td>\n",
       "      <td>1789.306015</td>\n",
       "      <td>292.158589</td>\n",
       "      <td>1970.792019</td>\n",
       "      <td>83.806304</td>\n",
       "      <td>98078.193175</td>\n",
       "      <td>47.560058</td>\n",
       "      <td>-122.214258</td>\n",
       "      <td>1987.986698</td>\n",
       "      <td>12873.475824</td>\n",
       "    </tr>\n",
       "    <tr>\n",
       "      <th>std</th>\n",
       "      <td>4991.337413</td>\n",
       "      <td>2.874656e+09</td>\n",
       "      <td>3.733190e+05</td>\n",
       "      <td>0.939346</td>\n",
       "      <td>0.770476</td>\n",
       "      <td>920.018539</td>\n",
       "      <td>4.230462e+04</td>\n",
       "      <td>0.538909</td>\n",
       "      <td>0.088985</td>\n",
       "      <td>0.775229</td>\n",
       "      <td>0.651296</td>\n",
       "      <td>1.174718</td>\n",
       "      <td>829.265107</td>\n",
       "      <td>443.151874</td>\n",
       "      <td>29.343516</td>\n",
       "      <td>400.329376</td>\n",
       "      <td>53.607949</td>\n",
       "      <td>0.138412</td>\n",
       "      <td>0.140857</td>\n",
       "      <td>684.802635</td>\n",
       "      <td>27227.437583</td>\n",
       "    </tr>\n",
       "    <tr>\n",
       "      <th>min</th>\n",
       "      <td>0.000000</td>\n",
       "      <td>1.000102e+06</td>\n",
       "      <td>7.500000e+04</td>\n",
       "      <td>0.000000</td>\n",
       "      <td>0.000000</td>\n",
       "      <td>290.000000</td>\n",
       "      <td>5.720000e+02</td>\n",
       "      <td>1.000000</td>\n",
       "      <td>0.000000</td>\n",
       "      <td>0.000000</td>\n",
       "      <td>1.000000</td>\n",
       "      <td>1.000000</td>\n",
       "      <td>290.000000</td>\n",
       "      <td>0.000000</td>\n",
       "      <td>1900.000000</td>\n",
       "      <td>0.000000</td>\n",
       "      <td>98001.000000</td>\n",
       "      <td>47.155900</td>\n",
       "      <td>-122.519000</td>\n",
       "      <td>399.000000</td>\n",
       "      <td>659.000000</td>\n",
       "    </tr>\n",
       "    <tr>\n",
       "      <th>25%</th>\n",
       "      <td>4322.250000</td>\n",
       "      <td>2.114701e+09</td>\n",
       "      <td>3.210000e+05</td>\n",
       "      <td>3.000000</td>\n",
       "      <td>1.500000</td>\n",
       "      <td>1430.000000</td>\n",
       "      <td>5.081250e+03</td>\n",
       "      <td>1.000000</td>\n",
       "      <td>0.000000</td>\n",
       "      <td>0.000000</td>\n",
       "      <td>3.000000</td>\n",
       "      <td>7.000000</td>\n",
       "      <td>1200.000000</td>\n",
       "      <td>0.000000</td>\n",
       "      <td>1951.000000</td>\n",
       "      <td>0.000000</td>\n",
       "      <td>98033.000000</td>\n",
       "      <td>47.471200</td>\n",
       "      <td>-122.329000</td>\n",
       "      <td>1490.000000</td>\n",
       "      <td>5111.250000</td>\n",
       "    </tr>\n",
       "    <tr>\n",
       "      <th>50%</th>\n",
       "      <td>8644.500000</td>\n",
       "      <td>3.903650e+09</td>\n",
       "      <td>4.500000e+05</td>\n",
       "      <td>3.000000</td>\n",
       "      <td>2.250000</td>\n",
       "      <td>1920.000000</td>\n",
       "      <td>7.642000e+03</td>\n",
       "      <td>1.500000</td>\n",
       "      <td>0.000000</td>\n",
       "      <td>0.000000</td>\n",
       "      <td>3.000000</td>\n",
       "      <td>7.000000</td>\n",
       "      <td>1560.000000</td>\n",
       "      <td>0.000000</td>\n",
       "      <td>1974.000000</td>\n",
       "      <td>0.000000</td>\n",
       "      <td>98065.000000</td>\n",
       "      <td>47.571600</td>\n",
       "      <td>-122.230000</td>\n",
       "      <td>1840.000000</td>\n",
       "      <td>7622.500000</td>\n",
       "    </tr>\n",
       "    <tr>\n",
       "      <th>75%</th>\n",
       "      <td>12966.750000</td>\n",
       "      <td>7.301150e+09</td>\n",
       "      <td>6.450000e+05</td>\n",
       "      <td>4.000000</td>\n",
       "      <td>2.500000</td>\n",
       "      <td>2550.000000</td>\n",
       "      <td>1.072575e+04</td>\n",
       "      <td>2.000000</td>\n",
       "      <td>0.000000</td>\n",
       "      <td>0.000000</td>\n",
       "      <td>4.000000</td>\n",
       "      <td>8.000000</td>\n",
       "      <td>2214.500000</td>\n",
       "      <td>560.000000</td>\n",
       "      <td>1996.000000</td>\n",
       "      <td>0.000000</td>\n",
       "      <td>98118.000000</td>\n",
       "      <td>47.677900</td>\n",
       "      <td>-122.126000</td>\n",
       "      <td>2360.000000</td>\n",
       "      <td>10101.750000</td>\n",
       "    </tr>\n",
       "    <tr>\n",
       "      <th>max</th>\n",
       "      <td>17289.000000</td>\n",
       "      <td>9.900000e+09</td>\n",
       "      <td>7.700000e+06</td>\n",
       "      <td>33.000000</td>\n",
       "      <td>8.000000</td>\n",
       "      <td>13540.000000</td>\n",
       "      <td>1.651359e+06</td>\n",
       "      <td>3.500000</td>\n",
       "      <td>1.000000</td>\n",
       "      <td>4.000000</td>\n",
       "      <td>5.000000</td>\n",
       "      <td>13.000000</td>\n",
       "      <td>9410.000000</td>\n",
       "      <td>4820.000000</td>\n",
       "      <td>2015.000000</td>\n",
       "      <td>2015.000000</td>\n",
       "      <td>98199.000000</td>\n",
       "      <td>47.777600</td>\n",
       "      <td>-121.315000</td>\n",
       "      <td>6210.000000</td>\n",
       "      <td>858132.000000</td>\n",
       "    </tr>\n",
       "    <tr>\n",
       "      <th>+3_std</th>\n",
       "      <td>23618.512238</td>\n",
       "      <td>1.252762e+10</td>\n",
       "      <td>1.569957e+06</td>\n",
       "      <td>5.818037</td>\n",
       "      <td>4.561429</td>\n",
       "      <td>4680.055618</td>\n",
       "      <td>1.345559e+05</td>\n",
       "      <td>3.116728</td>\n",
       "      <td>0.266954</td>\n",
       "      <td>2.325687</td>\n",
       "      <td>4.953887</td>\n",
       "      <td>10.524155</td>\n",
       "      <td>4047.795321</td>\n",
       "      <td>1329.455623</td>\n",
       "      <td>2062.030548</td>\n",
       "      <td>1200.988129</td>\n",
       "      <td>98225.823847</td>\n",
       "      <td>47.986837</td>\n",
       "      <td>-121.807428</td>\n",
       "      <td>3894.407904</td>\n",
       "      <td>89304.812750</td>\n",
       "    </tr>\n",
       "    <tr>\n",
       "      <th>-3_std</th>\n",
       "      <td>-6329.512238</td>\n",
       "      <td>-4.720317e+09</td>\n",
       "      <td>-6.699569e+05</td>\n",
       "      <td>0.181963</td>\n",
       "      <td>-0.061429</td>\n",
       "      <td>-840.055618</td>\n",
       "      <td>-1.192719e+05</td>\n",
       "      <td>-0.116728</td>\n",
       "      <td>-0.266954</td>\n",
       "      <td>-2.325687</td>\n",
       "      <td>1.046113</td>\n",
       "      <td>3.475845</td>\n",
       "      <td>-927.795321</td>\n",
       "      <td>-1329.455623</td>\n",
       "      <td>1885.969452</td>\n",
       "      <td>-1200.988129</td>\n",
       "      <td>97904.176153</td>\n",
       "      <td>47.156363</td>\n",
       "      <td>-122.652572</td>\n",
       "      <td>-214.407904</td>\n",
       "      <td>-74059.812750</td>\n",
       "    </tr>\n",
       "    <tr>\n",
       "      <th>+5_std</th>\n",
       "      <td>33601.187063</td>\n",
       "      <td>1.827693e+10</td>\n",
       "      <td>2.316595e+06</td>\n",
       "      <td>7.696728</td>\n",
       "      <td>6.102382</td>\n",
       "      <td>6520.092697</td>\n",
       "      <td>2.191651e+05</td>\n",
       "      <td>4.194547</td>\n",
       "      <td>0.444923</td>\n",
       "      <td>3.876146</td>\n",
       "      <td>6.256478</td>\n",
       "      <td>12.873592</td>\n",
       "      <td>5706.325535</td>\n",
       "      <td>2215.759372</td>\n",
       "      <td>2120.717581</td>\n",
       "      <td>2001.646882</td>\n",
       "      <td>98333.039744</td>\n",
       "      <td>48.263661</td>\n",
       "      <td>-121.525713</td>\n",
       "      <td>5264.013173</td>\n",
       "      <td>143759.687917</td>\n",
       "    </tr>\n",
       "    <tr>\n",
       "      <th>-5_std</th>\n",
       "      <td>-16312.187063</td>\n",
       "      <td>-1.046963e+10</td>\n",
       "      <td>-1.416595e+06</td>\n",
       "      <td>-1.696728</td>\n",
       "      <td>-1.602382</td>\n",
       "      <td>-2680.092697</td>\n",
       "      <td>-2.038811e+05</td>\n",
       "      <td>-1.194547</td>\n",
       "      <td>-0.444923</td>\n",
       "      <td>-3.876146</td>\n",
       "      <td>-0.256478</td>\n",
       "      <td>1.126408</td>\n",
       "      <td>-2586.325535</td>\n",
       "      <td>-2215.759372</td>\n",
       "      <td>1827.282419</td>\n",
       "      <td>-2001.646882</td>\n",
       "      <td>97796.960256</td>\n",
       "      <td>46.879539</td>\n",
       "      <td>-122.934287</td>\n",
       "      <td>-1584.013173</td>\n",
       "      <td>-128514.687917</td>\n",
       "    </tr>\n",
       "  </tbody>\n",
       "</table>\n",
       "</div>"
      ],
      "text/plain": [
       "          Unnamed: 0            id         price      bedrooms     bathrooms  \\\n",
       "count   17290.000000  1.729000e+04  1.729000e+04  17290.000000  17290.000000   \n",
       "mean     8644.500000  4.565502e+09  5.407395e+05      3.372470      2.111943   \n",
       "std      4991.337413  2.874656e+09  3.733190e+05      0.939346      0.770476   \n",
       "min         0.000000  1.000102e+06  7.500000e+04      0.000000      0.000000   \n",
       "25%      4322.250000  2.114701e+09  3.210000e+05      3.000000      1.500000   \n",
       "50%      8644.500000  3.903650e+09  4.500000e+05      3.000000      2.250000   \n",
       "75%     12966.750000  7.301150e+09  6.450000e+05      4.000000      2.500000   \n",
       "max     17289.000000  9.900000e+09  7.700000e+06     33.000000      8.000000   \n",
       "+3_std  23618.512238  1.252762e+10  1.569957e+06      5.818037      4.561429   \n",
       "-3_std  -6329.512238 -4.720317e+09 -6.699569e+05      0.181963     -0.061429   \n",
       "+5_std  33601.187063  1.827693e+10  2.316595e+06      7.696728      6.102382   \n",
       "-5_std -16312.187063 -1.046963e+10 -1.416595e+06     -1.696728     -1.602382   \n",
       "\n",
       "         sqft_living      sqft_lot        floors    waterfront          view  \\\n",
       "count   17290.000000  1.729000e+04  17290.000000  17290.000000  17290.000000   \n",
       "mean     2081.464604  1.524340e+04      1.490312      0.007981      0.238519   \n",
       "std       920.018539  4.230462e+04      0.538909      0.088985      0.775229   \n",
       "min       290.000000  5.720000e+02      1.000000      0.000000      0.000000   \n",
       "25%      1430.000000  5.081250e+03      1.000000      0.000000      0.000000   \n",
       "50%      1920.000000  7.642000e+03      1.500000      0.000000      0.000000   \n",
       "75%      2550.000000  1.072575e+04      2.000000      0.000000      0.000000   \n",
       "max     13540.000000  1.651359e+06      3.500000      1.000000      4.000000   \n",
       "+3_std   4680.055618  1.345559e+05      3.116728      0.266954      2.325687   \n",
       "-3_std   -840.055618 -1.192719e+05     -0.116728     -0.266954     -2.325687   \n",
       "+5_std   6520.092697  2.191651e+05      4.194547      0.444923      3.876146   \n",
       "-5_std  -2680.092697 -2.038811e+05     -1.194547     -0.444923     -3.876146   \n",
       "\n",
       "           condition         grade    sqft_above  sqft_basement      yr_built  \\\n",
       "count   17290.000000  17290.000000  17290.000000   17290.000000  17290.000000   \n",
       "mean        3.408502      7.654425   1789.306015     292.158589   1970.792019   \n",
       "std         0.651296      1.174718    829.265107     443.151874     29.343516   \n",
       "min         1.000000      1.000000    290.000000       0.000000   1900.000000   \n",
       "25%         3.000000      7.000000   1200.000000       0.000000   1951.000000   \n",
       "50%         3.000000      7.000000   1560.000000       0.000000   1974.000000   \n",
       "75%         4.000000      8.000000   2214.500000     560.000000   1996.000000   \n",
       "max         5.000000     13.000000   9410.000000    4820.000000   2015.000000   \n",
       "+3_std      4.953887     10.524155   4047.795321    1329.455623   2062.030548   \n",
       "-3_std      1.046113      3.475845   -927.795321   -1329.455623   1885.969452   \n",
       "+5_std      6.256478     12.873592   5706.325535    2215.759372   2120.717581   \n",
       "-5_std     -0.256478      1.126408  -2586.325535   -2215.759372   1827.282419   \n",
       "\n",
       "        yr_renovated       zipcode           lat          long  sqft_living15  \\\n",
       "count   17290.000000  17290.000000  17290.000000  17290.000000   17290.000000   \n",
       "mean       83.806304  98078.193175     47.560058   -122.214258    1987.986698   \n",
       "std       400.329376     53.607949      0.138412      0.140857     684.802635   \n",
       "min         0.000000  98001.000000     47.155900   -122.519000     399.000000   \n",
       "25%         0.000000  98033.000000     47.471200   -122.329000    1490.000000   \n",
       "50%         0.000000  98065.000000     47.571600   -122.230000    1840.000000   \n",
       "75%         0.000000  98118.000000     47.677900   -122.126000    2360.000000   \n",
       "max      2015.000000  98199.000000     47.777600   -121.315000    6210.000000   \n",
       "+3_std   1200.988129  98225.823847     47.986837   -121.807428    3894.407904   \n",
       "-3_std  -1200.988129  97904.176153     47.156363   -122.652572    -214.407904   \n",
       "+5_std   2001.646882  98333.039744     48.263661   -121.525713    5264.013173   \n",
       "-5_std  -2001.646882  97796.960256     46.879539   -122.934287   -1584.013173   \n",
       "\n",
       "           sqft_lot15  \n",
       "count    17290.000000  \n",
       "mean     12873.475824  \n",
       "std      27227.437583  \n",
       "min        659.000000  \n",
       "25%       5111.250000  \n",
       "50%       7622.500000  \n",
       "75%      10101.750000  \n",
       "max     858132.000000  \n",
       "+3_std   89304.812750  \n",
       "-3_std  -74059.812750  \n",
       "+5_std  143759.687917  \n",
       "-5_std -128514.687917  "
      ]
     },
     "execution_count": 191,
     "metadata": {},
     "output_type": "execute_result"
    }
   ],
   "source": [
    "desc_data = data.describe()\n",
    "\n",
    "desc_data.loc['+3_std'] = desc_data.loc['50%'] + (desc_data.loc['std']*3)\n",
    "desc_data.loc['-3_std'] = desc_data.loc['50%'] - (desc_data.loc['std']*3)\n",
    "\n",
    "desc_data.loc['+5_std'] = desc_data.loc['50%'] + (desc_data.loc['std']*5)\n",
    "desc_data.loc['-5_std'] = desc_data.loc['50%'] - (desc_data.loc['std']*5)\n",
    "\n",
    "desc_data"
   ]
  },
  {
   "cell_type": "markdown",
   "metadata": {},
   "source": [
    "## Step 3: Clean up any issues (extreme values, etc.) with the data.  "
   ]
  },
  {
   "cell_type": "markdown",
   "metadata": {},
   "source": [
    "### Error Values"
   ]
  },
  {
   "cell_type": "code",
   "execution_count": 192,
   "metadata": {},
   "outputs": [],
   "source": [
    "#Bedrooms has one error value of 33\n",
    "#Bedrooms most correlated with sqft_living\n",
    "#Replace with median bedroom value for houses between 1000 and 2000 sqft_living\n",
    "\n",
    "test = data[data.sqft_living < 2000]\n",
    "new_test = data[data.sqft_living > 1000]\n",
    "new_value = new_test.bedrooms.median()\n",
    "data.bedrooms = data.bedrooms.apply(lambda x: new_value if x == 33 else x)"
   ]
  },
  {
   "cell_type": "markdown",
   "metadata": {},
   "source": [
    "### Extreme Values"
   ]
  },
  {
   "cell_type": "code",
   "execution_count": 193,
   "metadata": {},
   "outputs": [],
   "source": [
    "#sqft_living and sqft_lot both have very extreme values\n",
    "#reign in these values by pulling back extreme values to a max of 5 std away from median\n",
    "\n",
    "sqft_living_5std = 6520\n",
    "sqft_lot_5std = 219165\n",
    "data.sqft_living = data.sqft_living.apply(lambda x: sqft_living_5std if x > sqft_living_5std else x)\n",
    "data.sqft_lot = data.sqft_lot.apply(lambda x: sqft_lot_5std if x > sqft_lot_5std else x)"
   ]
  },
  {
   "cell_type": "markdown",
   "metadata": {},
   "source": [
    "### Unnecessary Columns"
   ]
  },
  {
   "cell_type": "code",
   "execution_count": 194,
   "metadata": {},
   "outputs": [],
   "source": [
    "data = data.drop(columns=['Unnamed: 0','id'])"
   ]
  },
  {
   "cell_type": "markdown",
   "metadata": {},
   "source": [
    "### Fixing Problem Column"
   ]
  },
  {
   "cell_type": "code",
   "execution_count": 195,
   "metadata": {},
   "outputs": [],
   "source": [
    "data['date_year'] = data.date.apply(lambda x: int(x[:4]))\n",
    "data['date_month'] = data.date.apply(lambda x: int(x[4:6]))\n",
    "data['date_day'] = data.date.apply(lambda x: int(x[6:8]))\n",
    "data.drop('date',axis=1, inplace=True)"
   ]
  },
  {
   "cell_type": "markdown",
   "metadata": {},
   "source": [
    "## Step 4: Feature Generation\n",
    "\n",
    "**After doing this, you will want to go back to steps 2 and 3 to investigate these new features.**"
   ]
  },
  {
   "cell_type": "markdown",
   "metadata": {},
   "source": [
    "### Combining Features"
   ]
  },
  {
   "cell_type": "code",
   "execution_count": 196,
   "metadata": {},
   "outputs": [],
   "source": [
    "#scales the house relative to neighbors\n",
    "data['rel_to_neighbors'] = ((data.sqft_living/data.sqft_living15) + (data.sqft_lot/data.sqft_lot15))/2"
   ]
  },
  {
   "cell_type": "code",
   "execution_count": 197,
   "metadata": {},
   "outputs": [],
   "source": [
    "#big multiplier for house based on condition and grade\n",
    "data['size_quality'] = (data.condition + data.grade) * data.sqft_living"
   ]
  },
  {
   "cell_type": "code",
   "execution_count": 198,
   "metadata": {},
   "outputs": [],
   "source": [
    "#Assessing entire property using multiplier for sqft_lot\n",
    "data['property_score'] = (data.view / 4)*(data.waterfront + 1) * data.sqft_lot"
   ]
  },
  {
   "cell_type": "code",
   "execution_count": 199,
   "metadata": {},
   "outputs": [],
   "source": [
    "#\n",
    "data['binary_reno'] = data.yr_renovated\n",
    "data.binary_reno = data.binary_reno.apply(lambda x: 2 if x != 0 else 1)\n",
    "data['reno_mult'] = ((data.binary_reno + 1) * data.sqft_living)\n",
    "data = data.drop(columns='binary_reno')"
   ]
  },
  {
   "cell_type": "code",
   "execution_count": 200,
   "metadata": {},
   "outputs": [],
   "source": [
    "#Use grade and sqft_living because they are the two biggest predictors per standard deviation\n",
    "data['grade_sqft_living'] = data.grade * data.sqft_living"
   ]
  },
  {
   "cell_type": "code",
   "execution_count": 201,
   "metadata": {},
   "outputs": [],
   "source": [
    "#Scale and add all categorical variables as sqft_living multiplier\n",
    "data['categorical_proportions'] = ((data.grade / 13) + (data.condition / 5) + (data.view / 4)) * data.sqft_living"
   ]
  },
  {
   "cell_type": "markdown",
   "metadata": {},
   "source": [
    "### Dummies"
   ]
  },
  {
   "cell_type": "markdown",
   "metadata": {},
   "source": [
    "#### Zip Codes"
   ]
  },
  {
   "cell_type": "code",
   "execution_count": 202,
   "metadata": {},
   "outputs": [],
   "source": [
    "zipcode_dummies = pd.get_dummies(data.zipcode)\n",
    "merged = pd.concat([data,zipcode_dummies], axis='columns')\n",
    "data = merged.drop(columns=['zipcode',98155])"
   ]
  },
  {
   "cell_type": "markdown",
   "metadata": {},
   "source": [
    "## Step 5: Train-Test Split"
   ]
  },
  {
   "cell_type": "markdown",
   "metadata": {},
   "source": [
    "### Split"
   ]
  },
  {
   "cell_type": "code",
   "execution_count": 203,
   "metadata": {},
   "outputs": [
    {
     "name": "stdout",
     "output_type": "stream",
     "text": [
      "13832 train + 3458 test\n"
     ]
    }
   ],
   "source": [
    "train_set, test_set = train_test_split(data, test_size=0.2, random_state=42)\n",
    "print(len(train_set), \"train +\", len(test_set), \"test\")"
   ]
  },
  {
   "cell_type": "markdown",
   "metadata": {},
   "source": [
    "### Std Scaler"
   ]
  },
  {
   "cell_type": "code",
   "execution_count": 209,
   "metadata": {},
   "outputs": [],
   "source": [
    "x_train = train_set.drop('price', axis=1)\n",
    "y_train = train_set['price'].copy()"
   ]
  },
  {
   "cell_type": "code",
   "execution_count": 207,
   "metadata": {},
   "outputs": [],
   "source": [
    "# scale_data = x_train\n",
    "# ss = StandardScaler()\n",
    "# X_columns = list(scale_data.columns)\n",
    "# X=scale_data[X_columns]\n",
    "# X_scaled = ss.fit_transform(X)\n",
    "# x_train.columns"
   ]
  },
  {
   "cell_type": "code",
   "execution_count": 208,
   "metadata": {},
   "outputs": [],
   "source": [
    "# scale_data['scaled_price'] = X_scaled[:, 0]\n",
    "# scale_data['scaled_bedrooms'] = X_scaled[:, 1]\n",
    "# scale_data['scaled_bathrooms'] = X_scaled[:, 2]\n",
    "# scale_data['scaled_sqft_living'] = X_scaled[:, 3]\n",
    "# scale_data['scaled_sqft_lot'] = X_scaled[:, 4]\n",
    "# scale_data['scaled_floors'] = X_scaled[:, 5]\n",
    "# scale_data['scaled_waterfront'] = X_scaled[:, 6]\n",
    "# scale_data['scaled_view'] = X_scaled[:, 7]\n",
    "# scale_data['scaled_condition'] = X_scaled[:, 8]\n",
    "# scale_data['scaled_grade'] = X_scaled[:, 9]\n",
    "# scale_data['scaled_sqft_above'] = X_scaled[:, 10]\n",
    "# scale_data['scaled_sqft_living15'] = X_scaled[:, 11]\n",
    "# scale_data['scaled_sqft_lot15'] = X_scaled[:, 12]\n",
    "# scale_data['scaled_date_year'] = X_scaled[:, 13]\n",
    "# scale_data['scaled_date_month'] = X_scaled[:, 14]\n",
    "# scale_data['scaled_date_day'] = X_scaled[:, 15]\n",
    "# scale_data['scaled_rel_to_neighbors'] = X_scaled[:, 16]\n",
    "# scale_data['scaled_size_quality'] = X_scaled[:, 17]\n",
    "# scale_data['scaled_property_score'] = X_scaled[:, 18]\n",
    "# scale_data['scaled_floor_reno_mult'] = X_scaled[:, 19]"
   ]
  },
  {
   "cell_type": "markdown",
   "metadata": {},
   "source": [
    "### Fit to Training Data"
   ]
  },
  {
   "cell_type": "code",
   "execution_count": 211,
   "metadata": {},
   "outputs": [
    {
     "data": {
      "text/plain": [
       "LinearRegression(copy_X=True, fit_intercept=True, n_jobs=None, normalize=False)"
      ]
     },
     "execution_count": 211,
     "metadata": {},
     "output_type": "execute_result"
    }
   ],
   "source": [
    "lr = LinearRegression()\n",
    "\n",
    "lr.fit(x_train, y_train)"
   ]
  },
  {
   "cell_type": "code",
   "execution_count": 213,
   "metadata": {},
   "outputs": [
    {
     "data": {
      "text/plain": [
       "{'bedrooms': -1774.1171671741788,\n",
       " 'bathrooms': 28702.766581257292,\n",
       " 'sqft_living': -899.910910252472,\n",
       " 'sqft_lot': 0.3901536074712908,\n",
       " 'floors': -30647.034402536472,\n",
       " 'waterfront': 646659.3260446808,\n",
       " 'view': -19627.732874399288,\n",
       " 'condition': -24699.949247333607,\n",
       " 'grade': -27469.803312348577,\n",
       " 'sqft_above': 426.6555029696028,\n",
       " 'sqft_basement': 361.3323036819056,\n",
       " 'yr_built': -203.30047036307428,\n",
       " 'yr_renovated': -71.28698257376891,\n",
       " 'lat': 217204.95521635155,\n",
       " 'long': -217481.61028463946,\n",
       " 'sqft_living15': 31.59556531106864,\n",
       " 'sqft_lot15': 0.06617243649088778,\n",
       " 'date_year': 40696.03775445119,\n",
       " 'date_month': 1848.1728366050656,\n",
       " 'date_day': -133.99921319615794,\n",
       " 'rel_to_neighbors': 5555.991333541287,\n",
       " 'size_quality': 10.485062829175149,\n",
       " 'property_score': -1.8379951161914505,\n",
       " 'reno_mult': 93.10337830023491,\n",
       " 'grade_sqft_living': 19.285554792732,\n",
       " 'categorical_proportions': 109.04236508617032,\n",
       " 98001: -39204.546200110424,\n",
       " 98002: -20057.893730609117,\n",
       " 98003: -72024.5155651693,\n",
       " 98004: 656162.5226957318,\n",
       " 98005: 226381.2562302412,\n",
       " 98006: 166097.89651896805,\n",
       " 98007: 170762.95072286448,\n",
       " 98008: 179665.38441137128,\n",
       " 98010: 66762.96668522662,\n",
       " 98011: 13068.291905030559,\n",
       " 98014: 68159.80045765171,\n",
       " 98019: 26532.526665009096,\n",
       " 98022: 56257.74048846087,\n",
       " 98023: -93762.46248143943,\n",
       " 98024: 134413.40806558798,\n",
       " 98027: 115285.67802304974,\n",
       " 98028: 2261.848426337849,\n",
       " 98029: 177971.97785754464,\n",
       " 98030: -41629.59054721546,\n",
       " 98031: -39780.9224742234,\n",
       " 98032: -54609.797994835004,\n",
       " 98033: 255976.64890648198,\n",
       " 98034: 82733.40014718914,\n",
       " 98038: 25247.277907791125,\n",
       " 98039: 1078221.6717958238,\n",
       " 98040: 354014.1254359832,\n",
       " 98042: -18181.136265900615,\n",
       " 98045: 141607.318814128,\n",
       " 98052: 152629.05793576667,\n",
       " 98053: 124651.74553686698,\n",
       " 98055: -18451.15197560597,\n",
       " 98056: 30699.72192851155,\n",
       " 98058: -15574.493276392855,\n",
       " 98059: 33867.56747444515,\n",
       " 98065: 100722.50335505471,\n",
       " 98070: -71355.4026068027,\n",
       " 98072: 48683.57197264104,\n",
       " 98074: 129893.03448563897,\n",
       " 98075: 116130.5253647576,\n",
       " 98077: 1669.7769646938275,\n",
       " 98092: -41925.81088324707,\n",
       " 98102: 373304.922687058,\n",
       " 98103: 214964.56325314287,\n",
       " 98105: 351369.9491536702,\n",
       " 98106: 9226.851980016048,\n",
       " 98107: 209568.61373401558,\n",
       " 98108: 24356.568900017595,\n",
       " 98109: 351202.1775419241,\n",
       " 98112: 513753.0361332547,\n",
       " 98115: 207751.1297430921,\n",
       " 98116: 181731.43975768436,\n",
       " 98117: 177270.62594711772,\n",
       " 98118: 76607.92136238584,\n",
       " 98119: 377365.2677213671,\n",
       " 98122: 230742.73461350787,\n",
       " 98125: 62058.378229042835,\n",
       " 98126: 83008.00716955791,\n",
       " 98133: 12097.934129426501,\n",
       " 98136: 152692.1894881845,\n",
       " 98144: 171665.69944444593,\n",
       " 98146: -6816.083014227509,\n",
       " 98148: -25375.4383817868,\n",
       " 98166: -38926.07625862924,\n",
       " 98168: -36466.97259483941,\n",
       " 98177: 69656.69957736395,\n",
       " 98178: -41531.97990410863,\n",
       " 98188: -37443.57560310351,\n",
       " 98198: -51119.84558293468,\n",
       " 98199: 236247.81266568808}"
      ]
     },
     "execution_count": 213,
     "metadata": {},
     "output_type": "execute_result"
    }
   ],
   "source": [
    "coefficients = lr.coef_\n",
    "variables = np.array(x_train.columns)\n",
    "\n",
    "from functions import *\n",
    "array_to_dict(coefficients, variables)"
   ]
  },
  {
   "cell_type": "code",
   "execution_count": 214,
   "metadata": {},
   "outputs": [
    {
     "data": {
      "text/plain": [
       "-118115479.10409488"
      ]
     },
     "execution_count": 214,
     "metadata": {},
     "output_type": "execute_result"
    }
   ],
   "source": [
    "lr.intercept_"
   ]
  },
  {
   "cell_type": "code",
   "execution_count": 216,
   "metadata": {},
   "outputs": [
    {
     "data": {
      "text/plain": [
       "0.8504496051040796"
      ]
     },
     "execution_count": 216,
     "metadata": {},
     "output_type": "execute_result"
    }
   ],
   "source": [
    "y_pred = lr.predict(x_train)\n",
    "lr.score(x_train, y_train)"
   ]
  },
  {
   "cell_type": "code",
   "execution_count": 217,
   "metadata": {},
   "outputs": [
    {
     "data": {
      "text/plain": [
       "'$145,169.32'"
      ]
     },
     "execution_count": 217,
     "metadata": {},
     "output_type": "execute_result"
    }
   ],
   "source": [
    "lr_rsme = mean_squared_error(y_train, y_pred)\n",
    "lr_rmse = np.sqrt(lr_rsme)\n",
    "\n",
    "rmse_dollars = '${:,.2f}'.format(lr_rmse)\n",
    "rmse_dollars"
   ]
  },
  {
   "cell_type": "code",
   "execution_count": null,
   "metadata": {},
   "outputs": [],
   "source": []
  },
  {
   "cell_type": "markdown",
   "metadata": {},
   "source": [
    "### <ins>Non-linear transformations</ins>\n",
    "\n",
    "### 4.4) Create a polynomial feature for two of your continuous variables."
   ]
  },
  {
   "cell_type": "code",
   "execution_count": null,
   "metadata": {},
   "outputs": [],
   "source": [
    "# your code here"
   ]
  },
  {
   "cell_type": "markdown",
   "metadata": {},
   "source": [
    "### 4.5) Create an interaction feature between a binary variable (dummy variable) and a continuous variable."
   ]
  },
  {
   "cell_type": "code",
   "execution_count": null,
   "metadata": {},
   "outputs": [],
   "source": [
    "# your code here"
   ]
  },
  {
   "cell_type": "code",
   "execution_count": null,
   "metadata": {},
   "outputs": [],
   "source": []
  },
  {
   "cell_type": "code",
   "execution_count": null,
   "metadata": {},
   "outputs": [],
   "source": []
  },
  {
   "cell_type": "code",
   "execution_count": null,
   "metadata": {},
   "outputs": [],
   "source": []
  },
  {
   "cell_type": "markdown",
   "metadata": {},
   "source": [
    "### 5.2) Fit your scaler to training the data."
   ]
  },
  {
   "cell_type": "code",
   "execution_count": 2,
   "metadata": {},
   "outputs": [],
   "source": [
    "#your code here "
   ]
  },
  {
   "cell_type": "markdown",
   "metadata": {},
   "source": [
    "### 5.3) Transform the testing set with the scaler."
   ]
  },
  {
   "cell_type": "code",
   "execution_count": 3,
   "metadata": {},
   "outputs": [],
   "source": [
    "#your code here "
   ]
  },
  {
   "cell_type": "markdown",
   "metadata": {},
   "source": [
    "### 5.5) Use the model to predict on the training set and the test set."
   ]
  },
  {
   "cell_type": "code",
   "execution_count": 5,
   "metadata": {},
   "outputs": [],
   "source": [
    "#your code here "
   ]
  },
  {
   "cell_type": "markdown",
   "metadata": {},
   "source": [
    "### 5.6) Evaluate the training and test predictions using RMSE."
   ]
  },
  {
   "cell_type": "code",
   "execution_count": 6,
   "metadata": {},
   "outputs": [],
   "source": [
    "#your code here "
   ]
  },
  {
   "cell_type": "markdown",
   "metadata": {},
   "source": [
    "### 5.7) Determine if your model is overfit."
   ]
  },
  {
   "cell_type": "code",
   "execution_count": null,
   "metadata": {},
   "outputs": [],
   "source": [
    "#your code here "
   ]
  },
  {
   "cell_type": "markdown",
   "metadata": {},
   "source": [
    "## Step 6: Utilize some different feature selection techniques before or in conjuction with fitting your models."
   ]
  },
  {
   "cell_type": "markdown",
   "metadata": {},
   "source": [
    "### 6.1) Utilize a filter method to identify some features to remove from the model.  "
   ]
  },
  {
   "cell_type": "code",
   "execution_count": 7,
   "metadata": {},
   "outputs": [],
   "source": [
    "# your code here"
   ]
  },
  {
   "cell_type": "markdown",
   "metadata": {},
   "source": [
    "### 6.2) After removing the features, re-run Step 5 and see if your new model performs better than the old model."
   ]
  },
  {
   "cell_type": "code",
   "execution_count": 8,
   "metadata": {},
   "outputs": [],
   "source": [
    "# your code here"
   ]
  },
  {
   "cell_type": "markdown",
   "metadata": {},
   "source": [
    "## Step 7: Evaluate your different models in order to determine the best model overall."
   ]
  },
  {
   "cell_type": "markdown",
   "metadata": {},
   "source": [
    "## Step 8:  Refit your best model to the entire dataset."
   ]
  },
  {
   "cell_type": "markdown",
   "metadata": {},
   "source": [
    "## Step 9: Save your final model using pickle.\n",
    "\n",
    "https://machinelearningmastery.com/save-load-machine-learning-models-python-scikit-learn/"
   ]
  },
  {
   "cell_type": "code",
   "execution_count": null,
   "metadata": {},
   "outputs": [],
   "source": []
  }
 ],
 "metadata": {
  "kernelspec": {
   "display_name": "Python 3",
   "language": "python",
   "name": "python3"
  },
  "language_info": {
   "codemirror_mode": {
    "name": "ipython",
    "version": 3
   },
   "file_extension": ".py",
   "mimetype": "text/x-python",
   "name": "python",
   "nbconvert_exporter": "python",
   "pygments_lexer": "ipython3",
   "version": "3.6.9"
  }
 },
 "nbformat": 4,
 "nbformat_minor": 2
}
