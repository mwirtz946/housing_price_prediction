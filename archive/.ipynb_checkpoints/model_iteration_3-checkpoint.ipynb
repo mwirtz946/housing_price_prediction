{
 "cells": [
  {
   "cell_type": "markdown",
   "metadata": {},
   "source": [
    "# IMPORTING"
   ]
  },
  {
   "cell_type": "code",
   "execution_count": 50,
   "metadata": {},
   "outputs": [],
   "source": [
    "import pandas as pd\n",
    "import numpy as np\n",
    "import os\n",
    "\n",
    "from sklearn.model_selection import train_test_split\n",
    "from sklearn.model_selection import StratifiedShuffleSplit\n",
    "from sklearn.preprocessing import OrdinalEncoder\n",
    "from sklearn.preprocessing import OneHotEncoder\n",
    "from sklearn.dummy import DummyRegressor\n",
    "from sklearn.metrics import mean_squared_error\n",
    "from sklearn.linear_model import LinearRegression\n",
    "from sklearn.preprocessing import StandardScaler\n",
    "\n",
    "%matplotlib inline\n",
    "import matplotlib.pyplot as plt\n",
    "import seaborn as sns\n",
    "\n",
    "from scipy import stats\n",
    "\n",
    "import statsmodels.api as sm\n",
    "from statsmodels.stats import diagnostic as diag\n",
    "from statsmodels.stats.outliers_influence import variance_inflation_factor\n",
    "from statsmodels.formula.api import ols"
   ]
  },
  {
   "cell_type": "code",
   "execution_count": 51,
   "metadata": {},
   "outputs": [],
   "source": [
    "%store -r data_2"
   ]
  },
  {
   "cell_type": "markdown",
   "metadata": {},
   "source": [
    "# Alterations: Engineered"
   ]
  },
  {
   "cell_type": "code",
   "execution_count": 53,
   "metadata": {},
   "outputs": [],
   "source": [
    "data_3 = data_2"
   ]
  },
  {
   "cell_type": "code",
   "execution_count": 54,
   "metadata": {},
   "outputs": [],
   "source": [
    "data_3['binary_reno'] = data_2.yr_renovated"
   ]
  },
  {
   "cell_type": "code",
   "execution_count": 55,
   "metadata": {},
   "outputs": [],
   "source": [
    "#Whether or not the house has been renovated, regardless of year\n",
    "data_3.binary_reno = data_2.binary_reno.apply(lambda x: 1 if x != 0 else 0)"
   ]
  },
  {
   "cell_type": "code",
   "execution_count": 56,
   "metadata": {},
   "outputs": [
    {
     "data": {
      "text/plain": [
       "array([0, 1])"
      ]
     },
     "execution_count": 56,
     "metadata": {},
     "output_type": "execute_result"
    }
   ],
   "source": [
    "data_3.binary_reno.unique()"
   ]
  },
  {
   "cell_type": "code",
   "execution_count": 57,
   "metadata": {},
   "outputs": [],
   "source": [
    "#Combining renovation and number of floors as sqft_living multiplier\n",
    "data_3['floor_reno_mult'] = ((data_3.binary_reno + 1) * (data_3.floors)) * data_3.sqft_living"
   ]
  },
  {
   "cell_type": "code",
   "execution_count": 58,
   "metadata": {},
   "outputs": [],
   "source": [
    "data_3 = data_3.drop(columns = 'binary_reno')"
   ]
  },
  {
   "cell_type": "markdown",
   "metadata": {},
   "source": [
    "# Scaling"
   ]
  },
  {
   "cell_type": "code",
   "execution_count": 59,
   "metadata": {},
   "outputs": [],
   "source": [
    "# scale_data_3 = data_3"
   ]
  },
  {
   "cell_type": "code",
   "execution_count": 60,
   "metadata": {},
   "outputs": [],
   "source": [
    "# ss = StandardScaler()"
   ]
  },
  {
   "cell_type": "code",
   "execution_count": 61,
   "metadata": {},
   "outputs": [],
   "source": [
    "# x_columns = list(scale_data_3.columns)\n",
    "# X=scale_data_3[x_columns]"
   ]
  },
  {
   "cell_type": "code",
   "execution_count": 62,
   "metadata": {},
   "outputs": [],
   "source": [
    "# X_scaled = ss.fit_transform(X)"
   ]
  },
  {
   "cell_type": "code",
   "execution_count": 63,
   "metadata": {},
   "outputs": [],
   "source": [
    "# scale_data_3.columns"
   ]
  },
  {
   "cell_type": "code",
   "execution_count": 64,
   "metadata": {},
   "outputs": [],
   "source": [
    "# scale_data_3['scaled_price'] = X_scaled[:, 0]\n",
    "# scale_data_3['scaled_bedrooms'] = X_scaled[:, 1]\n",
    "# scale_data_3['scaled_bathrooms'] = X_scaled[:, 2]\n",
    "# scale_data_3['scaled_sqft_living'] = X_scaled[:, 3]\n",
    "# scale_data_3['scaled_sqft_lot'] = X_scaled[:, 4]\n",
    "# scale_data_3['scaled_floors'] = X_scaled[:, 5]\n",
    "# scale_data_3['scaled_waterfront'] = X_scaled[:, 6]\n",
    "# scale_data_3['scaled_view'] = X_scaled[:, 7]\n",
    "# scale_data_3['scaled_condition'] = X_scaled[:, 8]\n",
    "# scale_data_3['scaled_grade'] = X_scaled[:, 9]\n",
    "# scale_data_3['scaled_sqft_above'] = X_scaled[:, 10]\n",
    "# scale_data_3['scaled_sqft_living15'] = X_scaled[:, 11]\n",
    "# scale_data_3['scaled_sqft_lot15'] = X_scaled[:, 12]\n",
    "# scale_data_3['scaled_date_year'] = X_scaled[:, 13]\n",
    "# scale_data_3['scaled_date_month'] = X_scaled[:, 14]\n",
    "# scale_data_3['scaled_date_day'] = X_scaled[:, 15]\n",
    "# scale_data_3['scaled_rel_to_neighbors'] = X_scaled[:, 16]\n",
    "# scale_data_3['scaled_size_quality'] = X_scaled[:, 17]\n",
    "# scale_data_3['scaled_property_score'] = X_scaled[:, 18]\n",
    "# scale_data_3['scaled_floor_reno_mult'] = X_scaled[:, 19]"
   ]
  },
  {
   "cell_type": "code",
   "execution_count": 65,
   "metadata": {},
   "outputs": [],
   "source": [
    "# data_3.zipcode"
   ]
  },
  {
   "cell_type": "code",
   "execution_count": 66,
   "metadata": {
    "scrolled": true
   },
   "outputs": [],
   "source": [
    "# data_3.columns #WHYYYYY"
   ]
  },
  {
   "cell_type": "code",
   "execution_count": 67,
   "metadata": {},
   "outputs": [],
   "source": [
    "lr_scaled = ols(formula='price~scaled_bedrooms+scaled_bathrooms+scaled_sqft_living+scaled_sqft_lot+scaled_floors+scaled_waterfront+scaled_view+scaled_condition+scaled_grade+scaled_sqft_above+scaled_sqft_living15+scaled_sqft_lot15+scaled_date_year+scaled_date_month+scaled_date_day+scaled_rel_to_neighbors+scaled_size_quality+scaled_property_score+scaled_floor_reno_mult', data=scale_data_3).fit()"
   ]
  },
  {
   "cell_type": "code",
   "execution_count": 68,
   "metadata": {},
   "outputs": [
    {
     "data": {
      "text/html": [
       "<table class=\"simpletable\">\n",
       "<caption>OLS Regression Results</caption>\n",
       "<tr>\n",
       "  <th>Dep. Variable:</th>          <td>price</td>      <th>  R-squared:         </th>  <td>   0.696</td>  \n",
       "</tr>\n",
       "<tr>\n",
       "  <th>Model:</th>                   <td>OLS</td>       <th>  Adj. R-squared:    </th>  <td>   0.696</td>  \n",
       "</tr>\n",
       "<tr>\n",
       "  <th>Method:</th>             <td>Least Squares</td>  <th>  F-statistic:       </th>  <td>   2327.</td>  \n",
       "</tr>\n",
       "<tr>\n",
       "  <th>Date:</th>             <td>Tue, 20 Oct 2020</td> <th>  Prob (F-statistic):</th>   <td>  0.00</td>   \n",
       "</tr>\n",
       "<tr>\n",
       "  <th>Time:</th>                 <td>11:20:04</td>     <th>  Log-Likelihood:    </th> <td>-2.3607e+05</td>\n",
       "</tr>\n",
       "<tr>\n",
       "  <th>No. Observations:</th>      <td> 17290</td>      <th>  AIC:               </th>  <td>4.722e+05</td> \n",
       "</tr>\n",
       "<tr>\n",
       "  <th>Df Residuals:</th>          <td> 17272</td>      <th>  BIC:               </th>  <td>4.723e+05</td> \n",
       "</tr>\n",
       "<tr>\n",
       "  <th>Df Model:</th>              <td>    17</td>      <th>                     </th>      <td> </td>     \n",
       "</tr>\n",
       "<tr>\n",
       "  <th>Covariance Type:</th>      <td>nonrobust</td>    <th>                     </th>      <td> </td>     \n",
       "</tr>\n",
       "</table>\n",
       "<table class=\"simpletable\">\n",
       "<tr>\n",
       "             <td></td>                <th>coef</th>     <th>std err</th>      <th>t</th>      <th>P>|t|</th>  <th>[0.025</th>    <th>0.975]</th>  \n",
       "</tr>\n",
       "<tr>\n",
       "  <th>Intercept</th>               <td> 5.407e+05</td> <td> 1565.887</td> <td>  345.325</td> <td> 0.000</td> <td> 5.38e+05</td> <td> 5.44e+05</td>\n",
       "</tr>\n",
       "<tr>\n",
       "  <th>scaled_bedrooms</th>         <td>-3.556e+04</td> <td> 2032.398</td> <td>  -17.498</td> <td> 0.000</td> <td>-3.95e+04</td> <td>-3.16e+04</td>\n",
       "</tr>\n",
       "<tr>\n",
       "  <th>scaled_bathrooms</th>        <td>  3.36e+04</td> <td> 2865.967</td> <td>   11.723</td> <td> 0.000</td> <td>  2.8e+04</td> <td> 3.92e+04</td>\n",
       "</tr>\n",
       "<tr>\n",
       "  <th>scaled_sqft_living</th>      <td> 8.511e+04</td> <td> 1824.144</td> <td>   46.657</td> <td> 0.000</td> <td> 8.15e+04</td> <td> 8.87e+04</td>\n",
       "</tr>\n",
       "<tr>\n",
       "  <th>scaled_sqft_lot</th>         <td> 4109.6648</td> <td> 2217.461</td> <td>    1.853</td> <td> 0.064</td> <td> -236.783</td> <td> 8456.113</td>\n",
       "</tr>\n",
       "<tr>\n",
       "  <th>scaled_floors</th>           <td>  -21.2080</td> <td> 2204.141</td> <td>   -0.010</td> <td> 0.992</td> <td>-4341.548</td> <td> 4299.132</td>\n",
       "</tr>\n",
       "<tr>\n",
       "  <th>scaled_waterfront</th>       <td> 5.313e+04</td> <td> 1724.079</td> <td>   30.815</td> <td> 0.000</td> <td> 4.97e+04</td> <td> 5.65e+04</td>\n",
       "</tr>\n",
       "<tr>\n",
       "  <th>scaled_view</th>             <td> 3.751e+04</td> <td> 1871.401</td> <td>   20.044</td> <td> 0.000</td> <td> 3.38e+04</td> <td> 4.12e+04</td>\n",
       "</tr>\n",
       "<tr>\n",
       "  <th>scaled_condition</th>        <td> 2.073e+04</td> <td> 1736.721</td> <td>   11.938</td> <td> 0.000</td> <td> 1.73e+04</td> <td> 2.41e+04</td>\n",
       "</tr>\n",
       "<tr>\n",
       "  <th>scaled_grade</th>            <td> 1.131e+05</td> <td> 2899.112</td> <td>   39.012</td> <td> 0.000</td> <td> 1.07e+05</td> <td> 1.19e+05</td>\n",
       "</tr>\n",
       "<tr>\n",
       "  <th>scaled_sqft_above</th>       <td> 7.973e+04</td> <td> 1954.110</td> <td>   40.800</td> <td> 0.000</td> <td> 7.59e+04</td> <td> 8.36e+04</td>\n",
       "</tr>\n",
       "<tr>\n",
       "  <th>scaled_sqft_living15</th>    <td>  2.75e+04</td> <td> 1781.625</td> <td>   15.435</td> <td> 0.000</td> <td>  2.4e+04</td> <td>  3.1e+04</td>\n",
       "</tr>\n",
       "<tr>\n",
       "  <th>scaled_sqft_lot15</th>       <td>-7.355e+04</td> <td> 2411.411</td> <td>  -30.502</td> <td> 0.000</td> <td>-7.83e+04</td> <td>-6.88e+04</td>\n",
       "</tr>\n",
       "<tr>\n",
       "  <th>scaled_date_year</th>        <td> 7758.2868</td> <td> 1677.086</td> <td>    4.626</td> <td> 0.000</td> <td> 4471.029</td> <td>  1.1e+04</td>\n",
       "</tr>\n",
       "<tr>\n",
       "  <th>scaled_date_month</th>       <td>-3.646e-12</td> <td> 8.02e-13</td> <td>   -4.548</td> <td> 0.000</td> <td>-5.22e-12</td> <td>-2.07e-12</td>\n",
       "</tr>\n",
       "<tr>\n",
       "  <th>scaled_date_day</th>         <td> 7.776e+04</td> <td> 1657.248</td> <td>   46.921</td> <td> 0.000</td> <td> 7.45e+04</td> <td>  8.1e+04</td>\n",
       "</tr>\n",
       "<tr>\n",
       "  <th>scaled_rel_to_neighbors</th> <td>-1.766e+04</td> <td> 1906.571</td> <td>   -9.260</td> <td> 0.000</td> <td>-2.14e+04</td> <td>-1.39e+04</td>\n",
       "</tr>\n",
       "<tr>\n",
       "  <th>scaled_size_quality</th>     <td> 1.892e+04</td> <td> 2688.444</td> <td>    7.038</td> <td> 0.000</td> <td> 1.37e+04</td> <td> 2.42e+04</td>\n",
       "</tr>\n",
       "<tr>\n",
       "  <th>scaled_property_score</th>   <td>-9081.3178</td> <td> 2237.681</td> <td>   -4.058</td> <td> 0.000</td> <td>-1.35e+04</td> <td>-4695.237</td>\n",
       "</tr>\n",
       "<tr>\n",
       "  <th>scaled_floor_reno_mult</th>  <td> 1.358e+04</td> <td> 1570.536</td> <td>    8.648</td> <td> 0.000</td> <td> 1.05e+04</td> <td> 1.67e+04</td>\n",
       "</tr>\n",
       "</table>\n",
       "<table class=\"simpletable\">\n",
       "<tr>\n",
       "  <th>Omnibus:</th>       <td>15386.094</td> <th>  Durbin-Watson:     </th>  <td>   1.998</td>  \n",
       "</tr>\n",
       "<tr>\n",
       "  <th>Prob(Omnibus):</th>  <td> 0.000</td>   <th>  Jarque-Bera (JB):  </th> <td>1745892.868</td>\n",
       "</tr>\n",
       "<tr>\n",
       "  <th>Skew:</th>           <td> 3.809</td>   <th>  Prob(JB):          </th>  <td>    0.00</td>  \n",
       "</tr>\n",
       "<tr>\n",
       "  <th>Kurtosis:</th>       <td>51.636</td>   <th>  Cond. No.          </th>  <td>7.49e+16</td>  \n",
       "</tr>\n",
       "</table><br/><br/>Warnings:<br/>[1] Standard Errors assume that the covariance matrix of the errors is correctly specified.<br/>[2] The smallest eigenvalue is 1.58e-29. This might indicate that there are<br/>strong multicollinearity problems or that the design matrix is singular."
      ],
      "text/plain": [
       "<class 'statsmodels.iolib.summary.Summary'>\n",
       "\"\"\"\n",
       "                            OLS Regression Results                            \n",
       "==============================================================================\n",
       "Dep. Variable:                  price   R-squared:                       0.696\n",
       "Model:                            OLS   Adj. R-squared:                  0.696\n",
       "Method:                 Least Squares   F-statistic:                     2327.\n",
       "Date:                Tue, 20 Oct 2020   Prob (F-statistic):               0.00\n",
       "Time:                        11:20:04   Log-Likelihood:            -2.3607e+05\n",
       "No. Observations:               17290   AIC:                         4.722e+05\n",
       "Df Residuals:                   17272   BIC:                         4.723e+05\n",
       "Df Model:                          17                                         \n",
       "Covariance Type:            nonrobust                                         \n",
       "===========================================================================================\n",
       "                              coef    std err          t      P>|t|      [0.025      0.975]\n",
       "-------------------------------------------------------------------------------------------\n",
       "Intercept                5.407e+05   1565.887    345.325      0.000    5.38e+05    5.44e+05\n",
       "scaled_bedrooms         -3.556e+04   2032.398    -17.498      0.000   -3.95e+04   -3.16e+04\n",
       "scaled_bathrooms          3.36e+04   2865.967     11.723      0.000     2.8e+04    3.92e+04\n",
       "scaled_sqft_living       8.511e+04   1824.144     46.657      0.000    8.15e+04    8.87e+04\n",
       "scaled_sqft_lot          4109.6648   2217.461      1.853      0.064    -236.783    8456.113\n",
       "scaled_floors             -21.2080   2204.141     -0.010      0.992   -4341.548    4299.132\n",
       "scaled_waterfront        5.313e+04   1724.079     30.815      0.000    4.97e+04    5.65e+04\n",
       "scaled_view              3.751e+04   1871.401     20.044      0.000    3.38e+04    4.12e+04\n",
       "scaled_condition         2.073e+04   1736.721     11.938      0.000    1.73e+04    2.41e+04\n",
       "scaled_grade             1.131e+05   2899.112     39.012      0.000    1.07e+05    1.19e+05\n",
       "scaled_sqft_above        7.973e+04   1954.110     40.800      0.000    7.59e+04    8.36e+04\n",
       "scaled_sqft_living15      2.75e+04   1781.625     15.435      0.000     2.4e+04     3.1e+04\n",
       "scaled_sqft_lot15       -7.355e+04   2411.411    -30.502      0.000   -7.83e+04   -6.88e+04\n",
       "scaled_date_year         7758.2868   1677.086      4.626      0.000    4471.029     1.1e+04\n",
       "scaled_date_month       -3.646e-12   8.02e-13     -4.548      0.000   -5.22e-12   -2.07e-12\n",
       "scaled_date_day          7.776e+04   1657.248     46.921      0.000    7.45e+04     8.1e+04\n",
       "scaled_rel_to_neighbors -1.766e+04   1906.571     -9.260      0.000   -2.14e+04   -1.39e+04\n",
       "scaled_size_quality      1.892e+04   2688.444      7.038      0.000    1.37e+04    2.42e+04\n",
       "scaled_property_score   -9081.3178   2237.681     -4.058      0.000   -1.35e+04   -4695.237\n",
       "scaled_floor_reno_mult   1.358e+04   1570.536      8.648      0.000    1.05e+04    1.67e+04\n",
       "==============================================================================\n",
       "Omnibus:                    15386.094   Durbin-Watson:                   1.998\n",
       "Prob(Omnibus):                  0.000   Jarque-Bera (JB):          1745892.868\n",
       "Skew:                           3.809   Prob(JB):                         0.00\n",
       "Kurtosis:                      51.636   Cond. No.                     7.49e+16\n",
       "==============================================================================\n",
       "\n",
       "Warnings:\n",
       "[1] Standard Errors assume that the covariance matrix of the errors is correctly specified.\n",
       "[2] The smallest eigenvalue is 1.58e-29. This might indicate that there are\n",
       "strong multicollinearity problems or that the design matrix is singular.\n",
       "\"\"\""
      ]
     },
     "execution_count": 68,
     "metadata": {},
     "output_type": "execute_result"
    }
   ],
   "source": [
    "lr_scaled.summary()"
   ]
  },
  {
   "cell_type": "markdown",
   "metadata": {},
   "source": [
    "# Scaling Adjustments"
   ]
  },
  {
   "cell_type": "code",
   "execution_count": 69,
   "metadata": {},
   "outputs": [
    {
     "data": {
      "text/plain": [
       "7     0.415442\n",
       "8     0.280393\n",
       "9     0.121400\n",
       "6     0.095315\n",
       "10    0.051648\n",
       "11    0.018450\n",
       "5     0.011105\n",
       "12    0.004164\n",
       "4     0.001272\n",
       "13    0.000636\n",
       "3     0.000116\n",
       "1     0.000058\n",
       "Name: grade, dtype: float64"
      ]
     },
     "execution_count": 69,
     "metadata": {},
     "output_type": "execute_result"
    }
   ],
   "source": [
    "data_3.grade.value_counts() / len(data_3)"
   ]
  },
  {
   "cell_type": "code",
   "execution_count": 70,
   "metadata": {},
   "outputs": [],
   "source": [
    "# Remove single row with grade=1 because can't use for Stratified Shuffle Split\n",
    "data_3 = data_3[data_3.grade != 1]"
   ]
  },
  {
   "cell_type": "markdown",
   "metadata": {},
   "source": [
    "# New Dataframe"
   ]
  },
  {
   "cell_type": "code",
   "execution_count": 71,
   "metadata": {},
   "outputs": [
    {
     "name": "stdout",
     "output_type": "stream",
     "text": [
      "Stored 'data_3' (DataFrame)\n"
     ]
    }
   ],
   "source": [
    "%store data_3"
   ]
  },
  {
   "cell_type": "markdown",
   "metadata": {},
   "source": [
    "# Stratified Split"
   ]
  },
  {
   "cell_type": "code",
   "execution_count": 74,
   "metadata": {},
   "outputs": [],
   "source": [
    "split = StratifiedShuffleSplit(n_splits=1, test_size=0.2, random_state=42)\n",
    "for train_index, test_index in split.split(data_3, data_3['grade']):\n",
    "    strat_train_set = data_3.loc[data_3.index.intersection(train_index)]\n",
    "    strat_test_set = data_3.loc[data_3.index.intersection(test_index)]\n"
   ]
  },
  {
   "cell_type": "markdown",
   "metadata": {},
   "source": [
    "# PREPARE DATA FOR MACHINE LEARNING"
   ]
  },
  {
   "cell_type": "code",
   "execution_count": 75,
   "metadata": {},
   "outputs": [],
   "source": [
    "x_train = strat_train_set.drop('price', axis=1)\n",
    "y_train = strat_train_set['price'].copy()"
   ]
  },
  {
   "cell_type": "markdown",
   "metadata": {},
   "source": [
    "# LINEAR REGRESSION"
   ]
  },
  {
   "cell_type": "code",
   "execution_count": 76,
   "metadata": {},
   "outputs": [
    {
     "data": {
      "text/plain": [
       "LinearRegression(copy_X=True, fit_intercept=True, n_jobs=None, normalize=False)"
      ]
     },
     "execution_count": 76,
     "metadata": {},
     "output_type": "execute_result"
    }
   ],
   "source": [
    "lr = LinearRegression()\n",
    "\n",
    "lr.fit(x_train, y_train)"
   ]
  },
  {
   "cell_type": "code",
   "execution_count": 77,
   "metadata": {},
   "outputs": [],
   "source": [
    "def array_to_dict(labels,coeffs):\n",
    "    '''\n",
    "    This function takes two arrays as arguments and turns those \n",
    "    arrays into a dictionary so that it is easier to interpret the \n",
    "    coefficients from the sklearn analysis\n",
    "    '''\n",
    "    one_list = list(labels)\n",
    "    two_list = list(coeffs)\n",
    "    res = {} \n",
    "    for key in two_list: \n",
    "        for name in one_list: \n",
    "            res[key] = name \n",
    "            one_list.remove(name) \n",
    "            break \n",
    "    return res"
   ]
  },
  {
   "cell_type": "code",
   "execution_count": 78,
   "metadata": {},
   "outputs": [
    {
     "data": {
      "text/plain": [
       "{'bedrooms': -9882.723669830753,\n",
       " 'bathrooms': 45288.634364065074,\n",
       " 'sqft_living': -325.79470471162193,\n",
       " 'sqft_lot': 0.2806818948230508,\n",
       " 'floors': -17671.018924008764,\n",
       " 'waterfront': 576084.0425726292,\n",
       " 'view': 47221.48212540723,\n",
       " 'condition': -57873.48878445818,\n",
       " 'grade': -16301.586072234628,\n",
       " 'sqft_above': -167.84337676541858,\n",
       " 'sqft_basement': -157.95132799121492,\n",
       " 'yr_built': -1831.5497184162082,\n",
       " 'yr_renovated': 2.4771607172448555,\n",
       " 'zipcode': -561.5224348524519,\n",
       " 'lat': 609019.326522398,\n",
       " 'long': -193991.38917413438,\n",
       " 'sqft_living15': 33.58060258449922,\n",
       " 'sqft_lot15': -0.41524205930307634,\n",
       " 'date_year': 38769.04613473896,\n",
       " 'date_month': 1868.657464744708,\n",
       " 'date_day': -238.2441569715204,\n",
       " 'rel_to_neighbors': -10972.005539419924,\n",
       " 'size_quality': 49.63926828449761,\n",
       " 'property_score': -0.33846484258789716,\n",
       " 'floor_reno_mult': 22.372179043105785}"
      ]
     },
     "execution_count": 78,
     "metadata": {},
     "output_type": "execute_result"
    }
   ],
   "source": [
    "coefficients = lr.coef_\n",
    "variables = np.array(x_train.columns)\n",
    "\n",
    "array_to_dict(coefficients, variables)"
   ]
  },
  {
   "cell_type": "code",
   "execution_count": 79,
   "metadata": {},
   "outputs": [
    {
     "data": {
      "text/plain": [
       "-71570567.28993994"
      ]
     },
     "execution_count": 79,
     "metadata": {},
     "output_type": "execute_result"
    }
   ],
   "source": [
    "lr.intercept_"
   ]
  },
  {
   "cell_type": "code",
   "execution_count": 80,
   "metadata": {},
   "outputs": [],
   "source": [
    "y_pred = lr.predict(x_train)"
   ]
  },
  {
   "cell_type": "code",
   "execution_count": 81,
   "metadata": {},
   "outputs": [
    {
     "data": {
      "text/plain": [
       "0.7500240032971464"
      ]
     },
     "execution_count": 81,
     "metadata": {},
     "output_type": "execute_result"
    }
   ],
   "source": [
    "lr.score(x_train, y_train)"
   ]
  },
  {
   "cell_type": "code",
   "execution_count": 82,
   "metadata": {},
   "outputs": [
    {
     "data": {
      "text/plain": [
       "'$185,777.71'"
      ]
     },
     "execution_count": 82,
     "metadata": {},
     "output_type": "execute_result"
    }
   ],
   "source": [
    "lr_rsme = mean_squared_error(y_train, y_pred)\n",
    "lr_rmse = np.sqrt(lr_rsme)\n",
    "\n",
    "rmse_dollars = '${:,.2f}'.format(lr_rmse)\n",
    "rmse_dollars"
   ]
  }
 ],
 "metadata": {
  "kernelspec": {
   "display_name": "learn-env",
   "language": "python",
   "name": "learn-env"
  },
  "language_info": {
   "codemirror_mode": {
    "name": "ipython",
    "version": 3
   },
   "file_extension": ".py",
   "mimetype": "text/x-python",
   "name": "python",
   "nbconvert_exporter": "python",
   "pygments_lexer": "ipython3",
   "version": "3.6.9"
  }
 },
 "nbformat": 4,
 "nbformat_minor": 4
}
