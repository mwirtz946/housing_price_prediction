{
 "cells": [
  {
   "cell_type": "code",
   "execution_count": 23,
   "metadata": {},
   "outputs": [],
   "source": [
    "import pandas as pd\n",
    "import numpy as np\n",
    "import os\n",
    "\n",
    "from sklearn.model_selection import train_test_split\n",
    "from sklearn.model_selection import StratifiedShuffleSplit\n",
    "from sklearn.preprocessing import OrdinalEncoder\n",
    "from sklearn.preprocessing import OneHotEncoder\n",
    "from sklearn.dummy import DummyRegressor\n",
    "from sklearn.metrics import mean_squared_error\n",
    "from sklearn.linear_model import LinearRegression\n",
    "from sklearn.preprocessing import StandardScaler\n",
    "\n",
    "%matplotlib inline\n",
    "import matplotlib.pyplot as plt\n",
    "import seaborn as sns\n",
    "\n",
    "from scipy import stats\n",
    "\n",
    "import statsmodels.api as sm\n",
    "from statsmodels.stats import diagnostic as diag\n",
    "from statsmodels.stats.outliers_influence import variance_inflation_factor\n",
    "from statsmodels.formula.api import ols"
   ]
  },
  {
   "cell_type": "code",
   "execution_count": 24,
   "metadata": {},
   "outputs": [],
   "source": [
    "%store -r data_final"
   ]
  },
  {
   "cell_type": "code",
   "execution_count": 25,
   "metadata": {},
   "outputs": [
    {
     "name": "stdout",
     "output_type": "stream",
     "text": [
      "13832 train + 3458 test\n"
     ]
    }
   ],
   "source": [
    "train_set, test_set = train_test_split(data_final, test_size=0.2, random_state=42)\n",
    "print(len(train_set), \"train +\", len(test_set), \"test\")"
   ]
  },
  {
   "cell_type": "code",
   "execution_count": 26,
   "metadata": {},
   "outputs": [],
   "source": [
    "x_train = train_set.drop('price', axis=1)\n",
    "y_train = train_set['price'].copy()"
   ]
  },
  {
   "cell_type": "code",
   "execution_count": 27,
   "metadata": {},
   "outputs": [
    {
     "data": {
      "text/plain": [
       "LinearRegression(copy_X=True, fit_intercept=True, n_jobs=None, normalize=False)"
      ]
     },
     "execution_count": 27,
     "metadata": {},
     "output_type": "execute_result"
    }
   ],
   "source": [
    "lr = LinearRegression()\n",
    "\n",
    "lr.fit(x_train, y_train)"
   ]
  },
  {
   "cell_type": "code",
   "execution_count": 28,
   "metadata": {},
   "outputs": [],
   "source": [
    "def array_to_dict(labels,coeffs):\n",
    "    '''\n",
    "    This function takes two arrays as arguments and turns those \n",
    "    arrays into a dictionary so that it is easier to interpret the \n",
    "    coefficients from the sklearn analysis\n",
    "    '''\n",
    "    one_list = list(labels)\n",
    "    two_list = list(coeffs)\n",
    "    res = {} \n",
    "    for key in two_list: \n",
    "        for name in one_list: \n",
    "            res[key] = name \n",
    "            one_list.remove(name) \n",
    "            break \n",
    "    return res"
   ]
  },
  {
   "cell_type": "code",
   "execution_count": 29,
   "metadata": {},
   "outputs": [
    {
     "data": {
      "text/plain": [
       "{'bedrooms': -1774.1171670103868,\n",
       " 'bathrooms': 28702.766584588047,\n",
       " 'sqft_living': -899.9109102513144,\n",
       " 'sqft_lot': 0.39015360756430084,\n",
       " 'floors': -30647.0344046044,\n",
       " 'waterfront': 646659.3260565281,\n",
       " 'view': -19627.732872141114,\n",
       " 'condition': -24699.94924707371,\n",
       " 'grade': -27469.80331208996,\n",
       " 'sqft_above': 426.6555029657011,\n",
       " 'sqft_basement': 361.3323036755173,\n",
       " 'yr_built': -203.30047037103645,\n",
       " 'yr_renovated': -71.28698257576252,\n",
       " 'lat': 217204.95521689422,\n",
       " 'long': -217481.61028434665,\n",
       " 'sqft_living15': 31.595565310675738,\n",
       " 'sqft_lot15': 0.06617243640357628,\n",
       " 'rel_to_neighbors': 5555.99133395878,\n",
       " 'size_quality': 10.485062828316586,\n",
       " 'property_score': -1.8379951164824888,\n",
       " 'reno_mult': 93.10337830104982,\n",
       " 'grade_sqft_living': 19.285554793808842,\n",
       " 'categorical_proportions': 109.04236508613394,\n",
       " 98001: -39204.54620011344,\n",
       " 98002: -20057.89373061308,\n",
       " 98003: -72024.51556517035,\n",
       " 98004: 656162.5226957311,\n",
       " 98005: 226381.25623023737,\n",
       " 98006: 166097.89651896033,\n",
       " 98007: 170762.95072285755,\n",
       " 98008: 179665.38441135944,\n",
       " 98010: 66762.96668522694,\n",
       " 98011: 13068.2919050277,\n",
       " 98014: 68159.8004576541,\n",
       " 98019: 26532.526665009707,\n",
       " 98022: 56257.74048846135,\n",
       " 98023: -93762.46248144362,\n",
       " 98024: 134413.40806559013,\n",
       " 98027: 115285.67802305025,\n",
       " 98028: 2261.8484263377586,\n",
       " 98029: 177971.97785754455,\n",
       " 98030: -41629.59054721969,\n",
       " 98031: -39780.92247422779,\n",
       " 98032: -54609.797994837536,\n",
       " 98033: 255976.6489064802,\n",
       " 98034: 82733.40014717841,\n",
       " 98038: 25247.27790779376,\n",
       " 98039: 1078221.671795823,\n",
       " 98040: 354014.1254359759,\n",
       " 98042: -18181.136265903097,\n",
       " 98045: 141607.3188141297,\n",
       " 98052: 152629.0579357595,\n",
       " 98053: 124651.74553688838,\n",
       " 98055: -18451.15197560382,\n",
       " 98056: 30699.721928509418,\n",
       " 98058: -15574.493276400737,\n",
       " 98059: 33867.56747443886,\n",
       " 98065: 100722.50335506325,\n",
       " 98070: -71355.40260679739,\n",
       " 98072: 48683.571972643884,\n",
       " 98074: 129893.03448563855,\n",
       " 98075: 116130.52536475557,\n",
       " 98077: 1669.7769646946965,\n",
       " 98092: -41925.810883248676,\n",
       " 98102: 373304.92268706026,\n",
       " 98103: 214964.56325315213,\n",
       " 98105: 351369.9491536675,\n",
       " 98106: 9226.851980014533,\n",
       " 98107: 209568.61373401902,\n",
       " 98108: 24356.56890001859,\n",
       " 98109: 351202.1775419241,\n",
       " 98112: 513753.03613325616,\n",
       " 98115: 207751.129743097,\n",
       " 98116: 181731.4397576895,\n",
       " 98117: 177270.62594712724,\n",
       " 98118: 76607.92136239122,\n",
       " 98119: 377365.2677213676,\n",
       " 98122: 230742.7346135064,\n",
       " 98125: 62058.378229044036,\n",
       " 98126: 83008.00716956823,\n",
       " 98133: 12097.934129423851,\n",
       " 98136: 152692.1894881911,\n",
       " 98144: 171665.69944444866,\n",
       " 98146: -6816.083014226603,\n",
       " 98148: -25375.43838178609,\n",
       " 98166: -38926.07625862893,\n",
       " 98168: -36466.97259483729,\n",
       " 98177: 69656.69957736811,\n",
       " 98178: -41531.97990411235,\n",
       " 98188: -37443.57560310604,\n",
       " 98198: -51119.84558293489,\n",
       " 98199: 236247.81266569602,\n",
       " 'date_year': 40696.037754419376,\n",
       " 'date_month': 1848.1728366770092,\n",
       " 'date_day': -133.99921321774372}"
      ]
     },
     "execution_count": 29,
     "metadata": {},
     "output_type": "execute_result"
    }
   ],
   "source": [
    "coefficients = lr.coef_\n",
    "variables = np.array(x_train.columns)\n",
    "\n",
    "array_to_dict(coefficients, variables)"
   ]
  },
  {
   "cell_type": "code",
   "execution_count": 30,
   "metadata": {},
   "outputs": [
    {
     "data": {
      "text/plain": [
       "-118115479.10400708"
      ]
     },
     "execution_count": 30,
     "metadata": {},
     "output_type": "execute_result"
    }
   ],
   "source": [
    "lr.intercept_"
   ]
  },
  {
   "cell_type": "code",
   "execution_count": 31,
   "metadata": {},
   "outputs": [
    {
     "data": {
      "text/plain": [
       "2.340699005601468"
      ]
     },
     "execution_count": 31,
     "metadata": {},
     "output_type": "execute_result"
    }
   ],
   "source": [
    "y_pred = lr.predict(x_train)\n",
    "np.exp(lr.score(x_train, y_train))"
   ]
  },
  {
   "cell_type": "code",
   "execution_count": 32,
   "metadata": {},
   "outputs": [
    {
     "data": {
      "text/plain": [
       "'$145,169.32'"
      ]
     },
     "execution_count": 32,
     "metadata": {},
     "output_type": "execute_result"
    }
   ],
   "source": [
    "lr_rsme = mean_squared_error(y_train, y_pred)\n",
    "lr_rmse = np.sqrt(lr_rsme)\n",
    "\n",
    "rmse_dollars = '${:,.2f}'.format(lr_rmse)\n",
    "rmse_dollars"
   ]
  },
  {
   "cell_type": "code",
   "execution_count": null,
   "metadata": {},
   "outputs": [],
   "source": []
  }
 ],
 "metadata": {
  "kernelspec": {
   "display_name": "learn-env",
   "language": "python",
   "name": "learn-env"
  },
  "language_info": {
   "codemirror_mode": {
    "name": "ipython",
    "version": 3
   },
   "file_extension": ".py",
   "mimetype": "text/x-python",
   "name": "python",
   "nbconvert_exporter": "python",
   "pygments_lexer": "ipython3",
   "version": "3.6.9"
  }
 },
 "nbformat": 4,
 "nbformat_minor": 4
}
